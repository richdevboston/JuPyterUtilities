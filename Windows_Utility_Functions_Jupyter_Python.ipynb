{
 "cells": [
  {
   "cell_type": "markdown",
   "metadata": {},
   "source": [
    "# MS-Windows, Jupyter, and Python Utility Functions "
   ]
  },
  {
   "cell_type": "code",
   "execution_count": 1,
   "metadata": {
    "genepattern": {
     "name": "Login",
     "server": "https://cloud.genepattern.org/gp",
     "type": "auth"
    }
   },
   "outputs": [
    {
     "data": {
      "application/vnd.jupyter.widget-view+json": {
       "model_id": "781ae1c1c4784a94abe2b7f9f096e205",
       "version_major": 2,
       "version_minor": 0
      },
      "text/plain": [
       "GPAuthWidget()"
      ]
     },
     "metadata": {},
     "output_type": "display_data"
    }
   ],
   "source": [
    "# Requires GenePattern Notebook: pip install genepattern-notebook\n",
    "import gp\n",
    "import genepattern\n",
    "\n",
    "# Username and password removed for security reasons.\n",
    "genepattern.display(genepattern.session.register(\"https://cloud.genepattern.org/gp\", \"\", \"\"))"
   ]
  },
  {
   "cell_type": "code",
   "execution_count": null,
   "metadata": {},
   "outputs": [],
   "source": []
  },
  {
   "cell_type": "markdown",
   "metadata": {},
   "source": [
    "This Notebook contains many useful commands, functions, and troubleshooting tips to help Jupyter Notebook and Python users be more productive and troubleshoot when problems arise:\n",
    "\n",
    "- Windows Utility Functions\n",
    "    - Open Windows Explorer\n",
    "    - Launch Windows Applications\n",
    "- Diagnose and Troubleshoot Jupyter Notebook Server\n",
    "- Configure Pandas Functions\n",
    "    - Configure Pandas Maximum Outputs for Rows, Columns, Display Width\n",
    "    - Suppress Scientific Notation in Pandas "
   ]
  },
  {
   "cell_type": "markdown",
   "metadata": {},
   "source": [
    "***\n",
    "    Authored: Rich Lysakowski\n",
    "    Updated: 2/28/2020 \n",
    "***"
   ]
  },
  {
   "cell_type": "markdown",
   "metadata": {},
   "source": [
    "# Useful Windows Utility Functions "
   ]
  },
  {
   "cell_type": "markdown",
   "metadata": {
    "ExecuteTime": {
     "end_time": "2019-05-25T02:34:55.777939Z",
     "start_time": "2019-05-25T02:34:55.775458Z"
    }
   },
   "source": [
    "## Open Windows Explorer In This Notebook's Location"
   ]
  },
  {
   "cell_type": "markdown",
   "metadata": {},
   "source": [
    "### Function: `open_WinExplorer()`"
   ]
  },
  {
   "cell_type": "markdown",
   "metadata": {},
   "source": [
    "Open Windows Explorer in the current working directory of this Jupyter notebook.\n",
    "\n",
    "How it works:  \n",
    "- Finds the current working directory using `os.getcwd()`.\n",
    "- Feeds current working directory to `launch_explore()`.\n",
    "- Finds location of Windows Explorer.exe from Windows Environment variable.\n",
    "- Opens Windows File Explorer into the Jupyter Notebook's directory."
   ]
  },
  {
   "cell_type": "code",
   "execution_count": 18,
   "metadata": {
    "ExecuteTime": {
     "end_time": "2019-07-27T01:50:59.858903Z",
     "start_time": "2019-07-27T01:50:59.318431Z"
    }
   },
   "outputs": [],
   "source": [
    "# Created By: Rich Lysakowski\n",
    "# Creation Date: 7/26/2019\n",
    "# Version 0.9\n",
    "\n",
    "'''open_WinExplorer() launches a Windows File Explorer from current Jupyter Notebook's location \n",
    "(cell of execution) by taking three steps:\n",
    "\n",
    "1. Import the Python OS and Subprocess libraries \n",
    "2. Discover the Windows System directory path from the Environment variable \"WINDIR\", to get the executable for the Windows File Explorer.   \n",
    "3. Retrieve current working directory using os.cwd() to find where this notebook resides.  \n",
    "4. Feed current working directory address to Windows File Explorer and run Explorer.exe program to launch and open File Explorer immediately.  \n",
    "'''\n",
    "\n",
    "import os\n",
    "import subprocess\n",
    "\n",
    "FILEBROWSER_PATH = os.path.join(os.getenv('WINDIR'), 'explorer.exe')\n",
    "\n",
    "def open_WinExplorer(path):\n",
    "    ''' Get the current path and pass it to user-defined open_WindowsExplorer() function.\n",
    "        This opens a Windows Explorer for the Current Working Directory.  \n",
    "        After a few seconds delay Windows Explorer launches with a top-level GUI focus.'''\n",
    "    # explorer would choke on forward slashes\n",
    "    path = os.path.normpath(path)\n",
    "\n",
    "    if os.path.isdir(path):\n",
    "        subprocess.run([FILEBROWSER_PATH, path])\n",
    "    elif os.path.isfile(path):\n",
    "        subprocess.run([FILEBROWSER_PATH, '/select,', os.path.normpath(path)])\n",
    "\n",
    "open_WinExplorer(os.getcwd())"
   ]
  },
  {
   "cell_type": "code",
   "execution_count": 3,
   "metadata": {
    "ExecuteTime": {
     "end_time": "2019-07-26T23:45:58.697390Z",
     "start_time": "2019-07-26T23:45:58.215361Z"
    },
    "hide_input": true
   },
   "outputs": [],
   "source": [
    "import os\n",
    "import subprocess\n",
    "FILEBROWSER_PATH = os.path.join(os.getenv('WINDIR'), 'explorer.exe')\n",
    "\n",
    "def launch_explorer(path):\n",
    "    ''' Function to open Windows Explorer from JupyterNB Current Working Directory.  \n",
    "        Get current working directory into launch_explorer() and \n",
    "        launch Windows Explorer in 5 seconds with top-level GUI focus.'''\n",
    "    # explorer would normally choke on forward slashes\n",
    "    path = os.path.normpath(path)\n",
    "\n",
    "    if os.path.isdir(path):\n",
    "        subprocess.run([FILEBROWSER_PATH, path])\n",
    "    elif os.path.isfile(path):\n",
    "        subprocess.run([FILEBROWSER_PATH, '/select,', os.path.normpath(path)])\n",
    "        \n",
    "# Open Windows Explorer in the directory where this notebook resides\n",
    "launch_explorer(os.getcwd())"
   ]
  },
  {
   "cell_type": "markdown",
   "metadata": {},
   "source": [
    "### Generalized Version of Function `launch_windows_explorer()`  "
   ]
  },
  {
   "cell_type": "code",
   "execution_count": 4,
   "metadata": {
    "ExecuteTime": {
     "end_time": "2019-07-26T23:46:00.577177Z",
     "start_time": "2019-07-26T23:45:59.785298Z"
    },
    "hide_input": true
   },
   "outputs": [],
   "source": [
    "# Launches Windows Explorer from specified `path` argument\n",
    "# You must do these imports to load standard Library Functions  \n",
    "import os\n",
    "import subprocess\n",
    "\n",
    "def launch_windows_explorer(path):\n",
    "    \"\"\"\n",
    "    Launch Windows Explorer into the path specified as the argument.\n",
    "\n",
    "    How `launch_windows_explorer()` works:  \n",
    "    - Finds the current working directory using `os.getcwd()`.\n",
    "    - Feeds current working directory to `launch_explore()`.\n",
    "    - Finds location of Windows Explorer.exe from Windows Environment variable.\n",
    "    - Launches Windows File Explorer into the Jupyter Notebook's directory.\n",
    "    \"\"\"\n",
    "\n",
    "    import os\n",
    "    import subprocess\n",
    "    FILEBROWSER_PATH = os.path.join(os.getenv('WINDIR'), 'explorer.exe')\n",
    "\n",
    "    path = os.path.normpath(path)\n",
    "    if os.path.isdir(path):\n",
    "        subprocess.run([FILEBROWSER_PATH, path])\n",
    "    elif os.path.isfile(path):\n",
    "        subprocess.run([FILEBROWSER_PATH, '/select,', os.path.normpath(path)])\n",
    "\n",
    "homepath = os.path.expanduser(os.getenv('USERPROFILE'))\n",
    "\n",
    "launch_windows_explorer(homepath)"
   ]
  },
  {
   "cell_type": "code",
   "execution_count": 5,
   "metadata": {
    "ExecuteTime": {
     "end_time": "2019-07-27T01:48:52.602789Z",
     "start_time": "2019-07-27T01:48:52.596768Z"
    },
    "hide_input": false
   },
   "outputs": [
    {
     "data": {
      "text/plain": [
       "'C:\\\\Users\\\\rlysakow'"
      ]
     },
     "execution_count": 5,
     "metadata": {},
     "output_type": "execute_result"
    }
   ],
   "source": [
    "import os\n",
    "homepath = os.path.expanduser(os.getenv('USERPROFILE'))\n",
    "homepath"
   ]
  },
  {
   "cell_type": "code",
   "execution_count": 6,
   "metadata": {
    "ExecuteTime": {
     "end_time": "2019-07-26T23:46:03.955146Z",
     "start_time": "2019-07-26T23:46:03.202926Z"
    },
    "hide_input": true
   },
   "outputs": [],
   "source": [
    "my_desktop = r\"C:\\users\\rlysak01\\desktop\"\n",
    "launch_windows_explorer(my_desktop)"
   ]
  },
  {
   "cell_type": "markdown",
   "metadata": {
    "hide_input": true
   },
   "source": [
    "## Commands to Fetch Environment Variables"
   ]
  },
  {
   "cell_type": "markdown",
   "metadata": {},
   "source": [
    "### Fetch User Environment-Specific Variables"
   ]
  },
  {
   "cell_type": "code",
   "execution_count": 4,
   "metadata": {
    "ExecuteTime": {
     "end_time": "2019-07-26T23:46:04.880747Z",
     "start_time": "2019-07-26T23:46:04.871709Z"
    }
   },
   "outputs": [
    {
     "data": {
      "text/plain": [
       "'C:\\\\Users\\\\rlysakow'"
      ]
     },
     "execution_count": 4,
     "metadata": {},
     "output_type": "execute_result"
    }
   ],
   "source": [
    "import os\n",
    "os.getenv('USERPROFILE')"
   ]
  },
  {
   "cell_type": "code",
   "execution_count": 7,
   "metadata": {},
   "outputs": [],
   "source": [
    "?os.getenv"
   ]
  },
  {
   "cell_type": "code",
   "execution_count": 3,
   "metadata": {},
   "outputs": [
    {
     "data": {
      "text/plain": [
       "'C:\\\\Users\\\\rlysakow\\\\.conda\\\\envs\\\\Rdev'"
      ]
     },
     "execution_count": 3,
     "metadata": {},
     "output_type": "execute_result"
    }
   ],
   "source": [
    "runtime_environment = os.getenv('CONDA_PREFIX')\n",
    "runtime_environment"
   ]
  },
  {
   "cell_type": "markdown",
   "metadata": {},
   "source": [
    "### Fetch the System Path for This Notebook (and its Virtual Environment if applicable)"
   ]
  },
  {
   "cell_type": "code",
   "execution_count": 13,
   "metadata": {},
   "outputs": [
    {
     "data": {
      "text/plain": [
       "['c:\\\\Users\\\\rlysakow\\\\Desktop\\\\05-Utilities',\n",
       " 'C:\\\\ProgramData\\\\Anaconda3\\\\envs\\\\my_hranalytics\\\\python37.zip',\n",
       " 'C:\\\\ProgramData\\\\Anaconda3\\\\envs\\\\my_hranalytics\\\\DLLs',\n",
       " 'C:\\\\ProgramData\\\\Anaconda3\\\\envs\\\\my_hranalytics\\\\lib',\n",
       " 'C:\\\\ProgramData\\\\Anaconda3\\\\envs\\\\my_hranalytics',\n",
       " '',\n",
       " 'C:\\\\ProgramData\\\\Anaconda3\\\\envs\\\\my_hranalytics\\\\lib\\\\site-packages',\n",
       " 'C:\\\\ProgramData\\\\Anaconda3\\\\envs\\\\my_hranalytics\\\\lib\\\\site-packages\\\\win32',\n",
       " 'C:\\\\ProgramData\\\\Anaconda3\\\\envs\\\\my_hranalytics\\\\lib\\\\site-packages\\\\win32\\\\lib',\n",
       " 'C:\\\\ProgramData\\\\Anaconda3\\\\envs\\\\my_hranalytics\\\\lib\\\\site-packages\\\\Pythonwin',\n",
       " 'C:\\\\ProgramData\\\\Anaconda3\\\\envs\\\\my_hranalytics\\\\lib\\\\site-packages\\\\IPython\\\\extensions',\n",
       " 'C:\\\\Users\\\\rlysakow\\\\.ipython']"
      ]
     },
     "execution_count": 13,
     "metadata": {},
     "output_type": "execute_result"
    }
   ],
   "source": [
    "import sys\n",
    "sys.path"
   ]
  },
  {
   "cell_type": "markdown",
   "metadata": {},
   "source": [
    "### Fetch All Environment Variables"
   ]
  },
  {
   "cell_type": "code",
   "execution_count": 8,
   "metadata": {
    "ExecuteTime": {
     "end_time": "2019-07-26T23:46:05.637688Z",
     "start_time": "2019-07-26T23:46:05.618126Z"
    }
   },
   "outputs": [
    {
     "name": "stdout",
     "output_type": "stream",
     "text": [
      "Var:  ALLUSERSPROFILE Value:  C:\\ProgramData\n",
      "Var:  APPDATA Value:  C:\\Users\\rlysakow\\AppData\\Roaming\n",
      "Var:  COMMONPROGRAMFILES Value:  C:\\Program Files\\Common Files\n",
      "Var:  COMMONPROGRAMFILES(X86) Value:  C:\\Program Files (x86)\\Common Files\n",
      "Var:  COMMONPROGRAMW6432 Value:  C:\\Program Files\\Common Files\n",
      "Var:  COMPUTERNAME Value:  WP446-FAB\n",
      "Var:  COMSPEC Value:  C:\\WINDOWS\\system32\\cmd.exe\n",
      "Var:  CONDA_DEFAULT_ENV Value:  base\n",
      "Var:  CONDA_EXE Value:  C:\\ProgramData\\Anaconda3\\Scripts\\conda.exe\n",
      "Var:  CONDA_PROMPT_MODIFIER Value:  (base) \n",
      "Var:  CONDA_PYTHON_EXE Value:  C:\\ProgramData\\Anaconda3\\python.exe\n",
      "Var:  CONDA_ROOT Value:  C:\\ProgramData\\Anaconda3\n",
      "Var:  CONDA_SHLVL Value:  1\n",
      "Var:  DRIVERDATA Value:  C:\\Windows\\System32\\Drivers\\DriverData\n",
      "Var:  FPS_BROWSER_APP_PROFILE_STRING Value:  Internet Explorer\n",
      "Var:  FPS_BROWSER_USER_PROFILE_STRING Value:  Default\n",
      "Var:  HOMEDRIVE Value:  I:\n",
      "Var:  HOMEPATH Value:  \\\n",
      "Var:  HOMESHARE Value:  \\\\krypton\\rlysakow\n",
      "Var:  LOCALAPPDATA Value:  C:\\Users\\rlysakow\\AppData\\Local\n",
      "Var:  LOGONSERVER Value:  \\\\CASTOR\n",
      "Var:  NSPR_NATIVE_THREADS_ONLY Value:  1\n",
      "Var:  NUMBER_OF_PROCESSORS Value:  8\n",
      "Var:  ONEDRIVE Value:  C:\\Users\\rlysakow\\OneDrive\n",
      "Var:  OS Value:  Windows_NT\n",
      "Var:  PATH Value:  C:\\ProgramData\\Anaconda3;C:\\ProgramData\\Anaconda3\\Library\\mingw-w64\\bin;C:\\ProgramData\\Anaconda3\\Library\\usr\\bin;C:\\ProgramData\\Anaconda3\\Library\\bin;C:\\ProgramData\\Anaconda3\\Scripts;C:\\ProgramData\\Anaconda3\\bin;C:\\ProgramData\\Anaconda3\\condabin;C:\\ProgramData\\Anaconda3;C:\\ProgramData\\Anaconda3\\Library\\mingw-w64\\bin;C:\\ProgramData\\Anaconda3\\Library\\usr\\bin;C:\\ProgramData\\Anaconda3\\Library\\bin;C:\\ProgramData\\Anaconda3\\Scripts;C:\\WINDOWS\\system32;C:\\WINDOWS;C:\\WINDOWS\\System32\\Wbem;C:\\WINDOWS\\System32\\WindowsPowerShell\\v1.0;C:\\WINDOWS\\System32\\OpenSSH;C:\\Program Files\\dotnet;C:\\Program Files (x86)\\Calibre2;C:\\Users\\rlysakow\\AppData\\Local\\Microsoft\\WindowsApps;.;C:\\Users\\rlysakow\\AppData\\Local\\Programs\\Microsoft VS Code\\bin\n",
      "Var:  PATHEXT Value:  .COM;.EXE;.BAT;.CMD;.VBS;.VBE;.JS;.JSE;.WSF;.WSH;.MSC\n",
      "Var:  PROCESSOR_ARCHITECTURE Value:  AMD64\n",
      "Var:  PROCESSOR_IDENTIFIER Value:  Intel64 Family 6 Model 142 Stepping 12, GenuineIntel\n",
      "Var:  PROCESSOR_LEVEL Value:  6\n",
      "Var:  PROCESSOR_REVISION Value:  8e0c\n",
      "Var:  PROGRAMDATA Value:  C:\\ProgramData\n",
      "Var:  PROGRAMFILES Value:  C:\\Program Files\n",
      "Var:  PROGRAMFILES(X86) Value:  C:\\Program Files (x86)\n",
      "Var:  PROGRAMW6432 Value:  C:\\Program Files\n",
      "Var:  PROMPT Value:  (base) $P$G\n",
      "Var:  PSMODULEPATH Value:  C:\\Program Files\\WindowsPowerShell\\Modules;C:\\WINDOWS\\system32\\WindowsPowerShell\\v1.0\\Modules\n",
      "Var:  PUBLIC Value:  C:\\Users\\Public\n",
      "Var:  SESSIONNAME Value:  Console\n",
      "Var:  SYSTEMDRIVE Value:  C:\n",
      "Var:  SYSTEMROOT Value:  C:\\WINDOWS\n",
      "Var:  TEMP Value:  C:\\Users\\rlysakow\\AppData\\Local\\Temp\n",
      "Var:  TMP Value:  C:\\Users\\rlysakow\\AppData\\Local\\Temp\n",
      "Var:  UATDATA Value:  C:\\WINDOWS\\CCM\\UATData\\D9F8C395-CAB8-491d-B8AC-179A1FE1BE77\n",
      "Var:  USERDNSDOMAIN Value:  BROAD.MIT.EDU\n",
      "Var:  USERDOMAIN Value:  CHARLES\n",
      "Var:  USERDOMAIN_ROAMINGPROFILE Value:  CHARLES\n",
      "Var:  USERNAME Value:  rlysakow\n",
      "Var:  USERPROFILE Value:  C:\\Users\\rlysakow\n",
      "Var:  WINDIR Value:  C:\\WINDOWS\n",
      "Var:  CONDA_PREFIX Value:  C:\\ProgramData\\Anaconda3\n",
      "Var:  KERNEL_LAUNCH_TIMEOUT Value:  40\n",
      "Var:  JPY_INTERRUPT_EVENT Value:  2884\n",
      "Var:  IPY_INTERRUPT_EVENT Value:  2884\n",
      "Var:  JPY_PARENT_PID Value:  3120\n",
      "Var:  TERM Value:  xterm-color\n",
      "Var:  CLICOLOR Value:  1\n",
      "Var:  PAGER Value:  cat\n",
      "Var:  GIT_PAGER Value:  cat\n",
      "Var:  MPLBACKEND Value:  module://ipykernel.pylab.backend_inline\n",
      "\n",
      "That's All Folks\n"
     ]
    }
   ],
   "source": [
    "import os\n",
    "for a in os.environ:\n",
    "    print('Var: ', a, 'Value: ', os.getenv(a))\n",
    "print(\"\\nThat's All Folks\")"
   ]
  },
  {
   "cell_type": "markdown",
   "metadata": {},
   "source": [
    "### Create a List of Environment Variables and Index into The List "
   ]
  },
  {
   "cell_type": "code",
   "execution_count": 9,
   "metadata": {
    "ExecuteTime": {
     "end_time": "2019-07-26T23:46:07.622612Z",
     "start_time": "2019-07-26T23:46:07.615595Z"
    }
   },
   "outputs": [
    {
     "data": {
      "text/plain": [
       "[('ALLUSERSPROFILE', 'C:\\\\ProgramData'),\n",
       " ('APPDATA', 'C:\\\\Users\\\\rlysakow\\\\AppData\\\\Roaming'),\n",
       " ('COMMONPROGRAMFILES', 'C:\\\\Program Files\\\\Common Files'),\n",
       " ('COMMONPROGRAMFILES(X86)', 'C:\\\\Program Files (x86)\\\\Common Files'),\n",
       " ('COMMONPROGRAMW6432', 'C:\\\\Program Files\\\\Common Files'),\n",
       " ('COMPUTERNAME', 'WP446-FAB'),\n",
       " ('COMSPEC', 'C:\\\\WINDOWS\\\\system32\\\\cmd.exe'),\n",
       " ('CONDA_DEFAULT_ENV', 'base'),\n",
       " ('CONDA_EXE', 'C:\\\\ProgramData\\\\Anaconda3\\\\Scripts\\\\conda.exe'),\n",
       " ('CONDA_PROMPT_MODIFIER', '(base) '),\n",
       " ('CONDA_PYTHON_EXE', 'C:\\\\ProgramData\\\\Anaconda3\\\\python.exe'),\n",
       " ('CONDA_ROOT', 'C:\\\\ProgramData\\\\Anaconda3'),\n",
       " ('CONDA_SHLVL', '1'),\n",
       " ('DRIVERDATA', 'C:\\\\Windows\\\\System32\\\\Drivers\\\\DriverData'),\n",
       " ('FPS_BROWSER_APP_PROFILE_STRING', 'Internet Explorer')]"
      ]
     },
     "execution_count": 9,
     "metadata": {},
     "output_type": "execute_result"
    }
   ],
   "source": [
    "'''Show First 15 Environment Variables using List Comprehension'''\n",
    "[a for a in os.environ.items()][:15]"
   ]
  },
  {
   "cell_type": "code",
   "execution_count": 22,
   "metadata": {
    "ExecuteTime": {
     "end_time": "2019-07-26T23:46:08.039157Z",
     "start_time": "2019-07-26T23:46:08.032640Z"
    }
   },
   "outputs": [
    {
     "data": {
      "text/plain": [
       "[(0, ('ALLUSERSPROFILE', 'C:\\\\ProgramData')),\n",
       " (1, ('APPDATA', 'C:\\\\Users\\\\rlysakow\\\\AppData\\\\Roaming')),\n",
       " (2, ('COMMONPROGRAMFILES', 'C:\\\\Program Files\\\\Common Files')),\n",
       " (3, ('COMMONPROGRAMFILES(X86)', 'C:\\\\Program Files (x86)\\\\Common Files')),\n",
       " (4, ('COMMONPROGRAMW6432', 'C:\\\\Program Files\\\\Common Files')),\n",
       " (5, ('COMPUTERNAME', 'WP446-FAB')),\n",
       " (6, ('COMSPEC', 'C:\\\\WINDOWS\\\\system32\\\\cmd.exe')),\n",
       " (7, ('CONDA_DEFAULT_ENV', 'base')),\n",
       " (8, ('CONDA_EXE', 'C:\\\\ProgramData\\\\Anaconda3\\\\Scripts\\\\conda.exe')),\n",
       " (9, ('CONDA_PROMPT_MODIFIER', '(base) ')),\n",
       " (10, ('CONDA_PYTHON_EXE', 'C:\\\\ProgramData\\\\Anaconda3\\\\python.exe')),\n",
       " (11, ('CONDA_ROOT', 'C:\\\\ProgramData\\\\Anaconda3')),\n",
       " (12, ('CONDA_SHLVL', '1')),\n",
       " (13, ('DRIVERDATA', 'C:\\\\Windows\\\\System32\\\\Drivers\\\\DriverData')),\n",
       " (14, ('FPS_BROWSER_APP_PROFILE_STRING', 'Internet Explorer')),\n",
       " (15, ('FPS_BROWSER_USER_PROFILE_STRING', 'Default')),\n",
       " (16, ('HOMEDRIVE', 'I:')),\n",
       " (17, ('HOMEPATH', '\\\\')),\n",
       " (18, ('HOMESHARE', '\\\\\\\\krypton\\\\rlysakow')),\n",
       " (19, ('LOCALAPPDATA', 'C:\\\\Users\\\\rlysakow\\\\AppData\\\\Local')),\n",
       " (20, ('LOGONSERVER', '\\\\\\\\CASTOR')),\n",
       " (21, ('NSPR_NATIVE_THREADS_ONLY', '1')),\n",
       " (22, ('NUMBER_OF_PROCESSORS', '8')),\n",
       " (23, ('ONEDRIVE', 'C:\\\\Users\\\\rlysakow\\\\OneDrive')),\n",
       " (24, ('OS', 'Windows_NT')),\n",
       " (25,\n",
       "  ('PATH',\n",
       "   'C:\\\\ProgramData\\\\Anaconda3;C:\\\\ProgramData\\\\Anaconda3\\\\Library\\\\mingw-w64\\\\bin;C:\\\\ProgramData\\\\Anaconda3\\\\Library\\\\usr\\\\bin;C:\\\\ProgramData\\\\Anaconda3\\\\Library\\\\bin;C:\\\\ProgramData\\\\Anaconda3\\\\Scripts;C:\\\\ProgramData\\\\Anaconda3\\\\bin;C:\\\\ProgramData\\\\Anaconda3\\\\condabin;C:\\\\ProgramData\\\\Anaconda3;C:\\\\ProgramData\\\\Anaconda3\\\\Library\\\\mingw-w64\\\\bin;C:\\\\ProgramData\\\\Anaconda3\\\\Library\\\\usr\\\\bin;C:\\\\ProgramData\\\\Anaconda3\\\\Library\\\\bin;C:\\\\ProgramData\\\\Anaconda3\\\\Scripts;C:\\\\WINDOWS\\\\system32;C:\\\\WINDOWS;C:\\\\WINDOWS\\\\System32\\\\Wbem;C:\\\\WINDOWS\\\\System32\\\\WindowsPowerShell\\\\v1.0;C:\\\\WINDOWS\\\\System32\\\\OpenSSH;C:\\\\Program Files\\\\dotnet;C:\\\\Program Files (x86)\\\\Calibre2;C:\\\\Users\\\\rlysakow\\\\AppData\\\\Local\\\\Microsoft\\\\WindowsApps;.;C:\\\\Users\\\\rlysakow\\\\AppData\\\\Local\\\\Programs\\\\Microsoft VS Code\\\\bin'))]"
      ]
     },
     "execution_count": 22,
     "metadata": {},
     "output_type": "execute_result"
    }
   ],
   "source": [
    "'''Show First 15 Environment Variables As Numbered Tuple Using List Comprehension'''\n",
    "list(enumerate([a for a in os.environ.items()]))[:26]"
   ]
  },
  {
   "cell_type": "code",
   "execution_count": 17,
   "metadata": {
    "ExecuteTime": {
     "end_time": "2019-07-26T23:46:08.351468Z",
     "start_time": "2019-07-26T23:46:08.345953Z"
    }
   },
   "outputs": [
    {
     "data": {
      "text/plain": [
       "('COMPUTERNAME', 'WP446-FAB')"
      ]
     },
     "execution_count": 17,
     "metadata": {},
     "output_type": "execute_result"
    }
   ],
   "source": [
    "'''Show My Full Computer Name'''\n",
    "[a for a in os.environ.items()][5]"
   ]
  },
  {
   "cell_type": "code",
   "execution_count": 18,
   "metadata": {
    "ExecuteTime": {
     "end_time": "2019-07-26T23:46:08.612106Z",
     "start_time": "2019-07-26T23:46:08.604076Z"
    }
   },
   "outputs": [
    {
     "data": {
      "text/plain": [
       "'WP446-FAB'"
      ]
     },
     "execution_count": 18,
     "metadata": {},
     "output_type": "execute_result"
    }
   ],
   "source": [
    "'''Show JUST My Computer Name'''\n",
    "[a for a in os.environ.items()][5][1]"
   ]
  },
  {
   "cell_type": "code",
   "execution_count": 13,
   "metadata": {
    "ExecuteTime": {
     "end_time": "2019-07-26T23:46:08.913076Z",
     "start_time": "2019-07-26T23:46:08.905396Z"
    }
   },
   "outputs": [
    {
     "data": {
      "text/plain": [
       "'1'"
      ]
     },
     "execution_count": 13,
     "metadata": {},
     "output_type": "execute_result"
    }
   ],
   "source": [
    "'''Show My User Home Path'''\n",
    "[a for a in os.environ.items()][12][1]"
   ]
  },
  {
   "cell_type": "code",
   "execution_count": 14,
   "metadata": {
    "ExecuteTime": {
     "end_time": "2019-07-26T23:46:09.193673Z",
     "start_time": "2019-07-26T23:46:09.187144Z"
    }
   },
   "outputs": [
    {
     "data": {
      "text/plain": [
       "set"
      ]
     },
     "execution_count": 14,
     "metadata": {},
     "output_type": "execute_result"
    }
   ],
   "source": [
    "'''Show All Environment Variables using Set Comprehension'''\n",
    "set_of_env_variables = {a for a in os.environ.items()}\n",
    "type(set_of_env_variables)"
   ]
  },
  {
   "cell_type": "code",
   "execution_count": 15,
   "metadata": {
    "ExecuteTime": {
     "end_time": "2019-07-26T23:46:09.475009Z",
     "start_time": "2019-07-26T23:46:09.462471Z"
    }
   },
   "outputs": [
    {
     "data": {
      "text/plain": [
       "{('ALLUSERSPROFILE', 'C:\\\\ProgramData'),\n",
       " ('APPDATA', 'C:\\\\Users\\\\rlysakow\\\\AppData\\\\Roaming'),\n",
       " ('CLICOLOR', '1'),\n",
       " ('COMMONPROGRAMFILES', 'C:\\\\Program Files\\\\Common Files'),\n",
       " ('COMMONPROGRAMFILES(X86)', 'C:\\\\Program Files (x86)\\\\Common Files'),\n",
       " ('COMMONPROGRAMW6432', 'C:\\\\Program Files\\\\Common Files'),\n",
       " ('COMPUTERNAME', 'WP446-FAB'),\n",
       " ('COMSPEC', 'C:\\\\WINDOWS\\\\system32\\\\cmd.exe'),\n",
       " ('CONDA_DEFAULT_ENV', 'base'),\n",
       " ('CONDA_EXE', 'C:\\\\ProgramData\\\\Anaconda3\\\\Scripts\\\\conda.exe'),\n",
       " ('CONDA_PREFIX', 'C:\\\\ProgramData\\\\Anaconda3'),\n",
       " ('CONDA_PROMPT_MODIFIER', '(base) '),\n",
       " ('CONDA_PYTHON_EXE', 'C:\\\\ProgramData\\\\Anaconda3\\\\python.exe'),\n",
       " ('CONDA_ROOT', 'C:\\\\ProgramData\\\\Anaconda3'),\n",
       " ('CONDA_SHLVL', '1'),\n",
       " ('DRIVERDATA', 'C:\\\\Windows\\\\System32\\\\Drivers\\\\DriverData'),\n",
       " ('FPS_BROWSER_APP_PROFILE_STRING', 'Internet Explorer'),\n",
       " ('FPS_BROWSER_USER_PROFILE_STRING', 'Default'),\n",
       " ('GIT_PAGER', 'cat'),\n",
       " ('HOMEDRIVE', 'I:'),\n",
       " ('HOMEPATH', '\\\\'),\n",
       " ('HOMESHARE', '\\\\\\\\krypton\\\\rlysakow'),\n",
       " ('IPY_INTERRUPT_EVENT', '2884'),\n",
       " ('JPY_INTERRUPT_EVENT', '2884'),\n",
       " ('JPY_PARENT_PID', '3120'),\n",
       " ('KERNEL_LAUNCH_TIMEOUT', '40'),\n",
       " ('LOCALAPPDATA', 'C:\\\\Users\\\\rlysakow\\\\AppData\\\\Local'),\n",
       " ('LOGONSERVER', '\\\\\\\\CASTOR'),\n",
       " ('MPLBACKEND', 'module://ipykernel.pylab.backend_inline'),\n",
       " ('NSPR_NATIVE_THREADS_ONLY', '1'),\n",
       " ('NUMBER_OF_PROCESSORS', '8'),\n",
       " ('ONEDRIVE', 'C:\\\\Users\\\\rlysakow\\\\OneDrive'),\n",
       " ('OS', 'Windows_NT'),\n",
       " ('PAGER', 'cat'),\n",
       " ('PATH',\n",
       "  'C:\\\\ProgramData\\\\Anaconda3;C:\\\\ProgramData\\\\Anaconda3\\\\Library\\\\mingw-w64\\\\bin;C:\\\\ProgramData\\\\Anaconda3\\\\Library\\\\usr\\\\bin;C:\\\\ProgramData\\\\Anaconda3\\\\Library\\\\bin;C:\\\\ProgramData\\\\Anaconda3\\\\Scripts;C:\\\\ProgramData\\\\Anaconda3\\\\bin;C:\\\\ProgramData\\\\Anaconda3\\\\condabin;C:\\\\ProgramData\\\\Anaconda3;C:\\\\ProgramData\\\\Anaconda3\\\\Library\\\\mingw-w64\\\\bin;C:\\\\ProgramData\\\\Anaconda3\\\\Library\\\\usr\\\\bin;C:\\\\ProgramData\\\\Anaconda3\\\\Library\\\\bin;C:\\\\ProgramData\\\\Anaconda3\\\\Scripts;C:\\\\WINDOWS\\\\system32;C:\\\\WINDOWS;C:\\\\WINDOWS\\\\System32\\\\Wbem;C:\\\\WINDOWS\\\\System32\\\\WindowsPowerShell\\\\v1.0;C:\\\\WINDOWS\\\\System32\\\\OpenSSH;C:\\\\Program Files\\\\dotnet;C:\\\\Program Files (x86)\\\\Calibre2;C:\\\\Users\\\\rlysakow\\\\AppData\\\\Local\\\\Microsoft\\\\WindowsApps;.;C:\\\\Users\\\\rlysakow\\\\AppData\\\\Local\\\\Programs\\\\Microsoft VS Code\\\\bin'),\n",
       " ('PATHEXT', '.COM;.EXE;.BAT;.CMD;.VBS;.VBE;.JS;.JSE;.WSF;.WSH;.MSC'),\n",
       " ('PROCESSOR_ARCHITECTURE', 'AMD64'),\n",
       " ('PROCESSOR_IDENTIFIER',\n",
       "  'Intel64 Family 6 Model 142 Stepping 12, GenuineIntel'),\n",
       " ('PROCESSOR_LEVEL', '6'),\n",
       " ('PROCESSOR_REVISION', '8e0c'),\n",
       " ('PROGRAMDATA', 'C:\\\\ProgramData'),\n",
       " ('PROGRAMFILES', 'C:\\\\Program Files'),\n",
       " ('PROGRAMFILES(X86)', 'C:\\\\Program Files (x86)'),\n",
       " ('PROGRAMW6432', 'C:\\\\Program Files'),\n",
       " ('PROMPT', '(base) $P$G'),\n",
       " ('PSMODULEPATH',\n",
       "  'C:\\\\Program Files\\\\WindowsPowerShell\\\\Modules;C:\\\\WINDOWS\\\\system32\\\\WindowsPowerShell\\\\v1.0\\\\Modules'),\n",
       " ('PUBLIC', 'C:\\\\Users\\\\Public'),\n",
       " ('SESSIONNAME', 'Console'),\n",
       " ('SYSTEMDRIVE', 'C:'),\n",
       " ('SYSTEMROOT', 'C:\\\\WINDOWS'),\n",
       " ('TEMP', 'C:\\\\Users\\\\rlysakow\\\\AppData\\\\Local\\\\Temp'),\n",
       " ('TERM', 'xterm-color'),\n",
       " ('TMP', 'C:\\\\Users\\\\rlysakow\\\\AppData\\\\Local\\\\Temp'),\n",
       " ('UATDATA',\n",
       "  'C:\\\\WINDOWS\\\\CCM\\\\UATData\\\\D9F8C395-CAB8-491d-B8AC-179A1FE1BE77'),\n",
       " ('USERDNSDOMAIN', 'BROAD.MIT.EDU'),\n",
       " ('USERDOMAIN', 'CHARLES'),\n",
       " ('USERDOMAIN_ROAMINGPROFILE', 'CHARLES'),\n",
       " ('USERNAME', 'rlysakow'),\n",
       " ('USERPROFILE', 'C:\\\\Users\\\\rlysakow'),\n",
       " ('WINDIR', 'C:\\\\WINDOWS')}"
      ]
     },
     "execution_count": 15,
     "metadata": {},
     "output_type": "execute_result"
    }
   ],
   "source": [
    "set_of_env_variables"
   ]
  },
  {
   "cell_type": "code",
   "execution_count": null,
   "metadata": {},
   "outputs": [],
   "source": []
  },
  {
   "cell_type": "markdown",
   "metadata": {},
   "source": [
    "### Fetch Environment Variables from the Windows Registry and then Retrieve by Index Number "
   ]
  },
  {
   "cell_type": "code",
   "execution_count": 33,
   "metadata": {
    "ExecuteTime": {
     "end_time": "2019-07-26T23:46:10.039184Z",
     "start_time": "2019-07-26T23:46:10.034671Z"
    }
   },
   "outputs": [],
   "source": [
    "# Using the Windows Registry is the preferred way to retrieve Environment Variables \n",
    "\n",
    "import winreg\n",
    "\n",
    "reg_path = r'SYSTEM\\CurrentControlSet\\Control\\Session Manager\\Environment'\n",
    "reg_key = winreg.OpenKey(winreg.HKEY_LOCAL_MACHINE, reg_path)\n",
    "system_environment_variables = winreg.QueryValueEx(reg_key, 'Path')[0]"
   ]
  },
  {
   "cell_type": "code",
   "execution_count": 34,
   "metadata": {
    "ExecuteTime": {
     "end_time": "2019-07-26T23:46:10.534232Z",
     "start_time": "2019-07-26T23:46:10.527714Z"
    }
   },
   "outputs": [
    {
     "data": {
      "text/plain": [
       "'C:\\\\Program Files (x86)\\\\Intel\\\\Intel(R) Management Engine Components\\\\iCLS\\\\;C:\\\\Program Files\\\\Intel\\\\Intel(R) Management Engine Components\\\\iCLS\\\\;C:\\\\ProgramData\\\\Oracle\\\\Java\\\\javapath;%SystemRoot%\\\\system32;%SystemRoot%;%SystemRoot%\\\\System32\\\\Wbem;%SYSTEMROOT%\\\\System32\\\\WindowsPowerShell\\\\v1.0\\\\;C:\\\\Program Files (x86)\\\\Sennheiser\\\\SoftphoneSDK\\\\;C:\\\\Program Files (x86)\\\\Intel\\\\Intel(R) Management Engine Components\\\\DAL;C:\\\\Program Files\\\\Intel\\\\Intel(R) Management Engine Components\\\\DAL;C:\\\\Program Files\\\\SASHome\\\\Secure\\\\ccme4;C:\\\\Program Files\\\\SASHome\\\\x86\\\\Secure\\\\ccme4;C:\\\\Program Files\\\\Intel\\\\WiFi\\\\bin\\\\;C:\\\\Program Files\\\\Common Files\\\\Intel\\\\WirelessCommon\\\\;C:\\\\Program Files\\\\Calibre2\\\\;C:\\\\PROGRA~1\\\\IBM\\\\SQLLIB\\\\BIN;C:\\\\PROGRA~1\\\\IBM\\\\SQLLIB\\\\FUNCTION;C:\\\\PROGRA~1\\\\IBM\\\\SQLLIB\\\\SAMPLES\\\\REPL;C:\\\\Program Files\\\\Microsoft SQL Server\\\\Client SDK\\\\ODBC\\\\110\\\\Tools\\\\Binn\\\\;C:\\\\Program Files (x86)\\\\Microsoft SQL Server\\\\120\\\\Tools\\\\Binn\\\\ManagementStudio\\\\;C:\\\\Program Files (x86)\\\\Microsoft SQL Server\\\\120\\\\Tools\\\\Binn\\\\;C:\\\\Program Files\\\\Microsoft SQL Server\\\\120\\\\Tools\\\\Binn\\\\;C:\\\\Program Files (x86)\\\\Microsoft SQL Server\\\\120\\\\DTS\\\\Binn\\\\;C:\\\\Program Files\\\\Microsoft SQL Server\\\\120\\\\DTS\\\\Binn\\\\'"
      ]
     },
     "execution_count": 34,
     "metadata": {},
     "output_type": "execute_result"
    }
   ],
   "source": [
    "system_environment_variables"
   ]
  },
  {
   "cell_type": "markdown",
   "metadata": {},
   "source": [
    "### Fetching Application-Specific Variables"
   ]
  },
  {
   "cell_type": "code",
   "execution_count": 35,
   "metadata": {
    "ExecuteTime": {
     "end_time": "2019-07-26T23:46:11.568671Z",
     "start_time": "2019-07-26T23:46:11.562656Z"
    }
   },
   "outputs": [
    {
     "data": {
      "text/plain": [
       "'C:\\\\WINDOWS\\\\explorer.exe'"
      ]
     },
     "execution_count": 35,
     "metadata": {},
     "output_type": "execute_result"
    }
   ],
   "source": [
    "import os\n",
    "FILEBROWSER_PATH = os.path.join(os.getenv('WINDIR'), 'explorer.exe')\n",
    "FILEBROWSER_PATH"
   ]
  },
  {
   "cell_type": "code",
   "execution_count": 36,
   "metadata": {
    "ExecuteTime": {
     "end_time": "2019-07-26T23:46:13.778456Z",
     "start_time": "2019-07-26T23:46:13.773906Z"
    }
   },
   "outputs": [
    {
     "data": {
      "text/plain": [
       "'C:\\\\WINDOWS\\\\notepad.exe'"
      ]
     },
     "execution_count": 36,
     "metadata": {},
     "output_type": "execute_result"
    }
   ],
   "source": [
    "NOTEPAD_PATH = os.path.join(os.getenv('WINDIR'), 'notepad.exe')\n",
    "NOTEPAD_PATH"
   ]
  },
  {
   "cell_type": "code",
   "execution_count": 37,
   "metadata": {
    "ExecuteTime": {
     "end_time": "2019-07-26T23:46:14.245333Z",
     "start_time": "2019-07-26T23:46:14.239559Z"
    }
   },
   "outputs": [
    {
     "data": {
      "text/plain": [
       "'C:\\\\WINDOWS\\\\calculator.exe'"
      ]
     },
     "execution_count": 37,
     "metadata": {},
     "output_type": "execute_result"
    }
   ],
   "source": [
    "CALCULATOR_PATH = os.path.join(os.getenv('WINDIR'), 'calculator.exe')\n",
    "CALCULATOR_PATH"
   ]
  },
  {
   "cell_type": "markdown",
   "metadata": {},
   "source": [
    "# Get the List of Jupyter NB Servers Running LOCALLY"
   ]
  },
  {
   "cell_type": "code",
   "execution_count": 1,
   "metadata": {
    "ExecuteTime": {
     "end_time": "2019-06-08T00:00:36.017091Z",
     "start_time": "2019-06-08T00:00:36.011073Z"
    }
   },
   "outputs": [
    {
     "name": "stdout",
     "output_type": "stream",
     "text": [
      "I currently have 5 Jupyter Notebook Servers running locally:\n"
     ]
    },
    {
     "data": {
      "text/plain": [
       "[{'base_url': '/',\n",
       "  'hostname': 'localhost',\n",
       "  'notebook_dir': 'c:\\\\Users\\\\rlysakow\\\\Desktop',\n",
       "  'password': False,\n",
       "  'pid': 22972,\n",
       "  'port': 8892,\n",
       "  'secure': False,\n",
       "  'token': '549df806ce51bc0aaa813d0c0e3f2e5a151b250409eecf16',\n",
       "  'url': 'http://localhost:8892/'},\n",
       " {'base_url': '/',\n",
       "  'hostname': 'localhost',\n",
       "  'notebook_dir': 'c:\\\\Users\\\\rlysakow\\\\OneDrive',\n",
       "  'password': False,\n",
       "  'pid': 26924,\n",
       "  'port': 8890,\n",
       "  'secure': False,\n",
       "  'token': '0a43c0efc70da20622b368730c021b163d9f683cd0a8333c',\n",
       "  'url': 'http://localhost:8890/'},\n",
       " {'base_url': '/',\n",
       "  'hostname': 'localhost',\n",
       "  'notebook_dir': 'C:\\\\WINDOWS\\\\system32',\n",
       "  'password': False,\n",
       "  'pid': 33384,\n",
       "  'port': 8891,\n",
       "  'secure': False,\n",
       "  'token': '1bc2f8f73058ebc13e40532ac748b5f768c10822f7cb770a',\n",
       "  'url': 'http://localhost:8891/'},\n",
       " {'base_url': '/',\n",
       "  'hostname': 'localhost',\n",
       "  'notebook_dir': 'c:\\\\Users\\\\rlysakow\\\\Desktop',\n",
       "  'password': False,\n",
       "  'pid': 4384,\n",
       "  'port': 8889,\n",
       "  'secure': False,\n",
       "  'token': 'ea2b60424a040fd2c5bfbca3a64c54bbc00f32a2e11bcb3d',\n",
       "  'url': 'http://localhost:8889/'},\n",
       " {'base_url': '/',\n",
       "  'hostname': 'localhost',\n",
       "  'notebook_dir': 'c:\\\\Users\\\\rlysakow\\\\Desktop',\n",
       "  'password': False,\n",
       "  'pid': 9284,\n",
       "  'port': 8888,\n",
       "  'secure': False,\n",
       "  'token': '75a925e380b2f00669b87e091eb9ab3471289ea5da5c3de8',\n",
       "  'url': 'http://localhost:8888/'}]"
      ]
     },
     "execution_count": 1,
     "metadata": {},
     "output_type": "execute_result"
    }
   ],
   "source": [
    "## Inquire about Jupyter Notebook servers are currently running locally\n",
    "\n",
    "from notebook import notebookapp\n",
    "servers = list(notebookapp.list_running_servers())\n",
    "print(f'I currently have {len(servers)} Jupyter Notebook Servers running locally:')\n",
    "servers"
   ]
  },
  {
   "cell_type": "markdown",
   "metadata": {},
   "source": [
    "# Get Jupyter Configuration Information using Shell Commands"
   ]
  },
  {
   "cell_type": "markdown",
   "metadata": {},
   "source": [
    "Use these URLs to learn more about Shell Commands in Python and Jupyter\n",
    "\n",
    "https://jakevdp.github.io/PythonDataScienceHandbook/01.05-ipython-and-shell-commands.html\n",
    "\n",
    "https://ipython.readthedocs.io/en/stable/interactive/magics.html\n",
    "\n"
   ]
  },
  {
   "cell_type": "markdown",
   "metadata": {},
   "source": [
    "## Retrieve and display Jupyter Notebook configuration data"
   ]
  },
  {
   "cell_type": "code",
   "execution_count": 1,
   "metadata": {
    "ExecuteTime": {
     "end_time": "2019-07-26T23:46:43.785974Z",
     "start_time": "2019-07-26T23:46:37.647134Z"
    }
   },
   "outputs": [
    {
     "name": "stdout",
     "output_type": "stream",
     "text": [
      "jupyter core     : 4.6.1\n",
      "jupyter-notebook : 6.0.2\n",
      "qtconsole        : 4.6.0\n",
      "ipython          : 7.12.0\n",
      "ipykernel        : 5.1.4\n",
      "jupyter client   : 5.3.4\n",
      "jupyter lab      : 1.2.6\n",
      "nbconvert        : 5.6.1\n",
      "ipywidgets       : 7.5.1\n",
      "nbformat         : 5.0.4\n",
      "traitlets        : 4.3.3\n",
      "C:\\Users\\rlysakow\\.jupyter\n",
      "C:\\Users\\rlysakow\\AppData\\Roaming\\jupyter\n",
      "C:\\Users\\rlysakow\\AppData\\Roaming\\jupyter\\runtime\n",
      "config:\n",
      "    C:\\Users\\rlysakow\\.jupyter\n",
      "    C:\\ProgramData\\Anaconda3\\envs\\genepattern\\etc\\jupyter\n",
      "    C:\\ProgramData\\jupyter\n",
      "data:\n",
      "    C:\\Users\\rlysakow\\AppData\\Roaming\\jupyter\n",
      "    C:\\ProgramData\\Anaconda3\\envs\\genepattern\\share\\jupyter\n",
      "    C:\\ProgramData\\jupyter\n",
      "runtime:\n",
      "    C:\\Users\\rlysakow\\AppData\\Roaming\\jupyter\\runtime\n"
     ]
    }
   ],
   "source": [
    "!jupyter --version \n",
    "!jupyter --config-dir\n",
    "!jupyter --data-dir \n",
    "!jupyter --runtime-dir \n",
    "!jupyter --paths"
   ]
  },
  {
   "cell_type": "code",
   "execution_count": 2,
   "metadata": {
    "ExecuteTime": {
     "end_time": "2019-07-26T23:46:45.122502Z",
     "start_time": "2019-07-26T23:46:43.811349Z"
    }
   },
   "outputs": [
    {
     "name": "stdout",
     "output_type": "stream",
     "text": [
      "{\"runtime\": [\"C:\\\\Users\\\\rlysakow\\\\AppData\\\\Roaming\\\\jupyter\\\\runtime\"], \"config\": [\"C:\\\\Users\\\\rlysakow\\\\.jupyter\", \"C:\\\\ProgramData\\\\Anaconda3\\\\envs\\\\genepattern\\\\etc\\\\jupyter\", \"C:\\\\ProgramData\\\\jupyter\"], \"data\": [\"C:\\\\Users\\\\rlysakow\\\\AppData\\\\Roaming\\\\jupyter\", \"C:\\\\ProgramData\\\\Anaconda3\\\\envs\\\\genepattern\\\\share\\\\jupyter\", \"C:\\\\ProgramData\\\\jupyter\"]}\n"
     ]
    }
   ],
   "source": [
    "# output the jupyter paths information to a Python dictionary \n",
    "!jupyter --paths --json"
   ]
  },
  {
   "cell_type": "markdown",
   "metadata": {},
   "source": [
    "## The Shell Assignment Operator (the `!` operator) Explained\n",
    "\n",
    "The IPython notebook has a shell assignment operator (the ! operator), which evaluates a command using the local shell (e.g., bash) and returns a string list or `SList` object (IPython.utils.text.SList). \n",
    "\n",
    "An SList is a list-like object contains:\n",
    "- \"chunks\" of stdout and stderr \n",
    "- properties for accessing those chunks in different forms\n",
    "- convenience methods for operating on them."
   ]
  },
  {
   "cell_type": "code",
   "execution_count": 40,
   "metadata": {
    "ExecuteTime": {
     "end_time": "2019-07-26T23:46:49.221278Z",
     "start_time": "2019-07-26T23:46:47.873008Z"
    }
   },
   "outputs": [],
   "source": [
    "# output and store the jupyter paths information in a Python dictionary `jupyter_paths_dict`  \n",
    "jupyter_paths_dict = !jupyter --paths --json"
   ]
  },
  {
   "cell_type": "code",
   "execution_count": 41,
   "metadata": {
    "ExecuteTime": {
     "end_time": "2019-07-26T23:46:50.638776Z",
     "start_time": "2019-07-26T23:46:49.253638Z"
    }
   },
   "outputs": [
    {
     "name": "stdout",
     "output_type": "stream",
     "text": [
      "{\"runtime\": [\"C:\\\\Users\\\\rlysak01\\\\AppData\\\\Roaming\\\\jupyter\\\\runtime\"], \"config\": [\"C:\\\\Users\\\\rlysak01\\\\.jupyter\", \"C:\\\\Anaconda3\\\\etc\\\\jupyter\", \"C:\\\\ProgramData\\\\jupyter\"], \"data\": [\"C:\\\\Users\\\\rlysak01\\\\AppData\\\\Roaming\\\\jupyter\", \"C:\\\\Anaconda3\\\\share\\\\jupyter\", \"C:\\\\ProgramData\\\\jupyter\"]}\n"
     ]
    }
   ],
   "source": [
    "!jupyter --paths --json"
   ]
  },
  {
   "cell_type": "code",
   "execution_count": 42,
   "metadata": {
    "ExecuteTime": {
     "end_time": "2019-07-26T23:46:50.669025Z",
     "start_time": "2019-07-26T23:46:50.663008Z"
    }
   },
   "outputs": [
    {
     "data": {
      "text/plain": [
       "IPython.utils.text.SList"
      ]
     },
     "execution_count": 42,
     "metadata": {},
     "output_type": "execute_result"
    }
   ],
   "source": [
    "# the object `jupyter_paths_dict` is a Shell Assignment List, which is a \n",
    "type(jupyter_paths_dict)"
   ]
  },
  {
   "cell_type": "code",
   "execution_count": 43,
   "metadata": {
    "ExecuteTime": {
     "end_time": "2019-07-26T23:46:50.716506Z",
     "start_time": "2019-07-26T23:46:50.709991Z"
    }
   },
   "outputs": [
    {
     "data": {
      "text/plain": [
       "['{\"runtime\": [\"C:\\\\\\\\Users\\\\\\\\rlysak01\\\\\\\\AppData\\\\\\\\Roaming\\\\\\\\jupyter\\\\\\\\runtime\"], \"config\": [\"C:\\\\\\\\Users\\\\\\\\rlysak01\\\\\\\\.jupyter\", \"C:\\\\\\\\Anaconda3\\\\\\\\etc\\\\\\\\jupyter\", \"C:\\\\\\\\ProgramData\\\\\\\\jupyter\"], \"data\": [\"C:\\\\\\\\Users\\\\\\\\rlysak01\\\\\\\\AppData\\\\\\\\Roaming\\\\\\\\jupyter\", \"C:\\\\\\\\Anaconda3\\\\\\\\share\\\\\\\\jupyter\", \"C:\\\\\\\\ProgramData\\\\\\\\jupyter\"]}']"
      ]
     },
     "execution_count": 43,
     "metadata": {},
     "output_type": "execute_result"
    }
   ],
   "source": [
    "jupyter_paths_dict"
   ]
  },
  {
   "cell_type": "code",
   "execution_count": 44,
   "metadata": {
    "ExecuteTime": {
     "end_time": "2019-07-26T23:46:50.751852Z",
     "start_time": "2019-07-26T23:46:50.747340Z"
    }
   },
   "outputs": [
    {
     "name": "stdout",
     "output_type": "stream",
     "text": [
      "['{\"runtime\": [\"C:\\\\\\\\Users\\\\\\\\rlysak01\\\\\\\\AppData\\\\\\\\Roaming\\\\\\\\jupyter\\\\\\\\runtime\"], \"config\": [\"C:\\\\\\\\Users\\\\\\\\rlysak01\\\\\\\\.jupyter\", \"C:\\\\\\\\Anaconda3\\\\\\\\etc\\\\\\\\jupyter\", \"C:\\\\\\\\ProgramData\\\\\\\\jupyter\"], \"data\": [\"C:\\\\\\\\Users\\\\\\\\rlysak01\\\\\\\\AppData\\\\\\\\Roaming\\\\\\\\jupyter\", \"C:\\\\\\\\Anaconda3\\\\\\\\share\\\\\\\\jupyter\", \"C:\\\\\\\\ProgramData\\\\\\\\jupyter\"]}']\n"
     ]
    }
   ],
   "source": [
    "print(jupyter_paths_dict)"
   ]
  },
  {
   "cell_type": "code",
   "execution_count": 45,
   "metadata": {
    "ExecuteTime": {
     "end_time": "2019-07-26T23:46:50.904700Z",
     "start_time": "2019-07-26T23:46:50.899184Z"
    }
   },
   "outputs": [
    {
     "data": {
      "text/plain": [
       "'{\"runtime\": [\"C:\\\\\\\\Users\\\\\\\\rlysak01\\\\\\\\AppData\\\\\\\\Roaming\\\\\\\\jupyter\\\\\\\\runtime\"], \"config\": [\"C:\\\\\\\\Users\\\\\\\\rlysak01\\\\\\\\.jupyter\", \"C:\\\\\\\\Anaconda3\\\\\\\\etc\\\\\\\\jupyter\", \"C:\\\\\\\\ProgramData\\\\\\\\jupyter\"], \"data\": [\"C:\\\\\\\\Users\\\\\\\\rlysak01\\\\\\\\AppData\\\\\\\\Roaming\\\\\\\\jupyter\", \"C:\\\\\\\\Anaconda3\\\\\\\\share\\\\\\\\jupyter\", \"C:\\\\\\\\ProgramData\\\\\\\\jupyter\"]}'"
      ]
     },
     "execution_count": 45,
     "metadata": {},
     "output_type": "execute_result"
    }
   ],
   "source": [
    "jupyter_paths_dict[0]"
   ]
  },
  {
   "cell_type": "markdown",
   "metadata": {},
   "source": [
    "# Changing Jupyter Notebook Display Defaults\n",
    "\n",
    "Be careful with this.  It can make the display unusable."
   ]
  },
  {
   "cell_type": "markdown",
   "metadata": {},
   "source": [
    "## Changing Jupyter Notebook Document Page Width  \n",
    "\n",
    "Be careful with this.  It can make the display unusable."
   ]
  },
  {
   "cell_type": "code",
   "execution_count": 16,
   "metadata": {},
   "outputs": [
    {
     "data": {
      "text/html": [
       "<style>.container { width:60% !important; }</style>"
      ],
      "text/plain": [
       "<IPython.core.display.HTML object>"
      ]
     },
     "metadata": {},
     "output_type": "display_data"
    }
   ],
   "source": [
    "from IPython.core.display import display, HTML\n",
    "display(HTML(\"<style>.container { width:60% !important; }</style>\"))"
   ]
  },
  {
   "cell_type": "code",
   "execution_count": 4,
   "metadata": {},
   "outputs": [
    {
     "data": {
      "text/html": [
       "<style>.container { width:75% !important; }</style>"
      ],
      "text/plain": [
       "<IPython.core.display.HTML object>"
      ]
     },
     "metadata": {},
     "output_type": "display_data"
    },
    {
     "data": {
      "text/html": [
       "<style>.output_result { max-width:60% !important; }</style>"
      ],
      "text/plain": [
       "<IPython.core.display.HTML object>"
      ]
     },
     "metadata": {},
     "output_type": "display_data"
    },
    {
     "data": {
      "text/html": [
       "<style>.prompt { display:none !important; }</style>"
      ],
      "text/plain": [
       "<IPython.core.display.HTML object>"
      ]
     },
     "metadata": {},
     "output_type": "display_data"
    }
   ],
   "source": [
    "from IPython.core.display import display, HTML\n",
    "display(HTML(\"<style>.container { width:75% !important; }</style>\"))\n",
    "display(HTML(\"<style>.output_result { max-width:60% !important; }</style>\"))\n",
    "display(HTML(\"<style>.prompt { display:none !important; }</style>\"))"
   ]
  },
  {
   "cell_type": "markdown",
   "metadata": {},
   "source": [
    "## Change Jupyter Notebook Cell-Width \n",
    "\n",
    "Default configuration of Jupyter Notebook only utilises about 50% of the screen width within your browser. If you are using the Notebook often, chances are you are using it in expanded browser window and can utilise at-least 80-90% of the screen width. \n",
    "\n",
    "A simple hack to increase the cell-width is to place a `.container` tag inside `~/.jupyter/custom/custom.css` file (can be a different location depending on your installation and OS etc. \n",
    "\n",
    "See http://stackoverflow.com/questions/21971449/how-do-i-increase-the-cell-width-of-the-jupyter-ipython-notebook-in-my-browser) "
   ]
  },
  {
   "cell_type": "code",
   "execution_count": 2,
   "metadata": {},
   "outputs": [
    {
     "ename": "SyntaxError",
     "evalue": "invalid syntax (<ipython-input-2-1ebc58fef03b>, line 7)",
     "output_type": "error",
     "traceback": [
      "\u001b[1;36m  File \u001b[1;32m\"<ipython-input-2-1ebc58fef03b>\"\u001b[1;36m, line \u001b[1;32m7\u001b[0m\n\u001b[1;33m    .container {\u001b[0m\n\u001b[1;37m    ^\u001b[0m\n\u001b[1;31mSyntaxError\u001b[0m\u001b[1;31m:\u001b[0m invalid syntax\n"
     ]
    }
   ],
   "source": [
    "## This needs some more work to function !!\n",
    "\n",
    "## https://stackoverflow.com/questions/21971449/how-do-i-increase-the-cell-width-of-the-jupyter-ipython-notebook-in-my-browser\n",
    "## /* Make the notebook cells take almost all available width */\n",
    "\n",
    "%%javascript\n",
    ".container {\n",
    "    width: 95% !important;\n",
    "}   \n",
    "\n",
    "/* Prevent the edit cell highlight box from getting clipped;\n",
    " * important so that it also works when cell is in edit mode*/\n",
    "div.cell.selected {\n",
    "    border-left-width: 1px !important;\n",
    "}"
   ]
  },
  {
   "cell_type": "markdown",
   "metadata": {},
   "source": [
    "## Changing the Default NBExtensions Loading Time\n",
    "\n",
    "Using Extensions with Large Notebooks\n",
    "\n",
    "Loading NB data takes so long that extension loading “times out” and not all extensions load.  \n",
    "\n",
    "https://github.com/ipython-contrib/jupyter_contrib_nbextensions/issues/1195\n"
   ]
  },
  {
   "cell_type": "markdown",
   "metadata": {},
   "source": [
    "This is not an issue specific to `collapsible_headings`.  It is a limitation of how notebook loading happens.  \n",
    "\n",
    "https://github.com/ipython-contrib/jupyter_contrib_nbextensions/issues/822\n",
    "\n",
    "If the  notebook is big enough, then the calls required to load the nbextensions are still happening while the notebook is loading, and then all the processing time is hogged by the load operations for the notebook and the nbextensions.  As a result any and all nbextensions can fail to load. \n",
    "\n",
    "You can increase the available timeout by adding something to your `custom.js` file (which should be loaded before the notebook starts to load).\n",
    "\n",
    "`window.requirejs.config({\n",
    "    waitseconds: 60,  // default is 30s\n",
    "});`\n",
    "\n",
    "\n",
    "Unfortunately there is no other way round it at the moment. \n",
    "\n"
   ]
  },
  {
   "cell_type": "code",
   "execution_count": 3,
   "metadata": {},
   "outputs": [
    {
     "data": {
      "application/javascript": [
       "window.requirejs.config({\n",
       "    waitseconds: 60  \n",
       "});\n"
      ],
      "text/plain": [
       "<IPython.core.display.Javascript object>"
      ]
     },
     "metadata": {},
     "output_type": "display_data"
    }
   ],
   "source": [
    "%%javascript \n",
    "window.requirejs.config({\n",
    "    waitseconds: 60  \n",
    "});"
   ]
  },
  {
   "cell_type": "code",
   "execution_count": 4,
   "metadata": {
    "ExecuteTime": {
     "end_time": "2019-06-04T21:53:27.397268Z",
     "start_time": "2019-06-04T21:53:27.386100Z"
    }
   },
   "outputs": [
    {
     "data": {
      "application/javascript": [
       "/** Below because this notebook is pretty large */\n",
       "var rto = 120;\n",
       "console.log('NB: Increase require timeout to ' + rto + ' seconds');\n",
       "window.requirejs.config({waitSeconds: rto});\n"
      ],
      "text/plain": [
       "<IPython.core.display.Javascript object>"
      ]
     },
     "metadata": {},
     "output_type": "display_data"
    }
   ],
   "source": [
    "%%javascript\n",
    "/** Below because this notebook is pretty large */\n",
    "var rto = 120;\n",
    "console.log('NB: Increase require timeout to ' + rto + ' seconds');\n",
    "window.requirejs.config({waitSeconds: rto});\n"
   ]
  },
  {
   "cell_type": "code",
   "execution_count": 6,
   "metadata": {
    "ExecuteTime": {
     "end_time": "2019-06-12T18:55:08.151302Z",
     "start_time": "2019-06-12T18:55:08.141277Z"
    },
    "deletable": false,
    "editable": false,
    "run_control": {
     "frozen": true
    }
   },
   "outputs": [
    {
     "data": {
      "application/javascript": [
       "javascript:date = new Date();\n",
       "url_root = 'http://nbviewer.ipython.org/';\n",
       "url = null;\n",
       "gist_re = /^https?:\\/\\/gist\\.github\\.com\\/(?:\\w+\\/)?([a-f0-9]+)$/;\n",
       "github_re = /^https:\\/\\/(github\\.com\\/.*\\/)blob\\/(.*\\.ipynb)$/;\n",
       "https_re = /^https:\\/\\/(.*\\.ipynb)$/;\n",
       "http_re = /^http:\\/\\/(.*\\.ipynb)$/;\n",
       "loc = location.href;\n",
       "if (gist_re.test(loc)) {\n",
       "    gist = gist_re.exec(loc);\n",
       "    url = url_root + gist[1];\n",
       "} else if (github_re.test(loc)) {\n",
       "    path = github_re.exec(loc);\n",
       "    url = url_root + 'urls/raw.' + path[1] + path[2];\n",
       "} else if (https_re.test(loc)) {\n",
       "    path = https_re.exec(loc);\n",
       "    url = url_root + 'urls/' + path[1];\n",
       "} else if (http_re.test(loc)) {\n",
       "    path = http_re.exec(loc);\n",
       "    url = url_root + 'url/' + path[1];}\n",
       "if (url) {void(window.open(url, 'nbviewer' + date.getTime()));}\n"
      ],
      "text/plain": [
       "<IPython.core.display.Javascript object>"
      ]
     },
     "metadata": {},
     "output_type": "display_data"
    }
   ],
   "source": [
    "%%javascript\n",
    "javascript:date = new Date();\n",
    "url_root = 'http://nbviewer.ipython.org/';\n",
    "url = null;\n",
    "gist_re = /^https?:\\/\\/gist\\.github\\.com\\/(?:\\w+\\/)?([a-f0-9]+)$/;\n",
    "github_re = /^https:\\/\\/(github\\.com\\/.*\\/)blob\\/(.*\\.ipynb)$/;\n",
    "https_re = /^https:\\/\\/(.*\\.ipynb)$/;\n",
    "http_re = /^http:\\/\\/(.*\\.ipynb)$/;\n",
    "loc = location.href;\n",
    "if (gist_re.test(loc)) {\n",
    "    gist = gist_re.exec(loc);\n",
    "    url = url_root + gist[1];\n",
    "} else if (github_re.test(loc)) {\n",
    "    path = github_re.exec(loc);\n",
    "    url = url_root + 'urls/raw.' + path[1] + path[2];\n",
    "} else if (https_re.test(loc)) {\n",
    "    path = https_re.exec(loc);\n",
    "    url = url_root + 'urls/' + path[1];\n",
    "} else if (http_re.test(loc)) {\n",
    "    path = http_re.exec(loc);\n",
    "    url = url_root + 'url/' + path[1];}\n",
    "if (url) {void(window.open(url, 'nbviewer' + date.getTime()));}"
   ]
  },
  {
   "cell_type": "markdown",
   "metadata": {},
   "source": [
    "## Notebook Themes\n",
    "\n",
    "https://github.com/dunovank/jupyter-themes"
   ]
  },
  {
   "cell_type": "markdown",
   "metadata": {},
   "source": [
    "# Get Jupyter Path Information to Change Snippets Menus"
   ]
  },
  {
   "cell_type": "markdown",
   "metadata": {},
   "source": [
    "### Get Location of Current Jupyter Notebook Extensions Folder\n",
    "Notebook Extensions are located at: \n",
    "    \n",
    "    C:\\ProgramData\\jupyter\\nbextensions"
   ]
  },
  {
   "cell_type": "code",
   "execution_count": 3,
   "metadata": {
    "ExecuteTime": {
     "end_time": "2019-05-24T19:24:53.240953Z",
     "start_time": "2019-05-24T19:24:53.236197Z"
    }
   },
   "outputs": [
    {
     "data": {
      "text/plain": [
       "'C:\\\\Users\\\\rlysakow\\\\.jupyter'"
      ]
     },
     "execution_count": 3,
     "metadata": {},
     "output_type": "execute_result"
    }
   ],
   "source": [
    "from jupyter_core.paths import jupyter_config_dir\n",
    "jupyter_dir = jupyter_config_dir()\n",
    "jupyter_dir"
   ]
  },
  {
   "cell_type": "markdown",
   "metadata": {},
   "source": [
    "### Show Jupyter Notebook `custom.js` File Location to open it for editing."
   ]
  },
  {
   "cell_type": "code",
   "execution_count": 4,
   "metadata": {
    "ExecuteTime": {
     "end_time": "2019-05-24T18:47:53.218596Z",
     "start_time": "2019-05-24T18:47:53.188136Z"
    }
   },
   "outputs": [
    {
     "name": "stdout",
     "output_type": "stream",
     "text": [
      "$(jupyter --config-dir)/custom/custom.js\n"
     ]
    }
   ],
   "source": [
    "!echo $(jupyter --config-dir)/custom/custom.js"
   ]
  },
  {
   "cell_type": "markdown",
   "metadata": {},
   "source": [
    "### Search for Jupyter Notebook `custom.js` File Location to prepare to open it for editing."
   ]
  },
  {
   "cell_type": "code",
   "execution_count": 5,
   "metadata": {
    "ExecuteTime": {
     "end_time": "2019-05-24T19:24:47.184075Z",
     "start_time": "2019-05-24T19:24:47.179060Z"
    }
   },
   "outputs": [
    {
     "name": "stdout",
     "output_type": "stream",
     "text": [
      "searching for custom.js in  C:\\Users\\rlysakow\\.jupyter\\custom\\custom.js\n",
      "You don't have a custom.js file\n"
     ]
    }
   ],
   "source": [
    "import os.path\n",
    "custom_js_path = os.path.join(jupyter_dir, 'custom', 'custom.js')\n",
    "print(\"searching for custom.js in \", custom_js_path)\n",
    "#  my custom js\n",
    "if os.path.isfile(custom_js_path):\n",
    "    with open(custom_js_path) as f:\n",
    "        print(f\"\\n Your custom.js file contents: \\n\\n {f.read()}\")\n",
    "else:\n",
    "    print(\"You don't have a custom.js file\")"
   ]
  },
  {
   "cell_type": "markdown",
   "metadata": {},
   "source": [
    "# Set Pandas Display Output Options"
   ]
  },
  {
   "cell_type": "markdown",
   "metadata": {},
   "source": [
    "## Set Pandas Maximum Outputs for Rows, Columns and Display Width"
   ]
  },
  {
   "cell_type": "code",
   "execution_count": 3,
   "metadata": {
    "ExecuteTime": {
     "end_time": "2019-05-24T18:46:33.781937Z",
     "start_time": "2019-05-24T18:46:33.778427Z"
    }
   },
   "outputs": [],
   "source": [
    "import pandas as pd\n",
    "#pd.options.display.height=10\n",
    "# pd.options.display.max_rows = 999\n",
    "pd.options.display.max_rows=20\n",
    "pd.options.display.max_columns=500\n",
    "pd.options.display.width=1000"
   ]
  },
  {
   "cell_type": "code",
   "execution_count": 4,
   "metadata": {
    "ExecuteTime": {
     "end_time": "2019-05-24T18:46:09.710162Z",
     "start_time": "2019-05-24T18:46:09.707154Z"
    }
   },
   "outputs": [],
   "source": [
    "import pandas as pd\n",
    "pd.set_option(\"display.max_rows\", 100)\n",
    "pd.set_option(\"display.max_columns\", 500)\n",
    "pd.set_option(\"display.width\", 1000)"
   ]
  },
  {
   "cell_type": "code",
   "execution_count": 5,
   "metadata": {},
   "outputs": [],
   "source": [
    "pd.set_option('display.max_rows', 500)\n",
    "pd.set_option('display.max_columns', 500)\n",
    "pd.set_option('display.width', 1500)"
   ]
  },
  {
   "cell_type": "markdown",
   "metadata": {},
   "source": [
    "## Suppress Scientific Notation in Pandas to Make Large Values More Readable"
   ]
  },
  {
   "cell_type": "code",
   "execution_count": 6,
   "metadata": {},
   "outputs": [],
   "source": [
    "### Suppress Scientific Notation (FOR THE DURATION OF THIS SESSION)\n",
    "\n",
    "# Display precision refers to Numerical Precision, i.e., significant figures.\n",
    "pd.set_option('display.precision', 2)\n",
    "\n",
    "# Here are two other ways to set the same parameter.\n",
    "pd.set_option('display.float_format', '{:,.2f}'.format)\n",
    "pd.options.display.float_format = '{:,.2f}'.format"
   ]
  },
  {
   "cell_type": "markdown",
   "metadata": {},
   "source": [
    "## Output more than 1 dataframe to the same output cell"
   ]
  },
  {
   "cell_type": "markdown",
   "metadata": {},
   "source": [
    "### Method 1 - Display VERTICALLY and SEQUENTIALLY in the same output cell"
   ]
  },
  {
   "cell_type": "code",
   "execution_count": 10,
   "metadata": {},
   "outputs": [
    {
     "data": {
      "text/html": [
       "<div>\n",
       "<style scoped>\n",
       "    .dataframe tbody tr th:only-of-type {\n",
       "        vertical-align: middle;\n",
       "    }\n",
       "\n",
       "    .dataframe tbody tr th {\n",
       "        vertical-align: top;\n",
       "    }\n",
       "\n",
       "    .dataframe thead th {\n",
       "        text-align: right;\n",
       "    }\n",
       "</style>\n",
       "<table border=\"1\" class=\"dataframe\">\n",
       "  <thead>\n",
       "    <tr style=\"text-align: right;\">\n",
       "      <th></th>\n",
       "      <th>A</th>\n",
       "      <th>B</th>\n",
       "      <th>C</th>\n",
       "      <th>D</th>\n",
       "    </tr>\n",
       "  </thead>\n",
       "  <tbody>\n",
       "    <tr>\n",
       "      <th>0</th>\n",
       "      <td>0</td>\n",
       "      <td>1</td>\n",
       "      <td>2</td>\n",
       "      <td>3</td>\n",
       "    </tr>\n",
       "    <tr>\n",
       "      <th>1</th>\n",
       "      <td>4</td>\n",
       "      <td>5</td>\n",
       "      <td>6</td>\n",
       "      <td>7</td>\n",
       "    </tr>\n",
       "    <tr>\n",
       "      <th>2</th>\n",
       "      <td>8</td>\n",
       "      <td>9</td>\n",
       "      <td>10</td>\n",
       "      <td>11</td>\n",
       "    </tr>\n",
       "  </tbody>\n",
       "</table>\n",
       "</div>"
      ],
      "text/plain": [
       "   A  B   C   D\n",
       "0  0  1   2   3\n",
       "1  4  5   6   7\n",
       "2  8  9  10  11"
      ]
     },
     "metadata": {},
     "output_type": "display_data"
    },
    {
     "data": {
      "text/html": [
       "<div>\n",
       "<style scoped>\n",
       "    .dataframe tbody tr th:only-of-type {\n",
       "        vertical-align: middle;\n",
       "    }\n",
       "\n",
       "    .dataframe tbody tr th {\n",
       "        vertical-align: top;\n",
       "    }\n",
       "\n",
       "    .dataframe thead th {\n",
       "        text-align: right;\n",
       "    }\n",
       "</style>\n",
       "<table border=\"1\" class=\"dataframe\">\n",
       "  <thead>\n",
       "    <tr style=\"text-align: right;\">\n",
       "      <th></th>\n",
       "      <th>E</th>\n",
       "      <th>F</th>\n",
       "      <th>G</th>\n",
       "      <th>H</th>\n",
       "    </tr>\n",
       "  </thead>\n",
       "  <tbody>\n",
       "    <tr>\n",
       "      <th>0</th>\n",
       "      <td>0</td>\n",
       "      <td>1</td>\n",
       "      <td>2</td>\n",
       "      <td>3</td>\n",
       "    </tr>\n",
       "    <tr>\n",
       "      <th>1</th>\n",
       "      <td>4</td>\n",
       "      <td>5</td>\n",
       "      <td>6</td>\n",
       "      <td>7</td>\n",
       "    </tr>\n",
       "    <tr>\n",
       "      <th>2</th>\n",
       "      <td>8</td>\n",
       "      <td>9</td>\n",
       "      <td>10</td>\n",
       "      <td>11</td>\n",
       "    </tr>\n",
       "    <tr>\n",
       "      <th>3</th>\n",
       "      <td>12</td>\n",
       "      <td>13</td>\n",
       "      <td>14</td>\n",
       "      <td>15</td>\n",
       "    </tr>\n",
       "  </tbody>\n",
       "</table>\n",
       "</div>"
      ],
      "text/plain": [
       "    E   F   G   H\n",
       "0   0   1   2   3\n",
       "1   4   5   6   7\n",
       "2   8   9  10  11\n",
       "3  12  13  14  15"
      ]
     },
     "metadata": {},
     "output_type": "display_data"
    }
   ],
   "source": [
    "# VERTICAL SEQUENTIAL Output of Multiple dataframes to the same output cell\n",
    "from IPython.display import display\n",
    "\n",
    "df1 = pd.DataFrame(np.arange(12).reshape((3,4)),columns=['A','B','C','D',])\n",
    "df2 = pd.DataFrame(np.arange(16).reshape((4,4)),columns=['E','F','G','H',])\n",
    "\n",
    "display(df1); display(df2)"
   ]
  },
  {
   "cell_type": "code",
   "execution_count": 8,
   "metadata": {},
   "outputs": [],
   "source": [
    "from IPython.display import display_html\n",
    "\n",
    "def display_side_by_side(*args):\n",
    "    \"\"\" \n",
    "    Function to display dataframes side-by-side in the same Jupyter Notebook output cell\n",
    "    Note: To limit the number of rows, you must include the df.head() for each dataframe argument. \n",
    "    Taken from https://stackoverflow.com/questions/38783027/jupyter-notebook-display-two-pandas-tables-side-by-side\n",
    "    \"\"\"\n",
    "    html_str=' '\n",
    "    for df in args:\n",
    "        html_str+=df.to_html()\n",
    "    display_html(html_str.replace('table','table style=\"display:inline\"'),raw=True)"
   ]
  },
  {
   "cell_type": "code",
   "execution_count": 9,
   "metadata": {},
   "outputs": [
    {
     "data": {
      "text/html": [
       " <table style=\"display:inline\" border=\"1\" class=\"dataframe\">\n",
       "  <thead>\n",
       "    <tr style=\"text-align: right;\">\n",
       "      <th></th>\n",
       "      <th>A</th>\n",
       "      <th>B</th>\n",
       "      <th>C</th>\n",
       "      <th>D</th>\n",
       "    </tr>\n",
       "  </thead>\n",
       "  <tbody>\n",
       "    <tr>\n",
       "      <th>0</th>\n",
       "      <td>0</td>\n",
       "      <td>1</td>\n",
       "      <td>2</td>\n",
       "      <td>3</td>\n",
       "    </tr>\n",
       "    <tr>\n",
       "      <th>1</th>\n",
       "      <td>4</td>\n",
       "      <td>5</td>\n",
       "      <td>6</td>\n",
       "      <td>7</td>\n",
       "    </tr>\n",
       "    <tr>\n",
       "      <th>2</th>\n",
       "      <td>8</td>\n",
       "      <td>9</td>\n",
       "      <td>10</td>\n",
       "      <td>11</td>\n",
       "    </tr>\n",
       "  </tbody>\n",
       "</table style=\"display:inline\"><table style=\"display:inline\" border=\"1\" class=\"dataframe\">\n",
       "  <thead>\n",
       "    <tr style=\"text-align: right;\">\n",
       "      <th></th>\n",
       "      <th>E</th>\n",
       "      <th>F</th>\n",
       "      <th>G</th>\n",
       "      <th>H</th>\n",
       "    </tr>\n",
       "  </thead>\n",
       "  <tbody>\n",
       "    <tr>\n",
       "      <th>0</th>\n",
       "      <td>0</td>\n",
       "      <td>1</td>\n",
       "      <td>2</td>\n",
       "      <td>3</td>\n",
       "    </tr>\n",
       "    <tr>\n",
       "      <th>1</th>\n",
       "      <td>4</td>\n",
       "      <td>5</td>\n",
       "      <td>6</td>\n",
       "      <td>7</td>\n",
       "    </tr>\n",
       "    <tr>\n",
       "      <th>2</th>\n",
       "      <td>8</td>\n",
       "      <td>9</td>\n",
       "      <td>10</td>\n",
       "      <td>11</td>\n",
       "    </tr>\n",
       "    <tr>\n",
       "      <th>3</th>\n",
       "      <td>12</td>\n",
       "      <td>13</td>\n",
       "      <td>14</td>\n",
       "      <td>15</td>\n",
       "    </tr>\n",
       "  </tbody>\n",
       "</table style=\"display:inline\">"
      ]
     },
     "metadata": {},
     "output_type": "display_data"
    }
   ],
   "source": [
    "display_side_by_side(df1, df2)"
   ]
  },
  {
   "cell_type": "code",
   "execution_count": 11,
   "metadata": {
    "scrolled": true
   },
   "outputs": [
    {
     "data": {
      "text/html": [
       " <table style=\"display:inline\" border=\"1\" class=\"dataframe\">\n",
       "  <thead>\n",
       "    <tr style=\"text-align: right;\">\n",
       "      <th></th>\n",
       "      <th>A</th>\n",
       "      <th>B</th>\n",
       "      <th>C</th>\n",
       "      <th>D</th>\n",
       "    </tr>\n",
       "  </thead>\n",
       "  <tbody>\n",
       "    <tr>\n",
       "      <th>0</th>\n",
       "      <td>0</td>\n",
       "      <td>1</td>\n",
       "      <td>2</td>\n",
       "      <td>3</td>\n",
       "    </tr>\n",
       "    <tr>\n",
       "      <th>1</th>\n",
       "      <td>4</td>\n",
       "      <td>5</td>\n",
       "      <td>6</td>\n",
       "      <td>7</td>\n",
       "    </tr>\n",
       "    <tr>\n",
       "      <th>2</th>\n",
       "      <td>8</td>\n",
       "      <td>9</td>\n",
       "      <td>10</td>\n",
       "      <td>11</td>\n",
       "    </tr>\n",
       "  </tbody>\n",
       "</table style=\"display:inline\"><table style=\"display:inline\" border=\"1\" class=\"dataframe\">\n",
       "  <thead>\n",
       "    <tr style=\"text-align: right;\">\n",
       "      <th></th>\n",
       "      <th>E</th>\n",
       "      <th>F</th>\n",
       "      <th>G</th>\n",
       "      <th>H</th>\n",
       "    </tr>\n",
       "  </thead>\n",
       "  <tbody>\n",
       "    <tr>\n",
       "      <th>0</th>\n",
       "      <td>0</td>\n",
       "      <td>1</td>\n",
       "      <td>2</td>\n",
       "      <td>3</td>\n",
       "    </tr>\n",
       "    <tr>\n",
       "      <th>1</th>\n",
       "      <td>4</td>\n",
       "      <td>5</td>\n",
       "      <td>6</td>\n",
       "      <td>7</td>\n",
       "    </tr>\n",
       "    <tr>\n",
       "      <th>2</th>\n",
       "      <td>8</td>\n",
       "      <td>9</td>\n",
       "      <td>10</td>\n",
       "      <td>11</td>\n",
       "    </tr>\n",
       "    <tr>\n",
       "      <th>3</th>\n",
       "      <td>12</td>\n",
       "      <td>13</td>\n",
       "      <td>14</td>\n",
       "      <td>15</td>\n",
       "    </tr>\n",
       "  </tbody>\n",
       "</table style=\"display:inline\"><table style=\"display:inline\" border=\"1\" class=\"dataframe\">\n",
       "  <thead>\n",
       "    <tr style=\"text-align: right;\">\n",
       "      <th></th>\n",
       "      <th>A</th>\n",
       "      <th>B</th>\n",
       "      <th>C</th>\n",
       "      <th>D</th>\n",
       "    </tr>\n",
       "  </thead>\n",
       "  <tbody>\n",
       "    <tr>\n",
       "      <th>0</th>\n",
       "      <td>0</td>\n",
       "      <td>1</td>\n",
       "      <td>2</td>\n",
       "      <td>3</td>\n",
       "    </tr>\n",
       "    <tr>\n",
       "      <th>1</th>\n",
       "      <td>4</td>\n",
       "      <td>5</td>\n",
       "      <td>6</td>\n",
       "      <td>7</td>\n",
       "    </tr>\n",
       "    <tr>\n",
       "      <th>2</th>\n",
       "      <td>8</td>\n",
       "      <td>9</td>\n",
       "      <td>10</td>\n",
       "      <td>11</td>\n",
       "    </tr>\n",
       "  </tbody>\n",
       "</table style=\"display:inline\"><table style=\"display:inline\" border=\"1\" class=\"dataframe\">\n",
       "  <thead>\n",
       "    <tr style=\"text-align: right;\">\n",
       "      <th></th>\n",
       "      <th>E</th>\n",
       "      <th>F</th>\n",
       "      <th>G</th>\n",
       "      <th>H</th>\n",
       "    </tr>\n",
       "  </thead>\n",
       "  <tbody>\n",
       "    <tr>\n",
       "      <th>0</th>\n",
       "      <td>2</td>\n",
       "      <td>3</td>\n",
       "      <td>4</td>\n",
       "      <td>5</td>\n",
       "    </tr>\n",
       "    <tr>\n",
       "      <th>1</th>\n",
       "      <td>6</td>\n",
       "      <td>7</td>\n",
       "      <td>8</td>\n",
       "      <td>9</td>\n",
       "    </tr>\n",
       "    <tr>\n",
       "      <th>2</th>\n",
       "      <td>10</td>\n",
       "      <td>11</td>\n",
       "      <td>12</td>\n",
       "      <td>13</td>\n",
       "    </tr>\n",
       "    <tr>\n",
       "      <th>3</th>\n",
       "      <td>14</td>\n",
       "      <td>15</td>\n",
       "      <td>16</td>\n",
       "      <td>17</td>\n",
       "    </tr>\n",
       "  </tbody>\n",
       "</table style=\"display:inline\"><table style=\"display:inline\" border=\"1\" class=\"dataframe\">\n",
       "  <thead>\n",
       "    <tr style=\"text-align: right;\">\n",
       "      <th></th>\n",
       "      <th>A</th>\n",
       "      <th>B</th>\n",
       "      <th>C</th>\n",
       "      <th>D</th>\n",
       "    </tr>\n",
       "  </thead>\n",
       "  <tbody>\n",
       "    <tr>\n",
       "      <th>0</th>\n",
       "      <td>0</td>\n",
       "      <td>3</td>\n",
       "      <td>6</td>\n",
       "      <td>9</td>\n",
       "    </tr>\n",
       "    <tr>\n",
       "      <th>1</th>\n",
       "      <td>12</td>\n",
       "      <td>15</td>\n",
       "      <td>18</td>\n",
       "      <td>21</td>\n",
       "    </tr>\n",
       "    <tr>\n",
       "      <th>2</th>\n",
       "      <td>24</td>\n",
       "      <td>27</td>\n",
       "      <td>30</td>\n",
       "      <td>33</td>\n",
       "    </tr>\n",
       "  </tbody>\n",
       "</table style=\"display:inline\">"
      ]
     },
     "metadata": {},
     "output_type": "display_data"
    }
   ],
   "source": [
    "display_side_by_side(df1, df2, df1, df2 + 2, (3 * df1))"
   ]
  },
  {
   "cell_type": "code",
   "execution_count": 12,
   "metadata": {},
   "outputs": [],
   "source": [
    "from IPython.core.display import HTML\n",
    "\n",
    "def multi_table(table_list):\n",
    "    \"\"\" \n",
    "    Accepts list of IpyTable objects, then returns a table containing each IpyTable in one cell\n",
    "    Taken from https://github.com/epmoyer/ipy_table/issues/24\n",
    "    \"\"\"\n",
    "    return HTML(\n",
    "        '<table><tr style=\"background-color:white;\">' + \n",
    "        ''.join(['<td>' + table._repr_html_() + '</td>' for table in table_list]) +\n",
    "        '</tr></table>'\n",
    "    )"
   ]
  },
  {
   "cell_type": "code",
   "execution_count": 13,
   "metadata": {},
   "outputs": [
    {
     "data": {
      "text/html": [
       "<table><tr style=\"background-color:white;\"><td><div>\n",
       "<style scoped>\n",
       "    .dataframe tbody tr th:only-of-type {\n",
       "        vertical-align: middle;\n",
       "    }\n",
       "\n",
       "    .dataframe tbody tr th {\n",
       "        vertical-align: top;\n",
       "    }\n",
       "\n",
       "    .dataframe thead th {\n",
       "        text-align: right;\n",
       "    }\n",
       "</style>\n",
       "<table border=\"1\" class=\"dataframe\">\n",
       "  <thead>\n",
       "    <tr style=\"text-align: right;\">\n",
       "      <th></th>\n",
       "      <th>A</th>\n",
       "      <th>B</th>\n",
       "      <th>C</th>\n",
       "      <th>D</th>\n",
       "    </tr>\n",
       "  </thead>\n",
       "  <tbody>\n",
       "    <tr>\n",
       "      <th>0</th>\n",
       "      <td>0</td>\n",
       "      <td>1</td>\n",
       "      <td>2</td>\n",
       "      <td>3</td>\n",
       "    </tr>\n",
       "    <tr>\n",
       "      <th>1</th>\n",
       "      <td>4</td>\n",
       "      <td>5</td>\n",
       "      <td>6</td>\n",
       "      <td>7</td>\n",
       "    </tr>\n",
       "    <tr>\n",
       "      <th>2</th>\n",
       "      <td>8</td>\n",
       "      <td>9</td>\n",
       "      <td>10</td>\n",
       "      <td>11</td>\n",
       "    </tr>\n",
       "  </tbody>\n",
       "</table>\n",
       "</div></td><td><div>\n",
       "<style scoped>\n",
       "    .dataframe tbody tr th:only-of-type {\n",
       "        vertical-align: middle;\n",
       "    }\n",
       "\n",
       "    .dataframe tbody tr th {\n",
       "        vertical-align: top;\n",
       "    }\n",
       "\n",
       "    .dataframe thead th {\n",
       "        text-align: right;\n",
       "    }\n",
       "</style>\n",
       "<table border=\"1\" class=\"dataframe\">\n",
       "  <thead>\n",
       "    <tr style=\"text-align: right;\">\n",
       "      <th></th>\n",
       "      <th>E</th>\n",
       "      <th>F</th>\n",
       "      <th>G</th>\n",
       "      <th>H</th>\n",
       "    </tr>\n",
       "  </thead>\n",
       "  <tbody>\n",
       "    <tr>\n",
       "      <th>0</th>\n",
       "      <td>0</td>\n",
       "      <td>1</td>\n",
       "      <td>2</td>\n",
       "      <td>3</td>\n",
       "    </tr>\n",
       "    <tr>\n",
       "      <th>1</th>\n",
       "      <td>4</td>\n",
       "      <td>5</td>\n",
       "      <td>6</td>\n",
       "      <td>7</td>\n",
       "    </tr>\n",
       "    <tr>\n",
       "      <th>2</th>\n",
       "      <td>8</td>\n",
       "      <td>9</td>\n",
       "      <td>10</td>\n",
       "      <td>11</td>\n",
       "    </tr>\n",
       "    <tr>\n",
       "      <th>3</th>\n",
       "      <td>12</td>\n",
       "      <td>13</td>\n",
       "      <td>14</td>\n",
       "      <td>15</td>\n",
       "    </tr>\n",
       "  </tbody>\n",
       "</table>\n",
       "</div></td></tr></table>"
      ],
      "text/plain": [
       "<IPython.core.display.HTML object>"
      ]
     },
     "execution_count": 13,
     "metadata": {},
     "output_type": "execute_result"
    }
   ],
   "source": [
    "multi_table([df1, df2])"
   ]
  },
  {
   "cell_type": "code",
   "execution_count": 14,
   "metadata": {},
   "outputs": [],
   "source": [
    "# Applying Themes to the HTML of Tables from Pandas "
   ]
  },
  {
   "cell_type": "code",
   "execution_count": 15,
   "metadata": {},
   "outputs": [
    {
     "ename": "ModuleNotFoundError",
     "evalue": "No module named 'add_parent_to_path'",
     "output_type": "error",
     "traceback": [
      "\u001b[1;31m---------------------------------------------------------------------------\u001b[0m",
      "\u001b[1;31mModuleNotFoundError\u001b[0m                       Traceback (most recent call last)",
      "\u001b[1;32m<ipython-input-15-2d05bb906fa2>\u001b[0m in \u001b[0;36m<module>\u001b[1;34m\u001b[0m\n\u001b[1;32m----> 1\u001b[1;33m \u001b[1;32mimport\u001b[0m \u001b[0madd_parent_to_path\u001b[0m\u001b[1;33m\u001b[0m\u001b[1;33m\u001b[0m\u001b[0m\n\u001b[0m\u001b[0;32m      2\u001b[0m \u001b[1;32mfrom\u001b[0m \u001b[0mIPython\u001b[0m\u001b[1;33m.\u001b[0m\u001b[0mcore\u001b[0m\u001b[1;33m.\u001b[0m\u001b[0mdisplay\u001b[0m \u001b[1;32mimport\u001b[0m \u001b[0mHTML\u001b[0m\u001b[1;33m\u001b[0m\u001b[1;33m\u001b[0m\u001b[0m\n\u001b[0;32m      3\u001b[0m \u001b[1;32mfrom\u001b[0m \u001b[0mipy_table\u001b[0m \u001b[1;32mimport\u001b[0m \u001b[1;33m*\u001b[0m\u001b[1;33m\u001b[0m\u001b[1;33m\u001b[0m\u001b[0m\n\u001b[0;32m      4\u001b[0m \u001b[1;33m\u001b[0m\u001b[0m\n\u001b[0;32m      5\u001b[0m \u001b[0mexample_table\u001b[0m \u001b[1;33m=\u001b[0m  \u001b[1;33m[\u001b[0m\u001b[1;33m[\u001b[0m\u001b[0mi\u001b[0m \u001b[1;32mfor\u001b[0m \u001b[0mi\u001b[0m \u001b[1;32min\u001b[0m \u001b[0mrange\u001b[0m\u001b[1;33m(\u001b[0m\u001b[0mj\u001b[0m\u001b[1;33m,\u001b[0m \u001b[0mj\u001b[0m\u001b[1;33m+\u001b[0m\u001b[1;36m4\u001b[0m\u001b[1;33m)\u001b[0m\u001b[1;33m]\u001b[0m \u001b[1;32mfor\u001b[0m \u001b[0mj\u001b[0m \u001b[1;32min\u001b[0m \u001b[0mrange\u001b[0m\u001b[1;33m(\u001b[0m\u001b[1;36m0\u001b[0m\u001b[1;33m,\u001b[0m \u001b[1;36m30\u001b[0m\u001b[1;33m,\u001b[0m \u001b[1;36m10\u001b[0m\u001b[1;33m)\u001b[0m\u001b[1;33m]\u001b[0m\u001b[1;33m\u001b[0m\u001b[1;33m\u001b[0m\u001b[0m\n",
      "\u001b[1;31mModuleNotFoundError\u001b[0m: No module named 'add_parent_to_path'"
     ]
    }
   ],
   "source": [
    "import add_parent_to_path \n",
    "from IPython.core.display import HTML\n",
    "from ipy_table import * \n",
    "\n",
    "example_table =  [[i for i in range(j, j+4)] for j in range(0, 30, 10)] \n",
    "example_table2 = [[i for i in range(j, j+4)] for j in range(100, 140,10)] \n",
    "example_table3 = [[i for i in range(j, j+4)] for j in range(1000, 1050,10)] \n",
    "\n",
    "table = make_table(example_table) \n",
    "table.apply_theme('basic') \n",
    "\n",
    "table2 = make_table(example_table) \n",
    "table2.apply_theme('basic_left') \n",
    "                  \n",
    "# Clear the contents of the upper left corner cell \n",
    "example_table3[0][0]\n",
    "table3 = make_table(example_table3) \n",
    "table3.apply_theme('basic_both')\n"
   ]
  },
  {
   "cell_type": "markdown",
   "metadata": {},
   "source": [
    "# Function to Rescue Deleted Source Code in A Jupyter Notebook "
   ]
  },
  {
   "cell_type": "markdown",
   "metadata": {},
   "source": [
    "inspect.getsourcelines(function) returns a tuple that contains a list of lines of code for the function.\n",
    "It also returns the line of the source file that the code starts on\n",
    "We’re operating in a notebook so the starting line is always 1). \n",
    "\n",
    "We extract the 0th element of the tuple, then join the lines of code into one string.\n",
    "The lines already have '\\n' at the end of them, so we don’t have to add that. \n",
    "\n",
    "Then the IPython function creates a new cell below the current cell and inserts the \n",
    "result of the getsourcelines() function.  "
   ]
  },
  {
   "cell_type": "code",
   "execution_count": null,
   "metadata": {},
   "outputs": [],
   "source": [
    "def rescue_code(function):\n",
    "    \"\"\" \n",
    "    Function to recover code in a Jupyter Notebook that was accidentally deleted.\n",
    "    Call this function AFTER you deleted a function, but still have it in your notebook.\n",
    "    The code is still there, but only in byte code format. \n",
    "\n",
    "    You can recover the function source code as longs as you have not \"CHECKPOINTED\" \n",
    "    the notebook file.\n",
    "    \"\"\"\n",
    "    \n",
    "    import inspect\n",
    "    get_ipython().set_next_input(\"\".join(inspect.getsourcelines(function)[0]))\n",
    "    "
   ]
  },
  {
   "cell_type": "markdown",
   "metadata": {},
   "source": [
    "# Troubleshooting Python"
   ]
  },
  {
   "cell_type": "markdown",
   "metadata": {},
   "source": [
    "## How to Debug Python Path problems\n",
    "\n",
    "Debugging Python path referencing can be confusing.  \n",
    "\n",
    "The best explanation of how Python searches system and user paths is located here:\n",
    "\n",
    "https://stackoverflow.com/questions/897792/where-is-pythons-sys-path-initialized-from/38403654#38403654"
   ]
  },
  {
   "cell_type": "code",
   "execution_count": 46,
   "metadata": {
    "ExecuteTime": {
     "end_time": "2019-07-26T23:46:55.083121Z",
     "start_time": "2019-07-26T23:46:55.079111Z"
    }
   },
   "outputs": [
    {
     "name": "stdout",
     "output_type": "stream",
     "text": [
      "C:\\Anaconda3\\python.exe\n"
     ]
    }
   ],
   "source": [
    "# To locate your Python runtime:\n",
    "\n",
    "import sys\n",
    "print(sys.executable)\n",
    "\n",
    "# example output: >> C:\\Anaconda3\\envs\\quantecon\\python.exe"
   ]
  },
  {
   "cell_type": "code",
   "execution_count": 47,
   "metadata": {
    "ExecuteTime": {
     "end_time": "2019-07-26T23:46:55.644686Z",
     "start_time": "2019-07-26T23:46:55.640164Z"
    }
   },
   "outputs": [
    {
     "data": {
      "text/plain": [
       "'C:\\\\Anaconda3'"
      ]
     },
     "execution_count": 47,
     "metadata": {},
     "output_type": "execute_result"
    }
   ],
   "source": [
    "# To get the name of the virtual environment of this notebook (if any), enter:\n",
    "\n",
    "import sys\n",
    "sys.prefix\n",
    "# E.G.: 'C:\\\\Users\\\\rlysak01\\\\AppData\\\\Local\\\\Continuum\\\\anaconda3'"
   ]
  },
  {
   "cell_type": "code",
   "execution_count": 48,
   "metadata": {
    "ExecuteTime": {
     "end_time": "2019-07-26T23:46:56.286486Z",
     "start_time": "2019-07-26T23:46:56.282477Z"
    },
    "scrolled": true
   },
   "outputs": [
    {
     "data": {
      "text/plain": [
       "'C:\\\\Anaconda3'"
      ]
     },
     "execution_count": 48,
     "metadata": {},
     "output_type": "execute_result"
    }
   ],
   "source": [
    "# Or to get the directory of your virtual environment, type `sys.base_prefix` (for Python 3.6+)\n",
    "sys.base_prefix"
   ]
  },
  {
   "cell_type": "markdown",
   "metadata": {},
   "source": [
    "## Troubleshooting Jupyter: Show Current Python Configuration\n",
    "\n",
    "The \"jupyter troubleshoot\" command at the console provides the following troubleshooting information.\n",
    "\n",
    "Windows System Path Variables:\n",
    "    - $PATH:\n",
    "    - sys.path:\n",
    "    - sys.executable:\n",
    "    - sys.version:\n",
    "    - platform.platform():\n",
    "    - where jupyter:  (is located)\n",
    "\n",
    "pip list:\n",
    "    - List of installed pip packages in the current environment.\n",
    "conda list:\n",
    "    - List of installed packages in current environment (typically at C:\\Anaconda3:)\n",
    "    "
   ]
  },
  {
   "cell_type": "code",
   "execution_count": 49,
   "metadata": {
    "ExecuteTime": {
     "end_time": "2019-07-26T23:47:06.631918Z",
     "start_time": "2019-07-26T23:46:58.655546Z"
    }
   },
   "outputs": [
    {
     "name": "stdout",
     "output_type": "stream",
     "text": [
      "$PATH:\n",
      "\tC:\\Anaconda3\n",
      "\tC:\\Anaconda3\\Library\\mingw-w64\\bin\n",
      "\tC:\\Anaconda3\\Library\\usr\\bin\n",
      "\tC:\\Anaconda3\\Library\\bin\n",
      "\tC:\\Anaconda3\\Scripts\n",
      "\tC:\\Anaconda3\\bin\n",
      "\tC:\\Anaconda3\\condabin\n",
      "\tC:\\Program Files (x86)\\Intel\\Intel(R) Management Engine Components\\iCLS\n",
      "\tC:\\Program Files\\Intel\\Intel(R) Management Engine Components\\iCLS\n",
      "\tC:\\ProgramData\\Oracle\\Java\\javapath\n",
      "\tC:\\WINDOWS\\system32\n",
      "\tC:\\WINDOWS\n",
      "\tC:\\WINDOWS\\System32\\Wbem\n",
      "\tC:\\WINDOWS\\System32\\WindowsPowerShell\\v1.0\n",
      "\tC:\\Program Files (x86)\\Sennheiser\\SoftphoneSDK\n",
      "\tC:\\Program Files (x86)\\Intel\\Intel(R) Management Engine Components\\DAL\n",
      "\tC:\\Program Files\\Intel\\Intel(R) Management Engine Components\\DAL\n",
      "\tC:\\Program Files\\SASHome\\Secure\\ccme4\n",
      "\tC:\\Program Files\\SASHome\\x86\\Secure\\ccme4\n",
      "\tC:\\Program Files\\Intel\\WiFi\\bin\n",
      "\tC:\\Program Files\\Common Files\\Intel\\WirelessCommon\n",
      "\tC:\\Program Files\\Calibre2\n",
      "\tC:\\PROGRA~1\\IBM\\SQLLIB\\BIN\n",
      "\tC:\\PROGRA~1\\IBM\\SQLLIB\\FUNCTION\n",
      "\tC:\\PROGRA~1\\IBM\\SQLLIB\\SAMPLES\\REPL\n",
      "\tC:\\Program Files\\Microsoft SQL Server\\Client SDK\\ODBC\\110\\Tools\\Binn\n",
      "\tC:\\Program Files (x86)\\Microsoft SQL Server\\120\\Tools\\Binn\\ManagementStudio\n",
      "\tC:\\Program Files (x86)\\Microsoft SQL Server\\120\\Tools\\Binn\n",
      "\tC:\\Program Files\\Microsoft SQL Server\\120\\Tools\\Binn\n",
      "\tC:\\Program Files (x86)\\Microsoft SQL Server\\120\\DTS\\Binn\n",
      "\tC:\\Program Files\\Microsoft SQL Server\\120\\DTS\\Binn\n",
      "\tC:\\Users\\rlysak01\\AppData\\Local\\Microsoft\\WindowsApps\n",
      "\tC:\\Anaconda3\n",
      "\tC:\\Users\\rlysak01\\AppData\\Local\\Programs\\Microsoft VS Code\\bin\n",
      "\tC:\\Users\\rlysak01\\AppData\\Local\\Programs\\Git\\cmd\n",
      "\t.\n",
      "\n",
      "sys.path:\n",
      "\tC:\\Anaconda3\\Scripts\n",
      "\tC:\\Anaconda3\\python37.zip\n",
      "\tC:\\Anaconda3\\DLLs\n",
      "\tC:\\Anaconda3\\lib\n",
      "\tC:\\Anaconda3\n",
      "\tC:\\Users\\rlysak01\\AppData\\Roaming\\Python\\Python37\\site-packages\n",
      "\tC:\\Anaconda3\\lib\\site-packages\n",
      "\tC:\\Anaconda3\\lib\\site-packages\\pandas_profiling-2.1.0-py3.7.egg\n",
      "\tC:\\Anaconda3\\lib\\site-packages\\htmlmin-0.1.12-py3.7.egg\n",
      "\tC:\\Anaconda3\\lib\\site-packages\\missingno-0.4.1-py3.7.egg\n",
      "\tC:\\Anaconda3\\lib\\site-packages\\win32\n",
      "\tC:\\Anaconda3\\lib\\site-packages\\win32\\lib\n",
      "\tC:\\Anaconda3\\lib\\site-packages\\Pythonwin\n",
      "\n",
      "sys.executable:\n",
      "\tC:\\Anaconda3\\python.exe\n",
      "\n",
      "sys.version:\n",
      "\t3.7.1 (default, Dec 10 2018, 22:54:23) [MSC v.1915 64 bit (AMD64)]\n",
      "\n",
      "platform.platform():\n",
      "\tWindows-10-10.0.15063-SP0\n",
      "\n",
      "where jupyter:\n",
      "\tC:\\Anaconda3\\Scripts\\jupyter.exe\n",
      "\n",
      "pip list:\n",
      "\tPackage                            Version  \n",
      "\n",
      "\t---------------------------------- ---------\n",
      "\n",
      "\taenum                              2.1.2    \n",
      "\n",
      "\talabaster                          0.7.12   \n",
      "\n",
      "\tanaconda-client                    1.7.2    \n",
      "\n",
      "\tanaconda-navigator                 1.9.6    \n",
      "\n",
      "\tanaconda-project                   0.8.2    \n",
      "\n",
      "\tasn1crypto                         0.24.0   \n",
      "\n",
      "\tastroid                            2.1.0    \n",
      "\n",
      "\tastropy                            3.1      \n",
      "\n",
      "\tatomicwrites                       1.2.1    \n",
      "\n",
      "\tattrs                              18.2.0   \n",
      "\n",
      "\tBabel                              2.6.0    \n",
      "\n",
      "\tbackcall                           0.1.0    \n",
      "\n",
      "\tbackports.os                       0.1.1    \n",
      "\n",
      "\tbackports.shutil-get-terminal-size 1.0.0    \n",
      "\n",
      "\tbeautifulsoup4                     4.6.3    \n",
      "\n",
      "\tbitarray                           0.8.3    \n",
      "\n",
      "\tbkcharts                           0.2      \n",
      "\n",
      "\tblaze                              0.11.3   \n",
      "\n",
      "\tbleach                             3.0.2    \n",
      "\n",
      "\tbokeh                              1.0.2    \n",
      "\n",
      "\tboto                               2.49.0   \n",
      "\n",
      "\tboto3                              1.9.194  \n",
      "\n",
      "\tbotocore                           1.12.194 \n",
      "\n",
      "\tBottleneck                         1.2.1    \n",
      "\n",
      "\tbqplot                             0.11.6   \n",
      "\n",
      "\tbranca                             0.3.1    \n",
      "\n",
      "\tcertifi                            2019.6.16\n",
      "\n",
      "\tcffi                               1.11.5   \n",
      "\n",
      "\tchardet                            3.0.4    \n",
      "\n",
      "\tchart-studio                       1.0.0    \n",
      "\n",
      "\tClick                              7.0      \n",
      "\n",
      "\tcloudpickle                        0.6.1    \n",
      "\n",
      "\tclyent                             1.2.2    \n",
      "\n",
      "\tcolorama                           0.4.1    \n",
      "\n",
      "\tcolorlover                         0.3.0    \n",
      "\n",
      "\tcomtypes                           1.1.7    \n",
      "\n",
      "\tconda                              4.7.8    \n",
      "\n",
      "\tconda-build                        3.17.6   \n",
      "\n",
      "\tconda-package-handling             1.3.10   \n",
      "\n",
      "\tconda-verify                       3.1.1    \n",
      "\n",
      "\tconfuse                            1.0.0    \n",
      "\n",
      "\tcontextlib2                        0.5.5    \n",
      "\n",
      "\tcryptography                       2.4.2    \n",
      "\n",
      "\tcufflinks                          0.16     \n",
      "\n",
      "\tcycler                             0.10.0   \n",
      "\n",
      "\tCython                             0.29.2   \n",
      "\n",
      "\tcytoolz                            0.9.0.1  \n",
      "\n",
      "\tdask                               1.0.0    \n",
      "\n",
      "\tdatashape                          0.5.4    \n",
      "\n",
      "\tdecorator                          4.3.0    \n",
      "\n",
      "\tdefusedxml                         0.5.0    \n",
      "\n",
      "\tdistributed                        1.25.1   \n",
      "\n",
      "\tDjango                             2.2.2    \n",
      "\n",
      "\tdocopt                             0.6.2    \n",
      "\n",
      "\tdocutils                           0.14     \n",
      "\n",
      "\tentrypoints                        0.2.3    \n",
      "\n",
      "\tenvironment-kernels                1.1.1    \n",
      "\n",
      "\tet-xmlfile                         1.0.1    \n",
      "\n",
      "\tfastcache                          1.0.2    \n",
      "\n",
      "\tfilelock                           3.0.10   \n",
      "\n",
      "\tFlask                              1.0.2    \n",
      "\n",
      "\tFlask-Cors                         3.0.7    \n",
      "\n",
      "\tfuture                             0.17.1   \n",
      "\n",
      "\tgevent                             1.3.7    \n",
      "\n",
      "\tgitdb2                             2.0.5    \n",
      "\n",
      "\tGitPython                          2.1.11   \n",
      "\n",
      "\tglob2                              0.6      \n",
      "\n",
      "\tgreenlet                           0.4.15   \n",
      "\n",
      "\th5py                               2.8.0    \n",
      "\n",
      "\theapdict                           1.0.0    \n",
      "\n",
      "\thtml5lib                           1.0.1    \n",
      "\n",
      "\thtmlmin                            0.1.12   \n",
      "\n",
      "\tidna                               2.8      \n",
      "\n",
      "\timageio                            2.4.1    \n",
      "\n",
      "\timagesize                          1.1.0    \n",
      "\n",
      "\timportlib-metadata                 0.6      \n",
      "\n",
      "\tipykernel                          5.1.0    \n",
      "\n",
      "\tipyleaflet                         0.11.1   \n",
      "\n",
      "\tipython                            7.2.0    \n",
      "\n",
      "\tipython-genutils                   0.2.0    \n",
      "\n",
      "\tipywidgets                         7.5.0    \n",
      "\n",
      "\tisort                              4.3.4    \n",
      "\n",
      "\titsdangerous                       1.1.0    \n",
      "\n",
      "\tjdcal                              1.4      \n",
      "\n",
      "\tjedi                               0.13.2   \n",
      "\n",
      "\tJinja2                             2.10     \n",
      "\n",
      "\tjmespath                           0.9.4    \n",
      "\n",
      "\tjsonschema                         3.0.1    \n",
      "\n",
      "\tjupyter                            1.0.0    \n",
      "\n",
      "\tjupyter-client                     5.2.4    \n",
      "\n",
      "\tjupyter-console                    6.0.0    \n",
      "\n",
      "\tjupyter-contrib-core               0.3.3    \n",
      "\n",
      "\tjupyter-contrib-nbextensions       0.5.1    \n",
      "\n",
      "\tjupyter-core                       4.4.0    \n",
      "\n",
      "\tjupyter-nbextensions-configurator  0.4.1    \n",
      "\n",
      "\tjupyterlab                         0.35.3   \n",
      "\n",
      "\tjupyterlab-server                  0.2.0    \n",
      "\n",
      "\tjupyterlab-sql                     0.3.0    \n",
      "\n",
      "\tkeyring                            17.0.0   \n",
      "\n",
      "\tkiwisolver                         1.0.1    \n",
      "\n",
      "\tlazy-object-proxy                  1.3.1    \n",
      "\n",
      "\tlibarchive-c                       2.8      \n",
      "\n",
      "\tllvmlite                           0.26.0   \n",
      "\n",
      "\tlocket                             0.2.0    \n",
      "\n",
      "\tlxml                               4.2.5    \n",
      "\n",
      "\tMarkupSafe                         1.1.0    \n",
      "\n",
      "\tmatplotlib                         3.0.2    \n",
      "\n",
      "\tmccabe                             0.6.1    \n",
      "\n",
      "\tmenuinst                           1.4.14   \n",
      "\n",
      "\tmissingno                          0.4.1    \n",
      "\n",
      "\tmistune                            0.8.4    \n",
      "\n",
      "\tmkl-fft                            1.0.6    \n",
      "\n",
      "\tmkl-random                         1.0.2    \n",
      "\n",
      "\tmore-itertools                     4.3.0    \n",
      "\n",
      "\tmpmath                             1.1.0    \n",
      "\n",
      "\tmsgpack                            0.5.6    \n",
      "\n",
      "\tmultipledispatch                   0.6.0    \n",
      "\n",
      "\tmysql-connector-python             8.0.16   \n",
      "\n",
      "\tnavigator-updater                  0.2.1    \n",
      "\n",
      "\tnb2xls                             0.1.4    \n",
      "\n",
      "\tnbconvert                          5.4.1    \n",
      "\n",
      "\tnbdime                             1.0.6    \n",
      "\n",
      "\tnbformat                           4.4.0    \n",
      "\n",
      "\tnbopen                             0.6      \n",
      "\n",
      "\tnetworkx                           2.2      \n",
      "\n",
      "\tnltk                               3.4      \n",
      "\n",
      "\tnose                               1.3.7    \n",
      "\n",
      "\tnotebook                           5.7.4    \n",
      "\n",
      "\tnumba                              0.41.0   \n",
      "\n",
      "\tnumexpr                            2.6.8    \n",
      "\n",
      "\tnumpy                              1.15.4   \n",
      "\n",
      "\tnumpydoc                           0.8.0    \n",
      "\n",
      "\todo                                0.5.1    \n",
      "\n",
      "\tolefile                            0.46     \n",
      "\n",
      "\topenpyxl                           2.5.12   \n",
      "\n",
      "\tpackage-name                       0.1      \n",
      "\n",
      "\tpackaging                          18.0     \n",
      "\n",
      "\tpandas                             0.23.4   \n",
      "\n",
      "\tpandas-datareader                  0.7.0    \n",
      "\n",
      "\tpandas-profiling                   2.1.0    \n",
      "\n",
      "\tpandas-summary                     0.0.6    \n",
      "\n",
      "\tpandocfilters                      1.4.2    \n",
      "\n",
      "\tparso                              0.3.1    \n",
      "\n",
      "\tpartd                              0.3.9    \n",
      "\n",
      "\tpath.py                            11.5.0   \n",
      "\n",
      "\tpathlib2                           2.3.3    \n",
      "\n",
      "\tpatsy                              0.5.1    \n",
      "\n",
      "\tpep8                               1.7.1    \n",
      "\n",
      "\tphik                               0.9.8    \n",
      "\n",
      "\tpickleshare                        0.7.5    \n",
      "\n",
      "\tPillow                             5.3.0    \n",
      "\n",
      "\tpip                                19.1.1   \n",
      "\n",
      "\tpipreqs                            0.4.9    \n",
      "\n",
      "\tpkginfo                            1.4.2    \n",
      "\n",
      "\tplotly                             3.10.0   \n",
      "\n",
      "\tpluggy                             0.8.0    \n",
      "\n",
      "\tply                                3.11     \n",
      "\n",
      "\tprettypandas                       0.0.4    \n",
      "\n",
      "\tprometheus-client                  0.5.0    \n",
      "\n",
      "\tprompt-toolkit                     2.0.7    \n",
      "\n",
      "\tprotobuf                           3.7.1    \n",
      "\n",
      "\tpsutil                             5.4.8    \n",
      "\n",
      "\tpy                                 1.7.0    \n",
      "\n",
      "\tpy4j                               0.10.7   \n",
      "\n",
      "\tpycodestyle                        2.4.0    \n",
      "\n",
      "\tpycosat                            0.6.3    \n",
      "\n",
      "\tpycparser                          2.19     \n",
      "\n",
      "\tpycrypto                           2.6.1    \n",
      "\n",
      "\tpycurl                             7.43.0.2 \n",
      "\n",
      "\tpyflakes                           2.0.0    \n",
      "\n",
      "\tPygments                           2.3.1    \n",
      "\n",
      "\tpyliferisk                         1.10     \n",
      "\n",
      "\tpylint                             2.2.2    \n",
      "\n",
      "\tpyodbc                             4.0.25   \n",
      "\n",
      "\tpyOpenSSL                          18.0.0   \n",
      "\n",
      "\tpyparsing                          2.3.0    \n",
      "\n",
      "\tPyPika                             0.28.1   \n",
      "\n",
      "\tpypng                              0.0.20   \n",
      "\n",
      "\tpyreadline                         2.1      \n",
      "\n",
      "\tpyrsistent                         0.15.3   \n",
      "\n",
      "\tPySocks                            1.6.8    \n",
      "\n",
      "\tpyspark                            2.4.3    \n",
      "\n",
      "\tpytest                             4.0.2    \n",
      "\n",
      "\tpytest-arraydiff                   0.3      \n",
      "\n",
      "\tpytest-astropy                     0.5.0    \n",
      "\n",
      "\tpytest-doctestplus                 0.2.0    \n",
      "\n",
      "\tpytest-openfiles                   0.3.1    \n",
      "\n",
      "\tpytest-pylint                      0.14.0   \n",
      "\n",
      "\tpytest-remotedata                  0.3.1    \n",
      "\n",
      "\tpython-dateutil                    2.7.5    \n",
      "\n",
      "\tpytz                               2018.7   \n",
      "\n",
      "\tPyWavelets                         1.0.1    \n",
      "\n",
      "\tpywin32                            223      \n",
      "\n",
      "\tpywinauto                          0.6.6    \n",
      "\n",
      "\tpywinpty                           0.5.5    \n",
      "\n",
      "\tPyYAML                             3.13     \n",
      "\n",
      "\tpyzmq                              17.1.2   \n",
      "\n",
      "\tqgrid                              1.1.1    \n",
      "\n",
      "\tQtAwesome                          0.5.3    \n",
      "\n",
      "\tqtconsole                          4.4.3    \n",
      "\n",
      "\tQtPy                               1.5.2    \n",
      "\n",
      "\trequests                           2.21.0   \n",
      "\n",
      "\tretrying                           1.3.3    \n",
      "\n",
      "\trope                               0.11.0   \n",
      "\n",
      "\truamel-yaml                        0.15.46  \n",
      "\n",
      "\ts3transfer                         0.2.1    \n",
      "\n",
      "\tsaspy                              3.1.0    \n",
      "\n",
      "\tscikit-image                       0.14.1   \n",
      "\n",
      "\tscikit-learn                       0.20.1   \n",
      "\n",
      "\tscipy                              1.1.0    \n",
      "\n",
      "\tseaborn                            0.9.0    \n",
      "\n",
      "\tSend2Trash                         1.5.0    \n",
      "\n",
      "\tsetuptools                         40.6.3   \n",
      "\n",
      "\tsimplegeneric                      0.8.1    \n",
      "\n",
      "\tsingledispatch                     3.4.0.3  \n",
      "\n",
      "\tsix                                1.12.0   \n",
      "\n",
      "\tsmmap2                             2.0.5    \n",
      "\n",
      "\tsnowballstemmer                    1.2.1    \n",
      "\n",
      "\tsortedcollections                  1.0.1    \n",
      "\n",
      "\tsortedcontainers                   2.1.0    \n",
      "\n",
      "\tsoupsieve                          1.9.2    \n",
      "\n",
      "\tSphinx                             1.8.2    \n",
      "\n",
      "\tsphinxcontrib-websupport           1.1.0    \n",
      "\n",
      "\tspyder                             3.3.2    \n",
      "\n",
      "\tspyder-kernels                     0.3.0    \n",
      "\n",
      "\tSQLAlchemy                         1.2.15   \n",
      "\n",
      "\tsqlparse                           0.3.0    \n",
      "\n",
      "\tstatsmodels                        0.9.0    \n",
      "\n",
      "\tsympy                              1.3      \n",
      "\n",
      "\ttables                             3.4.4    \n",
      "\n",
      "\ttblib                              1.3.2    \n",
      "\n",
      "\tterminado                          0.8.1    \n",
      "\n",
      "\ttestpath                           0.4.2    \n",
      "\n",
      "\ttoolz                              0.9.0    \n",
      "\n",
      "\ttornado                            5.1.1    \n",
      "\n",
      "\ttqdm                               4.28.1   \n",
      "\n",
      "\ttraitlets                          4.3.2    \n",
      "\n",
      "\ttraittypes                         0.2.1    \n",
      "\n",
      "\tunicodecsv                         0.14.1   \n",
      "\n",
      "\turllib3                            1.24.1   \n",
      "\n",
      "\twcwidth                            0.1.7    \n",
      "\n",
      "\twebencodings                       0.5.1    \n",
      "\n",
      "\tWerkzeug                           0.14.1   \n",
      "\n",
      "\twheel                              0.32.3   \n",
      "\n",
      "\twidgetsnbextension                 3.5.0    \n",
      "\n",
      "\twin-inet-pton                      1.0.1    \n",
      "\n",
      "\twin-unicode-console                0.5      \n",
      "\n",
      "\twincertstore                       0.2      \n",
      "\n",
      "\twrapt                              1.10.11  \n",
      "\n",
      "\txarray                             0.12.3   \n",
      "\n",
      "\txlrd                               1.2.0    \n",
      "\n",
      "\tXlsxWriter                         1.1.2    \n",
      "\n",
      "\txlwings                            0.15.1   \n",
      "\n",
      "\txlwt                               1.3.0    \n",
      "\n",
      "\tyarg                               0.1.9    \n",
      "\n",
      "\tzict                               0.1.3    \n",
      "\n",
      "\tzipp                               0.5.1\n",
      "\n",
      "conda list:\n",
      "\t# packages in environment at C:\\Anaconda3:\n",
      "\n",
      "\t#\n",
      "\n",
      "\t# Name                    Version                   Build  Channel\n",
      "\n",
      "\t_anaconda_depends         2019.03                  py37_0  \n",
      "\n",
      "\t_ipyw_jlab_nb_ext_conf    0.1.0                    py37_0  \n",
      "\n",
      "\taenum                     2.1.2                    pypi_0    pypi\n",
      "\n",
      "\talabaster                 0.7.12                   py37_0  \n",
      "\n",
      "\tanaconda                  custom                   py37_1  \n",
      "\n",
      "\tanaconda-client           1.7.2                    py37_0  \n",
      "\n",
      "\tanaconda-navigator        1.9.6                    py37_0  \n",
      "\n",
      "\tanaconda-project          0.8.2                    py37_0  \n",
      "\n",
      "\tasn1crypto                0.24.0                   py37_0  \n",
      "\n",
      "\tastroid                   2.1.0                    py37_0  \n",
      "\n",
      "\tastropy                   3.1              py37he774522_0  \n",
      "\n",
      "\tatomicwrites              1.2.1                    py37_0  \n",
      "\n",
      "\tattrs                     18.2.0           py37h28b3542_0  \n",
      "\n",
      "\tbabel                     2.6.0                    py37_0  \n",
      "\n",
      "\tbackcall                  0.1.0                    py37_0  \n",
      "\n",
      "\tbackports                 1.0                      py37_1  \n",
      "\n",
      "\tbackports.os              0.1.1                    py37_0  \n",
      "\n",
      "\tbackports.shutil_get_terminal_size 1.0.0                    py37_2  \n",
      "\n",
      "\tbeautifulsoup4            4.6.3                    py37_0    conda-forge\n",
      "\n",
      "\tbitarray                  0.8.3            py37hfa6e2cd_0  \n",
      "\n",
      "\tbkcharts                  0.2                      py37_0  \n",
      "\n",
      "\tblas                      1.0                         mkl  \n",
      "\n",
      "\tblaze                     0.11.3                   py37_0  \n",
      "\n",
      "\tbleach                    3.0.2                    py37_0  \n",
      "\n",
      "\tblosc                     1.14.4               he51fdeb_0  \n",
      "\n",
      "\tbokeh                     1.0.2                    py37_0  \n",
      "\n",
      "\tboto                      2.49.0                   py37_0  \n",
      "\n",
      "\tboto3                     1.9.194                  pypi_0    pypi\n",
      "\n",
      "\tbotocore                  1.12.194                 pypi_0    pypi\n",
      "\n",
      "\tbottleneck                1.2.1            py37h452e1ab_1  \n",
      "\n",
      "\tbqplot                    0.11.6                   pypi_0    pypi\n",
      "\n",
      "\tbranca                    0.3.1                    pypi_0    pypi\n",
      "\n",
      "\tbzip2                     1.0.6                hfa6e2cd_5  \n",
      "\n",
      "\tca-certificates           2019.6.16            hecc5488_0    conda-forge\n",
      "\n",
      "\tcertifi                   2019.6.16                py37_1    conda-forge\n",
      "\n",
      "\tcffi                      1.11.5           py37h74b6da3_1  \n",
      "\n",
      "\tchardet                   3.0.4                    py37_1  \n",
      "\n",
      "\tchart-studio              1.0.0                    pypi_0    pypi\n",
      "\n",
      "\tclick                     7.0                      py37_0  \n",
      "\n",
      "\tcloudpickle               0.6.1                    py37_0  \n",
      "\n",
      "\tclyent                    1.2.2                    py37_1  \n",
      "\n",
      "\tcolorama                  0.4.1                    py37_0  \n",
      "\n",
      "\tcolorlover                0.3.0                    pypi_0    pypi\n",
      "\n",
      "\tcomtypes                  1.1.7                    py37_0  \n",
      "\n",
      "\tconda                     4.7.8                    py37_0    conda-forge\n",
      "\n",
      "\tconda-build               3.17.6                   py37_0  \n",
      "\n",
      "\tconda-env                 2.6.0                         1  \n",
      "\n",
      "\tconda-package-handling    1.3.10                   py37_0    conda-forge\n",
      "\n",
      "\tconda-verify              3.1.1                    py37_0  \n",
      "\n",
      "\tconfuse                   1.0.0                    pypi_0    pypi\n",
      "\n",
      "\tconsole_shortcut          0.1.1                         3  \n",
      "\n",
      "\tcontextlib2               0.5.5                    py37_0  \n",
      "\n",
      "\tcryptography              2.4.2            py37h7a1dbc1_0  \n",
      "\n",
      "\tcufflinks                 0.16                     pypi_0    pypi\n",
      "\n",
      "\tcurl                      7.63.0            h2a8f88b_1000  \n",
      "\n",
      "\tcycler                    0.10.0                   py37_0  \n",
      "\n",
      "\tcython                    0.29.2           py37ha925a31_0  \n",
      "\n",
      "\tcytoolz                   0.9.0.1          py37hfa6e2cd_1    conda-forge\n",
      "\n",
      "\tdask                      1.0.0                    py37_0  \n",
      "\n",
      "\tdask-core                 1.0.0                    py37_0  \n",
      "\n",
      "\tdatashape                 0.5.4                    py37_1  \n",
      "\n",
      "\tdecorator                 4.3.0                    py37_0  \n",
      "\n",
      "\tdefusedxml                0.5.0                    py37_1  \n",
      "\n",
      "\tdistributed               1.25.1                   py37_0  \n",
      "\n",
      "\tdjango                    2.2.2                    py37_0    conda-forge\n",
      "\n",
      "\tdocopt                    0.6.2                      py_1    conda-forge\n",
      "\n",
      "\tdocutils                  0.14                     py37_0  \n",
      "\n",
      "\tentrypoints               0.2.3                    py37_2    conda-forge\n",
      "\n",
      "\tenvironment-kernels       1.1.1                    pypi_0    pypi\n",
      "\n",
      "\tet_xmlfile                1.0.1                    py37_0  \n",
      "\n",
      "\tfastcache                 1.0.2            py37hfa6e2cd_2  \n",
      "\n",
      "\tfilelock                  3.0.10                   py37_0  \n",
      "\n",
      "\tflask                     1.0.2                    py37_1  \n",
      "\n",
      "\tflask-cors                3.0.7                    py37_0  \n",
      "\n",
      "\tfreetype                  2.9.1                ha9979f8_1  \n",
      "\n",
      "\tfuture                    0.17.1                py37_1000    conda-forge\n",
      "\n",
      "\tget_terminal_size         1.0.0                h38e98db_0  \n",
      "\n",
      "\tgevent                    1.3.7            py37he774522_1  \n",
      "\n",
      "\tgitdb2                    2.0.5                      py_0    conda-forge\n",
      "\n",
      "\tgitpython                 2.1.11                     py_0    conda-forge\n",
      "\n",
      "\tglob2                     0.6                      py37_1  \n",
      "\n",
      "\tgreenlet                  0.4.15           py37hfa6e2cd_0    conda-forge\n",
      "\n",
      "\th5py                      2.8.0            py37h3bdd7fb_2  \n",
      "\n",
      "\thdf5                      1.10.2               hac2f561_1  \n",
      "\n",
      "\theapdict                  1.0.0                    py37_2  \n",
      "\n",
      "\thtml5lib                  1.0.1                    py37_0  \n",
      "\n",
      "\thtmlmin                   0.1.12                     py_1    conda-forge\n",
      "\n",
      "\ticc_rt                    2019.0.0             h0cc432a_1  \n",
      "\n",
      "\ticu                       58.2                 ha66f8fd_1  \n",
      "\n",
      "\tidna                      2.8                      py37_0  \n",
      "\n",
      "\timageio                   2.4.1                    py37_0    conda-forge\n",
      "\n",
      "\timagesize                 1.1.0                    py37_0  \n",
      "\n",
      "\timportlib_metadata        0.6                      py37_0    conda-forge\n",
      "\n",
      "\tintel-openmp              2019.1                      144  \n",
      "\n",
      "\tipykernel                 5.1.0            py37h39e3cac_0  \n",
      "\n",
      "\tipyleaflet                0.11.1                   pypi_0    pypi\n",
      "\n",
      "\tipython                   7.2.0            py37h39e3cac_0  \n",
      "\n",
      "\tipython_genutils          0.2.0                    py37_0  \n",
      "\n",
      "\tipywidgets                7.5.0                      py_0    conda-forge\n",
      "\n",
      "\tisort                     4.3.4                    py37_0    conda-forge\n",
      "\n",
      "\titsdangerous              1.1.0                    py37_0  \n",
      "\n",
      "\tjdcal                     1.4                      py37_0  \n",
      "\n",
      "\tjedi                      0.13.2                   py37_0  \n",
      "\n",
      "\tjinja2                    2.10                     py37_0  \n",
      "\n",
      "\tjmespath                  0.9.4                    pypi_0    pypi\n",
      "\n",
      "\tjpeg                      9b                   hb83a4c4_2  \n",
      "\n",
      "\tjsonschema                3.0.1                    pypi_0    pypi\n",
      "\n",
      "\tjupyter                   1.0.0                    py37_7  \n",
      "\n",
      "\tjupyter_client            5.2.4                    py37_0  \n",
      "\n",
      "\tjupyter_console           6.0.0                    py37_0  \n",
      "\n",
      "\tjupyter_contrib_core      0.3.3                      py_2    conda-forge\n",
      "\n",
      "\tjupyter_core              4.4.0                    py37_0  \n",
      "\n",
      "\tjupyter_nbextensions_configurator 0.4.1                    py37_0    conda-forge\n",
      "\n",
      "\tjupyterlab                0.35.3                   py37_0    conda-forge\n",
      "\n",
      "\tjupyterlab-sql            0.3.0                    pypi_0    pypi\n",
      "\n",
      "\tjupyterlab_server         0.2.0                    py37_0  \n",
      "\n",
      "\tkeyring                   17.0.0                   py37_0  \n",
      "\n",
      "\tkiwisolver                1.0.1            py37h6538335_0  \n",
      "\n",
      "\tkrb5                      1.16.1               hc04afaa_7  \n",
      "\n",
      "\tlazy-object-proxy         1.3.1            py37hfa6e2cd_2  \n",
      "\n",
      "\tlibarchive                3.3.3                h0643e63_5  \n",
      "\n",
      "\tlibcurl                   7.63.0            h2a8f88b_1000  \n",
      "\n",
      "\tlibiconv                  1.15                 h1df5818_7  \n",
      "\n",
      "\tliblief                   0.9.0                ha925a31_2  \n",
      "\n",
      "\tlibpng                    1.6.35               h2a8f88b_0  \n",
      "\n",
      "\tlibprotobuf               3.7.1                h1a1b453_0    conda-forge\n",
      "\n",
      "\tlibsodium                 1.0.16               h9d3ae62_0  \n",
      "\n",
      "\tlibssh2                   1.8.0                h7a1dbc1_4  \n",
      "\n",
      "\tlibtiff                   4.0.9                h36446d0_2  \n",
      "\n",
      "\tlibxml2                   2.9.8                hadb2253_1  \n",
      "\n",
      "\tlibxslt                   1.1.32               hf6f1972_0  \n",
      "\n",
      "\tllvmlite                  0.26.0           py37ha925a31_0  \n",
      "\n",
      "\tlocket                    0.2.0                    py37_1  \n",
      "\n",
      "\tlxml                      4.2.5            py37hef2cd61_0  \n",
      "\n",
      "\tlz4-c                     1.8.1.2              h2fa13f4_0  \n",
      "\n",
      "\tlzo                       2.10                 h6df0209_2  \n",
      "\n",
      "\tm2w64-gcc-libgfortran     5.3.0                         6  \n",
      "\n",
      "\tm2w64-gcc-libs            5.3.0                         7  \n",
      "\n",
      "\tm2w64-gcc-libs-core       5.3.0                         7  \n",
      "\n",
      "\tm2w64-gmp                 6.1.0                         2  \n",
      "\n",
      "\tm2w64-libwinpthread-git   5.0.0.4634.697f757               2  \n",
      "\n",
      "\tmarkupsafe                1.1.0            py37he774522_0  \n",
      "\n",
      "\tmatplotlib                3.0.2            py37hc8f65d3_0  \n",
      "\n",
      "\tmccabe                    0.6.1                    py37_1  \n",
      "\n",
      "\tmenuinst                  1.4.14           py37hfa6e2cd_0  \n",
      "\n",
      "\tmissingno                 0.4.1                    pypi_0    pypi\n",
      "\n",
      "\tmistune                   0.8.4            py37he774522_0  \n",
      "\n",
      "\tmkl                       2019.1                      144  \n",
      "\n",
      "\tmkl-service               1.1.2            py37hb782905_5  \n",
      "\n",
      "\tmkl_fft                   1.0.6            py37h6288b17_0  \n",
      "\n",
      "\tmkl_random                1.0.2            py37h343c172_0  \n",
      "\n",
      "\tmore-itertools            4.3.0                    py37_0  \n",
      "\n",
      "\tmpmath                    1.1.0                    py37_0  \n",
      "\n",
      "\tmsgpack-python            0.5.6            py37he980bc4_1  \n",
      "\n",
      "\tmsys2-conda-epoch         20160418                      1  \n",
      "\n",
      "\tmultipledispatch          0.6.0                    py37_0  \n",
      "\n",
      "\tmysql-connector-c         6.1.11            he025d50_1002    conda-forge\n",
      "\n",
      "\tmysql-connector-python    8.0.16           py37h36b24e5_0    conda-forge\n",
      "\n",
      "\tnavigator-updater         0.2.1                    py37_0  \n",
      "\n",
      "\tnb2xls                    0.1.4                    pypi_0    pypi\n",
      "\n",
      "\tnbconvert                 5.4.0                    py37_1  \n",
      "\n",
      "\tnbdime                    1.0.6                    py37_0    conda-forge\n",
      "\n",
      "\tnbformat                  4.4.0                    py37_0  \n",
      "\n",
      "\tnbopen                    0.6                      pypi_0    pypi\n",
      "\n",
      "\tnetworkx                  2.2                      py37_1  \n",
      "\n",
      "\tnltk                      3.4                      py37_1  \n",
      "\n",
      "\tnose                      1.3.7                    py37_2    conda-forge\n",
      "\n",
      "\tnotebook                  5.7.4                    py37_0  \n",
      "\n",
      "\tnumba                     0.41.0           py37hf9181ef_0  \n",
      "\n",
      "\tnumexpr                   2.6.8            py37hdce8814_0  \n",
      "\n",
      "\tnumpy                     1.15.4           py37h19fb1c0_0  \n",
      "\n",
      "\tnumpy-base                1.15.4           py37hc3f5095_0  \n",
      "\n",
      "\tnumpydoc                  0.8.0                    py37_0  \n",
      "\n",
      "\todo                       0.5.1                    py37_0  \n",
      "\n",
      "\tolefile                   0.46                     py37_0  \n",
      "\n",
      "\topenpyxl                  2.5.12                   py37_0  \n",
      "\n",
      "\topenssl                   1.1.1c               hfa6e2cd_0    conda-forge\n",
      "\n",
      "\tpackage-name              0.1                      pypi_0    pypi\n",
      "\n",
      "\tpackaging                 18.0                     py37_0  \n",
      "\n",
      "\tpandas                    0.23.4           py37h830ac7b_0    conda-forge\n",
      "\n",
      "\tpandas-datareader         0.7.0                    pypi_0    pypi\n",
      "\n",
      "\tpandas-profiling          2.1.0                    pypi_0    pypi\n",
      "\n",
      "\tpandas-summary            0.0.6                    pypi_0    pypi\n",
      "\n",
      "\tpandoc                    1.19.2.1             hb2460c7_1  \n",
      "\n",
      "\tpandocfilters             1.4.2                    py37_1  \n",
      "\n",
      "\tparso                     0.3.1                    py37_0  \n",
      "\n",
      "\tpartd                     0.3.9                    py37_0  \n",
      "\n",
      "\tpath.py                   11.5.0                   py37_0  \n",
      "\n",
      "\tpathlib2                  2.3.3                    py37_0  \n",
      "\n",
      "\tpatsy                     0.5.1                    py37_0  \n",
      "\n",
      "\tpep8                      1.7.1                    py37_0  \n",
      "\n",
      "\tphik                      0.9.8                    pypi_0    pypi\n",
      "\n",
      "\tpickleshare               0.7.5                    py37_0  \n",
      "\n",
      "\tpillow                    5.3.0            py37hdc69c19_0  \n",
      "\n",
      "\tpip                       19.1.1                   pypi_0    pypi\n",
      "\n",
      "\tpipreqs                   0.4.9                      py_0    conda-forge\n",
      "\n",
      "\tpkginfo                   1.4.2                    py37_1  \n",
      "\n",
      "\tplotly                    3.10.0                   pypi_0    pypi\n",
      "\n",
      "\tpluggy                    0.8.0                    py37_0  \n",
      "\n",
      "\tply                       3.11                     py37_0  \n",
      "\n",
      "\tpowershell_shortcut       0.0.1                         2  \n",
      "\n",
      "\tprettypandas              0.0.4                    pypi_0    pypi\n",
      "\n",
      "\tprometheus_client         0.5.0                    py37_0  \n",
      "\n",
      "\tprompt_toolkit            2.0.7                    py37_0  \n",
      "\n",
      "\tprotobuf                  3.7.1            py37he025d50_0    conda-forge\n",
      "\n",
      "\tpsutil                    5.4.8            py37he774522_0  \n",
      "\n",
      "\tpy                        1.7.0                    py37_0  \n",
      "\n",
      "\tpy-lief                   0.9.0            py37ha925a31_2  \n",
      "\n",
      "\tpy4j                      0.10.7                   pypi_0    pypi\n",
      "\n",
      "\tpycodestyle               2.4.0                    py37_0  \n",
      "\n",
      "\tpycosat                   0.6.3            py37hfa6e2cd_0  \n",
      "\n",
      "\tpycparser                 2.19                     py37_0  \n",
      "\n",
      "\tpycrypto                  2.6.1            py37hfa6e2cd_9  \n",
      "\n",
      "\tpycurl                    7.43.0.2         py37h7a1dbc1_0  \n",
      "\n",
      "\tpyflakes                  2.0.0                    py37_0  \n",
      "\n",
      "\tpygments                  2.3.1                    py37_0  \n",
      "\n",
      "\tpyliferisk                1.10                     pypi_0    pypi\n",
      "\n",
      "\tpylint                    2.2.2                    py37_0  \n",
      "\n",
      "\tpyodbc                    4.0.25           py37ha925a31_0  \n",
      "\n",
      "\tpyopenssl                 18.0.0                   py37_0    conda-forge\n",
      "\n",
      "\tpyparsing                 2.3.0                    py37_0  \n",
      "\n",
      "\tpypika                    0.28.1                   pypi_0    pypi\n",
      "\n",
      "\tpypng                     0.0.20                   pypi_0    pypi\n",
      "\n",
      "\tpyqt                      5.9.2            py37h6538335_2  \n",
      "\n",
      "\tpyreadline                2.1                   py37_1000    conda-forge\n",
      "\n",
      "\tpyrsistent                0.15.3           py37hfa6e2cd_0    conda-forge\n",
      "\n",
      "\tpysocks                   1.6.8                    py37_0  \n",
      "\n",
      "\tpyspark                   2.4.3                    pypi_0    pypi\n",
      "\n",
      "\tpytables                  3.4.4            py37he6f6034_0  \n",
      "\n",
      "\tpytest                    4.0.2                    py37_0  \n",
      "\n",
      "\tpytest-arraydiff          0.3              py37h39e3cac_0  \n",
      "\n",
      "\tpytest-astropy            0.5.0                    py37_0  \n",
      "\n",
      "\tpytest-doctestplus        0.2.0                    py37_0  \n",
      "\n",
      "\tpytest-openfiles          0.3.1                    py37_0  \n",
      "\n",
      "\tpytest-pylint             0.14.0                   pypi_0    pypi\n",
      "\n",
      "\tpytest-remotedata         0.3.1                    py37_0  \n",
      "\n",
      "\tpython                    3.7.1                h8c8aaf0_6  \n",
      "\n",
      "\tpython-dateutil           2.7.5                    py37_0  \n",
      "\n",
      "\tpython-libarchive-c       2.8                      py37_6  \n",
      "\n",
      "\tpytz                      2018.7                   py37_0  \n",
      "\n",
      "\tpywavelets                1.0.1            py37h8c2d366_0  \n",
      "\n",
      "\tpywin32                   223              py37hfa6e2cd_1  \n",
      "\n",
      "\tpywinauto                 0.6.6                    pypi_0    pypi\n",
      "\n",
      "\tpywinpty                  0.5.5                 py37_1000    conda-forge\n",
      "\n",
      "\tpyyaml                    3.13             py37hfa6e2cd_0    conda-forge\n",
      "\n",
      "\tpyzmq                     17.1.2           py37hfa6e2cd_0  \n",
      "\n",
      "\tqgrid                     1.1.1                    pypi_0    pypi\n",
      "\n",
      "\tqt                        5.9.7            vc14h73c81de_0  [vc14]\n",
      "\n",
      "\tqtawesome                 0.5.3                    py37_0  \n",
      "\n",
      "\tqtconsole                 4.4.3                    py37_0  \n",
      "\n",
      "\tqtpy                      1.5.2                    py37_0  \n",
      "\n",
      "\trequests                  2.21.0                   py37_0  \n",
      "\n",
      "\tretrying                  1.3.3                    pypi_0    pypi\n",
      "\n",
      "\trope                      0.11.0                   py37_0  \n",
      "\n",
      "\truamel_yaml               0.15.46          py37hfa6e2cd_0  \n",
      "\n",
      "\ts3transfer                0.2.1                    pypi_0    pypi\n",
      "\n",
      "\tsaspy                     3.1.0                      py_0    conda-forge\n",
      "\n",
      "\tscikit-image              0.14.1           py37ha925a31_0  \n",
      "\n",
      "\tscikit-learn              0.20.1           py37h343c172_0  \n",
      "\n",
      "\tscipy                     1.1.0            py37h29ff71c_2  \n",
      "\n",
      "\tseaborn                   0.9.0                    py37_0  \n",
      "\n",
      "\tsend2trash                1.5.0                    py37_0  \n",
      "\n",
      "\tsetuptools                40.6.3                   py37_0    conda-forge\n",
      "\n",
      "\tsimplegeneric             0.8.1                    py37_2  \n",
      "\n",
      "\tsingledispatch            3.4.0.3                  py37_0  \n",
      "\n",
      "\tsip                       4.19.8           py37h6538335_0    conda-forge\n",
      "\n",
      "\tsix                       1.12.0                   py37_0  \n",
      "\n",
      "\tsmmap2                    2.0.5                      py_0    conda-forge\n",
      "\n",
      "\tsnappy                    1.1.7                h777316e_3  \n",
      "\n",
      "\tsnowballstemmer           1.2.1                    py37_0  \n",
      "\n",
      "\tsortedcollections         1.0.1                    py37_0  \n",
      "\n",
      "\tsortedcontainers          2.1.0                    py37_0  \n",
      "\n",
      "\tsoupsieve                 1.9.2                    py37_0    conda-forge\n",
      "\n",
      "\tsphinx                    1.8.2                    py37_0  \n",
      "\n",
      "\tsphinxcontrib             1.0                      py37_1  \n",
      "\n",
      "\tsphinxcontrib-websupport  1.1.0                    py37_1  \n",
      "\n",
      "\tspyder                    3.3.2                    py37_0  \n",
      "\n",
      "\tspyder-kernels            0.3.0                    py37_0  \n",
      "\n",
      "\tsqlalchemy                1.2.15           py37he774522_0  \n",
      "\n",
      "\tsqlite                    3.26.0               he774522_0  \n",
      "\n",
      "\tsqlparse                  0.3.0                      py_0    conda-forge\n",
      "\n",
      "\tstatsmodels               0.9.0            py37h452e1ab_0  \n",
      "\n",
      "\tsympy                     1.3                      py37_0    conda-forge\n",
      "\n",
      "\ttblib                     1.3.2                    py37_0  \n",
      "\n",
      "\tterminado                 0.8.1                    py37_1    conda-forge\n",
      "\n",
      "\ttestpath                  0.4.2                    py37_0  \n",
      "\n",
      "\ttk                        8.6.8                hfa6e2cd_0    conda-forge\n",
      "\n",
      "\ttoolz                     0.9.0                    py37_0  \n",
      "\n",
      "\ttornado                   5.1.1            py37hfa6e2cd_0  \n",
      "\n",
      "\ttqdm                      4.28.1           py37h28b3542_0  \n",
      "\n",
      "\ttraitlets                 4.3.2                    py37_0    conda-forge\n",
      "\n",
      "\ttraittypes                0.2.1                    pypi_0    pypi\n",
      "\n",
      "\tunicodecsv                0.14.1                   py37_0  \n",
      "\n",
      "\turllib3                   1.24.1                   py37_0  \n",
      "\n",
      "\tvc                        14.1                 h0510ff6_4  \n",
      "\n",
      "\tvs2015_runtime            14.15.26706          h3a45250_0  \n",
      "\n",
      "\twcwidth                   0.1.7                    py37_0  \n",
      "\n",
      "\twebencodings              0.5.1                    py37_1  \n",
      "\n",
      "\twerkzeug                  0.14.1                   py37_0  \n",
      "\n",
      "\twheel                     0.32.3                   py37_0    conda-forge\n",
      "\n",
      "\twidgetsnbextension        3.5.0                    py37_0    conda-forge\n",
      "\n",
      "\twin_inet_pton             1.0.1                    py37_1  \n",
      "\n",
      "\twin_unicode_console       0.5                      py37_0    conda-forge\n",
      "\n",
      "\twincertstore              0.2                      py37_0  \n",
      "\n",
      "\twinpty                    0.4.3                         4    conda-forge\n",
      "\n",
      "\twrapt                     1.10.11          py37hfa6e2cd_2  \n",
      "\n",
      "\txarray                    0.12.3                   pypi_0    pypi\n",
      "\n",
      "\txlrd                      1.2.0                    py37_0  \n",
      "\n",
      "\txlsxwriter                1.1.2                    py37_0  \n",
      "\n",
      "\txlwings                   0.15.1                   py37_0    conda-forge\n",
      "\n",
      "\txlwt                      1.3.0                    py37_0  \n",
      "\n",
      "\txz                        5.2.4                h2fa13f4_4  \n",
      "\n",
      "\tyaml                      0.1.7                hc54c509_2  \n",
      "\n",
      "\tyarg                      0.1.9                      py_1    conda-forge\n",
      "\n",
      "\tzeromq                    4.2.5                he025d50_1  \n",
      "\n",
      "\tzict                      0.1.3                    py37_0  \n",
      "\n",
      "\tzipp                      0.5.1                      py_0    conda-forge\n",
      "\n",
      "\tzlib                      1.2.11               h62dcd97_3  \n",
      "\n",
      "\tzstd                      1.3.7                h508b16e_0\n"
     ]
    }
   ],
   "source": [
    "!jupyter troubleshoot"
   ]
  },
  {
   "cell_type": "markdown",
   "metadata": {},
   "source": [
    "## Troubleshooting Conda, Anaconda, or PIP installation errors:"
   ]
  },
  {
   "cell_type": "markdown",
   "metadata": {},
   "source": [
    "## Disable Certificate Verification for Http proxy servers errors (conda and pip)"
   ]
  },
  {
   "cell_type": "markdown",
   "metadata": {},
   "source": [
    "### Conda HTTP errors - Solution 1:"
   ]
  },
  {
   "cell_type": "code",
   "execution_count": 52,
   "metadata": {
    "ExecuteTime": {
     "end_time": "2019-07-26T23:47:34.537857Z",
     "start_time": "2019-07-26T23:47:33.881027Z"
    }
   },
   "outputs": [],
   "source": [
    "### Turn off SSL verification:\n",
    "\n",
    "!conda config --set ssl_verify no"
   ]
  },
  {
   "cell_type": "markdown",
   "metadata": {},
   "source": [
    "### pip HTTP Errors - Solution 2:\\\n",
    "\n",
    "Install a package by turning off certification checking.  \n",
    "\n",
    "Here is the syntax."
   ]
  },
  {
   "cell_type": "code",
   "execution_count": 19,
   "metadata": {
    "ExecuteTime": {
     "end_time": "2019-07-26T23:47:47.697359Z",
     "start_time": "2019-07-26T23:47:44.775668Z"
    }
   },
   "outputs": [
    {
     "name": "stdout",
     "output_type": "stream",
     "text": [
      "Requirement already satisfied: PACKAGE_NAME in c:\\programdata\\anaconda3\\envs\\my_hranalytics\\lib\\site-packages (0.1)\n"
     ]
    }
   ],
   "source": [
    "!pip install --trusted-host pypi.org --trusted-host files.pythonhosted.org  PACKAGE_NAME"
   ]
  },
  {
   "cell_type": "code",
   "execution_count": 17,
   "metadata": {},
   "outputs": [],
   "source": [
    "new_package_location = r'c:\\users\\rlysakow\\appdata\\local\\pip\\cache\\wheels\\aa\\56\\2f\\2bf8ec875b1c71660b2692b4aab073132abc78ac076140489b'"
   ]
  },
  {
   "cell_type": "code",
   "execution_count": 18,
   "metadata": {},
   "outputs": [
    {
     "ename": "TypeError",
     "evalue": "getcwd() takes no arguments (1 given)",
     "output_type": "error",
     "traceback": [
      "\u001b[1;31m---------------------------------------------------------------------------\u001b[0m",
      "\u001b[1;31mTypeError\u001b[0m                                 Traceback (most recent call last)",
      "\u001b[1;32m<ipython-input-18-40cc23416cf2>\u001b[0m in \u001b[0;36m<module>\u001b[1;34m\u001b[0m\n\u001b[1;32m----> 1\u001b[1;33m \u001b[0mopen_WinExplorer\u001b[0m\u001b[1;33m(\u001b[0m\u001b[0mos\u001b[0m\u001b[1;33m.\u001b[0m\u001b[0mgetcwd\u001b[0m\u001b[1;33m(\u001b[0m\u001b[0mnew_package_location\u001b[0m\u001b[1;33m)\u001b[0m\u001b[1;33m)\u001b[0m\u001b[1;33m\u001b[0m\u001b[1;33m\u001b[0m\u001b[0m\n\u001b[0m",
      "\u001b[1;31mTypeError\u001b[0m: getcwd() takes no arguments (1 given)"
     ]
    }
   ],
   "source": [
    "open_WinExplorer(os.getcwd(new_package_location))"
   ]
  },
  {
   "cell_type": "markdown",
   "metadata": {},
   "source": [
    "# Show Versions of Python Packages Being Used"
   ]
  },
  {
   "cell_type": "code",
   "execution_count": 4,
   "metadata": {
    "ExecuteTime": {
     "end_time": "2019-08-09T07:14:37.080970Z",
     "start_time": "2019-08-09T07:14:37.072967Z"
    }
   },
   "outputs": [
    {
     "ename": "ModuleNotFoundError",
     "evalue": "No module named 'pyodbc'",
     "output_type": "error",
     "traceback": [
      "\u001b[1;31m---------------------------------------------------------------------------\u001b[0m",
      "\u001b[1;31mModuleNotFoundError\u001b[0m                       Traceback (most recent call last)",
      "\u001b[1;32m<ipython-input-4-8f980936e5a1>\u001b[0m in \u001b[0;36m<module>\u001b[1;34m\u001b[0m\n\u001b[1;32m----> 1\u001b[1;33m \u001b[1;32mimport\u001b[0m \u001b[0mpyodbc\u001b[0m\u001b[1;33m\u001b[0m\u001b[1;33m\u001b[0m\u001b[0m\n\u001b[0m\u001b[0;32m      2\u001b[0m \u001b[1;32mimport\u001b[0m \u001b[0msys\u001b[0m\u001b[1;33m\u001b[0m\u001b[1;33m\u001b[0m\u001b[0m\n\u001b[0;32m      3\u001b[0m \u001b[1;32mimport\u001b[0m \u001b[0mpandas\u001b[0m \u001b[1;32mas\u001b[0m \u001b[0mpd\u001b[0m\u001b[1;33m\u001b[0m\u001b[1;33m\u001b[0m\u001b[0m\n\u001b[0;32m      4\u001b[0m \u001b[1;32mimport\u001b[0m \u001b[0mnumpy\u001b[0m \u001b[1;32mas\u001b[0m \u001b[0mnp\u001b[0m\u001b[1;33m\u001b[0m\u001b[1;33m\u001b[0m\u001b[0m\n\u001b[0;32m      5\u001b[0m \u001b[1;32mimport\u001b[0m \u001b[0msqlalchemy\u001b[0m\u001b[1;33m\u001b[0m\u001b[1;33m\u001b[0m\u001b[0m\n",
      "\u001b[1;31mModuleNotFoundError\u001b[0m: No module named 'pyodbc'"
     ]
    }
   ],
   "source": [
    "import pyodbc\n",
    "import sys\n",
    "import pandas as pd\n",
    "import numpy as np\n",
    "import sqlalchemy"
   ]
  },
  {
   "cell_type": "markdown",
   "metadata": {},
   "source": [
    "Return the Python, PyODBC, Pandas, Numpy, SQLAlchemy versions being used since the database library drivers need to be properly aligned."
   ]
  },
  {
   "cell_type": "code",
   "execution_count": 1,
   "metadata": {
    "ExecuteTime": {
     "end_time": "2019-08-09T07:11:38.621557Z",
     "start_time": "2019-08-09T07:11:38.545558Z"
    }
   },
   "outputs": [
    {
     "ename": "NameError",
     "evalue": "name 'sys' is not defined",
     "output_type": "error",
     "traceback": [
      "\u001b[1;31m---------------------------------------------------------------------------\u001b[0m",
      "\u001b[1;31mNameError\u001b[0m                                 Traceback (most recent call last)",
      "\u001b[1;32m<ipython-input-1-c9469c09a765>\u001b[0m in \u001b[0;36m<module>\u001b[1;34m\u001b[0m\n\u001b[1;32m----> 1\u001b[1;33m \u001b[0mprint\u001b[0m\u001b[1;33m(\u001b[0m\u001b[1;34m'Python version '\u001b[0m \u001b[1;33m+\u001b[0m \u001b[0msys\u001b[0m\u001b[1;33m.\u001b[0m\u001b[0mversion\u001b[0m\u001b[1;33m)\u001b[0m\u001b[1;33m\u001b[0m\u001b[1;33m\u001b[0m\u001b[0m\n\u001b[0m\u001b[0;32m      2\u001b[0m \u001b[0mprint\u001b[0m\u001b[1;33m(\u001b[0m\u001b[1;34m'Pandas version '\u001b[0m \u001b[1;33m+\u001b[0m \u001b[0mpd\u001b[0m\u001b[1;33m.\u001b[0m\u001b[0m__version__\u001b[0m\u001b[1;33m)\u001b[0m\u001b[1;33m\u001b[0m\u001b[1;33m\u001b[0m\u001b[0m\n\u001b[0;32m      3\u001b[0m \u001b[0mprint\u001b[0m\u001b[1;33m(\u001b[0m\u001b[1;34m'PyODBC version '\u001b[0m \u001b[1;33m+\u001b[0m \u001b[0mpyodbc\u001b[0m\u001b[1;33m.\u001b[0m\u001b[0mversion\u001b[0m\u001b[1;33m)\u001b[0m\u001b[1;33m\u001b[0m\u001b[1;33m\u001b[0m\u001b[0m\n\u001b[0;32m      4\u001b[0m \u001b[0mprint\u001b[0m\u001b[1;33m(\u001b[0m\u001b[1;34m'Numpy version  '\u001b[0m \u001b[1;33m+\u001b[0m \u001b[0mnp\u001b[0m\u001b[1;33m.\u001b[0m\u001b[0m__version__\u001b[0m\u001b[1;33m)\u001b[0m\u001b[1;33m\u001b[0m\u001b[1;33m\u001b[0m\u001b[0m\n\u001b[0;32m      5\u001b[0m \u001b[0mprint\u001b[0m\u001b[1;33m(\u001b[0m\u001b[1;34m'SQLAlchemy version '\u001b[0m \u001b[1;33m+\u001b[0m \u001b[0msqlalchemy\u001b[0m\u001b[1;33m.\u001b[0m\u001b[0m__version__\u001b[0m\u001b[1;33m)\u001b[0m\u001b[1;33m\u001b[0m\u001b[1;33m\u001b[0m\u001b[0m\n",
      "\u001b[1;31mNameError\u001b[0m: name 'sys' is not defined"
     ]
    }
   ],
   "source": [
    "print('Python version ' + sys.version)\n",
    "print('Pandas version ' + pd.__version__)\n",
    "print('PyODBC version ' + pyodbc.version)\n",
    "print('Numpy version  ' + np.__version__)\n",
    "print('SQLAlchemy version ' + sqlalchemy.__version__)"
   ]
  },
  {
   "cell_type": "markdown",
   "metadata": {},
   "source": [
    "# Here's How To Check Whether a Package is Installed"
   ]
  },
  {
   "cell_type": "code",
   "execution_count": 2,
   "metadata": {
    "ExecuteTime": {
     "end_time": "2019-08-09T07:12:20.143725Z",
     "start_time": "2019-08-09T07:12:20.137601Z"
    }
   },
   "outputs": [],
   "source": [
    "import importlib.util\n",
    "import sys\n",
    "\n",
    "# For illustrative purposes.\n",
    "package_name = 'pandas'\n",
    "\n",
    "spec = importlib.util.find_spec(package_name)\n",
    "if spec is None:\n",
    "    print(package_name +\" is not installed\")"
   ]
  },
  {
   "cell_type": "markdown",
   "metadata": {
    "ExecuteTime": {
     "end_time": "2019-08-09T07:13:02.421350Z",
     "start_time": "2019-08-09T07:13:02.417308Z"
    }
   },
   "source": [
    "According to :  https://stackoverflow.com/questions/1051254/check-if-python-package-is-installed\n",
    "\n",
    "Be careful with the method above. If package name contains dashes, find_spec() cannot find it unless you use dots. Example: importlib.util.find_spec('google-cloud-logging') finds nothing while importlib.util.find_spec('google.cloud.logging') is found. The official name and name that pip shows is with dashes, not dots. Might be confusing therefore use with caution. \n",
    "Dwich May 7 2019"
   ]
  },
  {
   "cell_type": "markdown",
   "metadata": {},
   "source": [
    "# Troubleshooting Conda Problems\n",
    "\n",
    "If you ever have to troubleshoot conda, the first place to start is conda config --show."
   ]
  },
  {
   "cell_type": "code",
   "execution_count": 56,
   "metadata": {
    "ExecuteTime": {
     "end_time": "2019-07-26T23:48:08.401381Z",
     "start_time": "2019-07-26T23:48:07.737275Z"
    }
   },
   "outputs": [
    {
     "name": "stdout",
     "output_type": "stream",
     "text": [
      "add_anaconda_token: True\n",
      "add_pip_as_python_dependency: True\n",
      "aggressive_update_packages:\n",
      "  - ca-certificates\n",
      "  - certifi\n",
      "  - openssl\n",
      "allow_conda_downgrades: False\n",
      "allow_cycles: True\n",
      "allow_non_channel_urls: False\n",
      "allow_softlinks: False\n",
      "always_copy: False\n",
      "always_softlink: False\n",
      "always_yes: None\n",
      "anaconda_upload: None\n",
      "auto_activate_base: True\n",
      "auto_update_conda: True\n",
      "bld_path: \n",
      "changeps1: True\n",
      "channel_alias: https://conda.anaconda.org\n",
      "channel_priority: flexible\n",
      "channels:\n",
      "  - conda-forge\n",
      "  - defaults\n",
      "client_ssl_cert: None\n",
      "client_ssl_cert_key: None\n",
      "clobber: False\n",
      "conda_build: {}\n",
      "create_default_packages: []\n",
      "croot: C:\\Anaconda3\\conda-bld\n",
      "custom_channels:\n",
      "  pkgs/main: https://repo.anaconda.com\n",
      "  pkgs/r: https://repo.anaconda.com\n",
      "  pkgs/msys2: https://repo.anaconda.com\n",
      "  pkgs/pro: https://repo.anaconda.com\n",
      "custom_multichannels:\n",
      "  defaults: \n",
      "    - https://repo.anaconda.com/pkgs/main\n",
      "    - https://repo.anaconda.com/pkgs/r\n",
      "    - https://repo.anaconda.com/pkgs/msys2\n",
      "  local: \n",
      "debug: False\n",
      "default_channels:\n",
      "  - https://repo.anaconda.com/pkgs/main\n",
      "  - https://repo.anaconda.com/pkgs/r\n",
      "  - https://repo.anaconda.com/pkgs/msys2\n",
      "default_python: 3.7\n",
      "deps_modifier: not_set\n",
      "dev: False\n",
      "disallowed_packages: []\n",
      "download_only: False\n",
      "dry_run: False\n",
      "enable_private_envs: False\n",
      "env_prompt: ({default_env}) \n",
      "envs_dirs:\n",
      "  - C:\\Anaconda3\\envs\n",
      "  - C:\\Users\\rlysak01\\.conda\\envs\n",
      "  - C:\\Users\\rlysak01\\AppData\\Local\\conda\\conda\\envs\n",
      "error_upload_url: https://conda.io/conda-post/unexpected-error\n",
      "extra_safety_checks: False\n",
      "force: False\n",
      "force_32bit: False\n",
      "force_reinstall: False\n",
      "force_remove: False\n",
      "ignore_pinned: False\n",
      "json: False\n",
      "local_repodata_ttl: 1\n",
      "migrated_channel_aliases: []\n",
      "migrated_custom_channels: {}\n",
      "non_admin_enabled: True\n",
      "notify_outdated_conda: True\n",
      "offline: False\n",
      "override_channels_enabled: True\n",
      "path_conflict: clobber\n",
      "pinned_packages: []\n",
      "pip_interop_enabled: False\n",
      "pkgs_dirs:\n",
      "  - C:\\Anaconda3\\pkgs\n",
      "  - C:\\Users\\rlysak01\\.conda\\pkgs\n",
      "  - C:\\Users\\rlysak01\\AppData\\Local\\conda\\conda\\pkgs\n",
      "proxy_servers: {}\n",
      "quiet: False\n",
      "remote_connect_timeout_secs: 9.15\n",
      "remote_max_retries: 3\n",
      "remote_read_timeout_secs: 60.0\n",
      "repodata_fns:\n",
      "  - current_repodata.json\n",
      "  - repodata.json\n",
      "report_errors: None\n",
      "restore_free_channel: False\n",
      "rollback_enabled: True\n",
      "root_prefix: C:\\Anaconda3\n",
      "safety_checks: warn\n",
      "sat_solver: pycosat\n",
      "separate_format_cache: False\n",
      "shortcuts: True\n",
      "show_channel_urls: None\n",
      "solver_ignore_timestamps: False\n",
      "ssl_verify: False\n",
      "subdir: win-64\n",
      "subdirs:\n",
      "  - win-64\n",
      "  - noarch\n",
      "target_prefix_override: \n",
      "track_features: []\n",
      "update_modifier: update_specs\n",
      "use_index_cache: False\n",
      "use_local: False\n",
      "use_only_tar_bz2: True\n",
      "verbosity: 0\n",
      "whitelist_channels: []\n"
     ]
    }
   ],
   "source": [
    "!conda config --show"
   ]
  },
  {
   "cell_type": "markdown",
   "metadata": {},
   "source": [
    "Get a list of the complete history of changes that you made to a specific virtual environment."
   ]
  },
  {
   "cell_type": "code",
   "execution_count": 57,
   "metadata": {
    "ExecuteTime": {
     "end_time": "2019-07-26T23:48:10.426246Z",
     "start_time": "2019-07-26T23:48:09.704332Z"
    }
   },
   "outputs": [
    {
     "name": "stdout",
     "output_type": "stream",
     "text": [
      "2018-12-19 22:43:33  (rev 0)\n",
      "    +_ipyw_jlab_nb_ext_conf-0.1.0\n",
      "    +alabaster-0.7.12\n",
      "    +anaconda-2018.12\n",
      "    +anaconda-client-1.7.2\n",
      "    +anaconda-navigator-1.9.6\n",
      "    +anaconda-project-0.8.2\n",
      "    +asn1crypto-0.24.0\n",
      "    +astroid-2.1.0\n",
      "    +astropy-3.1\n",
      "    +atomicwrites-1.2.1\n",
      "    +attrs-18.2.0\n",
      "    +babel-2.6.0\n",
      "    +backcall-0.1.0\n",
      "    +backports-1.0\n",
      "    +backports.os-0.1.1\n",
      "    +backports.shutil_get_terminal_size-1.0.0\n",
      "    +beautifulsoup4-4.6.3\n",
      "    +bitarray-0.8.3\n",
      "    +bkcharts-0.2\n",
      "    +blas-1.0\n",
      "    +blaze-0.11.3\n",
      "    +bleach-3.0.2\n",
      "    +blosc-1.14.4\n",
      "    +bokeh-1.0.2\n",
      "    +boto-2.49.0\n",
      "    +bottleneck-1.2.1\n",
      "    +bzip2-1.0.6\n",
      "    +ca-certificates-2018.03.07\n",
      "    +certifi-2018.11.29\n",
      "    +cffi-1.11.5\n",
      "    +chardet-3.0.4\n",
      "    +click-7.0\n",
      "    +cloudpickle-0.6.1\n",
      "    +clyent-1.2.2\n",
      "    +colorama-0.4.1\n",
      "    +comtypes-1.1.7\n",
      "    +conda-4.5.12\n",
      "    +conda-build-3.17.6\n",
      "    +conda-env-2.6.0\n",
      "    +conda-verify-3.1.1\n",
      "    +console_shortcut-0.1.1\n",
      "    +contextlib2-0.5.5\n",
      "    +cryptography-2.4.2\n",
      "    +curl-7.63.0\n",
      "    +cycler-0.10.0\n",
      "    +cython-0.29.2\n",
      "    +cytoolz-0.9.0.1\n",
      "    +dask-1.0.0\n",
      "    +dask-core-1.0.0\n",
      "    +datashape-0.5.4\n",
      "    +decorator-4.3.0\n",
      "    +defusedxml-0.5.0\n",
      "    +distributed-1.25.1\n",
      "    +docutils-0.14\n",
      "    +entrypoints-0.2.3\n",
      "    +et_xmlfile-1.0.1\n",
      "    +fastcache-1.0.2\n",
      "    +filelock-3.0.10\n",
      "    +flask-1.0.2\n",
      "    +flask-cors-3.0.7\n",
      "    +freetype-2.9.1\n",
      "    +future-0.17.1\n",
      "    +get_terminal_size-1.0.0\n",
      "    +gevent-1.3.7\n",
      "    +glob2-0.6\n",
      "    +greenlet-0.4.15\n",
      "    +h5py-2.8.0\n",
      "    +hdf5-1.10.2\n",
      "    +heapdict-1.0.0\n",
      "    +html5lib-1.0.1\n",
      "    +icc_rt-2019.0.0\n",
      "    +icu-58.2\n",
      "    +idna-2.8\n",
      "    +imageio-2.4.1\n",
      "    +imagesize-1.1.0\n",
      "    +importlib_metadata-0.6\n",
      "    +intel-openmp-2019.1\n",
      "    +ipykernel-5.1.0\n",
      "    +ipython-7.2.0\n",
      "    +ipython_genutils-0.2.0\n",
      "    +ipywidgets-7.4.2\n",
      "    +isort-4.3.4\n",
      "    +itsdangerous-1.1.0\n",
      "    +jdcal-1.4\n",
      "    +jedi-0.13.2\n",
      "    +jinja2-2.10\n",
      "    +jpeg-9b\n",
      "    +jsonschema-2.6.0\n",
      "    +jupyter-1.0.0\n",
      "    +jupyter_client-5.2.4\n",
      "    +jupyter_console-6.0.0\n",
      "    +jupyter_core-4.4.0\n",
      "    +jupyterlab-0.35.3\n",
      "    +jupyterlab_server-0.2.0\n",
      "    +keyring-17.0.0\n",
      "    +kiwisolver-1.0.1\n",
      "    +krb5-1.16.1\n",
      "    +lazy-object-proxy-1.3.1\n",
      "    +libarchive-3.3.3\n",
      "    +libcurl-7.63.0\n",
      "    +libiconv-1.15\n",
      "    +libpng-1.6.35\n",
      "    +libsodium-1.0.16\n",
      "    +libssh2-1.8.0\n",
      "    +libtiff-4.0.9\n",
      "    +libxml2-2.9.8\n",
      "    +libxslt-1.1.32\n",
      "    +llvmlite-0.26.0\n",
      "    +locket-0.2.0\n",
      "    +lxml-4.2.5\n",
      "    +lz4-c-1.8.1.2\n",
      "    +lzo-2.10\n",
      "    +m2w64-gcc-libgfortran-5.3.0\n",
      "    +m2w64-gcc-libs-5.3.0\n",
      "    +m2w64-gcc-libs-core-5.3.0\n",
      "    +m2w64-gmp-6.1.0\n",
      "    +m2w64-libwinpthread-git-5.0.0.4634.697f757\n",
      "    +markupsafe-1.1.0\n",
      "    +matplotlib-3.0.2\n",
      "    +mccabe-0.6.1\n",
      "    +menuinst-1.4.14\n",
      "    +mistune-0.8.4\n",
      "    +mkl-2019.1\n",
      "    +mkl-service-1.1.2\n",
      "    +mkl_fft-1.0.6\n",
      "    +mkl_random-1.0.2\n",
      "    +more-itertools-4.3.0\n",
      "    +mpmath-1.1.0\n",
      "    +msgpack-python-0.5.6\n",
      "    +msys2-conda-epoch-20160418\n",
      "    +multipledispatch-0.6.0\n",
      "    +navigator-updater-0.2.1\n",
      "    +nbconvert-5.4.0\n",
      "    +nbformat-4.4.0\n",
      "    +networkx-2.2\n",
      "    +nltk-3.4\n",
      "    +nose-1.3.7\n",
      "    +notebook-5.7.4\n",
      "    +numba-0.41.0\n",
      "    +numexpr-2.6.8\n",
      "    +numpy-1.15.4\n",
      "    +numpy-base-1.15.4\n",
      "    +numpydoc-0.8.0\n",
      "    +odo-0.5.1\n",
      "    +olefile-0.46\n",
      "    +openpyxl-2.5.12\n",
      "    +openssl-1.1.1a\n",
      "    +packaging-18.0\n",
      "    +pandas-0.23.4\n",
      "    +pandoc-1.19.2.1\n",
      "    +pandocfilters-1.4.2\n",
      "    +parso-0.3.1\n",
      "    +partd-0.3.9\n",
      "    +path.py-11.5.0\n",
      "    +pathlib2-2.3.3\n",
      "    +patsy-0.5.1\n",
      "    +pep8-1.7.1\n",
      "    +pickleshare-0.7.5\n",
      "    +pillow-5.3.0\n",
      "    +pip-18.1\n",
      "    +pkginfo-1.4.2\n",
      "    +pluggy-0.8.0\n",
      "    +ply-3.11\n",
      "    +prometheus_client-0.5.0\n",
      "    +prompt_toolkit-2.0.7\n",
      "    +psutil-5.4.8\n",
      "    +py-1.7.0\n",
      "    +pycodestyle-2.4.0\n",
      "    +pycosat-0.6.3\n",
      "    +pycparser-2.19\n",
      "    +pycrypto-2.6.1\n",
      "    +pycurl-7.43.0.2\n",
      "    +pyflakes-2.0.0\n",
      "    +pygments-2.3.1\n",
      "    +pylint-2.2.2\n",
      "    +pyodbc-4.0.25\n",
      "    +pyopenssl-18.0.0\n",
      "    +pyparsing-2.3.0\n",
      "    +pyqt-5.9.2\n",
      "    +pysocks-1.6.8\n",
      "    +pytables-3.4.4\n",
      "    +pytest-4.0.2\n",
      "    +pytest-arraydiff-0.3\n",
      "    +pytest-astropy-0.5.0\n",
      "    +pytest-doctestplus-0.2.0\n",
      "    +pytest-openfiles-0.3.1\n",
      "    +pytest-remotedata-0.3.1\n",
      "    +python-3.7.1\n",
      "    +python-dateutil-2.7.5\n",
      "    +python-libarchive-c-2.8\n",
      "    +pytz-2018.7\n",
      "    +pywavelets-1.0.1\n",
      "    +pywin32-223\n",
      "    +pywinpty-0.5.5\n",
      "    +pyyaml-3.13\n",
      "    +pyzmq-17.1.2\n",
      "    +qt-5.9.7\n",
      "    +qtawesome-0.5.3\n",
      "    +qtconsole-4.4.3\n",
      "    +qtpy-1.5.2\n",
      "    +requests-2.21.0\n",
      "    +rope-0.11.0\n",
      "    +ruamel_yaml-0.15.46\n",
      "    +scikit-image-0.14.1\n",
      "    +scikit-learn-0.20.1\n",
      "    +scipy-1.1.0\n",
      "    +seaborn-0.9.0\n",
      "    +send2trash-1.5.0\n",
      "    +setuptools-40.6.3\n",
      "    +simplegeneric-0.8.1\n",
      "    +singledispatch-3.4.0.3\n",
      "    +sip-4.19.8\n",
      "    +six-1.12.0\n",
      "    +snappy-1.1.7\n",
      "    +snowballstemmer-1.2.1\n",
      "    +sortedcollections-1.0.1\n",
      "    +sortedcontainers-2.1.0\n",
      "    +sphinx-1.8.2\n",
      "    +sphinxcontrib-1.0\n",
      "    +sphinxcontrib-websupport-1.1.0\n",
      "    +spyder-3.3.2\n",
      "    +spyder-kernels-0.3.0\n",
      "    +sqlalchemy-1.2.15\n",
      "    +sqlite-3.26.0\n",
      "    +statsmodels-0.9.0\n",
      "    +sympy-1.3\n",
      "    +tblib-1.3.2\n",
      "    +terminado-0.8.1\n",
      "    +testpath-0.4.2\n",
      "    +tk-8.6.8\n",
      "    +toolz-0.9.0\n",
      "    +tornado-5.1.1\n",
      "    +tqdm-4.28.1\n",
      "    +traitlets-4.3.2\n",
      "    +unicodecsv-0.14.1\n",
      "    +urllib3-1.24.1\n",
      "    +vc-14.1\n",
      "    +vs2015_runtime-14.15.26706\n",
      "    +wcwidth-0.1.7\n",
      "    +webencodings-0.5.1\n",
      "    +werkzeug-0.14.1\n",
      "    +wheel-0.32.3\n",
      "    +widgetsnbextension-3.4.2\n",
      "    +win_inet_pton-1.0.1\n",
      "    +win_unicode_console-0.5\n",
      "    +wincertstore-0.2\n",
      "    +winpty-0.4.3\n",
      "    +wrapt-1.10.11\n",
      "    +xlrd-1.2.0\n",
      "    +xlsxwriter-1.1.2\n",
      "    +xlwings-0.15.1\n",
      "    +xlwt-1.3.0\n",
      "    +xz-5.2.4\n",
      "    +yaml-0.1.7\n",
      "    +zeromq-4.2.5\n",
      "    +zict-0.1.3\n",
      "    +zlib-1.2.11\n",
      "    +zstd-1.3.7\n",
      "\n",
      "2019-06-20 21:14:00  (rev 1)\n",
      "     conda  {4.5.12 -> 4.6.14 (conda-forge)}\n",
      "    +missingno-0.4.1 (conda-forge)\n",
      "\n",
      "2019-06-20 21:17:13  (rev 2)\n",
      "    +htmlmin-0.1.12 (conda-forge)\n",
      "\n",
      "2019-06-21 02:25:41  (rev 3)\n",
      "    +gitdb2-2.0.5 (conda-forge)\n",
      "    +gitpython-2.1.11 (conda-forge)\n",
      "    +nbdime-1.0.6 (conda-forge)\n",
      "    +smmap2-2.0.5 (conda-forge)\n",
      "\n",
      "2019-06-21 21:22:29  (rev 4)\n",
      "    +jupyter_contrib_core-0.3.3 (conda-forge)\n",
      "    +jupyter_nbextensions_configurator-0.4.1 (conda-forge)\n",
      "\n",
      "2019-06-24 17:17:31  (rev 5)\n",
      "    +docopt-0.6.2 (conda-forge)\n",
      "    +pipreqs-0.4.9 (conda-forge)\n",
      "    +yarg-0.1.9 (conda-forge)\n",
      "\n",
      "2019-06-24 18:05:39  (rev 6)\n",
      "    +libprotobuf-3.7.1 (conda-forge)\n",
      "    +mysql-connector-c-6.1.11 (conda-forge)\n",
      "    +mysql-connector-python-8.0.16 (conda-forge)\n",
      "    +protobuf-3.7.1 (conda-forge)\n",
      "\n",
      "2019-06-27 01:23:43  (rev 7)\n",
      "     conda  {4.6.14 (conda-forge) -> 4.7.5 (conda-forge)}\n",
      "    +conda-package-handling-1.3.10 (conda-forge)\n",
      "    +django-2.2.2 (conda-forge)\n",
      "    +sqlparse-0.3.0 (conda-forge)\n",
      "\n",
      "2019-07-08 18:06:20  (rev 8)\n",
      "    +pandas-profiling-1.4.2 (conda-forge)\n",
      "\n",
      "2019-07-08 19:21:04  (rev 9)\n",
      "     beautifulsoup4  {4.6.3 -> 4.6.3 (conda-forge)}\n",
      "     cytoolz  {0.9.0.1 -> 0.9.0.1 (conda-forge)}\n",
      "     entrypoints  {0.2.3 -> 0.2.3 (conda-forge)}\n",
      "     future  {0.17.1 -> 0.17.1 (conda-forge)}\n",
      "     greenlet  {0.4.15 -> 0.4.15 (conda-forge)}\n",
      "     imageio  {2.4.1 -> 2.4.1 (conda-forge)}\n",
      "     importlib_metadata  {0.6 -> 0.6 (conda-forge)}\n",
      "     isort  {4.3.4 -> 4.3.4 (conda-forge)}\n",
      "     jupyterlab  {0.35.3 -> 0.35.3 (conda-forge)}\n",
      "     nose  {1.3.7 -> 1.3.7 (conda-forge)}\n",
      "     pandas  {0.23.4 -> 0.23.4 (conda-forge)}\n",
      "     pyopenssl  {18.0.0 -> 18.0.0 (conda-forge)}\n",
      "     pywinpty  {0.5.5 -> 0.5.5 (conda-forge)}\n",
      "     pyyaml  {3.13 -> 3.13 (conda-forge)}\n",
      "     setuptools  {40.6.3 -> 40.6.3 (conda-forge)}\n",
      "     sip  {4.19.8 -> 4.19.8 (conda-forge)}\n",
      "     sympy  {1.3 -> 1.3 (conda-forge)}\n",
      "     terminado  {0.8.1 -> 0.8.1 (conda-forge)}\n",
      "     tk  {8.6.8 -> 8.6.8 (conda-forge)}\n",
      "     traitlets  {4.3.2 -> 4.3.2 (conda-forge)}\n",
      "     wheel  {0.32.3 -> 0.32.3 (conda-forge)}\n",
      "     win_unicode_console  {0.5 -> 0.5 (conda-forge)}\n",
      "     winpty  {0.4.3 -> 0.4.3 (conda-forge)}\n",
      "     xlwings  {0.15.1 -> 0.15.1 (conda-forge)}\n",
      "    -pandas-profiling-1.4.2 (conda-forge)\n",
      "\n",
      "2019-07-18 17:03:36  (rev 10)\n",
      "     anaconda  {2018.12 -> custom}\n",
      "     ca-certificates  {2018.03.07 -> 2019.6.16 (conda-forge)}\n",
      "     certifi  {2018.11.29 -> 2019.6.16 (conda-forge)}\n",
      "     conda  {4.7.5 (conda-forge) -> 4.7.8 (conda-forge)}\n",
      "     ipywidgets  {7.4.2 -> 7.5.0 (conda-forge)}\n",
      "     openssl  {1.1.1a -> 1.1.1c (conda-forge)}\n",
      "     pip  {18.1 -> 19.1.1 (conda-forge)}\n",
      "     widgetsnbextension  {3.4.2 -> 3.5.0 (conda-forge)}\n",
      "    +_anaconda_depends-2019.03\n",
      "    +liblief-0.9.0\n",
      "    +powershell_shortcut-0.0.1\n",
      "    +py-lief-0.9.0\n",
      "    +pyreadline-2.1 (conda-forge)\n",
      "    +pyrsistent-0.15.3 (conda-forge)\n",
      "    +saspy-3.1.0 (conda-forge)\n",
      "    +soupsieve-1.9.2 (conda-forge)\n",
      "    +zipp-0.5.1 (conda-forge)\n",
      "\n"
     ]
    }
   ],
   "source": [
    "!conda list --revisions"
   ]
  },
  {
   "cell_type": "markdown",
   "metadata": {},
   "source": [
    "# Troubleshooting Jupyter Notebook Extensions"
   ]
  },
  {
   "cell_type": "markdown",
   "metadata": {},
   "source": [
    "If you have trouble getting notebook extensions to run, try listing the installed ones first."
   ]
  },
  {
   "cell_type": "code",
   "execution_count": 58,
   "metadata": {
    "ExecuteTime": {
     "end_time": "2019-07-26T23:48:21.699329Z",
     "start_time": "2019-07-26T23:48:19.815601Z"
    }
   },
   "outputs": [
    {
     "name": "stdout",
     "output_type": "stream",
     "text": [
      "Known nbextensions:\n",
      "  config dir: C:\\Users\\rlysak01\\.jupyter\\nbconfig\n",
      "    notebook section\n",
      "      nbextensions_configurator/config_menu/main enabled \n",
      "      qgrid/extension enabled \n",
      "      bqplot/extension enabled \n",
      "      jupyter_wysiwyg/index enabled \n",
      "      nbdime/index enabled \n",
      "      plotlywidget/extension enabled \n",
      "      jupyter-js-widgets/extension enabled \n",
      "      notebook-snippet-manager enabled \n",
      "      contrib_nbextensions_help_item/main enabled \n",
      "      toc2/main enabled \n",
      "      highlight_selected_word/main enabled \n",
      "      highlighter/highlighter enabled \n",
      "      python-markdown/main enabled \n",
      "      table_beautifier/main disabled\n",
      "      freeze/main enabled \n",
      "      ruler/main enabled \n",
      "      nbopen enabled \n",
      "      qgrid enabled \n",
      "      keyboard_shortcut_editor/main enabled \n",
      "      addbefore/main enabled \n",
      "      autosavetime/main enabled \n",
      "      hinterland/hinterland enabled \n",
      "      datestamper/main enabled \n",
      "      hide_header/main enabled \n",
      "      hide_input_all/main enabled \n",
      "      init_cell/main enabled \n",
      "      collapsible_headings/main enabled \n",
      "      help_panel/help_panel enabled \n",
      "      snippets/main enabled \n",
      "      varInspector/main enabled \n",
      "      code_prettify/autopep8 disabled\n",
      "      code_prettify/code_prettify disabled\n",
      "      hide_input/main enabled \n",
      "      execute_time/ExecuteTime enabled \n",
      "    tree section\n",
      "      nbextensions_configurator/tree_tab/main enabled \n",
      "    edit section\n",
      "      ruler/edit enabled \n",
      "  config dir: C:\\Anaconda3\\etc\\jupyter\\nbconfig\n",
      "    notebook section\n",
      "      bqplot/extension enabled \n",
      "      jupyter-leaflet/extension enabled \n",
      "      nbdime/index enabled \n",
      "      plotlywidget/extension enabled \n",
      "      jupyter-js-widgets/extension enabled \n",
      "      nbextensions_configurator/config_menu/main enabled \n",
      "    tree section\n",
      "      nbextensions_configurator/tree_tab/main enabled \n",
      "  config dir: C:\\ProgramData\\jupyter\\nbconfig\n",
      "    notebook section\n",
      "      nbextensions_configurator/config_menu/main enabled \n",
      "      qgrid/extension enabled \n",
      "      nbdime/index enabled \n",
      "    tree section\n",
      "      nbextensions_configurator/tree_tab/main enabled \n"
     ]
    },
    {
     "name": "stderr",
     "output_type": "stream",
     "text": [
      "      - Validating: problems found:\n",
      "        - require?  X nbextensions_configurator/config_menu/main\n",
      "      - Validating: ok\n",
      "      - Validating: ok\n",
      "      - Validating: problems found:\n",
      "        - require?  X jupyter_wysiwyg/index\n",
      "      - Validating: ok\n",
      "      - Validating: ok\n",
      "      - Validating: ok\n",
      "      - Validating: ok\n",
      "      - Validating: ok\n",
      "      - Validating: ok\n",
      "      - Validating: ok\n",
      "      - Validating: ok\n",
      "      - Validating: ok\n",
      "      - Validating: ok\n",
      "      - Validating: ok\n",
      "      - Validating: problems found:\n",
      "        - require?  X nbopen\n",
      "      - Validating: problems found:\n",
      "        - require?  X qgrid\n",
      "      - Validating: ok\n",
      "      - Validating: ok\n",
      "      - Validating: ok\n",
      "      - Validating: ok\n",
      "      - Validating: ok\n",
      "      - Validating: ok\n",
      "      - Validating: ok\n",
      "      - Validating: ok\n",
      "      - Validating: ok\n",
      "      - Validating: ok\n",
      "      - Validating: ok\n",
      "      - Validating: ok\n",
      "      - Validating: ok\n",
      "      - Validating: ok\n",
      "      - Validating: problems found:\n",
      "        - require?  X nbextensions_configurator/tree_tab/main\n",
      "      - Validating: ok\n",
      "      - Validating: ok\n",
      "      - Validating: ok\n",
      "      - Validating: ok\n",
      "      - Validating: ok\n",
      "      - Validating: ok\n",
      "      - Validating: problems found:\n",
      "        - require?  X nbextensions_configurator/config_menu/main\n",
      "      - Validating: problems found:\n",
      "        - require?  X nbextensions_configurator/tree_tab/main\n",
      "      - Validating: problems found:\n",
      "        - require?  X nbextensions_configurator/config_menu/main\n",
      "      - Validating: ok\n",
      "      - Validating: ok\n",
      "      - Validating: problems found:\n",
      "        - require?  X nbextensions_configurator/tree_tab/main\n"
     ]
    }
   ],
   "source": [
    "!jupyter nbextension list                          # list all configured nbextensions"
   ]
  },
  {
   "cell_type": "markdown",
   "metadata": {},
   "source": [
    "Other NBextension commands:\n",
    "    \n",
    "    `jupyter nbextension install --py <packagename>    # install an nbextension from a Python package`\n",
    "    `jupyter nbextension enable --py <packagename>     # enable all nbextensions in a Python package`\n",
    "    `jupyter nbextension disable --py <packagename>    # disable all nbextensions in a Python package`\n",
    "    `jupyter nbextension uninstall --py <packagename>  # uninstall an nbextension in a Python package"
   ]
  },
  {
   "cell_type": "code",
   "execution_count": 59,
   "metadata": {
    "ExecuteTime": {
     "end_time": "2019-07-26T23:48:24.310356Z",
     "start_time": "2019-07-26T23:48:21.729095Z"
    }
   },
   "outputs": [
    {
     "name": "stderr",
     "output_type": "stream",
     "text": [
      "Enabling: jupyter_nbextensions_configurator\n",
      "- Writing config: C:\\Anaconda3\\etc\\jupyter\n",
      "    - Validating...\n",
      "      jupyter_nbextensions_configurator 0.4.1 ok\n",
      "Enabling notebook nbextension nbextensions_configurator/config_menu/main...\n",
      "Enabling tree nbextension nbextensions_configurator/tree_tab/main...\n"
     ]
    }
   ],
   "source": [
    "'''To diagnose why the serverextension is not enabled \n",
    "and why this happened in the first place, try (in each environment):'''\n",
    "\n",
    "#conda uninstall --force jupyter_nbextensions_configurator`\n",
    "#conda install -c conda-forge jupyter_nbextensions_configurator`\n",
    "\n",
    "'''The `--force` option prevents conda from removing things which depend on it, \n",
    "like this repo's conda packages). \n",
    "\n",
    "If you see no warnings, that should be sufficient to fix the configurator. \n",
    "If there are warnings, get more information from conda's .messages.txt file, \n",
    "using (from shell with environment activated).'''\n",
    "\n",
    "# cat \"$CONDA_PREFIX/.messages.txt\"\n",
    "\n",
    "'''Alternatively, to skip diagnosis & just get configurator working, \n",
    "run in each environment (this is what the post-link script is supposed to do).'''\n",
    "\n",
    "!jupyter nbextensions_configurator enable --sys-prefix\n"
   ]
  },
  {
   "cell_type": "markdown",
   "metadata": {},
   "source": [
    "## DO NOT INSTALL PACKAGES FROM INSIDE JUPYTER NOTEBOOK"
   ]
  },
  {
   "cell_type": "markdown",
   "metadata": {},
   "source": [
    "See this article from Jake Vanderplas before doing this.\n",
    "\n",
    "https://nbviewer.jupyter.org/url/jakevdp.github.com/downloads/notebooks/JupyterInstallation.ipynb"
   ]
  },
  {
   "cell_type": "code",
   "execution_count": null,
   "metadata": {
    "deletable": false,
    "editable": false,
    "run_control": {
     "frozen": true
    }
   },
   "outputs": [],
   "source": [
    "# only required if you have not added conda-forge to your channels yet\n",
    "!conda config --add channels conda-forge\n",
    "\n",
    "!conda install qgrid"
   ]
  },
  {
   "cell_type": "code",
   "execution_count": 61,
   "metadata": {
    "ExecuteTime": {
     "end_time": "2019-07-26T23:56:04.880349Z",
     "start_time": "2019-07-26T23:56:04.756521Z"
    }
   },
   "outputs": [],
   "source": [
    "import shutil\n",
    "\n",
    "shutil.which(\"python\")\n",
    "\n",
    "shutil.which(\"python3\")\n",
    "\n",
    "shutil.which(\"ls\")"
   ]
  },
  {
   "cell_type": "code",
   "execution_count": 62,
   "metadata": {
    "ExecuteTime": {
     "end_time": "2019-07-26T23:56:06.048958Z",
     "start_time": "2019-07-26T23:56:06.043838Z"
    }
   },
   "outputs": [
    {
     "data": {
      "text/plain": [
       "'C:\\\\Anaconda3\\\\python.EXE'"
      ]
     },
     "execution_count": 62,
     "metadata": {},
     "output_type": "execute_result"
    }
   ],
   "source": [
    "shutil.which(\"python\")"
   ]
  },
  {
   "cell_type": "markdown",
   "metadata": {},
   "source": [
    "# Launch Windows Applications and Provide Data to Them"
   ]
  },
  {
   "cell_type": "markdown",
   "metadata": {},
   "source": [
    "## Using `os.startfile()` and `subprocess.call()`"
   ]
  },
  {
   "cell_type": "code",
   "execution_count": 19,
   "metadata": {},
   "outputs": [],
   "source": [
    "import os\n",
    "import subprocess\n",
    "\n",
    "def click_on_file(filename):\n",
    "    '''Open document with default application in Python.'''\n",
    "    try:\n",
    "        os.startfile(filename)\n",
    "    except AttributeError:\n",
    "        subprocess.call(['open', filename])"
   ]
  },
  {
   "cell_type": "code",
   "execution_count": 23,
   "metadata": {},
   "outputs": [],
   "source": [
    "open_WinExplorer(os.getcwd())"
   ]
  },
  {
   "cell_type": "code",
   "execution_count": 26,
   "metadata": {},
   "outputs": [
    {
     "data": {
      "text/plain": [
       "'c:\\\\Users\\\\rlysakow\\\\Desktop\\\\05-Utilities'"
      ]
     },
     "execution_count": 26,
     "metadata": {},
     "output_type": "execute_result"
    }
   ],
   "source": [
    "os.getcwd()"
   ]
  },
  {
   "cell_type": "code",
   "execution_count": 28,
   "metadata": {},
   "outputs": [],
   "source": [
    "# Provide the full pathname\n",
    "\n",
    "filename = r\"C:\\Users\\rlysakow\\Desktop\\NTAI-Lessons\\MIT-python-web-scraping\\county_data.csv\""
   ]
  },
  {
   "cell_type": "code",
   "execution_count": 29,
   "metadata": {},
   "outputs": [],
   "source": [
    "click_on_file(filename)"
   ]
  },
  {
   "cell_type": "markdown",
   "metadata": {},
   "source": [
    "## Using `subprocess.Popen()` "
   ]
  },
  {
   "cell_type": "code",
   "execution_count": 31,
   "metadata": {},
   "outputs": [
    {
     "data": {
      "text/plain": [
       "<subprocess.Popen at 0x1f982c268c8>"
      ]
     },
     "execution_count": 31,
     "metadata": {},
     "output_type": "execute_result"
    }
   ],
   "source": [
    "import subprocess as sp\n",
    "\n",
    "programName = \"notepad.exe\"\n",
    "fileName = \"file.txt\"\n",
    "\n",
    "sp.Popen([programName, fileName])"
   ]
  },
  {
   "cell_type": "markdown",
   "metadata": {},
   "source": [
    "## Launch Windows Explorer in a Specific Directory using PyWinAuto\n",
    "\n",
    "### Set Directory Path Location to Open Windows Explorer "
   ]
  },
  {
   "cell_type": "code",
   "execution_count": 8,
   "metadata": {
    "ExecuteTime": {
     "end_time": "2019-07-27T01:45:18.605706Z",
     "start_time": "2019-07-27T01:45:18.601329Z"
    }
   },
   "outputs": [],
   "source": [
    "import os\n",
    "path_to_open = os.getcwd()"
   ]
  },
  {
   "cell_type": "code",
   "execution_count": 9,
   "metadata": {
    "ExecuteTime": {
     "end_time": "2019-07-27T01:45:19.378282Z",
     "start_time": "2019-07-27T01:45:19.373769Z"
    }
   },
   "outputs": [
    {
     "data": {
      "text/plain": [
       "'c:\\\\Users\\\\rlysakow\\\\Desktop\\\\05-Utilities'"
      ]
     },
     "execution_count": 9,
     "metadata": {},
     "output_type": "execute_result"
    }
   ],
   "source": [
    "path_to_open"
   ]
  },
  {
   "cell_type": "code",
   "execution_count": 10,
   "metadata": {
    "ExecuteTime": {
     "end_time": "2019-07-27T01:45:22.185199Z",
     "start_time": "2019-07-27T01:45:22.180184Z"
    }
   },
   "outputs": [
    {
     "data": {
      "text/plain": [
       "'\"c:\\\\Users\\\\rlysakow\\\\Desktop\\\\05-Utilities\"'"
      ]
     },
     "execution_count": 10,
     "metadata": {},
     "output_type": "execute_result"
    }
   ],
   "source": [
    "f'\"{path_to_open}\"'"
   ]
  },
  {
   "cell_type": "code",
   "execution_count": 11,
   "metadata": {
    "ExecuteTime": {
     "end_time": "2019-07-27T01:46:15.459886Z",
     "start_time": "2019-07-27T01:46:15.455874Z"
    }
   },
   "outputs": [],
   "source": [
    "myPath = f'\"{path_to_open}\"'"
   ]
  },
  {
   "cell_type": "code",
   "execution_count": 12,
   "metadata": {
    "ExecuteTime": {
     "end_time": "2019-07-27T01:46:18.675162Z",
     "start_time": "2019-07-27T01:46:18.669644Z"
    }
   },
   "outputs": [
    {
     "data": {
      "text/plain": [
       "'\"c:\\\\Users\\\\rlysakow\\\\Desktop\\\\05-Utilities\"'"
      ]
     },
     "execution_count": 12,
     "metadata": {},
     "output_type": "execute_result"
    }
   ],
   "source": [
    "myPath"
   ]
  },
  {
   "cell_type": "code",
   "execution_count": 13,
   "metadata": {
    "ExecuteTime": {
     "end_time": "2019-07-27T01:48:10.913953Z",
     "start_time": "2019-07-27T01:48:06.132776Z"
    },
    "scrolled": true
   },
   "outputs": [
    {
     "name": "stderr",
     "output_type": "stream",
     "text": [
      "2020-02-21 01:05:41,721 [23500] WARNING  py.warnings:110: [JupyterRequire] C:\\ProgramData\\Anaconda3\\envs\\my_hranalytics\\lib\\site-packages\\pywinauto\\__init__.py:80: UserWarning: Revert to STA COM threading mode\n",
      "  warnings.warn(\"Revert to STA COM threading mode\", UserWarning)\n",
      "\n"
     ]
    },
    {
     "ename": "TypeError",
     "evalue": "item 2 in _argtypes_ passes a union by value, which is unsupported.",
     "output_type": "error",
     "traceback": [
      "\u001b[1;31m---------------------------------------------------------------------------\u001b[0m",
      "\u001b[1;31mKeyError\u001b[0m                                  Traceback (most recent call last)",
      "\u001b[1;32mC:\\ProgramData\\Anaconda3\\envs\\my_hranalytics\\lib\\ctypes\\__init__.py\u001b[0m in \u001b[0;36mWINFUNCTYPE\u001b[1;34m(restype, *argtypes, **kw)\u001b[0m\n\u001b[0;32m    120\u001b[0m         \u001b[1;32mtry\u001b[0m\u001b[1;33m:\u001b[0m\u001b[1;33m\u001b[0m\u001b[1;33m\u001b[0m\u001b[0m\n\u001b[1;32m--> 121\u001b[1;33m             \u001b[1;32mreturn\u001b[0m \u001b[0m_win_functype_cache\u001b[0m\u001b[1;33m[\u001b[0m\u001b[1;33m(\u001b[0m\u001b[0mrestype\u001b[0m\u001b[1;33m,\u001b[0m \u001b[0margtypes\u001b[0m\u001b[1;33m,\u001b[0m \u001b[0mflags\u001b[0m\u001b[1;33m)\u001b[0m\u001b[1;33m]\u001b[0m\u001b[1;33m\u001b[0m\u001b[1;33m\u001b[0m\u001b[0m\n\u001b[0m\u001b[0;32m    122\u001b[0m         \u001b[1;32mexcept\u001b[0m \u001b[0mKeyError\u001b[0m\u001b[1;33m:\u001b[0m\u001b[1;33m\u001b[0m\u001b[1;33m\u001b[0m\u001b[0m\n",
      "\u001b[1;31mKeyError\u001b[0m: (<class 'ctypes.HRESULT'>, (<class 'ctypes.c_long'>, <class 'comtypes.automation.tagVARIANT'>, <class 'comtypes.LP_POINTER(IUIAutomationCondition)'>), 0)",
      "\nDuring handling of the above exception, another exception occurred:\n",
      "\u001b[1;31mTypeError\u001b[0m                                 Traceback (most recent call last)",
      "\u001b[1;32m<ipython-input-13-48e4d1cf5189>\u001b[0m in \u001b[0;36m<module>\u001b[1;34m\u001b[0m\n\u001b[1;32m----> 1\u001b[1;33m \u001b[1;32mfrom\u001b[0m \u001b[0mpywinauto\u001b[0m \u001b[1;32mimport\u001b[0m \u001b[0mDesktop\u001b[0m\u001b[1;33m,\u001b[0m \u001b[0mApplication\u001b[0m\u001b[1;33m\u001b[0m\u001b[1;33m\u001b[0m\u001b[0m\n\u001b[0m\u001b[0;32m      2\u001b[0m \u001b[1;33m\u001b[0m\u001b[0m\n\u001b[0;32m      3\u001b[0m \u001b[0mApplication\u001b[0m\u001b[1;33m(\u001b[0m\u001b[1;33m)\u001b[0m\u001b[1;33m.\u001b[0m\u001b[0mstart\u001b[0m\u001b[1;33m(\u001b[0m\u001b[1;34m'explorer.exe \"C:\\\\Program Files\"'\u001b[0m\u001b[1;33m)\u001b[0m\u001b[1;33m\u001b[0m\u001b[1;33m\u001b[0m\u001b[0m\n\u001b[0;32m      4\u001b[0m \u001b[1;33m\u001b[0m\u001b[0m\n\u001b[0;32m      5\u001b[0m \u001b[1;31m# connect to another process spawned by explorer.exe\u001b[0m\u001b[1;33m\u001b[0m\u001b[1;33m\u001b[0m\u001b[1;33m\u001b[0m\u001b[0m\n",
      "\u001b[1;32mC:\\ProgramData\\Anaconda3\\envs\\my_hranalytics\\lib\\site-packages\\pywinauto\\__init__.py\u001b[0m in \u001b[0;36m<module>\u001b[1;34m\u001b[0m\n\u001b[0;32m     87\u001b[0m     \u001b[1;32mfrom\u001b[0m \u001b[1;33m.\u001b[0m\u001b[0msysinfo\u001b[0m \u001b[1;32mimport\u001b[0m \u001b[0mUIA_support\u001b[0m\u001b[1;33m\u001b[0m\u001b[1;33m\u001b[0m\u001b[0m\n\u001b[0;32m     88\u001b[0m \u001b[1;33m\u001b[0m\u001b[0m\n\u001b[1;32m---> 89\u001b[1;33m     \u001b[1;32mfrom\u001b[0m \u001b[1;33m.\u001b[0m \u001b[1;32mimport\u001b[0m \u001b[0mfindwindows\u001b[0m\u001b[1;33m\u001b[0m\u001b[1;33m\u001b[0m\u001b[0m\n\u001b[0m\u001b[0;32m     90\u001b[0m \u001b[1;33m\u001b[0m\u001b[0m\n\u001b[0;32m     91\u001b[0m     \u001b[0mWindowAmbiguousError\u001b[0m \u001b[1;33m=\u001b[0m \u001b[0mfindwindows\u001b[0m\u001b[1;33m.\u001b[0m\u001b[0mWindowAmbiguousError\u001b[0m\u001b[1;33m\u001b[0m\u001b[1;33m\u001b[0m\u001b[0m\n",
      "\u001b[1;32mC:\\ProgramData\\Anaconda3\\envs\\my_hranalytics\\lib\\site-packages\\pywinauto\\findwindows.py\u001b[0m in \u001b[0;36m<module>\u001b[1;34m\u001b[0m\n\u001b[0;32m     40\u001b[0m \u001b[1;32mfrom\u001b[0m \u001b[1;33m.\u001b[0m \u001b[1;32mimport\u001b[0m \u001b[0mwin32structures\u001b[0m\u001b[1;33m\u001b[0m\u001b[1;33m\u001b[0m\u001b[0m\n\u001b[0;32m     41\u001b[0m \u001b[1;32mfrom\u001b[0m \u001b[1;33m.\u001b[0m \u001b[1;32mimport\u001b[0m \u001b[0mfindbestmatch\u001b[0m\u001b[1;33m\u001b[0m\u001b[1;33m\u001b[0m\u001b[0m\n\u001b[1;32m---> 42\u001b[1;33m \u001b[1;32mfrom\u001b[0m \u001b[1;33m.\u001b[0m \u001b[1;32mimport\u001b[0m \u001b[0mcontrols\u001b[0m\u001b[1;33m\u001b[0m\u001b[1;33m\u001b[0m\u001b[0m\n\u001b[0m\u001b[0;32m     43\u001b[0m \u001b[1;32mfrom\u001b[0m \u001b[1;33m.\u001b[0m\u001b[0mbackend\u001b[0m \u001b[1;32mimport\u001b[0m \u001b[0mregistry\u001b[0m\u001b[1;33m\u001b[0m\u001b[1;33m\u001b[0m\u001b[0m\n\u001b[0;32m     44\u001b[0m \u001b[1;33m\u001b[0m\u001b[0m\n",
      "\u001b[1;32mC:\\ProgramData\\Anaconda3\\envs\\my_hranalytics\\lib\\site-packages\\pywinauto\\controls\\__init__.py\u001b[0m in \u001b[0;36m<module>\u001b[1;34m\u001b[0m\n\u001b[0;32m     34\u001b[0m \u001b[1;32mfrom\u001b[0m \u001b[1;33m.\u001b[0m\u001b[1;33m.\u001b[0m\u001b[0msysinfo\u001b[0m \u001b[1;32mimport\u001b[0m \u001b[0mUIA_support\u001b[0m\u001b[1;33m\u001b[0m\u001b[1;33m\u001b[0m\u001b[0m\n\u001b[0;32m     35\u001b[0m \u001b[1;32mif\u001b[0m \u001b[0mUIA_support\u001b[0m\u001b[1;33m:\u001b[0m\u001b[1;33m\u001b[0m\u001b[1;33m\u001b[0m\u001b[0m\n\u001b[1;32m---> 36\u001b[1;33m     \u001b[1;32mfrom\u001b[0m \u001b[1;33m.\u001b[0m \u001b[1;32mimport\u001b[0m \u001b[0muiawrapper\u001b[0m \u001b[1;31m# register \"uia\" back-end (at the end of uiawrapper module)\u001b[0m\u001b[1;33m\u001b[0m\u001b[1;33m\u001b[0m\u001b[0m\n\u001b[0m\u001b[0;32m     37\u001b[0m     \u001b[1;32mfrom\u001b[0m \u001b[1;33m.\u001b[0m \u001b[1;32mimport\u001b[0m \u001b[0muia_controls\u001b[0m\u001b[1;33m\u001b[0m\u001b[1;33m\u001b[0m\u001b[0m\n\u001b[0;32m     38\u001b[0m \u001b[1;33m\u001b[0m\u001b[0m\n",
      "\u001b[1;32mC:\\ProgramData\\Anaconda3\\envs\\my_hranalytics\\lib\\site-packages\\pywinauto\\controls\\uiawrapper.py\u001b[0m in \u001b[0;36m<module>\u001b[1;34m\u001b[0m\n\u001b[0;32m     45\u001b[0m \u001b[1;32mfrom\u001b[0m \u001b[1;33m.\u001b[0m\u001b[1;33m.\u001b[0m\u001b[0mbase_wrapper\u001b[0m \u001b[1;32mimport\u001b[0m \u001b[0mBaseMeta\u001b[0m\u001b[1;33m\u001b[0m\u001b[1;33m\u001b[0m\u001b[0m\n\u001b[0;32m     46\u001b[0m \u001b[1;33m\u001b[0m\u001b[0m\n\u001b[1;32m---> 47\u001b[1;33m \u001b[1;32mfrom\u001b[0m \u001b[1;33m.\u001b[0m\u001b[1;33m.\u001b[0m\u001b[0muia_defines\u001b[0m \u001b[1;32mimport\u001b[0m \u001b[0mIUIA\u001b[0m\u001b[1;33m\u001b[0m\u001b[1;33m\u001b[0m\u001b[0m\n\u001b[0m\u001b[0;32m     48\u001b[0m \u001b[1;32mfrom\u001b[0m \u001b[1;33m.\u001b[0m\u001b[1;33m.\u001b[0m \u001b[1;32mimport\u001b[0m \u001b[0muia_defines\u001b[0m \u001b[1;32mas\u001b[0m \u001b[0muia_defs\u001b[0m\u001b[1;33m\u001b[0m\u001b[1;33m\u001b[0m\u001b[0m\n\u001b[0;32m     49\u001b[0m \u001b[1;32mfrom\u001b[0m \u001b[1;33m.\u001b[0m\u001b[1;33m.\u001b[0m\u001b[0muia_element_info\u001b[0m \u001b[1;32mimport\u001b[0m \u001b[0mUIAElementInfo\u001b[0m\u001b[1;33m,\u001b[0m \u001b[0melements_from_uia_array\u001b[0m\u001b[1;33m\u001b[0m\u001b[1;33m\u001b[0m\u001b[0m\n",
      "\u001b[1;32mC:\\ProgramData\\Anaconda3\\envs\\my_hranalytics\\lib\\site-packages\\pywinauto\\uia_defines.py\u001b[0m in \u001b[0;36m<module>\u001b[1;34m\u001b[0m\n\u001b[0;32m    179\u001b[0m     \u001b[1;32mreturn\u001b[0m \u001b[0mptrn_ids_dic\u001b[0m\u001b[1;33m\u001b[0m\u001b[1;33m\u001b[0m\u001b[0m\n\u001b[0;32m    180\u001b[0m \u001b[1;33m\u001b[0m\u001b[0m\n\u001b[1;32m--> 181\u001b[1;33m \u001b[0mpattern_ids\u001b[0m \u001b[1;33m=\u001b[0m \u001b[0m_build_pattern_ids_dic\u001b[0m\u001b[1;33m(\u001b[0m\u001b[1;33m)\u001b[0m\u001b[1;33m\u001b[0m\u001b[1;33m\u001b[0m\u001b[0m\n\u001b[0m\u001b[0;32m    182\u001b[0m \u001b[1;33m\u001b[0m\u001b[0m\n\u001b[0;32m    183\u001b[0m \u001b[1;33m\u001b[0m\u001b[0m\n",
      "\u001b[1;32mC:\\ProgramData\\Anaconda3\\envs\\my_hranalytics\\lib\\site-packages\\pywinauto\\uia_defines.py\u001b[0m in \u001b[0;36m_build_pattern_ids_dic\u001b[1;34m()\u001b[0m\n\u001b[0;32m    167\u001b[0m             \u001b[0mv2\u001b[0m \u001b[1;33m=\u001b[0m \u001b[1;34m\"2\"\u001b[0m\u001b[1;33m\u001b[0m\u001b[1;33m\u001b[0m\u001b[0m\n\u001b[0;32m    168\u001b[0m         \u001b[0mcls_name\u001b[0m \u001b[1;33m=\u001b[0m \u001b[1;34m''\u001b[0m\u001b[1;33m.\u001b[0m\u001b[0mjoin\u001b[0m\u001b[1;33m(\u001b[0m\u001b[1;33m[\u001b[0m\u001b[1;34m'IUIAutomation'\u001b[0m\u001b[1;33m,\u001b[0m \u001b[0mname\u001b[0m\u001b[1;33m,\u001b[0m \u001b[1;34m'Pattern'\u001b[0m\u001b[1;33m,\u001b[0m \u001b[0mv2\u001b[0m\u001b[1;33m]\u001b[0m\u001b[1;33m)\u001b[0m\u001b[1;33m\u001b[0m\u001b[1;33m\u001b[0m\u001b[0m\n\u001b[1;32m--> 169\u001b[1;33m         \u001b[1;32mif\u001b[0m \u001b[0mhasattr\u001b[0m\u001b[1;33m(\u001b[0m\u001b[0mIUIA\u001b[0m\u001b[1;33m(\u001b[0m\u001b[1;33m)\u001b[0m\u001b[1;33m.\u001b[0m\u001b[0mui_automation_client\u001b[0m\u001b[1;33m,\u001b[0m \u001b[0mcls_name\u001b[0m\u001b[1;33m)\u001b[0m\u001b[1;33m:\u001b[0m\u001b[1;33m\u001b[0m\u001b[1;33m\u001b[0m\u001b[0m\n\u001b[0m\u001b[0;32m    170\u001b[0m             \u001b[0mklass\u001b[0m \u001b[1;33m=\u001b[0m \u001b[0mgetattr\u001b[0m\u001b[1;33m(\u001b[0m\u001b[0mIUIA\u001b[0m\u001b[1;33m(\u001b[0m\u001b[1;33m)\u001b[0m\u001b[1;33m.\u001b[0m\u001b[0mui_automation_client\u001b[0m\u001b[1;33m,\u001b[0m \u001b[0mcls_name\u001b[0m\u001b[1;33m)\u001b[0m\u001b[1;33m\u001b[0m\u001b[1;33m\u001b[0m\u001b[0m\n\u001b[0;32m    171\u001b[0m \u001b[1;33m\u001b[0m\u001b[0m\n",
      "\u001b[1;32mC:\\ProgramData\\Anaconda3\\envs\\my_hranalytics\\lib\\site-packages\\pywinauto\\uia_defines.py\u001b[0m in \u001b[0;36m__call__\u001b[1;34m(cls, *args, **kwargs)\u001b[0m\n\u001b[0;32m     48\u001b[0m     \u001b[1;32mdef\u001b[0m \u001b[0m__call__\u001b[0m\u001b[1;33m(\u001b[0m\u001b[0mcls\u001b[0m\u001b[1;33m,\u001b[0m \u001b[1;33m*\u001b[0m\u001b[0margs\u001b[0m\u001b[1;33m,\u001b[0m \u001b[1;33m**\u001b[0m\u001b[0mkwargs\u001b[0m\u001b[1;33m)\u001b[0m\u001b[1;33m:\u001b[0m\u001b[1;33m\u001b[0m\u001b[1;33m\u001b[0m\u001b[0m\n\u001b[0;32m     49\u001b[0m         \u001b[1;32mif\u001b[0m \u001b[0mcls\u001b[0m \u001b[1;32mnot\u001b[0m \u001b[1;32min\u001b[0m \u001b[0mcls\u001b[0m\u001b[1;33m.\u001b[0m\u001b[0m_instances\u001b[0m\u001b[1;33m:\u001b[0m\u001b[1;33m\u001b[0m\u001b[1;33m\u001b[0m\u001b[0m\n\u001b[1;32m---> 50\u001b[1;33m             \u001b[0mcls\u001b[0m\u001b[1;33m.\u001b[0m\u001b[0m_instances\u001b[0m\u001b[1;33m[\u001b[0m\u001b[0mcls\u001b[0m\u001b[1;33m]\u001b[0m \u001b[1;33m=\u001b[0m \u001b[0msuper\u001b[0m\u001b[1;33m(\u001b[0m\u001b[0m_Singleton\u001b[0m\u001b[1;33m,\u001b[0m \u001b[0mcls\u001b[0m\u001b[1;33m)\u001b[0m\u001b[1;33m.\u001b[0m\u001b[0m__call__\u001b[0m\u001b[1;33m(\u001b[0m\u001b[1;33m*\u001b[0m\u001b[0margs\u001b[0m\u001b[1;33m,\u001b[0m \u001b[1;33m**\u001b[0m\u001b[0mkwargs\u001b[0m\u001b[1;33m)\u001b[0m\u001b[1;33m\u001b[0m\u001b[1;33m\u001b[0m\u001b[0m\n\u001b[0m\u001b[0;32m     51\u001b[0m         \u001b[1;32mreturn\u001b[0m \u001b[0mcls\u001b[0m\u001b[1;33m.\u001b[0m\u001b[0m_instances\u001b[0m\u001b[1;33m[\u001b[0m\u001b[0mcls\u001b[0m\u001b[1;33m]\u001b[0m\u001b[1;33m\u001b[0m\u001b[1;33m\u001b[0m\u001b[0m\n\u001b[0;32m     52\u001b[0m \u001b[1;33m\u001b[0m\u001b[0m\n",
      "\u001b[1;32mC:\\ProgramData\\Anaconda3\\envs\\my_hranalytics\\lib\\site-packages\\pywinauto\\uia_defines.py\u001b[0m in \u001b[0;36m__init__\u001b[1;34m(self)\u001b[0m\n\u001b[0;32m     58\u001b[0m \u001b[1;33m\u001b[0m\u001b[0m\n\u001b[0;32m     59\u001b[0m     \u001b[1;32mdef\u001b[0m \u001b[0m__init__\u001b[0m\u001b[1;33m(\u001b[0m\u001b[0mself\u001b[0m\u001b[1;33m)\u001b[0m\u001b[1;33m:\u001b[0m\u001b[1;33m\u001b[0m\u001b[1;33m\u001b[0m\u001b[0m\n\u001b[1;32m---> 60\u001b[1;33m         \u001b[0mself\u001b[0m\u001b[1;33m.\u001b[0m\u001b[0mUIA_dll\u001b[0m \u001b[1;33m=\u001b[0m \u001b[0mcomtypes\u001b[0m\u001b[1;33m.\u001b[0m\u001b[0mclient\u001b[0m\u001b[1;33m.\u001b[0m\u001b[0mGetModule\u001b[0m\u001b[1;33m(\u001b[0m\u001b[1;34m'UIAutomationCore.dll'\u001b[0m\u001b[1;33m)\u001b[0m\u001b[1;33m\u001b[0m\u001b[1;33m\u001b[0m\u001b[0m\n\u001b[0m\u001b[0;32m     61\u001b[0m         \u001b[0mself\u001b[0m\u001b[1;33m.\u001b[0m\u001b[0mui_automation_client\u001b[0m \u001b[1;33m=\u001b[0m \u001b[0mcomtypes\u001b[0m\u001b[1;33m.\u001b[0m\u001b[0mgen\u001b[0m\u001b[1;33m.\u001b[0m\u001b[0mUIAutomationClient\u001b[0m\u001b[1;33m\u001b[0m\u001b[1;33m\u001b[0m\u001b[0m\n\u001b[0;32m     62\u001b[0m         self.iuia = comtypes.CoCreateInstance(\n",
      "\u001b[1;32mC:\\ProgramData\\Anaconda3\\envs\\my_hranalytics\\lib\\site-packages\\comtypes\\client\\_generate.py\u001b[0m in \u001b[0;36mGetModule\u001b[1;34m(tlib)\u001b[0m\n\u001b[0;32m    108\u001b[0m \u001b[1;33m\u001b[0m\u001b[0m\n\u001b[0;32m    109\u001b[0m     \u001b[1;31m# create and import the module\u001b[0m\u001b[1;33m\u001b[0m\u001b[1;33m\u001b[0m\u001b[1;33m\u001b[0m\u001b[0m\n\u001b[1;32m--> 110\u001b[1;33m     \u001b[0mmod\u001b[0m \u001b[1;33m=\u001b[0m \u001b[0m_CreateWrapper\u001b[0m\u001b[1;33m(\u001b[0m\u001b[0mtlib\u001b[0m\u001b[1;33m,\u001b[0m \u001b[0mpathname\u001b[0m\u001b[1;33m)\u001b[0m\u001b[1;33m\u001b[0m\u001b[1;33m\u001b[0m\u001b[0m\n\u001b[0m\u001b[0;32m    111\u001b[0m     \u001b[1;32mtry\u001b[0m\u001b[1;33m:\u001b[0m\u001b[1;33m\u001b[0m\u001b[1;33m\u001b[0m\u001b[0m\n\u001b[0;32m    112\u001b[0m         \u001b[0mmodulename\u001b[0m \u001b[1;33m=\u001b[0m \u001b[0mtlib\u001b[0m\u001b[1;33m.\u001b[0m\u001b[0mGetDocumentation\u001b[0m\u001b[1;33m(\u001b[0m\u001b[1;33m-\u001b[0m\u001b[1;36m1\u001b[0m\u001b[1;33m)\u001b[0m\u001b[1;33m[\u001b[0m\u001b[1;36m0\u001b[0m\u001b[1;33m]\u001b[0m\u001b[1;33m\u001b[0m\u001b[1;33m\u001b[0m\u001b[0m\n",
      "\u001b[1;32mC:\\ProgramData\\Anaconda3\\envs\\my_hranalytics\\lib\\site-packages\\comtypes\\client\\_generate.py\u001b[0m in \u001b[0;36m_CreateWrapper\u001b[1;34m(tlib, pathname)\u001b[0m\n\u001b[0;32m    182\u001b[0m     \u001b[1;32melse\u001b[0m\u001b[1;33m:\u001b[0m\u001b[1;33m\u001b[0m\u001b[1;33m\u001b[0m\u001b[0m\n\u001b[0;32m    183\u001b[0m         \u001b[0mofi\u001b[0m\u001b[1;33m.\u001b[0m\u001b[0mclose\u001b[0m\u001b[1;33m(\u001b[0m\u001b[1;33m)\u001b[0m\u001b[1;33m\u001b[0m\u001b[1;33m\u001b[0m\u001b[0m\n\u001b[1;32m--> 184\u001b[1;33m         \u001b[0mmod\u001b[0m \u001b[1;33m=\u001b[0m \u001b[0m_my_import\u001b[0m\u001b[1;33m(\u001b[0m\u001b[0mfullname\u001b[0m\u001b[1;33m)\u001b[0m\u001b[1;33m\u001b[0m\u001b[1;33m\u001b[0m\u001b[0m\n\u001b[0m\u001b[0;32m    185\u001b[0m     \u001b[1;32mreturn\u001b[0m \u001b[0mmod\u001b[0m\u001b[1;33m\u001b[0m\u001b[1;33m\u001b[0m\u001b[0m\n\u001b[0;32m    186\u001b[0m \u001b[1;33m\u001b[0m\u001b[0m\n",
      "\u001b[1;32mC:\\ProgramData\\Anaconda3\\envs\\my_hranalytics\\lib\\site-packages\\comtypes\\client\\_generate.py\u001b[0m in \u001b[0;36m_my_import\u001b[1;34m(fullname)\u001b[0m\n\u001b[0;32m     22\u001b[0m            \u001b[1;32mand\u001b[0m \u001b[0mcomtypes\u001b[0m\u001b[1;33m.\u001b[0m\u001b[0mclient\u001b[0m\u001b[1;33m.\u001b[0m\u001b[0mgen_dir\u001b[0m \u001b[1;32mnot\u001b[0m \u001b[1;32min\u001b[0m \u001b[0mcomtypes\u001b[0m\u001b[1;33m.\u001b[0m\u001b[0mgen\u001b[0m\u001b[1;33m.\u001b[0m\u001b[0m__path__\u001b[0m\u001b[1;33m:\u001b[0m\u001b[1;33m\u001b[0m\u001b[1;33m\u001b[0m\u001b[0m\n\u001b[0;32m     23\u001b[0m         \u001b[0mcomtypes\u001b[0m\u001b[1;33m.\u001b[0m\u001b[0mgen\u001b[0m\u001b[1;33m.\u001b[0m\u001b[0m__path__\u001b[0m\u001b[1;33m.\u001b[0m\u001b[0mappend\u001b[0m\u001b[1;33m(\u001b[0m\u001b[0mcomtypes\u001b[0m\u001b[1;33m.\u001b[0m\u001b[0mclient\u001b[0m\u001b[1;33m.\u001b[0m\u001b[0mgen_dir\u001b[0m\u001b[1;33m)\u001b[0m\u001b[1;33m\u001b[0m\u001b[1;33m\u001b[0m\u001b[0m\n\u001b[1;32m---> 24\u001b[1;33m     \u001b[1;32mreturn\u001b[0m \u001b[0m__import__\u001b[0m\u001b[1;33m(\u001b[0m\u001b[0mfullname\u001b[0m\u001b[1;33m,\u001b[0m \u001b[0mglobals\u001b[0m\u001b[1;33m(\u001b[0m\u001b[1;33m)\u001b[0m\u001b[1;33m,\u001b[0m \u001b[0mlocals\u001b[0m\u001b[1;33m(\u001b[0m\u001b[1;33m)\u001b[0m\u001b[1;33m,\u001b[0m \u001b[1;33m[\u001b[0m\u001b[1;34m'DUMMY'\u001b[0m\u001b[1;33m]\u001b[0m\u001b[1;33m)\u001b[0m\u001b[1;33m\u001b[0m\u001b[1;33m\u001b[0m\u001b[0m\n\u001b[0m\u001b[0;32m     25\u001b[0m \u001b[1;33m\u001b[0m\u001b[0m\n\u001b[0;32m     26\u001b[0m \u001b[1;32mdef\u001b[0m \u001b[0m_name_module\u001b[0m\u001b[1;33m(\u001b[0m\u001b[0mtlib\u001b[0m\u001b[1;33m)\u001b[0m\u001b[1;33m:\u001b[0m\u001b[1;33m\u001b[0m\u001b[1;33m\u001b[0m\u001b[0m\n",
      "\u001b[1;32mC:\\ProgramData\\Anaconda3\\envs\\my_hranalytics\\lib\\site-packages\\comtypes\\gen\\_944DE083_8FB8_45CF_BCB7_C477ACB2F897_0_1_0.py\u001b[0m in \u001b[0;36m<module>\u001b[1;34m\u001b[0m\n\u001b[0;32m    400\u001b[0m               \u001b[1;33m(\u001b[0m \u001b[1;33m[\u001b[0m\u001b[1;34m'in'\u001b[0m\u001b[1;33m]\u001b[0m\u001b[1;33m,\u001b[0m \u001b[0mc_int\u001b[0m\u001b[1;33m,\u001b[0m \u001b[1;34m'childId'\u001b[0m \u001b[1;33m)\u001b[0m\u001b[1;33m,\u001b[0m\u001b[1;33m\u001b[0m\u001b[1;33m\u001b[0m\u001b[0m\n\u001b[0;32m    401\u001b[0m               \u001b[1;33m(\u001b[0m \u001b[1;33m[\u001b[0m\u001b[1;34m'in'\u001b[0m\u001b[1;33m]\u001b[0m\u001b[1;33m,\u001b[0m \u001b[0mPOINTER\u001b[0m\u001b[1;33m(\u001b[0m\u001b[0mIUIAutomationCacheRequest\u001b[0m\u001b[1;33m)\u001b[0m\u001b[1;33m,\u001b[0m \u001b[1;34m'cacheRequest'\u001b[0m \u001b[1;33m)\u001b[0m\u001b[1;33m,\u001b[0m\u001b[1;33m\u001b[0m\u001b[1;33m\u001b[0m\u001b[0m\n\u001b[1;32m--> 402\u001b[1;33m               ( ['out', 'retval'], POINTER(POINTER(IUIAutomationElement)), 'element' )),\n\u001b[0m\u001b[0;32m    403\u001b[0m ]\n\u001b[0;32m    404\u001b[0m \u001b[1;31m################################################################\u001b[0m\u001b[1;33m\u001b[0m\u001b[1;33m\u001b[0m\u001b[1;33m\u001b[0m\u001b[0m\n",
      "\u001b[1;32mC:\\ProgramData\\Anaconda3\\envs\\my_hranalytics\\lib\\site-packages\\comtypes\\__init__.py\u001b[0m in \u001b[0;36m__setattr__\u001b[1;34m(self, name, value)\u001b[0m\n\u001b[0;32m    327\u001b[0m             \u001b[1;31m# overrides this by \"Interface._methods_ = [...]\u001b[0m\u001b[1;33m\u001b[0m\u001b[1;33m\u001b[0m\u001b[1;33m\u001b[0m\u001b[0m\n\u001b[0;32m    328\u001b[0m \u001b[1;31m##            assert self.__dict__.get(\"_methods_\", None) is None\u001b[0m\u001b[1;33m\u001b[0m\u001b[1;33m\u001b[0m\u001b[1;33m\u001b[0m\u001b[0m\n\u001b[1;32m--> 329\u001b[1;33m             \u001b[0mself\u001b[0m\u001b[1;33m.\u001b[0m\u001b[0m_make_methods\u001b[0m\u001b[1;33m(\u001b[0m\u001b[0mvalue\u001b[0m\u001b[1;33m)\u001b[0m\u001b[1;33m\u001b[0m\u001b[1;33m\u001b[0m\u001b[0m\n\u001b[0m\u001b[0;32m    330\u001b[0m             \u001b[0mself\u001b[0m\u001b[1;33m.\u001b[0m\u001b[0m_make_specials\u001b[0m\u001b[1;33m(\u001b[0m\u001b[1;33m)\u001b[0m\u001b[1;33m\u001b[0m\u001b[1;33m\u001b[0m\u001b[0m\n\u001b[0;32m    331\u001b[0m         \u001b[1;32melif\u001b[0m \u001b[0mname\u001b[0m \u001b[1;33m==\u001b[0m \u001b[1;34m\"_disp_methods_\"\u001b[0m\u001b[1;33m:\u001b[0m\u001b[1;33m\u001b[0m\u001b[1;33m\u001b[0m\u001b[0m\n",
      "\u001b[1;32mC:\\ProgramData\\Anaconda3\\envs\\my_hranalytics\\lib\\site-packages\\comtypes\\__init__.py\u001b[0m in \u001b[0;36m_make_methods\u001b[1;34m(self, methods)\u001b[0m\n\u001b[0;32m    696\u001b[0m             \u001b[0mrestype\u001b[0m\u001b[1;33m,\u001b[0m \u001b[0mname\u001b[0m\u001b[1;33m,\u001b[0m \u001b[0margtypes\u001b[0m\u001b[1;33m,\u001b[0m \u001b[0mparamflags\u001b[0m\u001b[1;33m,\u001b[0m \u001b[0midlflags\u001b[0m\u001b[1;33m,\u001b[0m \u001b[0mdoc\u001b[0m \u001b[1;33m=\u001b[0m \u001b[0mitem\u001b[0m\u001b[1;33m\u001b[0m\u001b[1;33m\u001b[0m\u001b[0m\n\u001b[0;32m    697\u001b[0m             \u001b[1;31m# the function prototype\u001b[0m\u001b[1;33m\u001b[0m\u001b[1;33m\u001b[0m\u001b[1;33m\u001b[0m\u001b[0m\n\u001b[1;32m--> 698\u001b[1;33m             \u001b[0mprototype\u001b[0m \u001b[1;33m=\u001b[0m \u001b[0mWINFUNCTYPE\u001b[0m\u001b[1;33m(\u001b[0m\u001b[0mrestype\u001b[0m\u001b[1;33m,\u001b[0m \u001b[1;33m*\u001b[0m\u001b[0margtypes\u001b[0m\u001b[1;33m)\u001b[0m\u001b[1;33m\u001b[0m\u001b[1;33m\u001b[0m\u001b[0m\n\u001b[0m\u001b[0;32m    699\u001b[0m \u001b[1;33m\u001b[0m\u001b[0m\n\u001b[0;32m    700\u001b[0m             \u001b[1;31m# a low level unbound method calling the com method.\u001b[0m\u001b[1;33m\u001b[0m\u001b[1;33m\u001b[0m\u001b[1;33m\u001b[0m\u001b[0m\n",
      "\u001b[1;32mC:\\ProgramData\\Anaconda3\\envs\\my_hranalytics\\lib\\ctypes\\__init__.py\u001b[0m in \u001b[0;36mWINFUNCTYPE\u001b[1;34m(restype, *argtypes, **kw)\u001b[0m\n\u001b[0;32m    121\u001b[0m             \u001b[1;32mreturn\u001b[0m \u001b[0m_win_functype_cache\u001b[0m\u001b[1;33m[\u001b[0m\u001b[1;33m(\u001b[0m\u001b[0mrestype\u001b[0m\u001b[1;33m,\u001b[0m \u001b[0margtypes\u001b[0m\u001b[1;33m,\u001b[0m \u001b[0mflags\u001b[0m\u001b[1;33m)\u001b[0m\u001b[1;33m]\u001b[0m\u001b[1;33m\u001b[0m\u001b[1;33m\u001b[0m\u001b[0m\n\u001b[0;32m    122\u001b[0m         \u001b[1;32mexcept\u001b[0m \u001b[0mKeyError\u001b[0m\u001b[1;33m:\u001b[0m\u001b[1;33m\u001b[0m\u001b[1;33m\u001b[0m\u001b[0m\n\u001b[1;32m--> 123\u001b[1;33m             \u001b[1;32mclass\u001b[0m \u001b[0mWinFunctionType\u001b[0m\u001b[1;33m(\u001b[0m\u001b[0m_CFuncPtr\u001b[0m\u001b[1;33m)\u001b[0m\u001b[1;33m:\u001b[0m\u001b[1;33m\u001b[0m\u001b[1;33m\u001b[0m\u001b[0m\n\u001b[0m\u001b[0;32m    124\u001b[0m                 \u001b[0m_argtypes_\u001b[0m \u001b[1;33m=\u001b[0m \u001b[0margtypes\u001b[0m\u001b[1;33m\u001b[0m\u001b[1;33m\u001b[0m\u001b[0m\n\u001b[0;32m    125\u001b[0m                 \u001b[0m_restype_\u001b[0m \u001b[1;33m=\u001b[0m \u001b[0mrestype\u001b[0m\u001b[1;33m\u001b[0m\u001b[1;33m\u001b[0m\u001b[0m\n",
      "\u001b[1;31mTypeError\u001b[0m: item 2 in _argtypes_ passes a union by value, which is unsupported."
     ]
    }
   ],
   "source": [
    "from pywinauto import Desktop, Application\n",
    "\n",
    "Application().start('explorer.exe \"C:\\\\Program Files\"')\n",
    "\n",
    "# connect to another process spawned by explorer.exe\n",
    "# Note: make sure the script is running as Administrator!\n",
    "app = Application(backend=\"uia\").connect(path=\"explorer.exe\", title=path_to_open)\n",
    "\n",
    "app.ProgramFiles.set_focus()"
   ]
  },
  {
   "cell_type": "markdown",
   "metadata": {},
   "source": [
    "The examples below come from https://github.com/pywinauto/pywinauto/tree/master/examples.\n",
    "\n",
    "They are NOT complete yet. "
   ]
  },
  {
   "cell_type": "markdown",
   "metadata": {},
   "source": [
    "## Launch Windows Notepad and Enter in Some Text"
   ]
  },
  {
   "cell_type": "code",
   "execution_count": null,
   "metadata": {},
   "outputs": [],
   "source": [
    "from pywinauto.application import Application\n",
    "app = Application().start(\"notepad.exe\")\n",
    "\n",
    "app.UntitledNotepad.menu_select(\"Help->About Notepad\")\n",
    "app.AboutNotepad.OK.click()\n",
    "app.UntitledNotepad.Edit.type_keys(\"pywinauto Works!\", with_spaces = True)\n",
    "\n",
    "# app.ProgramFiles.set_focus()"
   ]
  },
  {
   "cell_type": "code",
   "execution_count": null,
   "metadata": {},
   "outputs": [],
   "source": [
    "## Launch Windows Notepad and Paste in Clipboard Data "
   ]
  },
  {
   "cell_type": "markdown",
   "metadata": {},
   "source": [
    "# EXCEL Tips and Tricks"
   ]
  },
  {
   "cell_type": "markdown",
   "metadata": {},
   "source": [
    "# GUI to Select and Open Excel Worksheet"
   ]
  },
  {
   "cell_type": "code",
   "execution_count": 7,
   "metadata": {
    "ExecuteTime": {
     "end_time": "2019-07-27T00:56:50.155252Z",
     "start_time": "2019-07-27T00:56:38.863106Z"
    }
   },
   "outputs": [
    {
     "name": "stdout",
     "output_type": "stream",
     "text": [
      "NOW CHECK FOR A NEW TKINTER POP-UNDER WINDOW\n",
      "Make sure that you close the Tkinter window, because otherwise it will continue to run in the background!\n"
     ]
    },
    {
     "name": "stderr",
     "output_type": "stream",
     "text": [
      "Exception in Tkinter callback\n",
      "Traceback (most recent call last):\n",
      "  File \"C:\\ProgramData\\Anaconda3\\envs\\my_hranalytics\\lib\\tkinter\\__init__.py\", line 1705, in __call__\n",
      "    return self.func(*args)\n",
      "  File \"<ipython-input-7-df51664b6938>\", line 18, in getExcel\n",
      "    excel_df = pd.read_excel(import_file_path)\n",
      "  File \"C:\\ProgramData\\Anaconda3\\envs\\my_hranalytics\\lib\\site-packages\\pandas\\io\\excel\\_base.py\", line 304, in read_excel\n",
      "    io = ExcelFile(io, engine=engine)\n",
      "  File \"C:\\ProgramData\\Anaconda3\\envs\\my_hranalytics\\lib\\site-packages\\pandas\\io\\excel\\_base.py\", line 821, in __init__\n",
      "    self._reader = self._engines[engine](self._io)\n",
      "  File \"C:\\ProgramData\\Anaconda3\\envs\\my_hranalytics\\lib\\site-packages\\pandas\\io\\excel\\_xlrd.py\", line 20, in __init__\n",
      "    import_optional_dependency(\"xlrd\", extra=err_msg)\n",
      "  File \"C:\\ProgramData\\Anaconda3\\envs\\my_hranalytics\\lib\\site-packages\\pandas\\compat\\_optional.py\", line 92, in import_optional_dependency\n",
      "    raise ImportError(msg) from None\n",
      "ImportError: Missing optional dependency 'xlrd'. Install xlrd >= 1.0.0 for Excel support Use pip or conda to install xlrd.\n"
     ]
    },
    {
     "name": "stdout",
     "output_type": "stream",
     "text": [
      "\n",
      "\n",
      "The File Selected was: C:/Users/rlysakow/Desktop/00-PayEquity-WIP/data/2020.02.18_randomized_data_test.xlsx\n"
     ]
    }
   ],
   "source": [
    "# Open Excel Worksheet Using File Dialog\n",
    "# From https://datatofish.com/read_excel/\n",
    "\n",
    "# Make sure that xlrd` is installed or you will get the error: \n",
    "    # ImportError: Missing optional dependency 'xlrd'. \n",
    "    # Install xlrd >= 1.0.0 for Excel support Use pip or conda to install xlrd.`\n",
    "    \n",
    "import tkinter as tk\n",
    "from tkinter import filedialog\n",
    "import pandas as pd\n",
    "\n",
    "root = tk.Tk()\n",
    "\n",
    "canvas1 = tk.Canvas(root, width = 300, height = 300, bg = 'lightsteelblue')\n",
    "canvas1.pack()\n",
    "\n",
    "def getExcel():\n",
    "    global excel_df\n",
    "    global import_file_path\n",
    "    \n",
    "    import_file_path = filedialog.askopenfilename()\n",
    "    excel_df = pd.read_excel(import_file_path)\n",
    "    print(excel_df)\n",
    "    return excel_df, import_file_path\n",
    "    \n",
    "browseButton_Excel = tk.Button(text='Import Excel File', command=getExcel, bg='green', fg='white', font=('helvetica', 12, 'bold'))\n",
    "canvas1.create_window(150, 150, window=browseButton_Excel)\n",
    "\n",
    "print(\"NOW CHECK FOR A NEW TKINTER POP-UNDER WINDOW\")\n",
    "\n",
    "print(\"Make sure that you close the Tkinter window, because otherwise it will continue to run in the background!\")\n",
    "\n",
    "root.mainloop()\n",
    "\n",
    "print(f\"\\n\\nThe File Selected was: {import_file_path}\")"
   ]
  },
  {
   "cell_type": "markdown",
   "metadata": {},
   "source": [
    "# Refresh External Data In Excel via existing connections and save file\n",
    "\n",
    "https://stackoverflow.com/questions/40893870/refresh-excel-external-data-with-python"
   ]
  },
  {
   "cell_type": "code",
   "execution_count": null,
   "metadata": {
    "ExecuteTime": {
     "end_time": "2019-07-27T00:43:48.288759Z",
     "start_time": "2019-07-27T00:43:01.972Z"
    }
   },
   "outputs": [],
   "source": [
    "## Launch Excel, Open and Display Working Excel File"
   ]
  },
  {
   "cell_type": "code",
   "execution_count": 136,
   "metadata": {
    "ExecuteTime": {
     "end_time": "2019-07-27T00:57:56.209672Z",
     "start_time": "2019-07-27T00:57:51.589818Z"
    }
   },
   "outputs": [
    {
     "name": "stdout",
     "output_type": "stream",
     "text": [
      "CHECK FOR A NEW EXCEL POP-UNDER WINDOW, JUST IN CASE IT DID NOT COME TO THE FRONT\n"
     ]
    }
   ],
   "source": [
    "import win32com.client\n",
    "\n",
    "def windowEnumerationHandler(hwnd, top_windows):\n",
    "    top_windows.append((hwnd, win32gui.GetWindowText(hwnd)))\n",
    "\n",
    "# Start an instance of Excel\n",
    "xlapp = win32com.client.DispatchEx(\"Excel.Application\")\n",
    "\n",
    "path_to_excel_workbook = import_file_path\n",
    "\n",
    "# Open the workbook in said instance of Excel\n",
    "wb = xlapp.workbooks.open(path_to_excel_workbook)\n",
    "\n",
    "# Optional, e.g. if you want to debug\n",
    "xlapp.Visible = True\n",
    "\n",
    "print(\"IN A FEW SECONDS, CHECK FOR A NEW EXCEL POP-UNDER WINDOW, JUST IN CASE IT DID NOT COME TO THE FRONT\")"
   ]
  },
  {
   "cell_type": "markdown",
   "metadata": {},
   "source": [
    "If you want to examine Windows GUI Handlers that are active, and see the Handler Number that Excel uses, in order to bring it to the front, then execute the cell below.\n",
    "\n",
    "Windows is tricky in how it handles API calls to Windows GUI Objects, and things are not documented well.  \n",
    "\n",
    "A GUI application behaviour is often unstable and your script needs waiting until a new window appears or an existing window is closed/hidden. pywinauto can flexibly wait for a dialog initialization implicitly (with the default timeout) or explicitly using dedicated methods/functions that could help you to make your code easier and more reliable.\n",
    "\n",
    "So, it may be better to use PyWinAuto"
   ]
  },
  {
   "cell_type": "code",
   "execution_count": 130,
   "metadata": {
    "ExecuteTime": {
     "end_time": "2019-07-27T00:50:16.518032Z",
     "start_time": "2019-07-27T00:50:16.502115Z"
    }
   },
   "outputs": [
    {
     "name": "stdout",
     "output_type": "stream",
     "text": [
      "(131142, 'G')\n",
      "(722122, '')\n",
      "(208284, '')\n",
      "(197090, '')\n",
      "(197094, '')\n",
      "(197106, '')\n",
      "(467262, '')\n",
      "(2503130, '')\n",
      "(197282, '')\n",
      "(197286, '')\n",
      "(1771466, '')\n",
      "(3747620, '')\n",
      "(208276, '')\n",
      "(197154, '')\n",
      "(467228, '')\n",
      "(264288, '')\n",
      "(197128, '')\n",
      "(2105776, 'Battery Meter')\n",
      "(2558254, '')\n",
      "(400254, 'Network Flyout')\n",
      "(531290, '')\n",
      "(270636, '')\n",
      "(1248262, '')\n",
      "(197132, '')\n",
      "(394004, '')\n",
      "(860790, '')\n",
      "(524906, '')\n",
      "(4076470, 'HardwareMonitorWindow')\n",
      "(923504, '')\n",
      "(6042574, '')\n",
      "(4004742, '')\n",
      "(1974688, 'HardwareMonitorWindow')\n",
      "(197076, '')\n",
      "(197122, '')\n",
      "(197046, '')\n",
      "(197074, '')\n",
      "(1385414, '')\n",
      "(3678318, '')\n",
      "(930794, '')\n",
      "(4398986, '')\n",
      "(263360, 'Zoom level. Click to open the Zoom dialog box.')\n",
      "(1839130, '')\n",
      "(4855604, 'Get more add-ins for Outlook')\n",
      "(131770, '')\n",
      "(4533392, '')\n",
      "(467256, '')\n",
      "(138438, '')\n",
      "(138434, '')\n",
      "(1183730, '')\n",
      "(1585016, '')\n",
      "(271456, '')\n",
      "(199424, 'Windows-Utility-Functions-in-Jupyter-RSL-WIP-2019.07.13 - Google Chrome')\n",
      "(2765758, 'Excel')\n"
     ]
    }
   ],
   "source": [
    "import win32gui\n",
    "if __name__ == \"__main__\":\n",
    "    results = []\n",
    "    top_windows = []\n",
    "    win32gui.EnumWindows(windowEnumerationHandler, top_windows)\n",
    "    for i in top_windows:\n",
    "        print(i)\n",
    "        if \"excel\" in i[1].lower():\n",
    "#            print(i)\n",
    "            win32gui.ShowWindow(i[0],5)\n",
    "            win32gui.SetForegroundWindow(i[0])\n",
    "            break"
   ]
  },
  {
   "cell_type": "code",
   "execution_count": 137,
   "metadata": {
    "ExecuteTime": {
     "end_time": "2019-07-27T00:58:36.021795Z",
     "start_time": "2019-07-27T00:58:34.941841Z"
    }
   },
   "outputs": [
    {
     "name": "stdout",
     "output_type": "stream",
     "text": [
      "(1974214, 'Risk Type and Model information.xlsx - Excel')\n"
     ]
    }
   ],
   "source": [
    "# Script to Move Excel Application Window to Front and Give It Current Window Focus\n",
    "\n",
    "import win32gui\n",
    "# from win32gui import windowEnumerationHandler\n",
    "\n",
    "if __name__ == \"__main__\":\n",
    "    results = []\n",
    "    top_windows = []\n",
    "    win32gui.EnumWindows(windowEnumerationHandler, top_windows)\n",
    "    for i in top_windows:\n",
    "        if \"excel\" in i[1].lower():\n",
    "            print(i)\n",
    "            win32gui.ShowWindow(i[0],5)\n",
    "            win32gui.SetForegroundWindow(i[0])\n",
    "            break\n",
    "            \n",
    "# Refresh all data connections.\n",
    "#wb.RefreshAll()\n",
    "wb.Save()"
   ]
  },
  {
   "cell_type": "code",
   "execution_count": 138,
   "metadata": {
    "ExecuteTime": {
     "end_time": "2019-07-27T00:58:53.826380Z",
     "start_time": "2019-07-27T00:58:53.649696Z"
    }
   },
   "outputs": [
    {
     "name": "stdout",
     "output_type": "stream",
     "text": [
      "(2765758, 'Excel')\n"
     ]
    }
   ],
   "source": [
    "import win32gui\n",
    "\n",
    "if __name__ == \"__main__\":\n",
    "    results = []\n",
    "    top_windows = []\n",
    "    win32gui.EnumWindows(windowEnumerationHandler, top_windows)\n",
    "    for i in top_windows:\n",
    "        if \"excel\" in i[1].lower():\n",
    "            print(i)\n",
    "            win32gui.ShowWindow(i[0],5)\n",
    "            win32gui.SetForegroundWindow(i[0])\n",
    "            break"
   ]
  },
  {
   "cell_type": "markdown",
   "metadata": {
    "ExecuteTime": {
     "end_time": "2019-07-27T00:59:35.028197Z",
     "start_time": "2019-07-27T00:59:35.025189Z"
    }
   },
   "source": [
    "### NOW QUIT THIS NEW EXCEL PROCESS !! "
   ]
  },
  {
   "cell_type": "code",
   "execution_count": 141,
   "metadata": {
    "ExecuteTime": {
     "end_time": "2019-07-27T00:59:44.683845Z",
     "start_time": "2019-07-27T00:59:44.679324Z"
    }
   },
   "outputs": [],
   "source": [
    "# Quit\n",
    "xlapp.Quit()"
   ]
  },
  {
   "cell_type": "markdown",
   "metadata": {
    "ExecuteTime": {
     "end_time": "2019-07-27T00:22:23.298903Z",
     "start_time": "2019-07-27T00:22:23.288857Z"
    }
   },
   "source": [
    "# PyWinAuto - Windows GUI Automation Macros in Python\n",
    "\n",
    "**pywinauto** pywinauto is a set of python modules to automate the Microsoft Windows GUI. At its simplest it allows you to send mouse and keyboard actions to windows dialogs and controls, but it has support for more complex actions like getting text data.\n",
    "\n",
    "Supported technologies under the hood: Win32 API (backend=\"win32\"; used by default), MS UI Automation (backend=\"uia\"). User input emulation modules mouse and keyboard work on both Windows and Linux.\n",
    "\n",
    "A GUI application behaviour is often unstable and your script needs waiting until a new window appears or an existing window is closed/hidden. pywinauto can flexibly wait for a dialog initialization implicitly (with the default timeout) or explicitly using dedicated methods/functions that could help you to make your code easier and more reliable.\n",
    "\n",
    "https://pywinauto.github.io/\n",
    "https://github.com/pywinauto/pywinauto"
   ]
  },
  {
   "cell_type": "code",
   "execution_count": null,
   "metadata": {
    "ExecuteTime": {
     "end_time": "2019-07-27T00:52:40.311930Z",
     "start_time": "2019-07-27T00:52:34.195090Z"
    }
   },
   "outputs": [],
   "source": [
    "import pywinauto\n",
    "from pywinauto.application import Application\n",
    "\n",
    "# Run a target application\n",
    "app = Application().start(\"notepad.exe\")\n",
    "\n",
    "# Select a menu item\n",
    "app.UntitledNotepad.menu_select(\"Help->About Notepad\")\n",
    "\n",
    "# Click on a button\n",
    "app.AboutNotepad.OK.click()\n",
    "\n",
    "my_string = \"pywinauto Can Launch Any Application and drive it's interface.  It Works!\"\n",
    "\n",
    "# Insert the text string\n",
    "app.UntitledNotepad.Edit.type_keys(\"pywinauto can launch any application and drive it.\", with_spaces = True)"
   ]
  },
  {
   "cell_type": "markdown",
   "metadata": {
    "ExecuteTime": {
     "end_time": "2019-07-27T00:32:23.958311Z",
     "start_time": "2019-07-27T00:32:17.666427Z"
    }
   },
   "source": [
    "You may need a time delay before inserting strings, because the Windows GUI is not a real-time interrupt driven system and may receive other events that it handles in the interim."
   ]
  },
  {
   "cell_type": "code",
   "execution_count": 134,
   "metadata": {
    "ExecuteTime": {
     "end_time": "2019-07-27T00:53:13.918201Z",
     "start_time": "2019-07-27T00:53:12.056044Z"
    }
   },
   "outputs": [
    {
     "data": {
      "text/plain": [
       "<win32_controls.EditWrapper - 'p', Edit, 5709374>"
      ]
     },
     "execution_count": 134,
     "metadata": {},
     "output_type": "execute_result"
    }
   ],
   "source": [
    "from pywinauto.application import Application\n",
    "# Run a target application\n",
    "app = Application().start(\"notepad.exe\")\n",
    "# Select a menu item\n",
    "app.UntitledNotepad.menu_select(\"Help->About Notepad\")\n",
    "# Click on a button\n",
    "app.AboutNotepad.OK.click()\n",
    "# Type a text string\n",
    "app.UntitledNotepad.Edit.type_keys(\"pywinauto Works!\", with_spaces = True)"
   ]
  },
  {
   "cell_type": "markdown",
   "metadata": {},
   "source": [
    "# Use TKinter GUI"
   ]
  },
  {
   "cell_type": "code",
   "execution_count": 19,
   "metadata": {
    "ExecuteTime": {
     "end_time": "2019-07-26T23:43:42.994653Z",
     "start_time": "2019-07-26T23:43:39.391374Z"
    }
   },
   "outputs": [
    {
     "name": "stdout",
     "output_type": "stream",
     "text": [
      "Hello Everyone in the World!\n",
      "Hello Everyone in the World!\n",
      "Hello Everyone in the World!\n",
      "Hello Everyone in the World!\n",
      "Hello Everyone in the World!\n",
      "\n"
     ]
    }
   ],
   "source": [
    "from tkinter import *\n",
    "\n",
    "class Application(Frame):\n",
    "    \"\"\" Demo the `object-oriented` way to construct a GUI using Tkinter.\n",
    "        The buttons in these widgets auto-size themselves.\n",
    "        The Frame autosizes (\"autopacks\") itself to enclose the buttons.\n",
    "        https://stackoverflow.com/questions/13326940/python-tkinter-how-to-bind-key-to-a-button\n",
    "    \"\"\"\n",
    "    \n",
    "    def __init__(self, master=None):\n",
    "        Frame.__init__(self, master)\n",
    "        self.pack()\n",
    "        self.createWidgets()\n",
    "        master.wm_title(\"Hello It's Me\")\n",
    "\n",
    "    def say_hi(self):\n",
    "        print( 5 * \"Hello Everyone in the World!\\n\")\n",
    "        \n",
    "    def createWidgets(self):\n",
    "        self.QUIT = Button(self)\n",
    "        self.QUIT[\"text\"] = \"QUIT\"\n",
    "        self.QUIT[\"fg\"]   = \"red\"\n",
    "        self.QUIT[\"command\"] =  self.quit\n",
    "\n",
    "        self.QUIT.pack({\"side\": \"bottom\"})\n",
    "        \n",
    "        self.hi_there = Button(self)\n",
    "        self.hi_there[\"text\"] = \"Hello it's Me... Do you want to say Hello?\",\n",
    "        self.hi_there[\"command\"] = self.say_hi\n",
    "\n",
    "        self.hi_there.pack({\"side\": \"left\"})\n",
    "\n",
    "root = Tk()\n",
    "app = Application(master=root)\n",
    "app.mainloop()\n",
    "root.destroy()"
   ]
  },
  {
   "cell_type": "markdown",
   "metadata": {},
   "source": [
    "## Sources for Additional Windows Utilities Techniques to Include "
   ]
  },
  {
   "cell_type": "markdown",
   "metadata": {},
   "source": [
    "https://www.techbeamers.com/python-shutil-module/"
   ]
  },
  {
   "cell_type": "markdown",
   "metadata": {
    "ExecuteTime": {
     "end_time": "2019-07-27T01:08:18.354770Z",
     "start_time": "2019-07-27T01:08:18.351261Z"
    }
   },
   "source": [
    "# Installing Python Modules From Within Your Program"
   ]
  },
  {
   "cell_type": "markdown",
   "metadata": {},
   "source": [
    "See StackOverflow for more information on how to do this:  \n",
    "    \n",
    "    https://stackoverflow.com/questions/12332975/installing-python-module-within-code/24773951\n",
    "\n",
    "If you want to use pip to install required package and import it after installation, you can use this code:"
   ]
  },
  {
   "cell_type": "code",
   "execution_count": null,
   "metadata": {
    "ExecuteTime": {
     "end_time": "2019-07-27T01:12:46.237656Z",
     "start_time": "2019-07-27T01:12:46.219305Z"
    }
   },
   "outputs": [],
   "source": [
    "import pip\n",
    "\n",
    "def install(package):\n",
    "    if hasattr(pip, 'main'):\n",
    "        pip.main(['install', package])\n",
    "    else:\n",
    "        pip._internal.main(['install', package])\n",
    "\n",
    "# Example\n",
    "if __name__ == '__main__':\n",
    "    install('argh')"
   ]
  },
  {
   "cell_type": "markdown",
   "metadata": {},
   "source": [
    "## Conditional Installation of Python modules using PIP\n",
    "\n",
    "Or use Python's `importlib` package to do \"Install and Import\" operations."
   ]
  },
  {
   "cell_type": "code",
   "execution_count": 156,
   "metadata": {
    "ExecuteTime": {
     "end_time": "2019-07-27T01:22:56.218622Z",
     "start_time": "2019-07-27T01:22:56.186649Z"
    }
   },
   "outputs": [
    {
     "name": "stdout",
     "output_type": "stream",
     "text": [
      "No module named transliterate.\n"
     ]
    },
    {
     "ename": "ModuleNotFoundError",
     "evalue": "No module named 'transliterate'",
     "output_type": "error",
     "traceback": [
      "\u001b[1;31m---------------------------------------------------------------------------\u001b[0m",
      "\u001b[1;31mModuleNotFoundError\u001b[0m                       Traceback (most recent call last)",
      "\u001b[1;32m<ipython-input-156-6bf18bcd5d3f>\u001b[0m in \u001b[0;36m<module>\u001b[1;34m\u001b[0m\n\u001b[0;32m     11\u001b[0m         \u001b[0mglobals\u001b[0m\u001b[1;33m(\u001b[0m\u001b[1;33m)\u001b[0m\u001b[1;33m[\u001b[0m\u001b[0mpackage\u001b[0m\u001b[1;33m]\u001b[0m \u001b[1;33m=\u001b[0m \u001b[0mimportlib\u001b[0m\u001b[1;33m.\u001b[0m\u001b[0mimport_module\u001b[0m\u001b[1;33m(\u001b[0m\u001b[0mpackage\u001b[0m\u001b[1;33m)\u001b[0m\u001b[1;33m\u001b[0m\u001b[1;33m\u001b[0m\u001b[0m\n\u001b[0;32m     12\u001b[0m \u001b[1;33m\u001b[0m\u001b[0m\n\u001b[1;32m---> 13\u001b[1;33m \u001b[0minstall_and_import\u001b[0m\u001b[1;33m(\u001b[0m\u001b[1;34m'transliterate'\u001b[0m\u001b[1;33m)\u001b[0m\u001b[1;33m\u001b[0m\u001b[1;33m\u001b[0m\u001b[0m\n\u001b[0m",
      "\u001b[1;32m<ipython-input-156-6bf18bcd5d3f>\u001b[0m in \u001b[0;36minstall_and_import\u001b[1;34m(package)\u001b[0m\n\u001b[0;32m      9\u001b[0m         \u001b[0mpip\u001b[0m\u001b[1;33m.\u001b[0m\u001b[0mmain\u001b[0m\u001b[1;33m(\u001b[0m\u001b[1;33m[\u001b[0m\u001b[1;34m'install'\u001b[0m\u001b[1;33m,\u001b[0m \u001b[0mpackage\u001b[0m\u001b[1;33m]\u001b[0m\u001b[1;33m)\u001b[0m\u001b[1;33m\u001b[0m\u001b[1;33m\u001b[0m\u001b[0m\n\u001b[0;32m     10\u001b[0m     \u001b[1;32mfinally\u001b[0m\u001b[1;33m:\u001b[0m\u001b[1;33m\u001b[0m\u001b[1;33m\u001b[0m\u001b[0m\n\u001b[1;32m---> 11\u001b[1;33m         \u001b[0mglobals\u001b[0m\u001b[1;33m(\u001b[0m\u001b[1;33m)\u001b[0m\u001b[1;33m[\u001b[0m\u001b[0mpackage\u001b[0m\u001b[1;33m]\u001b[0m \u001b[1;33m=\u001b[0m \u001b[0mimportlib\u001b[0m\u001b[1;33m.\u001b[0m\u001b[0mimport_module\u001b[0m\u001b[1;33m(\u001b[0m\u001b[0mpackage\u001b[0m\u001b[1;33m)\u001b[0m\u001b[1;33m\u001b[0m\u001b[1;33m\u001b[0m\u001b[0m\n\u001b[0m\u001b[0;32m     12\u001b[0m \u001b[1;33m\u001b[0m\u001b[0m\n\u001b[0;32m     13\u001b[0m \u001b[0minstall_and_import\u001b[0m\u001b[1;33m(\u001b[0m\u001b[1;34m'transliterate'\u001b[0m\u001b[1;33m)\u001b[0m\u001b[1;33m\u001b[0m\u001b[1;33m\u001b[0m\u001b[0m\n",
      "\u001b[1;32mC:\\Anaconda3\\lib\\importlib\\__init__.py\u001b[0m in \u001b[0;36mimport_module\u001b[1;34m(name, package)\u001b[0m\n\u001b[0;32m    125\u001b[0m                 \u001b[1;32mbreak\u001b[0m\u001b[1;33m\u001b[0m\u001b[1;33m\u001b[0m\u001b[0m\n\u001b[0;32m    126\u001b[0m             \u001b[0mlevel\u001b[0m \u001b[1;33m+=\u001b[0m \u001b[1;36m1\u001b[0m\u001b[1;33m\u001b[0m\u001b[1;33m\u001b[0m\u001b[0m\n\u001b[1;32m--> 127\u001b[1;33m     \u001b[1;32mreturn\u001b[0m \u001b[0m_bootstrap\u001b[0m\u001b[1;33m.\u001b[0m\u001b[0m_gcd_import\u001b[0m\u001b[1;33m(\u001b[0m\u001b[0mname\u001b[0m\u001b[1;33m[\u001b[0m\u001b[0mlevel\u001b[0m\u001b[1;33m:\u001b[0m\u001b[1;33m]\u001b[0m\u001b[1;33m,\u001b[0m \u001b[0mpackage\u001b[0m\u001b[1;33m,\u001b[0m \u001b[0mlevel\u001b[0m\u001b[1;33m)\u001b[0m\u001b[1;33m\u001b[0m\u001b[1;33m\u001b[0m\u001b[0m\n\u001b[0m\u001b[0;32m    128\u001b[0m \u001b[1;33m\u001b[0m\u001b[0m\n\u001b[0;32m    129\u001b[0m \u001b[1;33m\u001b[0m\u001b[0m\n",
      "\u001b[1;32mC:\\Anaconda3\\lib\\importlib\\_bootstrap.py\u001b[0m in \u001b[0;36m_gcd_import\u001b[1;34m(name, package, level)\u001b[0m\n",
      "\u001b[1;32mC:\\Anaconda3\\lib\\importlib\\_bootstrap.py\u001b[0m in \u001b[0;36m_find_and_load\u001b[1;34m(name, import_)\u001b[0m\n",
      "\u001b[1;32mC:\\Anaconda3\\lib\\importlib\\_bootstrap.py\u001b[0m in \u001b[0;36m_find_and_load_unlocked\u001b[1;34m(name, import_)\u001b[0m\n",
      "\u001b[1;31mModuleNotFoundError\u001b[0m: No module named 'transliterate'"
     ]
    }
   ],
   "source": [
    "def install_and_import(package):\n",
    "    import importlib\n",
    "    try:\n",
    "        importlib.import_module(package)\n",
    "    except ModuleNotFoundError: \n",
    "        print(f\"No module named {package}.\")\n",
    "    except ImportError:\n",
    "        import pip\n",
    "        pip.main(['install', package])\n",
    "    finally:\n",
    "        globals()[package] = importlib.import_module(package)\n",
    "\n",
    "install_and_import('transliterate')"
   ]
  },
  {
   "cell_type": "markdown",
   "metadata": {},
   "source": [
    "# Launch A Web Browser"
   ]
  },
  {
   "cell_type": "code",
   "execution_count": 173,
   "metadata": {
    "ExecuteTime": {
     "end_time": "2019-07-30T02:14:33.147267Z",
     "start_time": "2019-07-30T02:14:21.084796Z"
    }
   },
   "outputs": [
    {
     "name": "stdout",
     "output_type": "stream",
     "text": [
      "Google search:Practical Business Python\n"
     ]
    },
    {
     "data": {
      "text/plain": [
       "True"
      ]
     },
     "execution_count": 173,
     "metadata": {},
     "output_type": "execute_result"
    }
   ],
   "source": [
    "import webbrowser\n",
    "google = input('Google search:')\n",
    "webbrowser.open_new_tab('http://www.google.com/search?btnG=1&q=%s' % google)"
   ]
  },
  {
   "cell_type": "code",
   "execution_count": null,
   "metadata": {},
   "outputs": [],
   "source": []
  }
 ],
 "metadata": {
  "finalized": {
   "timestamp": 1583039411987,
   "trusted": false
  },
  "hide_input": false,
  "kernelspec": {
   "display_name": "Python 3",
   "language": "python",
   "name": "python3"
  },
  "language_info": {
   "codemirror_mode": {
    "name": "ipython",
    "version": 3
   },
   "file_extension": ".py",
   "mimetype": "text/x-python",
   "name": "python",
   "nbconvert_exporter": "python",
   "pygments_lexer": "ipython3",
   "version": "3.7.4"
  },
  "toc": {
   "base_numbering": 1,
   "nav_menu": {},
   "number_sections": true,
   "sideBar": true,
   "skip_h1_title": false,
   "title_cell": "Table of Contents",
   "title_sidebar": "Contents",
   "toc_cell": false,
   "toc_position": {
    "height": "calc(100% - 180px)",
    "left": "10px",
    "top": "150px",
    "width": "333.239px"
   },
   "toc_section_display": true,
   "toc_window_display": true
  },
  "varInspector": {
   "cols": {
    "lenName": 16,
    "lenType": 16,
    "lenVar": 40
   },
   "kernels_config": {
    "python": {
     "delete_cmd_postfix": "",
     "delete_cmd_prefix": "del ",
     "library": "var_list.py",
     "varRefreshCmd": "print(var_dic_list())"
    },
    "r": {
     "delete_cmd_postfix": ") ",
     "delete_cmd_prefix": "rm(",
     "library": "var_list.r",
     "varRefreshCmd": "cat(var_dic_list()) "
    }
   },
   "types_to_exclude": [
    "module",
    "function",
    "builtin_function_or_method",
    "instance",
    "_Feature"
   ],
   "window_display": true
  }
 },
 "nbformat": 4,
 "nbformat_minor": 2
}
