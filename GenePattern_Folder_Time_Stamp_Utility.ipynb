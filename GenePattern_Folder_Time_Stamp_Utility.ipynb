{
 "cells": [
  {
   "cell_type": "markdown",
   "metadata": {},
   "source": [
    "## About this nootebook "
   ]
  },
  {
   "cell_type": "markdown",
   "metadata": {},
   "source": [
    "in this notebook we use nbtools package to create the folder structure as below :\n",
    "\n",
    "project_root\n",
    "\n",
    "    |-------2020-03-14_16-02-55  ==> datetime_stampted folder\n",
    "                  |-------data\n",
    "                  |-------input\n",
    "                  |-------models\n",
    "                  |-------output\n",
    "                  |-------plots\n",
    "                  |-------scripts\n",
    "                  \n",
    "    |-------2020-03-14_16-02-59  ==> datetime_stampted folder\n",
    "                  |-------data\n",
    "                  |-------input\n",
    "                  |-------models\n",
    "                  |-------output\n",
    "                  |-------plots\n",
    "                  |-------scripts    "
   ]
  },
  {
   "cell_type": "markdown",
   "metadata": {},
   "source": [
    "## Python Package `imports` and Utility Functions"
   ]
  },
  {
   "cell_type": "code",
   "execution_count": 6,
   "metadata": {},
   "outputs": [],
   "source": [
    "import errno\n",
    "import nbtools\n",
    "import os\n",
    "from datetime import datetime"
   ]
  },
  {
   "cell_type": "code",
   "execution_count": 8,
   "metadata": {},
   "outputs": [],
   "source": [
    "def addtimestamp(foldername):\n",
    "    \"\"\"gets <foldername> as input and return <foldername>\\\\'%Y-%m-%d_%H-%M-%S'\"\"\"\n",
    "    return os.path.join(foldername,datetime.now().strftime('%Y-%m-%d_%H-%M-%S'))"
   ]
  },
  {
   "cell_type": "code",
   "execution_count": null,
   "metadata": {},
   "outputs": [],
   "source": [
    "# Create Project Folders\n",
    "\n",
    "All projects are created under the top-level "
   ]
  },
  {
   "cell_type": "code",
   "execution_count": 21,
   "metadata": {
    "nbtools": {
     "description": "Override parameter defaults",
     "name": "create_directory_structure",
     "origin": "Notebook",
     "param_values": {
      "Data_Folder": "data",
      "Input_Folder": "input",
      "Models_Folder": "models",
      "Output_Folder": "output",
      "Plots_Folder": "plots",
      "Proj_Folder": "root_project",
      "Scripts_Folder": "scripts",
      "output_var": "{Proj_Folders_output}"
     },
     "show_code": true,
     "type": "uibuilder"
    }
   },
   "outputs": [
    {
     "data": {
      "application/vnd.jupyter.widget-view+json": {
       "model_id": "ba7f243d97e049b8a99f1c5b2469e2a6",
       "version_major": 2,
       "version_minor": 0
      },
      "text/plain": [
       "UIBuilder(description='Override parameter defaults', function_import='nbtools.tool(id=\"create_directory_struct…"
      ]
     },
     "metadata": {},
     "output_type": "display_data"
    },
    {
     "data": {
      "application/javascript": [
       "\n",
       "            NBToolManager.instance().register(new NBToolManager.NBTool({\n",
       "                origin: \"Notebook\",\n",
       "                id: \"create_directory_structure\",\n",
       "                name: \"create_directory_structure\",\n",
       "                description: \"Override parameter defaults\",\n",
       "                version: \"null\",\n",
       "                tags: null,\n",
       "                attributes: null,\n",
       "                load: function() { return true; },\n",
       "                render: function() { let code = \"nbtools.tool(id='create_directory_structure', origin='Notebook')\";\n",
       "                let cell = Jupyter.notebook.get_selected_cell();\n",
       "                const is_empty = cell.get_text().trim() === \"\";\n",
       "\n",
       "                // If this cell is not empty, insert a new cell and use that\n",
       "                // Otherwise just use this cell\n",
       "                if (!is_empty) {\n",
       "                    cell = Jupyter.notebook.insert_cell_below();\n",
       "                    Jupyter.notebook.select_next();\n",
       "                }\n",
       "\n",
       "                cell.set_text(code);\n",
       "                cell.execute();\n",
       "\n",
       "                return cell; },\n",
       "            }));"
      ]
     },
     "metadata": {},
     "output_type": "display_data"
    }
   ],
   "source": [
    "@nbtools.build_ui(parameters={\n",
    "    \"Proj_Folder\": {\n",
    "        \"name\": \"Proj_Folder\",\n",
    "        \"description\": \"The result of run will save in this directory.\",\n",
    "        \"default\": \"project_root\",\n",
    "        \"optional\": True\n",
    "    },\n",
    "    \n",
    "    \"Data_Folder\": {\n",
    "        \"name\": \"Data_Folder\",\n",
    "        \"description\": \"The data is saved in this directory.\",\n",
    "        \"default\": \"data\",\n",
    "        \"optional\": True\n",
    "    },\n",
    "    \n",
    "    \"Input_Folder\": {\n",
    "        \"name\": \"Input_Folder\",\n",
    "        \"description\": \"The input are saved in this directory.\",\n",
    "        \"default\": \"input\",\n",
    "        \"optional\": True\n",
    "    },\n",
    "    \n",
    "    \"Models_Folder\": {\n",
    "        \"name\": \"Models_Folder\",\n",
    "        \"description\": \"The models are in this directory.\",\n",
    "        \"default\": \"models\",\n",
    "        \"optional\": True\n",
    "    },\n",
    "    \n",
    "    \"Output_Folder\": {\n",
    "        \"name\": \"Output_Folder\",\n",
    "        \"description\": \"The models' output will save in this directory.\",\n",
    "        \"default\": \"output\",\n",
    "        \"optional\": True\n",
    "    },\n",
    "\n",
    "    \"Plots_Folder\": {\n",
    "        \"name\": \"Plots_Folder\",\n",
    "        \"description\": \"The generated plots will save in this directory.\",\n",
    "        \"default\": \"plots\",\n",
    "        \"optional\": True\n",
    "    },\n",
    "    \n",
    "    \"Scripts_Folder\": {\n",
    "        \"name\": \"Scripts_Folder\",\n",
    "        \"description\": \"The scripts of experiment are save in this directory.\",\n",
    "        \"default\": \"scripts\",\n",
    "        \"optional\": True\n",
    "    }    \n",
    "})\n",
    "def create_directory_structure(Proj_Folder, Data_Folder, Input_Folder, Models_Folder, Output_Folder, \n",
    "                               Plots_Folder, Scripts_Folder):\n",
    "    \n",
    "    \"\"\"Override parameter defaults\"\"\"\n",
    "    global Proj_FN, Data_FN, Input_FN, Models_FN, Output_FN, Plots_FN, Scripts_FN\n",
    "    Proj_FN = Proj_Folder\n",
    "    Data_FN = Data_Folder\n",
    "    Input_FN = Input_Folder\n",
    "    Models_FN = Models_Folder\n",
    "    Output_FN = Output_Folder\n",
    "    Plots_FN = Plots_Folder\n",
    "    Scripts_FN = Scripts_Folder\n",
    "    \n",
    "    # create the structure is it's not exist\n",
    "    root = os.getcwd()\n",
    "    os.chdir(root)\n",
    "    try:\n",
    "        Proj_FN_Time_Stamped = addtimestamp(Proj_FN)\n",
    "        if (not os.path.isdir(os.path.join(os.getcwd(), Proj_FN_Time_Stamped))):\n",
    "            os.makedirs(Proj_FN_Time_Stamped)\n",
    "        \n",
    "        os.chdir(Proj_FN_Time_Stamped)\n",
    "        \n",
    "        if (not os.path.isdir(os.path.join(os.getcwd(), Data_FN))):    \n",
    "            os.makedirs(Data_FN)\n",
    "        \n",
    "        if (not os.path.isdir(os.path.join(os.getcwd(), Input_FN))):\n",
    "            os.makedirs(Input_FN)\n",
    "            \n",
    "        if (not os.path.isdir(os.path.join(os.getcwd(), Models_FN))):    \n",
    "            os.makedirs(Models_FN)\n",
    " \n",
    "        if (not os.path.isdir(os.path.join(os.getcwd(), Output_FN))):\n",
    "            os.makedirs(Output_FN)\n",
    " \n",
    "        if (not os.path.isdir(os.path.join(os.getcwd(), Plots_FN))):\n",
    "            os.makedirs(Plots_FN)\n",
    " \n",
    "        if (not os.path.isdir(os.path.join(os.getcwd(), Scripts_FN))):       \n",
    "            os.makedirs(Scripts_FN)\n",
    "        \n",
    "        os.chdir(root) #go one level up to root directory\n",
    "\n",
    "    except OSError as e:\n",
    "        if e.errno != errno.EEXIST:\n",
    "            raise\n",
    "    return(Proj_Folders_output)"
   ]
  },
  {
   "cell_type": "code",
   "execution_count": 26,
   "metadata": {},
   "outputs": [
    {
     "name": "stdout",
     "output_type": "stream",
     "text": [
      "None\n"
     ]
    }
   ],
   "source": [
    "print(Proj_Folders_output)"
   ]
  },
  {
   "cell_type": "markdown",
   "metadata": {},
   "source": [
    "## Show User Project Folder Structure\n",
    "\n",
    "** How to do display folder structure when the notebook is running on a REMOTE web server or virtual machine?? ** "
   ]
  },
  {
   "cell_type": "code",
   "execution_count": 10,
   "metadata": {},
   "outputs": [],
   "source": [
    "# Created By: Rich Lysakowski\n",
    "# Creation Date: 7/26/2019\n",
    "# Version 0.9\n",
    "\n",
    "'''open_WinExplorer() launches a Windows File Explorer from current Jupyter Notebook's location \n",
    "(cell of execution) by taking three steps:\n",
    "\n",
    "1. Import the Python OS and Subprocess libraries \n",
    "2. Discover the Windows System directory path from the Environment variable \"WINDIR\", to get the executable for the Windows File Explorer.   \n",
    "3. Retrieve current working directory using os.cwd() to find where this notebook resides.  \n",
    "4. Feed current working directory address to Windows File Explorer and run Explorer.exe program to launch and open File Explorer immediately.  \n",
    "'''\n",
    "\n",
    "import os\n",
    "import subprocess\n",
    "\n",
    "FILEBROWSER_PATH = os.path.join(os.getenv('WINDIR'), 'explorer.exe')\n",
    "\n",
    "def open_WinExplorer(path):\n",
    "    ''' Get the current path and pass it to user-defined open_WindowsExplorer() function.\n",
    "        This opens a Windows Explorer for the Current Working Directory.  \n",
    "        After a few seconds delay Windows Explorer launches with a top-level GUI focus.'''\n",
    "    # explorer would choke on forward slashes\n",
    "    path = os.path.normpath(path)\n",
    "\n",
    "    if os.path.isdir(path):\n",
    "        subprocess.run([FILEBROWSER_PATH, path])\n",
    "    elif os.path.isfile(path):\n",
    "        subprocess.run([FILEBROWSER_PATH, '/select,', os.path.normpath(path)])\n",
    "\n",
    "open_WinExplorer(os.getcwd())"
   ]
  },
  {
   "cell_type": "code",
   "execution_count": null,
   "metadata": {},
   "outputs": [],
   "source": []
  }
 ],
 "metadata": {
  "kernelspec": {
   "display_name": "Python 3",
   "language": "python",
   "name": "python3"
  },
  "language_info": {
   "codemirror_mode": {
    "name": "ipython",
    "version": 3
   },
   "file_extension": ".py",
   "mimetype": "text/x-python",
   "name": "python",
   "nbconvert_exporter": "python",
   "pygments_lexer": "ipython3",
   "version": "3.7.4"
  },
  "toc": {
   "base_numbering": 1,
   "nav_menu": {},
   "number_sections": true,
   "sideBar": true,
   "skip_h1_title": true,
   "title_cell": "Table of Contents",
   "title_sidebar": "Contents",
   "toc_cell": false,
   "toc_position": {
    "height": "calc(100% - 180px)",
    "left": "10px",
    "top": "150px",
    "width": "165px"
   },
   "toc_section_display": true,
   "toc_window_display": true
  }
 },
 "nbformat": 4,
 "nbformat_minor": 4
}
