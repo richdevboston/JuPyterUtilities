{
 "cells": [
  {
   "cell_type": "markdown",
   "metadata": {},
   "source": [
    "# MS-Windows, Jupyter, and Python Utility Functions "
   ]
  },
  {
   "cell_type": "markdown",
   "metadata": {},
   "source": [
    "This Notebook contains many useful commands, functions, and troubleshooting tips to help Jupyter Notebook and Python users be more productive and troubleshoot when problems arise:\n",
    "\n",
    "- Windows Utility Functions\n",
    "    - Open Windows Explorer\n",
    "    - Launch Windows Applications\n",
    "- Diagnose and Troubleshoot Jupyter Notebook Server\n",
    "- Configure Pandas Functions\n",
    "    - Configure Pandas Maximum Outputs for Rows, Columns, Display Width\n",
    "    - Suppress Scientific Notation in Pandas "
   ]
  },
  {
   "cell_type": "markdown",
   "metadata": {},
   "source": [
    "# Verify the Python Virtual Environment for this Notebook"
   ]
  },
  {
   "cell_type": "code",
   "execution_count": 1,
   "metadata": {
    "ExecuteTime": {
     "end_time": "2019-10-26T17:32:34.076762Z",
     "start_time": "2019-10-26T17:32:34.072853Z"
    }
   },
   "outputs": [
    {
     "name": "stdout",
     "output_type": "stream",
     "text": [
      "C:\\ProgramData\\Anaconda3\\python.exe\n"
     ]
    }
   ],
   "source": [
    "import sys\n",
    "print(sys.executable)"
   ]
  },
  {
   "cell_type": "markdown",
   "metadata": {},
   "source": [
    "# Useful Windows Utility Functions "
   ]
  },
  {
   "cell_type": "markdown",
   "metadata": {
    "ExecuteTime": {
     "end_time": "2019-05-25T02:34:55.777939Z",
     "start_time": "2019-05-25T02:34:55.775458Z"
    }
   },
   "source": [
    "## Open Windows Explorer In This Notebook's Location"
   ]
  },
  {
   "cell_type": "markdown",
   "metadata": {},
   "source": [
    "### Function: `launch_explorer()`"
   ]
  },
  {
   "cell_type": "markdown",
   "metadata": {},
   "source": [
    "Launch Windows Explorer in the current working directory of this Jupyter notebook.\n",
    "\n",
    "How it works:  \n",
    "- Finds the current working directory using `os.getcwd()`.\n",
    "- Feeds current working directory to `launch_explore()`.\n",
    "- Finds location of Windows Explorer.exe from Windows Environment variable.\n",
    "- Launches Windows File Explorer into the Jupyter Notebook's directory."
   ]
  },
  {
   "cell_type": "code",
   "execution_count": 2,
   "metadata": {
    "ExecuteTime": {
     "end_time": "2019-10-26T17:33:03.913271Z",
     "start_time": "2019-10-26T17:33:03.767718Z"
    }
   },
   "outputs": [],
   "source": [
    "# Created By: Rich Lysakowski\n",
    "# Creation Date: 7/26/2019\n",
    "# Version 0.9\n",
    "\n",
    "'''open_WinExplorer() launches a Windows File Explorer from current Jupyter Notebook's location \n",
    "(cell of execution) by taking three steps:\n",
    "\n",
    "1. Import the Python OS and Subprocess libraries \n",
    "2. Discover the Windows System directory path from the Environment variable \"WINDIR\", to get the executable for the Windows File Explorer.   \n",
    "3. Retrieve current working directory using os.cwd() to find where this notebook resides.  \n",
    "4. Feed current working directory address to Windows File Explorer and run Explorer.exe program to launch and open File Explorer immediately.  \n",
    "'''\n",
    "\n",
    "import os\n",
    "import subprocess\n",
    "\n",
    "FILEBROWSER_PATH = os.path.join(os.getenv('WINDIR'), 'explorer.exe')\n",
    "\n",
    "def open_WinExplorer(path):\n",
    "    ''' Get and pass current path to user-defined function open_WinExplorer()\n",
    "        to open Windows Explorer in Python's current working directory.  \n",
    "        After 2-3 seconds delay Windows Explorer launches with a top-level GUI focus.'''\n",
    "    # explorer would choke on forward slashes\n",
    "    path = os.path.normpath(path)\n",
    "\n",
    "    if os.path.isdir(path):\n",
    "        subprocess.run([FILEBROWSER_PATH, path])\n",
    "    elif os.path.isfile(path):\n",
    "        subprocess.run([FILEBROWSER_PATH, '/select,', os.path.normpath(path)])\n",
    "\n",
    "open_WinExplorer(os.getcwd())"
   ]
  },
  {
   "cell_type": "code",
   "execution_count": 4,
   "metadata": {
    "ExecuteTime": {
     "end_time": "2019-09-11T19:05:55.638461Z",
     "start_time": "2019-09-11T19:05:55.451458Z"
    },
    "hide_input": true
   },
   "outputs": [],
   "source": [
    "import os\n",
    "import subprocess\n",
    "FILEBROWSER_PATH = os.path.join(os.getenv('WINDIR'), 'explorer.exe')\n",
    "\n",
    "def launch_explorer(path):\n",
    "    ''' Get and pass current path to user-defined function open_WinExplorer()\n",
    "        to open Windows Explorer in Python's current working directory.  \n",
    "        After 2-3 seconds delay Windows Explorer launches with a top-level GUI focus.'''\n",
    "    # explorer would normally choke on forward slashes\n",
    "    path = os.path.normpath(path)\n",
    "\n",
    "    if os.path.isdir(path):\n",
    "        subprocess.run([FILEBROWSER_PATH, path])\n",
    "    elif os.path.isfile(path):\n",
    "        subprocess.run([FILEBROWSER_PATH, '/select,', os.path.normpath(path)])\n",
    "        \n",
    "# Open Windows Explorer in the directory where this notebook resides\n",
    "launch_explorer(os.getcwd())"
   ]
  },
  {
   "cell_type": "markdown",
   "metadata": {},
   "source": [
    "## Getting the Users' Homepath"
   ]
  },
  {
   "cell_type": "code",
   "execution_count": 4,
   "metadata": {
    "ExecuteTime": {
     "end_time": "2019-10-26T17:33:53.298961Z",
     "start_time": "2019-10-26T17:33:53.291104Z"
    },
    "hide_input": false
   },
   "outputs": [
    {
     "data": {
      "text/plain": [
       "'C:\\\\Users\\\\lysak'"
      ]
     },
     "execution_count": 4,
     "metadata": {},
     "output_type": "execute_result"
    }
   ],
   "source": [
    "import os\n",
    "homepath = os.path.expanduser(os.getenv('USERPROFILE'))\n",
    "homepath"
   ]
  },
  {
   "cell_type": "code",
   "execution_count": 5,
   "metadata": {
    "ExecuteTime": {
     "end_time": "2019-10-26T17:33:53.937342Z",
     "start_time": "2019-10-26T17:33:53.930684Z"
    }
   },
   "outputs": [
    {
     "data": {
      "text/plain": [
       "'C:\\\\Users\\\\lysak'"
      ]
     },
     "execution_count": 5,
     "metadata": {},
     "output_type": "execute_result"
    }
   ],
   "source": [
    "os.getenv('USERPROFILE')"
   ]
  },
  {
   "cell_type": "markdown",
   "metadata": {},
   "source": [
    "### Generalized Version of Function `launch_windows_explorer()`  "
   ]
  },
  {
   "cell_type": "code",
   "execution_count": 29,
   "metadata": {
    "ExecuteTime": {
     "end_time": "2019-08-13T22:32:06.109124Z",
     "start_time": "2019-08-13T22:32:05.997125Z"
    },
    "hide_input": true
   },
   "outputs": [],
   "source": [
    "# Launches Windows Explorer from specified `path` argument\n",
    "# You must do these imports to load standard Library Functions  \n",
    "import os\n",
    "import subprocess\n",
    "\n",
    "def launch_windows_explorer(path):\n",
    "    \"\"\"\n",
    "    Launch Windows Explorer into the path specified as the argument.\n",
    "\n",
    "    How `launch_windows_explorer()` works:  \n",
    "    - Finds the current working directory using `os.getcwd()`.\n",
    "    - Feeds current working directory to `launch_explore()`.\n",
    "    - Finds location of Windows Explorer.exe from Windows Environment variable.\n",
    "    - Launches Windows File Explorer into the Jupyter Notebook's directory.\n",
    "    \"\"\"\n",
    "\n",
    "    import os\n",
    "    import subprocess\n",
    "    FILEBROWSER_PATH = os.path.join(os.getenv('WINDIR'), 'explorer.exe')\n",
    "\n",
    "    path = os.path.normpath(path)\n",
    "    if os.path.isdir(path):\n",
    "        subprocess.run([FILEBROWSER_PATH, path])\n",
    "    elif os.path.isfile(path):\n",
    "        subprocess.run([FILEBROWSER_PATH, '/select,', os.path.normpath(path)])\n",
    "\n",
    "homepath = os.path.expanduser(os.getenv('USERPROFILE'))\n",
    "\n",
    "launch_windows_explorer(homepath)"
   ]
  },
  {
   "cell_type": "markdown",
   "metadata": {},
   "source": [
    "### Getting User's Windows Login Path Desktop Directory"
   ]
  },
  {
   "cell_type": "code",
   "execution_count": 16,
   "metadata": {
    "ExecuteTime": {
     "end_time": "2019-09-12T04:03:24.893560Z",
     "start_time": "2019-09-12T04:03:24.885562Z"
    },
    "hide_input": true
   },
   "outputs": [
    {
     "data": {
      "text/plain": [
       "'C:\\\\Users\\\\lysak\\\\desktop'"
      ]
     },
     "execution_count": 16,
     "metadata": {},
     "output_type": "execute_result"
    }
   ],
   "source": [
    "my_desktop = homepath + '\\\\desktop'\n",
    "my_desktop "
   ]
  },
  {
   "cell_type": "code",
   "execution_count": 17,
   "metadata": {
    "ExecuteTime": {
     "end_time": "2019-09-12T04:03:24.893560Z",
     "start_time": "2019-09-12T04:03:24.885562Z"
    },
    "hide_input": true
   },
   "outputs": [],
   "source": [
    "launch_windows_explorer(my_desktop)"
   ]
  },
  {
   "cell_type": "markdown",
   "metadata": {},
   "source": [
    "### Getting User's OneDrive Desktop Path"
   ]
  },
  {
   "cell_type": "code",
   "execution_count": 27,
   "metadata": {},
   "outputs": [
    {
     "data": {
      "text/plain": [
       "'C:\\\\Users\\\\lysak\\\\OneDrive\\\\desktop'"
      ]
     },
     "execution_count": 27,
     "metadata": {},
     "output_type": "execute_result"
    }
   ],
   "source": [
    "import os\n",
    "os.getenv(\"ONEDRIVE\") + '\\\\desktop'"
   ]
  },
  {
   "cell_type": "markdown",
   "metadata": {
    "hide_input": false
   },
   "source": [
    "## Commands to WINDOWS Fetch Environment Variables"
   ]
  },
  {
   "cell_type": "markdown",
   "metadata": {},
   "source": [
    "### Fetching User-Specific Variables"
   ]
  },
  {
   "cell_type": "code",
   "execution_count": 18,
   "metadata": {
    "ExecuteTime": {
     "end_time": "2019-09-12T04:03:30.266638Z",
     "start_time": "2019-09-12T04:03:30.261648Z"
    }
   },
   "outputs": [
    {
     "data": {
      "text/plain": [
       "'C:\\\\Users\\\\lysak'"
      ]
     },
     "execution_count": 18,
     "metadata": {},
     "output_type": "execute_result"
    }
   ],
   "source": [
    "os.getenv('USERPROFILE')"
   ]
  },
  {
   "cell_type": "markdown",
   "metadata": {},
   "source": [
    "### Fetching All Environment Variables"
   ]
  },
  {
   "cell_type": "code",
   "execution_count": 25,
   "metadata": {},
   "outputs": [
    {
     "data": {
      "text/plain": [
       "environ{'ALLUSERSPROFILE': 'C:\\\\ProgramData',\n",
       "        'APPDATA': 'C:\\\\Users\\\\lysak\\\\AppData\\\\Roaming',\n",
       "        'CLICOLOR': '1',\n",
       "        'COMMONPROGRAMFILES': 'C:\\\\Program Files\\\\Common Files',\n",
       "        'COMMONPROGRAMFILES(X86)': 'C:\\\\Program Files (x86)\\\\Common Files',\n",
       "        'COMMONPROGRAMW6432': 'C:\\\\Program Files\\\\Common Files',\n",
       "        'COMPUTERNAME': 'DATASCIENCEMAES',\n",
       "        'COMSPEC': 'C:\\\\Windows\\\\system32\\\\cmd.exe',\n",
       "        'DRIVERDATA': 'C:\\\\Windows\\\\System32\\\\Drivers\\\\DriverData',\n",
       "        'FPS_BROWSER_APP_PROFILE_STRING': 'Internet Explorer',\n",
       "        'FPS_BROWSER_USER_PROFILE_STRING': 'Default',\n",
       "        'GIT_PAGER': 'cat',\n",
       "        'HOMEDRIVE': 'C:',\n",
       "        'HOMEPATH': '\\\\Users\\\\lysak',\n",
       "        'IPY_INTERRUPT_EVENT': '2668',\n",
       "        'JPY_INTERRUPT_EVENT': '2668',\n",
       "        'JPY_PARENT_PID': '2664',\n",
       "        'LOCALAPPDATA': 'C:\\\\Users\\\\lysak\\\\AppData\\\\Local',\n",
       "        'LOGONSERVER': '\\\\\\\\DATASCIENCEMAES',\n",
       "        'MPLBACKEND': 'module://ipykernel.pylab.backend_inline',\n",
       "        'NUMBER_OF_PROCESSORS': '12',\n",
       "        'ONEDRIVE': 'C:\\\\Users\\\\lysak\\\\OneDrive',\n",
       "        'ONEDRIVECONSUMER': 'C:\\\\Users\\\\lysak\\\\OneDrive',\n",
       "        'OS': 'Windows_NT',\n",
       "        'PAGER': 'cat',\n",
       "        'PATH': 'C:\\\\ProgramData\\\\Anaconda3\\\\envs\\\\quant_trader\\\\Library\\\\bin;C:\\\\ProgramData\\\\Anaconda3\\\\envs\\\\tensorflow-gpu\\\\Library\\\\bin;C:\\\\ProgramData\\\\DockerDesktop\\\\version-bin;C:\\\\Program Files\\\\Docker\\\\Docker\\\\Resources\\\\bin;C:\\\\Program Files (x86)\\\\Intel\\\\Intel(R) Management Engine Components\\\\iCLS\\\\;C:\\\\Program Files\\\\Intel\\\\Intel(R) Management Engine Components\\\\iCLS\\\\;C:\\\\Windows\\\\system32;C:\\\\Windows;C:\\\\Windows\\\\System32\\\\Wbem;C:\\\\Windows\\\\System32\\\\WindowsPowerShell\\\\v1.0\\\\;C:\\\\Windows\\\\System32\\\\OpenSSH\\\\;C:\\\\Program Files (x86)\\\\Intel\\\\Intel(R) Management Engine Components\\\\DAL;C:\\\\Program Files\\\\Intel\\\\Intel(R) Management Engine Components\\\\DAL;C:\\\\Program Files (x86)\\\\NVIDIA Corporation\\\\PhysX\\\\Common;C:\\\\Program Files\\\\Microsoft VS Code\\\\bin;C:\\\\Program Files (x86)\\\\Calibre2\\\\;c:\\\\Anaconda3\\\\;c:\\\\Anaconda3\\\\Scripts;c:\\\\Anaconda3\\\\Library\\\\bin;C:\\\\Program Files\\\\nodejs\\\\;C:\\\\Users\\\\lysak\\\\AppData\\\\Local\\\\atom\\\\;C:\\\\Program Files\\\\Intel\\\\WiFi\\\\bin\\\\;C:\\\\Program Files\\\\Common Files\\\\Intel\\\\WirelessCommon\\\\;C:\\\\Program Files\\\\Git\\\\cmd;C:\\\\Users\\\\lysak\\\\AppData\\\\Local\\\\Microsoft\\\\WindowsApps;C:\\\\Users\\\\lysak\\\\AppData\\\\Local\\\\GitHubDesktop\\\\bin;C:\\\\Program Files (x86)\\\\GnuWin32\\\\bin;c:\\\\Anaconda3;c:\\\\Anaconda3\\\\Scripts;c:\\\\Anaconda3\\\\Library\\\\bin;C:\\\\Users\\\\lysak\\\\AppData\\\\Roaming\\\\npm;C:\\\\Users\\\\lysak\\\\AppData\\\\Local\\\\atom\\\\bin;;C:\\\\ProgramData\\\\Anaconda3\\\\envs\\\\quant_trader\\\\lib\\\\site-packages\\\\pywin32_system32',\n",
       "        'PATHEXT': '.COM;.EXE;.BAT;.CMD;.VBS;.VBE;.JS;.JSE;.WSF;.WSH;.MSC;.SH',\n",
       "        'PROCESSOR_ARCHITECTURE': 'AMD64',\n",
       "        'PROCESSOR_IDENTIFIER': 'Intel64 Family 6 Model 158 Stepping 10, GenuineIntel',\n",
       "        'PROCESSOR_LEVEL': '6',\n",
       "        'PROCESSOR_REVISION': '9e0a',\n",
       "        'PROGRAMDATA': 'C:\\\\ProgramData',\n",
       "        'PROGRAMFILES': 'C:\\\\Program Files',\n",
       "        'PROGRAMFILES(X86)': 'C:\\\\Program Files (x86)',\n",
       "        'PROGRAMW6432': 'C:\\\\Program Files',\n",
       "        'PSMODULEPATH': 'C:\\\\Program Files\\\\WindowsPowerShell\\\\Modules;C:\\\\Windows\\\\system32\\\\WindowsPowerShell\\\\v1.0\\\\Modules',\n",
       "        'PUBLIC': 'C:\\\\Users\\\\Public',\n",
       "        'SESSIONNAME': 'Console',\n",
       "        'SYSTEMDRIVE': 'C:',\n",
       "        'SYSTEMROOT': 'C:\\\\Windows',\n",
       "        'TEMP': 'C:\\\\Users\\\\lysak\\\\AppData\\\\Local\\\\Temp',\n",
       "        'TERM': 'xterm-color',\n",
       "        'TMP': 'C:\\\\Users\\\\lysak\\\\AppData\\\\Local\\\\Temp',\n",
       "        'USERDOMAIN': 'DATASCIENCEMAES',\n",
       "        'USERDOMAIN_ROAMINGPROFILE': 'DATASCIENCEMAES',\n",
       "        'USERNAME': 'lysak',\n",
       "        'USERPROFILE': 'C:\\\\Users\\\\lysak',\n",
       "        'VS140COMNTOOLS': 'C:\\\\Program Files (x86)\\\\Microsoft Visual Studio 14.0\\\\Common7\\\\Tools\\\\',\n",
       "        'WINDIR': 'C:\\\\Windows'}"
      ]
     },
     "execution_count": 25,
     "metadata": {},
     "output_type": "execute_result"
    }
   ],
   "source": [
    "os.environ"
   ]
  },
  {
   "cell_type": "markdown",
   "metadata": {},
   "source": [
    "### Fetching All Environment Variables and Pretty Printing Them"
   ]
  },
  {
   "cell_type": "code",
   "execution_count": 22,
   "metadata": {
    "ExecuteTime": {
     "end_time": "2019-09-12T04:03:32.814001Z",
     "start_time": "2019-09-12T04:03:32.805032Z"
    }
   },
   "outputs": [
    {
     "name": "stdout",
     "output_type": "stream",
     "text": [
      "Var:  PROCESSOR_ARCHITECTURE Value:  AMD64\n",
      "Var:  PROCESSOR_REVISION Value:  9e0a\n",
      "Var:  OS Value:  Windows_NT\n",
      "Var:  IPY_INTERRUPT_EVENT Value:  2668\n",
      "Var:  VS140COMNTOOLS Value:  C:\\Program Files (x86)\\Microsoft Visual Studio 14.0\\Common7\\Tools\\\n",
      "Var:  CLICOLOR Value:  1\n",
      "Var:  PROGRAMW6432 Value:  C:\\Program Files\n",
      "Var:  FPS_BROWSER_APP_PROFILE_STRING Value:  Internet Explorer\n",
      "Var:  MPLBACKEND Value:  module://ipykernel.pylab.backend_inline\n",
      "Var:  USERNAME Value:  lysak\n",
      "Var:  ALLUSERSPROFILE Value:  C:\\ProgramData\n",
      "Var:  COMMONPROGRAMFILES Value:  C:\\Program Files\\Common Files\n",
      "Var:  TEMP Value:  C:\\Users\\lysak\\AppData\\Local\\Temp\n",
      "Var:  PROGRAMDATA Value:  C:\\ProgramData\n",
      "Var:  COMPUTERNAME Value:  DATASCIENCEMAES\n",
      "Var:  LOGONSERVER Value:  \\\\DATASCIENCEMAES\n",
      "Var:  TMP Value:  C:\\Users\\lysak\\AppData\\Local\\Temp\n",
      "Var:  COMMONPROGRAMW6432 Value:  C:\\Program Files\\Common Files\n",
      "Var:  PROCESSOR_LEVEL Value:  6\n",
      "Var:  PROCESSOR_IDENTIFIER Value:  Intel64 Family 6 Model 158 Stepping 10, GenuineIntel\n",
      "Var:  ONEDRIVECONSUMER Value:  C:\\Users\\lysak\\OneDrive\n",
      "Var:  PSMODULEPATH Value:  C:\\Program Files\\WindowsPowerShell\\Modules;C:\\Windows\\system32\\WindowsPowerShell\\v1.0\\Modules\n",
      "Var:  ONEDRIVE Value:  C:\\Users\\lysak\\OneDrive\n",
      "Var:  FPS_BROWSER_USER_PROFILE_STRING Value:  Default\n",
      "Var:  SYSTEMROOT Value:  C:\\Windows\n",
      "Var:  USERDOMAIN_ROAMINGPROFILE Value:  DATASCIENCEMAES\n",
      "Var:  TERM Value:  xterm-color\n",
      "Var:  NUMBER_OF_PROCESSORS Value:  12\n",
      "Var:  PAGER Value:  cat\n",
      "Var:  PATH Value:  C:\\ProgramData\\Anaconda3\\envs\\quant_trader\\Library\\bin;C:\\ProgramData\\Anaconda3\\envs\\tensorflow-gpu\\Library\\bin;C:\\ProgramData\\DockerDesktop\\version-bin;C:\\Program Files\\Docker\\Docker\\Resources\\bin;C:\\Program Files (x86)\\Intel\\Intel(R) Management Engine Components\\iCLS\\;C:\\Program Files\\Intel\\Intel(R) Management Engine Components\\iCLS\\;C:\\Windows\\system32;C:\\Windows;C:\\Windows\\System32\\Wbem;C:\\Windows\\System32\\WindowsPowerShell\\v1.0\\;C:\\Windows\\System32\\OpenSSH\\;C:\\Program Files (x86)\\Intel\\Intel(R) Management Engine Components\\DAL;C:\\Program Files\\Intel\\Intel(R) Management Engine Components\\DAL;C:\\Program Files (x86)\\NVIDIA Corporation\\PhysX\\Common;C:\\Program Files\\Microsoft VS Code\\bin;C:\\Program Files (x86)\\Calibre2\\;c:\\Anaconda3\\;c:\\Anaconda3\\Scripts;c:\\Anaconda3\\Library\\bin;C:\\Program Files\\nodejs\\;C:\\Users\\lysak\\AppData\\Local\\atom\\;C:\\Program Files\\Intel\\WiFi\\bin\\;C:\\Program Files\\Common Files\\Intel\\WirelessCommon\\;C:\\Program Files\\Git\\cmd;C:\\Users\\lysak\\AppData\\Local\\Microsoft\\WindowsApps;C:\\Users\\lysak\\AppData\\Local\\GitHubDesktop\\bin;C:\\Program Files (x86)\\GnuWin32\\bin;c:\\Anaconda3;c:\\Anaconda3\\Scripts;c:\\Anaconda3\\Library\\bin;C:\\Users\\lysak\\AppData\\Roaming\\npm;C:\\Users\\lysak\\AppData\\Local\\atom\\bin;;C:\\ProgramData\\Anaconda3\\envs\\quant_trader\\lib\\site-packages\\pywin32_system32\n",
      "Var:  PROGRAMFILES(X86) Value:  C:\\Program Files (x86)\n",
      "Var:  JPY_INTERRUPT_EVENT Value:  2668\n",
      "Var:  SESSIONNAME Value:  Console\n",
      "Var:  JPY_PARENT_PID Value:  2664\n",
      "Var:  COMSPEC Value:  C:\\Windows\\system32\\cmd.exe\n",
      "Var:  LOCALAPPDATA Value:  C:\\Users\\lysak\\AppData\\Local\n",
      "Var:  GIT_PAGER Value:  cat\n",
      "Var:  SYSTEMDRIVE Value:  C:\n",
      "Var:  APPDATA Value:  C:\\Users\\lysak\\AppData\\Roaming\n",
      "Var:  PROGRAMFILES Value:  C:\\Program Files\n",
      "Var:  PUBLIC Value:  C:\\Users\\Public\n",
      "Var:  HOMEDRIVE Value:  C:\n",
      "Var:  USERDOMAIN Value:  DATASCIENCEMAES\n",
      "Var:  WINDIR Value:  C:\\Windows\n",
      "Var:  COMMONPROGRAMFILES(X86) Value:  C:\\Program Files (x86)\\Common Files\n",
      "Var:  USERPROFILE Value:  C:\\Users\\lysak\n",
      "Var:  HOMEPATH Value:  \\Users\\lysak\n",
      "Var:  DRIVERDATA Value:  C:\\Windows\\System32\\Drivers\\DriverData\n",
      "Var:  PATHEXT Value:  .COM;.EXE;.BAT;.CMD;.VBS;.VBE;.JS;.JSE;.WSF;.WSH;.MSC;.SH\n",
      "\n",
      "That's All Folks\n"
     ]
    }
   ],
   "source": [
    "import os\n",
    "for a in os.environ:\n",
    "    print('Var: ', a, 'Value: ', os.getenv(a))\n",
    "print(\"\\nThat's All Folks\")"
   ]
  },
  {
   "cell_type": "markdown",
   "metadata": {},
   "source": [
    "### Create a List of Environment Variables and Index into The List "
   ]
  },
  {
   "cell_type": "code",
   "execution_count": 2,
   "metadata": {
    "ExecuteTime": {
     "end_time": "2019-08-13T22:32:06.193128Z",
     "start_time": "2019-08-13T22:32:06.188125Z"
    }
   },
   "outputs": [
    {
     "data": {
      "text/plain": [
       "[('COMSPEC', 'C:\\\\Windows\\\\system32\\\\cmd.exe'),\n",
       " ('TMP', 'C:\\\\Users\\\\lysak\\\\AppData\\\\Local\\\\Temp'),\n",
       " ('PROCESSOR_IDENTIFIER',\n",
       "  'Intel64 Family 6 Model 158 Stepping 10, GenuineIntel'),\n",
       " ('APPDATA', 'C:\\\\Users\\\\lysak\\\\AppData\\\\Roaming'),\n",
       " ('NUMBER_OF_PROCESSORS', '12'),\n",
       " ('OS', 'Windows_NT'),\n",
       " ('CONDA_DEFAULT_ENV', 'base'),\n",
       " ('SYSTEMROOT', 'C:\\\\Windows'),\n",
       " ('LOCALAPPDATA', 'C:\\\\Users\\\\lysak\\\\AppData\\\\Local'),\n",
       " ('HOMEPATH', '\\\\Users\\\\lysak'),\n",
       " ('USERDOMAIN_ROAMINGPROFILE', 'DATASCIENCEMAES'),\n",
       " ('COMMONPROGRAMFILES', 'C:\\\\Program Files\\\\Common Files'),\n",
       " ('PROCESSOR_LEVEL', '6'),\n",
       " ('COMPUTERNAME', 'DATASCIENCEMAES'),\n",
       " ('JPY_PARENT_PID', '2680')]"
      ]
     },
     "execution_count": 2,
     "metadata": {},
     "output_type": "execute_result"
    }
   ],
   "source": [
    "'''Show First 10 Environment Variables using List Comprehension'''\n",
    "[a for a in os.environ.items()][:15]"
   ]
  },
  {
   "cell_type": "code",
   "execution_count": 3,
   "metadata": {
    "ExecuteTime": {
     "end_time": "2019-08-13T22:32:06.207126Z",
     "start_time": "2019-08-13T22:32:06.195125Z"
    }
   },
   "outputs": [
    {
     "data": {
      "text/plain": [
       "[(0, ('COMSPEC', 'C:\\\\Windows\\\\system32\\\\cmd.exe')),\n",
       " (1, ('TMP', 'C:\\\\Users\\\\lysak\\\\AppData\\\\Local\\\\Temp')),\n",
       " (2,\n",
       "  ('PROCESSOR_IDENTIFIER',\n",
       "   'Intel64 Family 6 Model 158 Stepping 10, GenuineIntel')),\n",
       " (3, ('APPDATA', 'C:\\\\Users\\\\lysak\\\\AppData\\\\Roaming')),\n",
       " (4, ('NUMBER_OF_PROCESSORS', '12')),\n",
       " (5, ('OS', 'Windows_NT')),\n",
       " (6, ('CONDA_DEFAULT_ENV', 'base')),\n",
       " (7, ('SYSTEMROOT', 'C:\\\\Windows')),\n",
       " (8, ('LOCALAPPDATA', 'C:\\\\Users\\\\lysak\\\\AppData\\\\Local')),\n",
       " (9, ('HOMEPATH', '\\\\Users\\\\lysak')),\n",
       " (10, ('USERDOMAIN_ROAMINGPROFILE', 'DATASCIENCEMAES')),\n",
       " (11, ('COMMONPROGRAMFILES', 'C:\\\\Program Files\\\\Common Files')),\n",
       " (12, ('PROCESSOR_LEVEL', '6'))]"
      ]
     },
     "execution_count": 3,
     "metadata": {},
     "output_type": "execute_result"
    }
   ],
   "source": [
    "'''Show First 10 Environment Variables As Numbered Tuple Using List Comprehension'''\n",
    "list(enumerate([a for a in os.environ.items()]))[:13]"
   ]
  },
  {
   "cell_type": "code",
   "execution_count": 4,
   "metadata": {
    "ExecuteTime": {
     "end_time": "2019-08-13T22:32:06.257125Z",
     "start_time": "2019-08-13T22:32:06.209126Z"
    }
   },
   "outputs": [
    {
     "data": {
      "text/plain": [
       "('CONDA_DEFAULT_ENV', 'base')"
      ]
     },
     "execution_count": 4,
     "metadata": {},
     "output_type": "execute_result"
    }
   ],
   "source": [
    "'''Show My Full Computer Name'''\n",
    "[a for a in os.environ.items()][6]"
   ]
  },
  {
   "cell_type": "code",
   "execution_count": 5,
   "metadata": {
    "ExecuteTime": {
     "end_time": "2019-08-13T22:32:06.273127Z",
     "start_time": "2019-08-13T22:32:06.261137Z"
    }
   },
   "outputs": [
    {
     "data": {
      "text/plain": [
       "'base'"
      ]
     },
     "execution_count": 5,
     "metadata": {},
     "output_type": "execute_result"
    }
   ],
   "source": [
    "'''Show JUST My Computer Name'''\n",
    "[a for a in os.environ.items()][6][1]"
   ]
  },
  {
   "cell_type": "code",
   "execution_count": 6,
   "metadata": {
    "ExecuteTime": {
     "end_time": "2019-08-13T22:32:06.292123Z",
     "start_time": "2019-08-13T22:32:06.280134Z"
    }
   },
   "outputs": [
    {
     "data": {
      "text/plain": [
       "'6'"
      ]
     },
     "execution_count": 6,
     "metadata": {},
     "output_type": "execute_result"
    }
   ],
   "source": [
    "'''Show My User Home Path'''\n",
    "[a for a in os.environ.items()][12][1]"
   ]
  },
  {
   "cell_type": "code",
   "execution_count": 7,
   "metadata": {
    "ExecuteTime": {
     "end_time": "2019-08-13T22:32:06.305130Z",
     "start_time": "2019-08-13T22:32:06.295124Z"
    }
   },
   "outputs": [
    {
     "data": {
      "text/plain": [
       "set"
      ]
     },
     "execution_count": 7,
     "metadata": {},
     "output_type": "execute_result"
    }
   ],
   "source": [
    "'''Show All Environment Variables using Set Comprehension'''\n",
    "set_of_env_variables = {a for a in os.environ.items()}\n",
    "type(set_of_env_variables)"
   ]
  },
  {
   "cell_type": "code",
   "execution_count": 8,
   "metadata": {
    "ExecuteTime": {
     "end_time": "2019-08-13T22:32:06.322131Z",
     "start_time": "2019-08-13T22:32:06.307124Z"
    }
   },
   "outputs": [
    {
     "data": {
      "text/plain": [
       "{('ALLUSERSPROFILE', 'C:\\\\ProgramData'),\n",
       " ('APPDATA', 'C:\\\\Users\\\\lysak\\\\AppData\\\\Roaming'),\n",
       " ('CLICOLOR', '1'),\n",
       " ('COMMONPROGRAMFILES', 'C:\\\\Program Files\\\\Common Files'),\n",
       " ('COMMONPROGRAMFILES(X86)', 'C:\\\\Program Files (x86)\\\\Common Files'),\n",
       " ('COMMONPROGRAMW6432', 'C:\\\\Program Files\\\\Common Files'),\n",
       " ('COMPUTERNAME', 'DATASCIENCEMAES'),\n",
       " ('COMSPEC', 'C:\\\\Windows\\\\system32\\\\cmd.exe'),\n",
       " ('CONDA_DEFAULT_ENV', 'base'),\n",
       " ('CONDA_EXE', 'C:\\\\ProgramData\\\\Anaconda3\\\\Scripts\\\\conda.exe'),\n",
       " ('CONDA_PREFIX', 'C:\\\\ProgramData\\\\Anaconda3'),\n",
       " ('CONDA_PROMPT_MODIFIER', '(base) '),\n",
       " ('CONDA_PYTHON_EXE', 'C:\\\\ProgramData\\\\Anaconda3\\\\python.exe'),\n",
       " ('CONDA_SHLVL', '1'),\n",
       " ('DRIVERDATA', 'C:\\\\Windows\\\\System32\\\\Drivers\\\\DriverData'),\n",
       " ('GDAL_DATA', 'C:\\\\ProgramData\\\\Anaconda3\\\\Library\\\\share\\\\gdal'),\n",
       " ('GIT_PAGER', 'cat'),\n",
       " ('HOMEDRIVE', 'C:'),\n",
       " ('HOMEPATH', '\\\\Users\\\\lysak'),\n",
       " ('IPY_INTERRUPT_EVENT', '2672'),\n",
       " ('JPY_INTERRUPT_EVENT', '2672'),\n",
       " ('JPY_PARENT_PID', '2680'),\n",
       " ('KERNEL_LAUNCH_TIMEOUT', '40'),\n",
       " ('LOCALAPPDATA', 'C:\\\\Users\\\\lysak\\\\AppData\\\\Local'),\n",
       " ('LOGONSERVER', '\\\\\\\\DATASCIENCEMAES'),\n",
       " ('MPLBACKEND', 'module://ipykernel.pylab.backend_inline'),\n",
       " ('NUMBER_OF_PROCESSORS', '12'),\n",
       " ('ONEDRIVE', 'C:\\\\Users\\\\lysak\\\\OneDrive'),\n",
       " ('ONEDRIVECONSUMER', 'C:\\\\Users\\\\lysak\\\\OneDrive'),\n",
       " ('OS', 'Windows_NT'),\n",
       " ('PAGER', 'cat'),\n",
       " ('PATH',\n",
       "  'C:\\\\ProgramData\\\\Anaconda3\\\\envs\\\\quant_trader\\\\Library\\\\bin;C:\\\\ProgramData\\\\Anaconda3;C:\\\\ProgramData\\\\Anaconda3\\\\Library\\\\mingw-w64\\\\bin;C:\\\\ProgramData\\\\Anaconda3\\\\Library\\\\usr\\\\bin;C:\\\\ProgramData\\\\Anaconda3\\\\Library\\\\bin;C:\\\\ProgramData\\\\Anaconda3\\\\Scripts;C:\\\\ProgramData\\\\Anaconda3\\\\bin;C:\\\\ProgramData\\\\Anaconda3\\\\condabin;C:\\\\ProgramData\\\\DockerDesktop\\\\version-bin;C:\\\\Program Files\\\\Docker\\\\Docker\\\\Resources\\\\bin;C:\\\\Program Files (x86)\\\\Intel\\\\Intel(R) Management Engine Components\\\\iCLS;C:\\\\Program Files\\\\Intel\\\\Intel(R) Management Engine Components\\\\iCLS;C:\\\\Windows\\\\system32;C:\\\\Windows;C:\\\\Windows\\\\System32\\\\Wbem;C:\\\\Windows\\\\System32\\\\WindowsPowerShell\\\\v1.0;C:\\\\Windows\\\\System32\\\\OpenSSH;C:\\\\Program Files (x86)\\\\Intel\\\\Intel(R) Management Engine Components\\\\DAL;C:\\\\Program Files\\\\Intel\\\\Intel(R) Management Engine Components\\\\DAL;C:\\\\Program Files (x86)\\\\NVIDIA Corporation\\\\PhysX\\\\Common;C:\\\\Program Files\\\\Microsoft VS Code\\\\bin;C:\\\\Program Files (x86)\\\\Calibre2;c:\\\\Anaconda3;c:\\\\Anaconda3\\\\Scripts;c:\\\\Anaconda3\\\\Library\\\\bin;C:\\\\Program Files\\\\nodejs;C:\\\\Users\\\\lysak\\\\AppData\\\\Local\\\\atom;C:\\\\Program Files\\\\Intel\\\\WiFi\\\\bin;C:\\\\Program Files\\\\Common Files\\\\Intel\\\\WirelessCommon;C:\\\\Program Files\\\\Git\\\\cmd;C:\\\\Users\\\\lysak\\\\AppData\\\\Local\\\\Microsoft\\\\WindowsApps;C:\\\\Users\\\\lysak\\\\AppData\\\\Local\\\\GitHubDesktop\\\\bin;C:\\\\Program Files (x86)\\\\GnuWin32\\\\bin;C:\\\\Users\\\\lysak\\\\AppData\\\\Roaming\\\\npm;C:\\\\Users\\\\lysak\\\\AppData\\\\Local\\\\atom\\\\bin;C:\\\\ProgramData\\\\Anaconda3\\\\lib\\\\site-packages\\\\pywin32_system32;C:\\\\ProgramData\\\\Anaconda3\\\\lib\\\\site-packages\\\\pywin32_system32;C:\\\\ProgramData\\\\Anaconda3\\\\lib\\\\site-packages\\\\pywin32_system32'),\n",
       " ('PATHEXT', '.COM;.EXE;.BAT;.CMD;.VBS;.VBE;.JS;.JSE;.WSF;.WSH;.MSC;.SH'),\n",
       " ('PROCESSOR_ARCHITECTURE', 'AMD64'),\n",
       " ('PROCESSOR_IDENTIFIER',\n",
       "  'Intel64 Family 6 Model 158 Stepping 10, GenuineIntel'),\n",
       " ('PROCESSOR_LEVEL', '6'),\n",
       " ('PROCESSOR_REVISION', '9e0a'),\n",
       " ('PROGRAMDATA', 'C:\\\\ProgramData'),\n",
       " ('PROGRAMFILES', 'C:\\\\Program Files'),\n",
       " ('PROGRAMFILES(X86)', 'C:\\\\Program Files (x86)'),\n",
       " ('PROGRAMW6432', 'C:\\\\Program Files'),\n",
       " ('PROJ_LIB', 'C:\\\\ProgramData\\\\Anaconda3\\\\Library\\\\share'),\n",
       " ('PROMPT', '(base) $P$G'),\n",
       " ('PSMODULEPATH',\n",
       "  'C:\\\\Program Files\\\\WindowsPowerShell\\\\Modules;C:\\\\Windows\\\\system32\\\\WindowsPowerShell\\\\v1.0\\\\Modules'),\n",
       " ('PUBLIC', 'C:\\\\Users\\\\Public'),\n",
       " ('SYSTEMDRIVE', 'C:'),\n",
       " ('SYSTEMROOT', 'C:\\\\Windows'),\n",
       " ('TEMP', 'C:\\\\Users\\\\lysak\\\\AppData\\\\Local\\\\Temp'),\n",
       " ('TERM', 'xterm-color'),\n",
       " ('TMP', 'C:\\\\Users\\\\lysak\\\\AppData\\\\Local\\\\Temp'),\n",
       " ('USERDOMAIN', 'DATASCIENCEMAES'),\n",
       " ('USERDOMAIN_ROAMINGPROFILE', 'DATASCIENCEMAES'),\n",
       " ('USERNAME', 'lysak'),\n",
       " ('USERPROFILE', 'C:\\\\Users\\\\lysak'),\n",
       " ('VS140COMNTOOLS',\n",
       "  'C:\\\\Program Files (x86)\\\\Microsoft Visual Studio 14.0\\\\Common7\\\\Tools\\\\'),\n",
       " ('WINDIR', 'C:\\\\Windows')}"
      ]
     },
     "execution_count": 8,
     "metadata": {},
     "output_type": "execute_result"
    }
   ],
   "source": [
    "set_of_env_variables"
   ]
  },
  {
   "cell_type": "markdown",
   "metadata": {},
   "source": [
    "### Fetch Environment Variables from the Windows Registry and then Retrieve by Index Number "
   ]
  },
  {
   "cell_type": "code",
   "execution_count": 9,
   "metadata": {
    "ExecuteTime": {
     "end_time": "2019-08-13T22:32:06.335127Z",
     "start_time": "2019-08-13T22:32:06.325129Z"
    }
   },
   "outputs": [],
   "source": [
    "# Using the Windows Registry is the preferred way to retrieve Environment Variables \n",
    "\n",
    "import winreg\n",
    "\n",
    "reg_path = r'SYSTEM\\CurrentControlSet\\Control\\Session Manager\\Environment'\n",
    "reg_key = winreg.OpenKey(winreg.HKEY_LOCAL_MACHINE, reg_path)\n",
    "system_environment_variables = winreg.QueryValueEx(reg_key, 'Path')[0]"
   ]
  },
  {
   "cell_type": "code",
   "execution_count": 10,
   "metadata": {
    "ExecuteTime": {
     "end_time": "2019-08-13T22:32:06.355125Z",
     "start_time": "2019-08-13T22:32:06.339127Z"
    }
   },
   "outputs": [
    {
     "data": {
      "text/plain": [
       "'C:\\\\ProgramData\\\\DockerDesktop\\\\version-bin;C:\\\\Program Files\\\\Docker\\\\Docker\\\\Resources\\\\bin;C:\\\\Program Files (x86)\\\\Intel\\\\Intel(R) Management Engine Components\\\\iCLS\\\\;C:\\\\Program Files\\\\Intel\\\\Intel(R) Management Engine Components\\\\iCLS\\\\;C:\\\\Windows\\\\system32;C:\\\\Windows;C:\\\\Windows\\\\System32\\\\Wbem;C:\\\\Windows\\\\System32\\\\WindowsPowerShell\\\\v1.0\\\\;C:\\\\Windows\\\\System32\\\\OpenSSH\\\\;C:\\\\Program Files (x86)\\\\Intel\\\\Intel(R) Management Engine Components\\\\DAL;C:\\\\Program Files\\\\Intel\\\\Intel(R) Management Engine Components\\\\DAL;C:\\\\Program Files (x86)\\\\NVIDIA Corporation\\\\PhysX\\\\Common;C:\\\\Program Files\\\\Microsoft VS Code\\\\bin;C:\\\\Program Files (x86)\\\\Calibre2\\\\;c:\\\\Anaconda3\\\\;c:\\\\Anaconda3\\\\Scripts;c:\\\\Anaconda3\\\\Library\\\\bin;C:\\\\Program Files\\\\nodejs\\\\;C:\\\\Users\\\\lysak\\\\AppData\\\\Local\\\\atom\\\\;C:\\\\Program Files\\\\Intel\\\\WiFi\\\\bin\\\\;C:\\\\Program Files\\\\Common Files\\\\Intel\\\\WirelessCommon\\\\;C:\\\\Program Files\\\\Git\\\\cmd'"
      ]
     },
     "execution_count": 10,
     "metadata": {},
     "output_type": "execute_result"
    }
   ],
   "source": [
    "system_environment_variables"
   ]
  },
  {
   "cell_type": "markdown",
   "metadata": {},
   "source": [
    "### Fetching Application-Specific Variables"
   ]
  },
  {
   "cell_type": "code",
   "execution_count": 11,
   "metadata": {
    "ExecuteTime": {
     "end_time": "2019-08-13T22:32:06.369126Z",
     "start_time": "2019-08-13T22:32:06.358130Z"
    }
   },
   "outputs": [
    {
     "data": {
      "text/plain": [
       "'C:\\\\Windows\\\\explorer.exe'"
      ]
     },
     "execution_count": 11,
     "metadata": {},
     "output_type": "execute_result"
    }
   ],
   "source": [
    "import os\n",
    "FILEBROWSER_PATH = os.path.join(os.getenv('WINDIR'), 'explorer.exe')\n",
    "FILEBROWSER_PATH"
   ]
  },
  {
   "cell_type": "code",
   "execution_count": 12,
   "metadata": {
    "ExecuteTime": {
     "end_time": "2019-08-13T22:32:06.382311Z",
     "start_time": "2019-08-13T22:32:06.371124Z"
    }
   },
   "outputs": [
    {
     "data": {
      "text/plain": [
       "'C:\\\\Windows\\\\notepad.exe'"
      ]
     },
     "execution_count": 12,
     "metadata": {},
     "output_type": "execute_result"
    }
   ],
   "source": [
    "NOTEPAD_PATH = os.path.join(os.getenv('WINDIR'), 'notepad.exe')\n",
    "NOTEPAD_PATH"
   ]
  },
  {
   "cell_type": "code",
   "execution_count": 13,
   "metadata": {
    "ExecuteTime": {
     "end_time": "2019-08-13T22:32:06.394125Z",
     "start_time": "2019-08-13T22:32:06.384127Z"
    }
   },
   "outputs": [
    {
     "data": {
      "text/plain": [
       "'C:\\\\Windows\\\\calculator.exe'"
      ]
     },
     "execution_count": 13,
     "metadata": {},
     "output_type": "execute_result"
    }
   ],
   "source": [
    "CALCULATOR_PATH = os.path.join(os.getenv('WINDIR'), 'calculator.exe')\n",
    "CALCULATOR_PATH"
   ]
  },
  {
   "cell_type": "markdown",
   "metadata": {},
   "source": [
    "# Get the List of Jupyter NB Servers Running LOCALLY"
   ]
  },
  {
   "cell_type": "code",
   "execution_count": 36,
   "metadata": {
    "ExecuteTime": {
     "end_time": "2019-09-12T04:02:19.744769Z",
     "start_time": "2019-09-12T04:02:18.669782Z"
    }
   },
   "outputs": [
    {
     "ename": "JSONDecodeError",
     "evalue": "Expecting value: line 2 column 1 (char 1)",
     "output_type": "error",
     "traceback": [
      "\u001b[1;31m---------------------------------------------------------------------------\u001b[0m",
      "\u001b[1;31mJSONDecodeError\u001b[0m                           Traceback (most recent call last)",
      "\u001b[1;32m<ipython-input-36-c6e9c9c2db78>\u001b[0m in \u001b[0;36m<module>\u001b[1;34m\u001b[0m\n\u001b[0;32m      2\u001b[0m \u001b[1;33m\u001b[0m\u001b[0m\n\u001b[0;32m      3\u001b[0m \u001b[1;32mfrom\u001b[0m \u001b[0mnotebook\u001b[0m \u001b[1;32mimport\u001b[0m \u001b[0mnotebookapp\u001b[0m\u001b[1;33m\u001b[0m\u001b[0m\n\u001b[1;32m----> 4\u001b[1;33m \u001b[0mservers\u001b[0m \u001b[1;33m=\u001b[0m \u001b[0mlist\u001b[0m\u001b[1;33m(\u001b[0m\u001b[0mnotebookapp\u001b[0m\u001b[1;33m.\u001b[0m\u001b[0mlist_running_servers\u001b[0m\u001b[1;33m(\u001b[0m\u001b[1;33m)\u001b[0m\u001b[1;33m)\u001b[0m\u001b[1;33m\u001b[0m\u001b[0m\n\u001b[0m\u001b[0;32m      5\u001b[0m \u001b[0mservers\u001b[0m\u001b[1;33m\u001b[0m\u001b[0m\n",
      "\u001b[1;32mC:\\ProgramData\\Anaconda3\\envs\\quant_trader\\lib\\site-packages\\notebook\\notebookapp.py\u001b[0m in \u001b[0;36mlist_running_servers\u001b[1;34m(runtime_dir)\u001b[0m\n\u001b[0;32m   1792\u001b[0m         \u001b[1;32mif\u001b[0m \u001b[0mfile_name\u001b[0m\u001b[1;33m.\u001b[0m\u001b[0mstartswith\u001b[0m\u001b[1;33m(\u001b[0m\u001b[1;34m'nbserver-'\u001b[0m\u001b[1;33m)\u001b[0m\u001b[1;33m:\u001b[0m\u001b[1;33m\u001b[0m\u001b[0m\n\u001b[0;32m   1793\u001b[0m             \u001b[1;32mwith\u001b[0m \u001b[0mio\u001b[0m\u001b[1;33m.\u001b[0m\u001b[0mopen\u001b[0m\u001b[1;33m(\u001b[0m\u001b[0mos\u001b[0m\u001b[1;33m.\u001b[0m\u001b[0mpath\u001b[0m\u001b[1;33m.\u001b[0m\u001b[0mjoin\u001b[0m\u001b[1;33m(\u001b[0m\u001b[0mruntime_dir\u001b[0m\u001b[1;33m,\u001b[0m \u001b[0mfile_name\u001b[0m\u001b[1;33m)\u001b[0m\u001b[1;33m,\u001b[0m \u001b[0mencoding\u001b[0m\u001b[1;33m=\u001b[0m\u001b[1;34m'utf-8'\u001b[0m\u001b[1;33m)\u001b[0m \u001b[1;32mas\u001b[0m \u001b[0mf\u001b[0m\u001b[1;33m:\u001b[0m\u001b[1;33m\u001b[0m\u001b[0m\n\u001b[1;32m-> 1794\u001b[1;33m                 \u001b[0minfo\u001b[0m \u001b[1;33m=\u001b[0m \u001b[0mjson\u001b[0m\u001b[1;33m.\u001b[0m\u001b[0mload\u001b[0m\u001b[1;33m(\u001b[0m\u001b[0mf\u001b[0m\u001b[1;33m)\u001b[0m\u001b[1;33m\u001b[0m\u001b[0m\n\u001b[0m\u001b[0;32m   1795\u001b[0m \u001b[1;33m\u001b[0m\u001b[0m\n\u001b[0;32m   1796\u001b[0m             \u001b[1;31m# Simple check whether that process is really still running\u001b[0m\u001b[1;33m\u001b[0m\u001b[1;33m\u001b[0m\u001b[0m\n",
      "\u001b[1;32mC:\\ProgramData\\Anaconda3\\envs\\quant_trader\\lib\\json\\__init__.py\u001b[0m in \u001b[0;36mload\u001b[1;34m(fp, cls, object_hook, parse_float, parse_int, parse_constant, object_pairs_hook, **kw)\u001b[0m\n\u001b[0;32m    266\u001b[0m         \u001b[0mcls\u001b[0m\u001b[1;33m=\u001b[0m\u001b[0mcls\u001b[0m\u001b[1;33m,\u001b[0m \u001b[0mobject_hook\u001b[0m\u001b[1;33m=\u001b[0m\u001b[0mobject_hook\u001b[0m\u001b[1;33m,\u001b[0m\u001b[1;33m\u001b[0m\u001b[0m\n\u001b[0;32m    267\u001b[0m         \u001b[0mparse_float\u001b[0m\u001b[1;33m=\u001b[0m\u001b[0mparse_float\u001b[0m\u001b[1;33m,\u001b[0m \u001b[0mparse_int\u001b[0m\u001b[1;33m=\u001b[0m\u001b[0mparse_int\u001b[0m\u001b[1;33m,\u001b[0m\u001b[1;33m\u001b[0m\u001b[0m\n\u001b[1;32m--> 268\u001b[1;33m         parse_constant=parse_constant, object_pairs_hook=object_pairs_hook, **kw)\n\u001b[0m\u001b[0;32m    269\u001b[0m \u001b[1;33m\u001b[0m\u001b[0m\n\u001b[0;32m    270\u001b[0m \u001b[1;33m\u001b[0m\u001b[0m\n",
      "\u001b[1;32mC:\\ProgramData\\Anaconda3\\envs\\quant_trader\\lib\\json\\__init__.py\u001b[0m in \u001b[0;36mloads\u001b[1;34m(s, encoding, cls, object_hook, parse_float, parse_int, parse_constant, object_pairs_hook, **kw)\u001b[0m\n\u001b[0;32m    317\u001b[0m             \u001b[0mparse_int\u001b[0m \u001b[1;32mis\u001b[0m \u001b[1;32mNone\u001b[0m \u001b[1;32mand\u001b[0m \u001b[0mparse_float\u001b[0m \u001b[1;32mis\u001b[0m \u001b[1;32mNone\u001b[0m \u001b[1;32mand\u001b[0m\u001b[1;33m\u001b[0m\u001b[0m\n\u001b[0;32m    318\u001b[0m             parse_constant is None and object_pairs_hook is None and not kw):\n\u001b[1;32m--> 319\u001b[1;33m         \u001b[1;32mreturn\u001b[0m \u001b[0m_default_decoder\u001b[0m\u001b[1;33m.\u001b[0m\u001b[0mdecode\u001b[0m\u001b[1;33m(\u001b[0m\u001b[0ms\u001b[0m\u001b[1;33m)\u001b[0m\u001b[1;33m\u001b[0m\u001b[0m\n\u001b[0m\u001b[0;32m    320\u001b[0m     \u001b[1;32mif\u001b[0m \u001b[0mcls\u001b[0m \u001b[1;32mis\u001b[0m \u001b[1;32mNone\u001b[0m\u001b[1;33m:\u001b[0m\u001b[1;33m\u001b[0m\u001b[0m\n\u001b[0;32m    321\u001b[0m         \u001b[0mcls\u001b[0m \u001b[1;33m=\u001b[0m \u001b[0mJSONDecoder\u001b[0m\u001b[1;33m\u001b[0m\u001b[0m\n",
      "\u001b[1;32mC:\\ProgramData\\Anaconda3\\envs\\quant_trader\\lib\\json\\decoder.py\u001b[0m in \u001b[0;36mdecode\u001b[1;34m(self, s, _w)\u001b[0m\n\u001b[0;32m    337\u001b[0m \u001b[1;33m\u001b[0m\u001b[0m\n\u001b[0;32m    338\u001b[0m         \"\"\"\n\u001b[1;32m--> 339\u001b[1;33m         \u001b[0mobj\u001b[0m\u001b[1;33m,\u001b[0m \u001b[0mend\u001b[0m \u001b[1;33m=\u001b[0m \u001b[0mself\u001b[0m\u001b[1;33m.\u001b[0m\u001b[0mraw_decode\u001b[0m\u001b[1;33m(\u001b[0m\u001b[0ms\u001b[0m\u001b[1;33m,\u001b[0m \u001b[0midx\u001b[0m\u001b[1;33m=\u001b[0m\u001b[0m_w\u001b[0m\u001b[1;33m(\u001b[0m\u001b[0ms\u001b[0m\u001b[1;33m,\u001b[0m \u001b[1;36m0\u001b[0m\u001b[1;33m)\u001b[0m\u001b[1;33m.\u001b[0m\u001b[0mend\u001b[0m\u001b[1;33m(\u001b[0m\u001b[1;33m)\u001b[0m\u001b[1;33m)\u001b[0m\u001b[1;33m\u001b[0m\u001b[0m\n\u001b[0m\u001b[0;32m    340\u001b[0m         \u001b[0mend\u001b[0m \u001b[1;33m=\u001b[0m \u001b[0m_w\u001b[0m\u001b[1;33m(\u001b[0m\u001b[0ms\u001b[0m\u001b[1;33m,\u001b[0m \u001b[0mend\u001b[0m\u001b[1;33m)\u001b[0m\u001b[1;33m.\u001b[0m\u001b[0mend\u001b[0m\u001b[1;33m(\u001b[0m\u001b[1;33m)\u001b[0m\u001b[1;33m\u001b[0m\u001b[0m\n\u001b[0;32m    341\u001b[0m         \u001b[1;32mif\u001b[0m \u001b[0mend\u001b[0m \u001b[1;33m!=\u001b[0m \u001b[0mlen\u001b[0m\u001b[1;33m(\u001b[0m\u001b[0ms\u001b[0m\u001b[1;33m)\u001b[0m\u001b[1;33m:\u001b[0m\u001b[1;33m\u001b[0m\u001b[0m\n",
      "\u001b[1;32mC:\\ProgramData\\Anaconda3\\envs\\quant_trader\\lib\\json\\decoder.py\u001b[0m in \u001b[0;36mraw_decode\u001b[1;34m(self, s, idx)\u001b[0m\n\u001b[0;32m    355\u001b[0m             \u001b[0mobj\u001b[0m\u001b[1;33m,\u001b[0m \u001b[0mend\u001b[0m \u001b[1;33m=\u001b[0m \u001b[0mself\u001b[0m\u001b[1;33m.\u001b[0m\u001b[0mscan_once\u001b[0m\u001b[1;33m(\u001b[0m\u001b[0ms\u001b[0m\u001b[1;33m,\u001b[0m \u001b[0midx\u001b[0m\u001b[1;33m)\u001b[0m\u001b[1;33m\u001b[0m\u001b[0m\n\u001b[0;32m    356\u001b[0m         \u001b[1;32mexcept\u001b[0m \u001b[0mStopIteration\u001b[0m \u001b[1;32mas\u001b[0m \u001b[0merr\u001b[0m\u001b[1;33m:\u001b[0m\u001b[1;33m\u001b[0m\u001b[0m\n\u001b[1;32m--> 357\u001b[1;33m             \u001b[1;32mraise\u001b[0m \u001b[0mJSONDecodeError\u001b[0m\u001b[1;33m(\u001b[0m\u001b[1;34m\"Expecting value\"\u001b[0m\u001b[1;33m,\u001b[0m \u001b[0ms\u001b[0m\u001b[1;33m,\u001b[0m \u001b[0merr\u001b[0m\u001b[1;33m.\u001b[0m\u001b[0mvalue\u001b[0m\u001b[1;33m)\u001b[0m \u001b[1;32mfrom\u001b[0m \u001b[1;32mNone\u001b[0m\u001b[1;33m\u001b[0m\u001b[0m\n\u001b[0m\u001b[0;32m    358\u001b[0m         \u001b[1;32mreturn\u001b[0m \u001b[0mobj\u001b[0m\u001b[1;33m,\u001b[0m \u001b[0mend\u001b[0m\u001b[1;33m\u001b[0m\u001b[0m\n",
      "\u001b[1;31mJSONDecodeError\u001b[0m: Expecting value: line 2 column 1 (char 1)"
     ]
    }
   ],
   "source": [
    "## Inquire about Jupyter Notebook servers are currently running locally\n",
    "\n",
    "from notebook import notebookapp\n",
    "servers = list(notebookapp.list_running_servers())\n",
    "servers"
   ]
  },
  {
   "cell_type": "code",
   "execution_count": 16,
   "metadata": {
    "ExecuteTime": {
     "end_time": "2019-08-13T23:35:21.505606Z",
     "start_time": "2019-08-13T23:35:21.496617Z"
    }
   },
   "outputs": [
    {
     "ename": "SyntaxError",
     "evalue": "invalid syntax (<ipython-input-16-ea300839da5f>, line 5)",
     "output_type": "error",
     "traceback": [
      "\u001b[1;36m  File \u001b[1;32m\"<ipython-input-16-ea300839da5f>\"\u001b[1;36m, line \u001b[1;32m5\u001b[0m\n\u001b[1;33m    print(f'I currently have {len(servers)} Jupyter Notebook Servers running locally')\u001b[0m\n\u001b[1;37m                                                                                    ^\u001b[0m\n\u001b[1;31mSyntaxError\u001b[0m\u001b[1;31m:\u001b[0m invalid syntax\n"
     ]
    }
   ],
   "source": [
    "print(f'I currently have {len(servers)} Jupyter Notebook Servers running locally')"
   ]
  },
  {
   "cell_type": "code",
   "execution_count": 14,
   "metadata": {
    "ExecuteTime": {
     "end_time": "2019-08-13T23:35:21.505606Z",
     "start_time": "2019-08-13T23:35:21.496617Z"
    }
   },
   "outputs": [
    {
     "ename": "SyntaxError",
     "evalue": "invalid syntax (<ipython-input-14-3c4d7230e798>, line 5)",
     "output_type": "error",
     "traceback": [
      "\u001b[1;36m  File \u001b[1;32m\"<ipython-input-14-3c4d7230e798>\"\u001b[1;36m, line \u001b[1;32m5\u001b[0m\n\u001b[1;33m    print(f'I currently have {len(servers)} Jupyter Notebook Servers running locally:')\u001b[0m\n\u001b[1;37m                                                                                     ^\u001b[0m\n\u001b[1;31mSyntaxError\u001b[0m\u001b[1;31m:\u001b[0m invalid syntax\n"
     ]
    }
   ],
   "source": [
    "servers"
   ]
  },
  {
   "cell_type": "markdown",
   "metadata": {},
   "source": [
    "# Get Jupyter Configuration Information using Shell Commands"
   ]
  },
  {
   "cell_type": "markdown",
   "metadata": {},
   "source": [
    "Use these URLs to learn more about Shell Commands in Python and Jupyter\n",
    "\n",
    "https://jakevdp.github.io/PythonDataScienceHandbook/01.05-ipython-and-shell-commands.html\n",
    "\n",
    "https://ipython.readthedocs.io/en/stable/interactive/magics.html\n",
    "\n"
   ]
  },
  {
   "cell_type": "markdown",
   "metadata": {},
   "source": [
    "Retrieve and display Jupyter Notebook configuration data if you need to make changes."
   ]
  },
  {
   "cell_type": "code",
   "execution_count": 35,
   "metadata": {
    "ExecuteTime": {
     "end_time": "2019-09-12T04:02:02.210062Z",
     "start_time": "2019-09-12T04:02:01.596368Z"
    }
   },
   "outputs": [
    {
     "name": "stdout",
     "output_type": "stream",
     "text": [
      "4.4.0\n",
      "C:\\Users\\lysak\\.jupyter\n",
      "C:\\Users\\lysak\\AppData\\Roaming\\jupyter\n",
      "C:\\Users\\lysak\\AppData\\Roaming\\jupyter\\runtime\n",
      "config:\n",
      "    C:\\Users\\lysak\\.jupyter\n",
      "    C:\\ProgramData\\Anaconda3\\envs\\quant_trader\\etc\\jupyter\n",
      "    C:\\ProgramData\\jupyter\n",
      "data:\n",
      "    C:\\Users\\lysak\\AppData\\Roaming\\jupyter\n",
      "    C:\\ProgramData\\Anaconda3\\envs\\quant_trader\\share\\jupyter\n",
      "    C:\\ProgramData\\jupyter\n",
      "runtime:\n",
      "    C:\\Users\\lysak\\AppData\\Roaming\\jupyter\\runtime\n"
     ]
    }
   ],
   "source": [
    "!jupyter --version \n",
    "!jupyter --config-dir\n",
    "!jupyter --data-dir \n",
    "!jupyter --runtime-dir \n",
    "!jupyter --paths"
   ]
  },
  {
   "cell_type": "code",
   "execution_count": 22,
   "metadata": {
    "ExecuteTime": {
     "end_time": "2019-08-13T22:32:08.555644Z",
     "start_time": "2019-08-13T22:32:08.363645Z"
    }
   },
   "outputs": [
    {
     "name": "stdout",
     "output_type": "stream",
     "text": [
      "{\"runtime\": [\"C:\\\\Users\\\\lysak\\\\AppData\\\\Roaming\\\\jupyter\\\\runtime\"], \"config\": [\"C:\\\\Users\\\\lysak\\\\.jupyter\", \"C:\\\\ProgramData\\\\Anaconda3\\\\envs\\\\quantecon\\\\etc\\\\jupyter\", \"C:\\\\ProgramData\\\\jupyter\"], \"data\": [\"C:\\\\Users\\\\lysak\\\\AppData\\\\Roaming\\\\jupyter\", \"C:\\\\ProgramData\\\\Anaconda3\\\\envs\\\\quantecon\\\\share\\\\jupyter\", \"C:\\\\ProgramData\\\\jupyter\"]}\n"
     ]
    }
   ],
   "source": [
    "# output the jupyter paths information to a Python dictionary \n",
    "!jupyter --paths --json"
   ]
  },
  {
   "cell_type": "markdown",
   "metadata": {},
   "source": [
    "## The Shell Assignment Operator (the `!` operator) Explained\n",
    "\n",
    "The IPython notebook has a shell assignment operator (the ! operator), which evaluates a command using the local shell (e.g., bash) and returns a string list or `SList` object (IPython.utils.text.SList). \n",
    "\n",
    "An SList is a list-like object contains:\n",
    "- \"chunks\" of stdout and stderr \n",
    "- properties for accessing those chunks in different forms\n",
    "- convenience methods for operating on them."
   ]
  },
  {
   "cell_type": "code",
   "execution_count": 23,
   "metadata": {
    "ExecuteTime": {
     "end_time": "2019-08-13T22:32:08.724645Z",
     "start_time": "2019-08-13T22:32:08.559646Z"
    }
   },
   "outputs": [],
   "source": [
    "# output and store the jupyter paths information in a Python dictionary `jupyter_paths_dict`  \n",
    "jupyter_paths_dict = !jupyter --paths --json"
   ]
  },
  {
   "cell_type": "code",
   "execution_count": 24,
   "metadata": {
    "ExecuteTime": {
     "end_time": "2019-08-13T22:32:08.897646Z",
     "start_time": "2019-08-13T22:32:08.727644Z"
    }
   },
   "outputs": [
    {
     "name": "stdout",
     "output_type": "stream",
     "text": [
      "{\"runtime\": [\"C:\\\\Users\\\\lysak\\\\AppData\\\\Roaming\\\\jupyter\\\\runtime\"], \"config\": [\"C:\\\\Users\\\\lysak\\\\.jupyter\", \"C:\\\\ProgramData\\\\Anaconda3\\\\envs\\\\quantecon\\\\etc\\\\jupyter\", \"C:\\\\ProgramData\\\\jupyter\"], \"data\": [\"C:\\\\Users\\\\lysak\\\\AppData\\\\Roaming\\\\jupyter\", \"C:\\\\ProgramData\\\\Anaconda3\\\\envs\\\\quantecon\\\\share\\\\jupyter\", \"C:\\\\ProgramData\\\\jupyter\"]}\n"
     ]
    }
   ],
   "source": [
    "!jupyter --paths --json"
   ]
  },
  {
   "cell_type": "code",
   "execution_count": 25,
   "metadata": {
    "ExecuteTime": {
     "end_time": "2019-08-13T22:32:08.905646Z",
     "start_time": "2019-08-13T22:32:08.900646Z"
    }
   },
   "outputs": [
    {
     "data": {
      "text/plain": [
       "IPython.utils.text.SList"
      ]
     },
     "execution_count": 25,
     "metadata": {},
     "output_type": "execute_result"
    }
   ],
   "source": [
    "# the object `jupyter_paths_dict` is a Shell Assignment List, which is a \n",
    "type(jupyter_paths_dict)"
   ]
  },
  {
   "cell_type": "code",
   "execution_count": 26,
   "metadata": {
    "ExecuteTime": {
     "end_time": "2019-08-13T22:32:08.916646Z",
     "start_time": "2019-08-13T22:32:08.907645Z"
    }
   },
   "outputs": [
    {
     "data": {
      "text/plain": [
       "['{\"runtime\": [\"C:\\\\\\\\Users\\\\\\\\lysak\\\\\\\\AppData\\\\\\\\Roaming\\\\\\\\jupyter\\\\\\\\runtime\"], \"config\": [\"C:\\\\\\\\Users\\\\\\\\lysak\\\\\\\\.jupyter\", \"C:\\\\\\\\ProgramData\\\\\\\\Anaconda3\\\\\\\\envs\\\\\\\\quantecon\\\\\\\\etc\\\\\\\\jupyter\", \"C:\\\\\\\\ProgramData\\\\\\\\jupyter\"], \"data\": [\"C:\\\\\\\\Users\\\\\\\\lysak\\\\\\\\AppData\\\\\\\\Roaming\\\\\\\\jupyter\", \"C:\\\\\\\\ProgramData\\\\\\\\Anaconda3\\\\\\\\envs\\\\\\\\quantecon\\\\\\\\share\\\\\\\\jupyter\", \"C:\\\\\\\\ProgramData\\\\\\\\jupyter\"]}']"
      ]
     },
     "execution_count": 26,
     "metadata": {},
     "output_type": "execute_result"
    }
   ],
   "source": [
    "jupyter_paths_dict"
   ]
  },
  {
   "cell_type": "code",
   "execution_count": 27,
   "metadata": {
    "ExecuteTime": {
     "end_time": "2019-08-13T22:32:08.927646Z",
     "start_time": "2019-08-13T22:32:08.918645Z"
    }
   },
   "outputs": [
    {
     "name": "stdout",
     "output_type": "stream",
     "text": [
      "['{\"runtime\": [\"C:\\\\\\\\Users\\\\\\\\lysak\\\\\\\\AppData\\\\\\\\Roaming\\\\\\\\jupyter\\\\\\\\runtime\"], \"config\": [\"C:\\\\\\\\Users\\\\\\\\lysak\\\\\\\\.jupyter\", \"C:\\\\\\\\ProgramData\\\\\\\\Anaconda3\\\\\\\\envs\\\\\\\\quantecon\\\\\\\\etc\\\\\\\\jupyter\", \"C:\\\\\\\\ProgramData\\\\\\\\jupyter\"], \"data\": [\"C:\\\\\\\\Users\\\\\\\\lysak\\\\\\\\AppData\\\\\\\\Roaming\\\\\\\\jupyter\", \"C:\\\\\\\\ProgramData\\\\\\\\Anaconda3\\\\\\\\envs\\\\\\\\quantecon\\\\\\\\share\\\\\\\\jupyter\", \"C:\\\\\\\\ProgramData\\\\\\\\jupyter\"]}']\n"
     ]
    }
   ],
   "source": [
    "print(jupyter_paths_dict)"
   ]
  },
  {
   "cell_type": "code",
   "execution_count": 28,
   "metadata": {
    "ExecuteTime": {
     "end_time": "2019-08-13T22:32:08.938644Z",
     "start_time": "2019-08-13T22:32:08.929644Z"
    }
   },
   "outputs": [
    {
     "data": {
      "text/plain": [
       "'{\"runtime\": [\"C:\\\\\\\\Users\\\\\\\\lysak\\\\\\\\AppData\\\\\\\\Roaming\\\\\\\\jupyter\\\\\\\\runtime\"], \"config\": [\"C:\\\\\\\\Users\\\\\\\\lysak\\\\\\\\.jupyter\", \"C:\\\\\\\\ProgramData\\\\\\\\Anaconda3\\\\\\\\envs\\\\\\\\quantecon\\\\\\\\etc\\\\\\\\jupyter\", \"C:\\\\\\\\ProgramData\\\\\\\\jupyter\"], \"data\": [\"C:\\\\\\\\Users\\\\\\\\lysak\\\\\\\\AppData\\\\\\\\Roaming\\\\\\\\jupyter\", \"C:\\\\\\\\ProgramData\\\\\\\\Anaconda3\\\\\\\\envs\\\\\\\\quantecon\\\\\\\\share\\\\\\\\jupyter\", \"C:\\\\\\\\ProgramData\\\\\\\\jupyter\"]}'"
      ]
     },
     "execution_count": 28,
     "metadata": {},
     "output_type": "execute_result"
    }
   ],
   "source": [
    "jupyter_paths_dict[0]"
   ]
  },
  {
   "cell_type": "markdown",
   "metadata": {},
   "source": [
    "# Troubleshooting Python"
   ]
  },
  {
   "cell_type": "markdown",
   "metadata": {},
   "source": [
    "## How to Debug Python Path problems\n",
    "\n",
    "When Python just refuses to run correctly, it can be because the Windows or Mac OSX environment **path variable** to the Python runtime kernel is not set correctly.  The symptom is that a Windows Command Prompt Console (or \"Terminal\" on Mac OSX) and other programs that need a Python runtime or library cannot find it.\n",
    "\n",
    "Debugging bad or non-existent Python path references can be confusing.  \n",
    "\n",
    "The best explanation of how Python searches system and user paths is located here:\n",
    "\n",
    "https://stackoverflow.com/questions/897792/where-is-pythons-sys-path-initialized-from/38403654#38403654"
   ]
  },
  {
   "cell_type": "markdown",
   "metadata": {
    "ExecuteTime": {
     "end_time": "2019-09-12T03:24:53.706834Z",
     "start_time": "2019-09-12T03:24:53.702833Z"
    }
   },
   "source": [
    "## Locate current Python environment's runtime (aka \"kernel\"):"
   ]
  },
  {
   "cell_type": "code",
   "execution_count": 3,
   "metadata": {
    "ExecuteTime": {
     "end_time": "2019-09-12T03:24:53.706834Z",
     "start_time": "2019-09-12T03:24:53.702833Z"
    }
   },
   "outputs": [
    {
     "name": "stdout",
     "output_type": "stream",
     "text": [
      "C:\\ProgramData\\Anaconda3\\envs\\quant_trader\\python.exe\n"
     ]
    }
   ],
   "source": [
    "import sys\n",
    "print(sys.executable)\n",
    "\n",
    "# example output: >> C:\\Anaconda3\\envs\\quantecon\\python.exe"
   ]
  },
  {
   "cell_type": "markdown",
   "metadata": {
    "ExecuteTime": {
     "end_time": "2019-08-13T22:32:08.961648Z",
     "start_time": "2019-08-13T22:32:08.952646Z"
    }
   },
   "source": [
    "## Get current [virtual] environment name of this notebook"
   ]
  },
  {
   "cell_type": "code",
   "execution_count": 30,
   "metadata": {
    "ExecuteTime": {
     "end_time": "2019-08-13T22:32:08.961648Z",
     "start_time": "2019-08-13T22:32:08.952646Z"
    }
   },
   "outputs": [
    {
     "data": {
      "text/plain": [
       "'C:\\\\ProgramData\\\\Anaconda3\\\\envs\\\\quantecon'"
      ]
     },
     "execution_count": 30,
     "metadata": {},
     "output_type": "execute_result"
    }
   ],
   "source": [
    "import sys\n",
    "sys.prefix\n",
    "# E.G.: 'C:\\\\Users\\\\rlysak01\\\\AppData\\\\Local\\\\Continuum\\\\anaconda3'"
   ]
  },
  {
   "cell_type": "markdown",
   "metadata": {
    "ExecuteTime": {
     "end_time": "2019-08-13T22:32:08.974646Z",
     "start_time": "2019-08-13T22:32:08.963646Z"
    },
    "scrolled": true
   },
   "source": [
    "## Get directory location of your current virtual environment \n",
    "\n",
    "Type `sys.base_prefix` (for Python 3.6+)"
   ]
  },
  {
   "cell_type": "code",
   "execution_count": 5,
   "metadata": {
    "ExecuteTime": {
     "end_time": "2019-09-12T03:28:12.503160Z",
     "start_time": "2019-09-12T03:28:12.497161Z"
    }
   },
   "outputs": [
    {
     "data": {
      "text/plain": [
       "'C:\\\\ProgramData\\\\Anaconda3\\\\envs\\\\quant_trader'"
      ]
     },
     "execution_count": 5,
     "metadata": {},
     "output_type": "execute_result"
    }
   ],
   "source": [
    "sys.base_prefix"
   ]
  },
  {
   "cell_type": "markdown",
   "metadata": {},
   "source": [
    "## Troubleshooting Jupyter: Show All Python Configuration\n",
    "\n",
    "The \"jupyter troubleshoot\" command at the console provides the following troubleshooting information.\n",
    "\n",
    "Windows System Path Variables:\n",
    "    - $PATH:\n",
    "    - sys.path:\n",
    "    - sys.executable:\n",
    "    - sys.version:\n",
    "    - platform.platform():\n",
    "    - where jupyter:  (is located)\n",
    "\n",
    "pip list:\n",
    "    - List of installed pip packages in the current environment.\n",
    "conda list:\n",
    "    - List of installed packages in current environment (typically at C:\\Anaconda3:)\n",
    "    "
   ]
  },
  {
   "cell_type": "code",
   "execution_count": 32,
   "metadata": {
    "ExecuteTime": {
     "end_time": "2019-08-13T22:32:11.551306Z",
     "start_time": "2019-08-13T22:32:08.977646Z"
    }
   },
   "outputs": [
    {
     "name": "stdout",
     "output_type": "stream",
     "text": [
      "$PATH:\n",
      "\tC:\\ProgramData\\Anaconda3\\envs\\quantecon\n",
      "\tC:\\ProgramData\\Anaconda3\\envs\\quantecon\\Library\\mingw-w64\\bin\n",
      "\tC:\\ProgramData\\Anaconda3\\envs\\quantecon\\Library\\usr\\bin\n",
      "\tC:\\ProgramData\\Anaconda3\\envs\\quantecon\\Library\\bin\n",
      "\tC:\\ProgramData\\Anaconda3\\envs\\quantecon\\Scripts\n",
      "\tC:\\ProgramData\\Anaconda3\\envs\\quantecon\\bin\n",
      "\tC:\\ProgramData\\Anaconda3\\condabin\n",
      "\tC:\\Users\\lysak\\AppData\\Roaming\\Python\\Python37\\site-packages\\PyQt5\\Qt\\bin\n",
      "\tC:\\ProgramData\\Anaconda3\n",
      "\tC:\\ProgramData\\Anaconda3\\Library\\mingw-w64\\bin\n",
      "\tC:\\ProgramData\\Anaconda3\\Library\\usr\\bin\n",
      "\tC:\\ProgramData\\Anaconda3\\Library\\bin\n",
      "\tC:\\ProgramData\\Anaconda3\\Scripts\n",
      "\tC:\\ProgramData\\DockerDesktop\\version-bin\n",
      "\tC:\\Program Files\\Docker\\Docker\\Resources\\bin\n",
      "\tC:\\Program Files (x86)\\Intel\\Intel(R) Management Engine Components\\iCLS\n",
      "\tC:\\Program Files\\Intel\\Intel(R) Management Engine Components\\iCLS\n",
      "\tC:\\Windows\\system32\n",
      "\tC:\\Windows\n",
      "\tC:\\Windows\\System32\\Wbem\n",
      "\tC:\\Windows\\System32\\WindowsPowerShell\\v1.0\n",
      "\tC:\\Windows\\System32\\OpenSSH\n",
      "\tC:\\Program Files (x86)\\Intel\\Intel(R) Management Engine Components\\DAL\n",
      "\tC:\\Program Files\\Intel\\Intel(R) Management Engine Components\\DAL\n",
      "\tC:\\Program Files (x86)\\NVIDIA Corporation\\PhysX\\Common\n",
      "\tC:\\Program Files\\Microsoft VS Code\\bin\n",
      "\tC:\\Program Files (x86)\\Calibre2\n",
      "\tC:\\Program Files\\Git\\cmd\n",
      "\tc:\\Anaconda3\n",
      "\tc:\\Anaconda3\\Scripts\n",
      "\tc:\\Anaconda3\\Library\\bin\n",
      "\tC:\\Program Files\\nodejs\n",
      "\tC:\\Program Files\\Intel\\WiFi\\bin\n",
      "\tC:\\Program Files\\Common Files\\Intel\\WirelessCommon\n",
      "\tC:\\Users\\lysak\\AppData\\Local\\atom\n",
      "\tC:\\Users\\lysak\\AppData\\Local\\Microsoft\\WindowsApps\n",
      "\tC:\\Users\\lysak\\AppData\\Local\\GitHubDesktop\\bin\n",
      "\tC:\\Program Files (x86)\\GnuWin32\\bin\n",
      "\tC:\\Users\\lysak\\AppData\\Roaming\\npm\n",
      "\tC:\\Users\\lysak\\AppData\\Local\\atom\\bin\n",
      "\tC:\\ProgramData\\Anaconda3\\lib\\site-packages\\pywin32_system32\n",
      "\tC:\\ProgramData\\Anaconda3\\lib\\site-packages\\pywin32_system32\n",
      "\tC:\\ProgramData\\Anaconda3\\lib\\site-packages\\pywin32_system32\n",
      "\n",
      "sys.path:\n",
      "\tC:\\ProgramData\\Anaconda3\\envs\\quantecon\\Scripts\n",
      "\tC:\\ProgramData\\Anaconda3\\envs\\quantecon\\python37.zip\n",
      "\tC:\\ProgramData\\Anaconda3\\envs\\quantecon\\DLLs\n",
      "\tC:\\ProgramData\\Anaconda3\\envs\\quantecon\\lib\n",
      "\tC:\\ProgramData\\Anaconda3\\envs\\quantecon\n",
      "\tC:\\Users\\lysak\\AppData\\Roaming\\Python\\Python37\\site-packages\n",
      "\tC:\\ProgramData\\Anaconda3\\envs\\quantecon\\lib\\site-packages\n",
      "\n",
      "sys.executable:\n",
      "\tC:\\ProgramData\\Anaconda3\\envs\\quantecon\\python.exe\n",
      "\n",
      "sys.version:\n",
      "\t3.7.3 | packaged by conda-forge | (default, Mar 27 2019, 23:18:50) [MSC v.1900 64 bit (AMD64)]\n",
      "\n",
      "platform.platform():\n",
      "\tWindows-10-10.0.17134-SP0\n",
      "\n",
      "where jupyter:\n",
      "\tC:\\ProgramData\\Anaconda3\\envs\\quantecon\\Scripts\\jupyter.exe\n",
      "\n",
      "\tC:\\ProgramData\\Anaconda3\\Scripts\\jupyter.exe\n",
      "\n",
      "pip list:\n",
      "\tPackage                           Version \n",
      "\n",
      "\t--------------------------------- --------\n",
      "\n",
      "\tarcade                            2.0.8   \n",
      "\n",
      "\tattrs                             19.1.0  \n",
      "\n",
      "\tawkward                           0.9.0   \n",
      "\n",
      "\tawkward-numba                     0.9.0   \n",
      "\n",
      "\tbackcall                          0.1.0   \n",
      "\n",
      "\tbleach                            3.1.0   \n",
      "\n",
      "\tcertifi                           2019.3.9\n",
      "\n",
      "\tchardet                           3.0.4   \n",
      "\n",
      "\tcolorama                          0.4.1   \n",
      "\n",
      "\tcycler                            0.10.0  \n",
      "\n",
      "\tdecorator                         4.4.0   \n",
      "\n",
      "\tdefusedxml                        0.5.0   \n",
      "\n",
      "\tentrypoints                       0.3     \n",
      "\n",
      "\tenum34                            1.1.6   \n",
      "\n",
      "\tfuture                            0.17.1  \n",
      "\n",
      "\tidna                              2.8     \n",
      "\n",
      "\tipykernel                         5.1.1   \n",
      "\n",
      "\tipython                           7.5.0   \n",
      "\n",
      "\tipython-genutils                  0.2.0   \n",
      "\n",
      "\tipywidgets                        7.4.2   \n",
      "\n",
      "\tjedi                              0.13.3  \n",
      "\n",
      "\tJinja2                            2.10.1  \n",
      "\n",
      "\tjsonschema                        3.0.1   \n",
      "\n",
      "\tjupyter-client                    5.2.4   \n",
      "\n",
      "\tjupyter-console                   6.0.0   \n",
      "\n",
      "\tjupyter-contrib-core              0.3.3   \n",
      "\n",
      "\tjupyter-contrib-nbextensions      0.5.1   \n",
      "\n",
      "\tjupyter-core                      4.4.0   \n",
      "\n",
      "\tjupyter-highlight-selected-word   0.2.0   \n",
      "\n",
      "\tjupyter-http-over-ws              0.0.6   \n",
      "\n",
      "\tjupyter-latex-envs                1.4.4   \n",
      "\n",
      "\tjupyter-nbextensions-configurator 0.4.1   \n",
      "\n",
      "\tjupyter-wysiwyg                   19.5    \n",
      "\n",
      "\tkiwisolver                        1.1.0   \n",
      "\n",
      "\tllvmlite                          0.28.0  \n",
      "\n",
      "\tlxml                              4.3.3   \n",
      "\n",
      "\tMarkupSafe                        1.1.1   \n",
      "\n",
      "\tmatplotlib                        3.1.0   \n",
      "\n",
      "\tmistune                           0.8.4   \n",
      "\n",
      "\tnbconvert                         5.5.0   \n",
      "\n",
      "\tnbformat                          4.4.0   \n",
      "\n",
      "\tnotebook                          5.7.8   \n",
      "\n",
      "\tnumba                             0.43.1  \n",
      "\n",
      "\tnumpy                             1.16.3  \n",
      "\n",
      "\tpandas                            0.24.2  \n",
      "\n",
      "\tpandas-datareader                 0.7.4   \n",
      "\n",
      "\tpandocfilters                     1.4.2   \n",
      "\n",
      "\tparso                             0.4.0   \n",
      "\n",
      "\tpatsy                             0.5.1   \n",
      "\n",
      "\tpickleshare                       0.7.5   \n",
      "\n",
      "\tpip                               19.0.3  \n",
      "\n",
      "\tprometheus-client                 0.6.0   \n",
      "\n",
      "\tprompt-toolkit                    2.0.9   \n",
      "\n",
      "\tpyglet                            1.4.0b1 \n",
      "\n",
      "\tpyglet-ffmpeg2                    0.1.12  \n",
      "\n",
      "\tPygments                          2.4.2   \n",
      "\n",
      "\tpyparsing                         2.4.0   \n",
      "\n",
      "\tPyQt5                             5.13.0  \n",
      "\n",
      "\tPyQt5-sip                         4.19.18 \n",
      "\n",
      "\tpyrsistent                        0.15.2  \n",
      "\n",
      "\tpython-dateutil                   2.8.0   \n",
      "\n",
      "\tpytz                              2019.1  \n",
      "\n",
      "\tpywinpty                          0.5.5   \n",
      "\n",
      "\tPyYAML                            5.1     \n",
      "\n",
      "\tpyzmq                             18.0.1  \n",
      "\n",
      "\tqtconsole                         4.5.1   \n",
      "\n",
      "\trequests                          2.22.0  \n",
      "\n",
      "\tscipy                             1.2.1   \n",
      "\n",
      "\tseaborn                           0.9.0   \n",
      "\n",
      "\tSend2Trash                        1.5.0   \n",
      "\n",
      "\tsetuptools                        41.0.0  \n",
      "\n",
      "\tsix                               1.12.0  \n",
      "\n",
      "\tstatsmodels                       0.9.0   \n",
      "\n",
      "\tterminado                         0.8.2   \n",
      "\n",
      "\ttestpath                          0.4.2   \n",
      "\n",
      "\ttornado                           6.0.2   \n",
      "\n",
      "\ttraitlets                         4.3.2   \n",
      "\n",
      "\turllib3                           1.25.3  \n",
      "\n",
      "\twcwidth                           0.1.7   \n",
      "\n",
      "\twebencodings                      0.5.1   \n",
      "\n",
      "\twheel                             0.33.1  \n",
      "\n",
      "\twidgetsnbextension                3.4.2   \n",
      "\n",
      "\twincertstore                      0.2     \n",
      "\n",
      "\twrapt                             1.11.2\n",
      "\n",
      "conda list:\n",
      "\t# packages in environment at C:\\ProgramData\\Anaconda3\\envs\\quantecon:\n",
      "\n",
      "\t#\n",
      "\n",
      "\t# Name                    Version                   Build  Channel\n",
      "\n",
      "\tattrs                     19.1.0                     py_0    conda-forge\n",
      "\n",
      "\tawkward                   0.9.0                      py_0    conda-forge\n",
      "\n",
      "\tawkward-numba             0.9.0                      py_0    conda-forge\n",
      "\n",
      "\tbackcall                  0.1.0                      py_0    conda-forge\n",
      "\n",
      "\tblas                      1.0                         mkl  \n",
      "\n",
      "\tbleach                    3.1.0                      py_0    conda-forge\n",
      "\n",
      "\tca-certificates           2019.3.9             hecc5488_0    conda-forge\n",
      "\n",
      "\tcertifi                   2019.3.9                 py37_0    conda-forge\n",
      "\n",
      "\tchardet                   3.0.4                    pypi_0    pypi\n",
      "\n",
      "\tcolorama                  0.4.1                      py_0    conda-forge\n",
      "\n",
      "\tcycler                    0.10.0                     py_1    conda-forge\n",
      "\n",
      "\tdecorator                 4.4.0                      py_0    conda-forge\n",
      "\n",
      "\tdefusedxml                0.5.0                      py_1    conda-forge\n",
      "\n",
      "\tentrypoints               0.3                   py37_1000    conda-forge\n",
      "\n",
      "\tenum34                    1.1.6                    pypi_0    pypi\n",
      "\n",
      "\tfreetype                  2.10.0               h5db478b_0    conda-forge\n",
      "\n",
      "\ticc_rt                    2019.0.0             h0cc432a_1  \n",
      "\n",
      "\ticu                       58.1                     vc14_0    conda-forge\n",
      "\n",
      "\tidna                      2.8                      pypi_0    pypi\n",
      "\n",
      "\tintel-openmp              2019.3                      203  \n",
      "\n",
      "\tipykernel                 5.1.1            py37h39e3cac_0    conda-forge\n",
      "\n",
      "\tipython                   7.5.0            py37h39e3cac_0    conda-forge\n",
      "\n",
      "\tipython_genutils          0.2.0                      py_1    conda-forge\n",
      "\n",
      "\tipywidgets                7.4.2                      py_0    conda-forge\n",
      "\n",
      "\tjedi                      0.13.3                   py37_0    conda-forge\n",
      "\n",
      "\tjinja2                    2.10.1                     py_0    conda-forge\n",
      "\n",
      "\tjpeg                      9c                hfa6e2cd_1001    conda-forge\n",
      "\n",
      "\tjsonschema                3.0.1                    py37_0    conda-forge\n",
      "\n",
      "\tjupyter                   1.0.0                      py_2    conda-forge\n",
      "\n",
      "\tjupyter-http-over-ws      0.0.6                    pypi_0    pypi\n",
      "\n",
      "\tjupyter-wysiwyg           19.05                    py37_0    genepattern\n",
      "\n",
      "\tjupyter_client            5.2.4                      py_3    conda-forge\n",
      "\n",
      "\tjupyter_console           6.0.0                      py_0    conda-forge\n",
      "\n",
      "\tjupyter_contrib_core      0.3.3                      py_2    conda-forge\n",
      "\n",
      "\tjupyter_contrib_nbextensions 0.5.1                    py37_0    conda-forge\n",
      "\n",
      "\tjupyter_core              4.4.0                      py_0    conda-forge\n",
      "\n",
      "\tjupyter_highlight_selected_word 0.2.0                 py37_1000    conda-forge\n",
      "\n",
      "\tjupyter_latex_envs        1.4.4                 py37_1000    conda-forge\n",
      "\n",
      "\tjupyter_nbextensions_configurator 0.4.1                    py37_0    conda-forge\n",
      "\n",
      "\tkiwisolver                1.1.0            py37he980bc4_0    conda-forge\n",
      "\n",
      "\tlibblas                   3.8.0                     5_mkl    conda-forge\n",
      "\n",
      "\tlibcblas                  3.8.0                     5_mkl    conda-forge\n",
      "\n",
      "\tlibiconv                  1.15              hfa6e2cd_1005    conda-forge\n",
      "\n",
      "\tliblapack                 3.8.0                     5_mkl    conda-forge\n",
      "\n",
      "\tlibpng                    1.6.37               h7602738_0    conda-forge\n",
      "\n",
      "\tlibsodium                 1.0.16            h2fa13f4_1001    conda-forge\n",
      "\n",
      "\tlibxml2                   2.9.9                h9ce36c8_0    conda-forge\n",
      "\n",
      "\tlibxslt                   1.1.32            heafd4d3_1002    conda-forge\n",
      "\n",
      "\tllvmlite                  0.28.0                   py37_0    conda-forge\n",
      "\n",
      "\tlxml                      4.3.3            py37heafd4d3_0    conda-forge\n",
      "\n",
      "\tm2w64-gcc-libgfortran     5.3.0                         6  \n",
      "\n",
      "\tm2w64-gcc-libs            5.3.0                         7  \n",
      "\n",
      "\tm2w64-gcc-libs-core       5.3.0                         7  \n",
      "\n",
      "\tm2w64-gmp                 6.1.0                         2  \n",
      "\n",
      "\tm2w64-libwinpthread-git   5.0.0.4634.697f757               2  \n",
      "\n",
      "\tmarkupsafe                1.1.1            py37hfa6e2cd_0    conda-forge\n",
      "\n",
      "\tmatplotlib-base           3.1.0            py37h2852a4a_1    conda-forge\n",
      "\n",
      "\tmistune                   0.8.4           py37hfa6e2cd_1000    conda-forge\n",
      "\n",
      "\tmkl                       2019.3                      203  \n",
      "\n",
      "\tmsys2-conda-epoch         20160418                      1  \n",
      "\n",
      "\tnbconvert                 5.5.0                      py_0    conda-forge\n",
      "\n",
      "\tnbformat                  4.4.0                      py_1    conda-forge\n",
      "\n",
      "\tnotebook                  5.7.8                    py37_1    conda-forge\n",
      "\n",
      "\tnumba                     0.43.1           py37hf9181ef_0  \n",
      "\n",
      "\tnumbapro_cudalib          0.2                           0    https://repo.anaconda.com/pkgs/free\n",
      "\n",
      "\tnumpy                     1.16.3           py37h873a0b8_0    conda-forge\n",
      "\n",
      "\topenssl                   1.1.1b               hfa6e2cd_2    conda-forge\n",
      "\n",
      "\tpandas                    0.24.2           py37he350917_0    conda-forge\n",
      "\n",
      "\tpandas-datareader         0.7.4                    pypi_0    pypi\n",
      "\n",
      "\tpandoc                    2.7.2                         0    conda-forge\n",
      "\n",
      "\tpandocfilters             1.4.2                      py_1    conda-forge\n",
      "\n",
      "\tparso                     0.4.0                      py_0    conda-forge\n",
      "\n",
      "\tpatsy                     0.5.1                      py_0    conda-forge\n",
      "\n",
      "\tpickleshare               0.7.5                 py37_1000    conda-forge\n",
      "\n",
      "\tpip                       19.0.3                   py37_0    conda-forge\n",
      "\n",
      "\tprometheus_client         0.6.0                      py_0    conda-forge\n",
      "\n",
      "\tprompt_toolkit            2.0.9                      py_0    conda-forge\n",
      "\n",
      "\tpygments                  2.4.2                      py_0    conda-forge\n",
      "\n",
      "\tpyparsing                 2.4.0                      py_0    conda-forge\n",
      "\n",
      "\tpyqt                      5.9.2            py37h6538335_0    conda-forge\n",
      "\n",
      "\tpyrsistent                0.15.2           py37hfa6e2cd_0    conda-forge\n",
      "\n",
      "\tpython                    3.7.3                hb12ca83_0    conda-forge\n",
      "\n",
      "\tpython-dateutil           2.8.0                      py_0    conda-forge\n",
      "\n",
      "\tpytz                      2019.1                     py_0    conda-forge\n",
      "\n",
      "\tpywinpty                  0.5.5                 py37_1000    conda-forge\n",
      "\n",
      "\tpyyaml                    5.1              py37hfa6e2cd_0    conda-forge\n",
      "\n",
      "\tpyzmq                     18.0.1           py37he7828b0_1    conda-forge\n",
      "\n",
      "\tqt                        5.9.7                hc6833c9_1    conda-forge\n",
      "\n",
      "\tqtconsole                 4.5.1                      py_0    conda-forge\n",
      "\n",
      "\trequests                  2.22.0                   pypi_0    pypi\n",
      "\n",
      "\tscipy                     1.2.1            py37h29ff71c_0  \n",
      "\n",
      "\tseaborn                   0.9.0                      py_1    conda-forge\n",
      "\n",
      "\tsend2trash                1.5.0                      py_0    conda-forge\n",
      "\n",
      "\tsetuptools                41.0.0                   py37_0    conda-forge\n",
      "\n",
      "\tsip                       4.19.8          py37h6538335_1000    conda-forge\n",
      "\n",
      "\tsix                       1.12.0                py37_1000    conda-forge\n",
      "\n",
      "\tsqlite                    3.26.0            hfa6e2cd_1001    conda-forge\n",
      "\n",
      "\tstatsmodels               0.9.0           py37hfa6e2cd_1000    conda-forge\n",
      "\n",
      "\tterminado                 0.8.2                    py37_0    conda-forge\n",
      "\n",
      "\ttestpath                  0.4.2                   py_1001    conda-forge\n",
      "\n",
      "\ttornado                   6.0.2            py37hfa6e2cd_0    conda-forge\n",
      "\n",
      "\ttraitlets                 4.3.2                 py37_1000    conda-forge\n",
      "\n",
      "\turllib3                   1.25.3                   pypi_0    pypi\n",
      "\n",
      "\tvc                        14.1                 h0510ff6_4  \n",
      "\n",
      "\tvs2015_runtime            14.15.26706          h3a45250_0  \n",
      "\n",
      "\twcwidth                   0.1.7                      py_1    conda-forge\n",
      "\n",
      "\twebencodings              0.5.1                      py_1    conda-forge\n",
      "\n",
      "\twheel                     0.33.1                   py37_0    conda-forge\n",
      "\n",
      "\twidgetsnbextension        3.4.2                 py37_1000    conda-forge\n",
      "\n",
      "\twincertstore              0.2                   py37_1002    conda-forge\n",
      "\n",
      "\twinpty                    0.4.3                         4    conda-forge\n",
      "\n",
      "\twrapt                     1.11.2                   pypi_0    pypi\n",
      "\n",
      "\tyaml                      0.1.7             hfa6e2cd_1001    conda-forge\n",
      "\n",
      "\tzeromq                    4.3.1             he025d50_1000    conda-forge\n",
      "\n",
      "\tzlib                      1.2.11            h2fa13f4_1004    conda-forge\n"
     ]
    }
   ],
   "source": [
    "!jupyter troubleshoot"
   ]
  },
  {
   "cell_type": "markdown",
   "metadata": {},
   "source": [
    "## Show which channel(s) are currently enabled"
   ]
  },
  {
   "cell_type": "code",
   "execution_count": 9,
   "metadata": {
    "ExecuteTime": {
     "end_time": "2019-09-12T03:30:11.770215Z",
     "start_time": "2019-09-12T03:30:10.684213Z"
    }
   },
   "outputs": [
    {
     "name": "stdout",
     "output_type": "stream",
     "text": [
      "==> C:\\Users\\lysak\\.condarc <==\n",
      "channels:\n",
      "  - conda-forge\n",
      "  - defaults\n",
      "ssl_verify: True\n",
      "\n"
     ]
    }
   ],
   "source": [
    "!conda config --show-sources"
   ]
  },
  {
   "cell_type": "code",
   "execution_count": 10,
   "metadata": {
    "ExecuteTime": {
     "end_time": "2019-09-12T03:30:35.665993Z",
     "start_time": "2019-09-12T03:30:35.035991Z"
    }
   },
   "outputs": [
    {
     "name": "stderr",
     "output_type": "stream",
     "text": [
      "\n",
      "\n",
      "CondaEnvironmentNotFoundError: Could not find environment: C:\\ProgramData\\Anaconda3\\envs\\quant_trader\\envs\\quant_trader .\n",
      "You can list all discoverable environments with `conda info --envs`.\n",
      "\n",
      "\n"
     ]
    }
   ],
   "source": [
    "!conda list --show-channel-urls"
   ]
  },
  {
   "cell_type": "markdown",
   "metadata": {},
   "source": [
    "## Troubleshooting Conda, Anaconda, or PIP installation errors:"
   ]
  },
  {
   "cell_type": "markdown",
   "metadata": {},
   "source": [
    "### Disable Certificate Verification (for conda or pip Http proxy server errors )\n",
    "\n",
    "You shouldn't normally do this, but if you are behind a corporate firewall you may need this to get packages downloaded and installed."
   ]
  },
  {
   "cell_type": "markdown",
   "metadata": {},
   "source": [
    "#### Conda HTTP errors - Solution 1:"
   ]
  },
  {
   "cell_type": "code",
   "execution_count": 10,
   "metadata": {
    "ExecuteTime": {
     "end_time": "2019-08-13T22:27:54.927190Z",
     "start_time": "2019-08-13T22:27:54.483137Z"
    },
    "deletable": false,
    "editable": false,
    "run_control": {
     "frozen": true
    }
   },
   "outputs": [],
   "source": [
    "### Turn off SSL verification:\n",
    "\n",
    "!conda config --set ssl_verify no"
   ]
  },
  {
   "cell_type": "markdown",
   "metadata": {},
   "source": [
    "#### pip HTTP Errors - Solution 2:\\"
   ]
  },
  {
   "cell_type": "code",
   "execution_count": 53,
   "metadata": {
    "ExecuteTime": {
     "end_time": "2019-07-26T23:47:47.697359Z",
     "start_time": "2019-07-26T23:47:44.775668Z"
    },
    "deletable": false,
    "editable": false,
    "run_control": {
     "frozen": true
    }
   },
   "outputs": [
    {
     "name": "stdout",
     "output_type": "stream",
     "text": [
      "Requirement already satisfied: PACKAGE-NAME in c:\\anaconda3\\lib\\site-packages (0.1)\n"
     ]
    }
   ],
   "source": [
    "!pip install --trusted-host pypi.org --trusted-host files.pythonhosted.org  PACKAGE-NAME"
   ]
  },
  {
   "cell_type": "markdown",
   "metadata": {},
   "source": [
    "# Show Versions of Python Packages Being Used"
   ]
  },
  {
   "cell_type": "code",
   "execution_count": 9,
   "metadata": {
    "ExecuteTime": {
     "end_time": "2019-11-21T04:45:07.306597Z",
     "start_time": "2019-11-21T04:45:07.295639Z"
    }
   },
   "outputs": [
    {
     "name": "stdout",
     "output_type": "stream",
     "text": [
      "No module named 'something'\n"
     ]
    }
   ],
   "source": [
    "try:\n",
    "    import pyodbc\n",
    "    import sys\n",
    "    import pandas as pd\n",
    "    import numpy as np\n",
    "    import sqlalchemy\n",
    "    import something\n",
    "except ImportError as e:\n",
    "     print(e) # module doesn't exist, deal with it."
   ]
  },
  {
   "cell_type": "code",
   "execution_count": 10,
   "metadata": {
    "ExecuteTime": {
     "end_time": "2019-11-21T04:45:11.404539Z",
     "start_time": "2019-11-21T04:45:11.396955Z"
    }
   },
   "outputs": [
    {
     "data": {
      "text/plain": [
       "getset_descriptor"
      ]
     },
     "execution_count": 10,
     "metadata": {},
     "output_type": "execute_result"
    }
   ],
   "source": [
    "type(ImportError.args)"
   ]
  },
  {
   "cell_type": "code",
   "execution_count": 4,
   "metadata": {
    "ExecuteTime": {
     "end_time": "2019-11-21T04:43:36.623994Z",
     "start_time": "2019-11-21T04:43:33.972342Z"
    }
   },
   "outputs": [
    {
     "name": "stdout",
     "output_type": "stream",
     "text": [
      "pip 19.3.1 from C:\\ProgramData\\Anaconda3\\lib\\site-packages\\pip (python 3.7)\n",
      "\n"
     ]
    }
   ],
   "source": [
    "!pip --version"
   ]
  },
  {
   "cell_type": "code",
   "execution_count": 11,
   "metadata": {
    "ExecuteTime": {
     "end_time": "2019-11-21T04:45:20.505504Z",
     "start_time": "2019-11-21T04:45:17.408221Z"
    }
   },
   "outputs": [
    {
     "name": "stdout",
     "output_type": "stream",
     "text": [
      "['affinity', 'alabaster', 'alpha-vantage', 'altair', 'anaconda-client', 'anaconda-navigator', 'anaconda-project', 'AnyQt', 'arcade', 'asn1crypto', 'astroid', 'astropy', 'atomicwrites', 'attrs', 'Automat', 'Babel', 'backcall', 'backports.os', 'backports.shutil-get-terminal-size', 'basemap', 'bcrypt', 'beautifulsoup4', 'bitarray', 'bkcharts', 'blaze', 'bleach', 'bokeh', 'boto', 'Bottleneck', 'branca', 'CacheControl', 'certifi', 'cffi', 'chardet', 'Click', 'click-plugins', 'cligj', 'cloudpickle', 'clyent', 'colorama', 'colorlover', 'commonmark', 'comtypes', 'conda', 'conda-package-handling', 'constantly', 'contextlib2', 'cryptography', 'cufflinks', 'cycler', 'Cython', 'cytoolz', 'dask', 'datashape', 'DateTime', 'DBUtils', 'decorator', 'defusedxml', 'distributed', 'docutils', 'entrypoints', 'enum34', 'et-xmlfile', 'Fabric3', 'fastcache', 'filelock', 'Fiona', 'firefly-python', 'Flask', 'Flask-Cors', 'Flask-WTF', 'folium', 'fsspec', 'future', 'GDAL', 'geopandas', 'gevent', 'glob2', 'greenlet', 'gunicorn', 'h5py', 'HeapDict', 'html5lib', 'hyperlink', 'idna', 'imageio', 'imagesize', 'importlib-metadata', 'incremental', 'intervaltree', 'ipykernel', 'ipython', 'ipython-genutils', 'ipython-sql', 'ipywidgets', 'isort', 'itsdangerous', 'jdcal', 'jedi', 'Jinja2', 'joblib', 'json5', 'jsonschema', 'jupyter-client', 'jupyter-console', 'jupyter-contrib-core', 'jupyter-contrib-nbextensions', 'jupyter-core', 'jupyter-highlight-selected-word', 'jupyter-http-over-ws', 'jupyter-latex-envs', 'jupyter-nbextensions-configurator', 'jupyterlab', 'jupyterlab-server', 'keyring', 'keyrings.alt', 'kiwisolver', 'labella', 'lazy-object-proxy', 'libarchive-c', 'llvmlite', 'locket', 'lockfile', 'lxml', 'MarkupSafe', 'matplotlib', 'maze', 'mccabe', 'menuinst', 'mibian', 'mistune', 'mkl-fft', 'mkl-random', 'mkl-service', 'more-itertools', 'Mosek', 'mpmath', 'msgpack', 'multipledispatch', 'munch', 'navigator-updater', 'nbconvert', 'nbformat', 'nbopen', 'networkx', 'nltk', 'nose', 'notebook', 'numba', 'numexpr', 'numpy', 'numpydoc', 'odo', 'olefile', 'openpyxl', 'openTSNE', 'orange-canvas-core', 'orange-widget-base', 'Orange3', 'packaging', 'pandas', 'pandas-datareader', 'pandocfilters', 'paramiko', 'parso', 'partd', 'path.py', 'pathlib2', 'patsy', 'pep8', 'pickleshare', 'Pillow', 'pkginfo', 'plotly', 'pluggy', 'ply', 'Pollster', 'prettytable', 'prometheus-client', 'prompt-toolkit', 'psutil', 'py', 'pycodestyle', 'pycosat', 'pycparser', 'pycrypto', 'pycurl', 'pydotplus', 'pyflakes', 'pygame', 'pyglet', 'pyglet-ffmpeg2', 'Pygments', 'PyHamcrest', 'pylint', 'PyNaCl', 'pynndescent', 'pyodbc', 'pyOpenSSL', 'pyparsing', 'pyproj', 'PyQt5', 'PyQt5-sip', 'pyqtgraph', 'PyQtWebEngine', 'pyreadline', 'pyrsistent', 'pyshp', 'PySocks', 'pytest', 'pytest-arraydiff', 'pytest-astropy', 'pytest-astropy-header', 'pytest-doctestplus', 'pytest-openfiles', 'pytest-remotedata', 'python-dateutil', 'python-louvain', 'python-memcached', 'pytz', 'PyWavelets', 'pywin32', 'pywin32-ctypes', 'pywinpty', 'PyYAML', 'pyzmq', 'QtAwesome', 'qtconsole', 'QtPy', 'requests', 'retrying', 'rise', 'rope', 'rorolite', 'Rtree', 'ruamel-yaml', 'scikit-image', 'scikit-learn', 'scipy', 'seaborn', 'Send2Trash', 'serverfiles', 'Shapely', 'simplegeneric', 'singledispatch', 'six', 'snowballstemmer', 'sortedcollections', 'sortedcontainers', 'soupsieve', 'Sphinx', 'sphinxcontrib-applehelp', 'sphinxcontrib-devhelp', 'sphinxcontrib-htmlhelp', 'sphinxcontrib-jsmath', 'sphinxcontrib-qthelp', 'sphinxcontrib-serializinghtml', 'sphinxcontrib-websupport', 'spyder', 'spyder-kernels', 'SQLAlchemy', 'sqlparse', 'statsmodels', 'sympy', 'tables', 'tblib', 'terminado', 'testpath', 'toolz', 'tornado', 'tqdm', 'traitlets', 'Twisted', 'unicodecsv', 'urllib3', 'vega-datasets', 'vincent', 'virtualenv', 'wallstreet', 'wcwidth', 'webencodings', 'WebOb', 'Werkzeug', 'widgetsnbextension', 'win-inet-pton', 'win-unicode-console', 'wincertstore', 'wordcloud', 'wrapt', 'WTForms', 'xlrd', 'XlsxWriter', 'xlwings', 'xlwt', 'zict', 'zipp', 'zope.interface']\n"
     ]
    }
   ],
   "source": [
    "import subprocess\n",
    "import sys\n",
    "\n",
    "reqs = subprocess.check_output([sys.executable, '-m', 'pip', 'freeze'])\n",
    "installed_packages = [r.decode().split('==')[0] for r in reqs.split()]\n",
    "print(installed_packages)"
   ]
  },
  {
   "cell_type": "markdown",
   "metadata": {},
   "source": [
    "## Packages Resources Module\n",
    "The pkg_resources module provides runtime facilities for finding, introspecting, activating and using installed Python distributions.\n",
    "https://setuptools.readthedocs.io/en/latest/pkg_resources.html"
   ]
  },
  {
   "cell_type": "code",
   "execution_count": 12,
   "metadata": {
    "ExecuteTime": {
     "end_time": "2019-11-21T04:45:29.436588Z",
     "start_time": "2019-11-21T04:45:28.463542Z"
    }
   },
   "outputs": [
    {
     "data": {
      "text/plain": [
       "[PyQt5 5.13.0 (c:\\users\\lysak\\appdata\\roaming\\python\\python37\\site-packages),\n",
       " PyQt5-sip 4.19.18 (c:\\users\\lysak\\appdata\\roaming\\python\\python37\\site-packages),\n",
       " pyglet 1.4.0b1 (c:\\users\\lysak\\appdata\\roaming\\python\\python37\\site-packages),\n",
       " pyglet-ffmpeg2 0.1.12 (c:\\users\\lysak\\appdata\\roaming\\python\\python37\\site-packages),\n",
       " future 0.17.1 (c:\\users\\lysak\\appdata\\roaming\\python\\python37\\site-packages)]"
      ]
     },
     "execution_count": 12,
     "metadata": {},
     "output_type": "execute_result"
    }
   ],
   "source": [
    "import pkg_resources\n",
    "\n",
    "dists = [d for d in pkg_resources.working_set]\n",
    "dists[:5]"
   ]
  },
  {
   "cell_type": "markdown",
   "metadata": {
    "ExecuteTime": {
     "end_time": "2019-09-12T03:41:12.752288Z",
     "start_time": "2019-09-12T03:41:12.749304Z"
    }
   },
   "source": [
    "## `pip freeze` to dump all package versions to `requirements.txt` file\n",
    "\n",
    "`pip freeze` creates / dumps a list of all package versions required to reconstruct the current environment.\n",
    "\n",
    "https://stackoverflow.com/questions/18966564/pip-freeze-vs-pip-list"
   ]
  },
  {
   "cell_type": "markdown",
   "metadata": {},
   "source": [
    "The main difference is that the output of pip freeze can be dumped into a requirements.txt file and used later to re-construct the \"frozen\" environment.\n",
    "\n",
    "In other words you can run: pip freeze > frozen-requirements.txt on one machine and then later on a different machine or on a clean environment you can do: pip install -r frozen-requirements.txt and you'll get the an identical environment with the exact same dependencies installed as you had in the original environment where you generated the frozen-requirements.txt."
   ]
  },
  {
   "cell_type": "markdown",
   "metadata": {},
   "source": [
    "**You need to run pip freeze at the Command Prompt.**"
   ]
  },
  {
   "cell_type": "code",
   "execution_count": 18,
   "metadata": {
    "ExecuteTime": {
     "end_time": "2019-09-12T03:45:17.636490Z",
     "start_time": "2019-09-12T03:45:17.633491Z"
    }
   },
   "outputs": [
    {
     "name": "stdout",
     "output_type": "stream",
     "text": [
      "\n",
      "The following command must be run outside of the IPython shell:\n",
      "\n",
      "    $ pip freeze\n",
      "\n",
      "The Python package manager (pip) can only be used from outside of IPython.\n",
      "Please reissue the `pip` command in a separate terminal or command prompt.\n",
      "\n",
      "See the Python documentation for more information on how to install packages:\n",
      "\n",
      "    https://docs.python.org/3/installing/\n"
     ]
    }
   ],
   "source": [
    "pip freeze"
   ]
  },
  {
   "cell_type": "code",
   "execution_count": 24,
   "metadata": {
    "ExecuteTime": {
     "end_time": "2019-09-12T03:47:38.474776Z",
     "start_time": "2019-09-12T03:47:38.471763Z"
    }
   },
   "outputs": [],
   "source": [
    "# or `!pip freeze --all` to show ALL packages, including ones that pip needs."
   ]
  },
  {
   "cell_type": "code",
   "execution_count": 27,
   "metadata": {
    "ExecuteTime": {
     "end_time": "2019-09-12T03:48:08.687289Z",
     "start_time": "2019-09-12T03:48:07.848432Z"
    },
    "scrolled": true
   },
   "outputs": [
    {
     "name": "stdout",
     "output_type": "stream",
     "text": [
      "alembic==0.7.7\n",
      "alphalens==0.3.6\n",
      "backcall==0.1.0\n",
      "bcolz==0.12.1\n",
      "beautifulsoup4==4.6.3\n",
      "bleach==3.1.0\n",
      "Bottleneck==1.2.1\n",
      "certifi==2018.8.24\n",
      "Click==7.0\n",
      "colorama==0.4.1\n",
      "conda==4.2.13\n",
      "contextlib2==0.5.5\n",
      "cycler==0.10.0\n",
      "cyordereddict==0.2.2\n",
      "Cython==0.28.5\n",
      "decorator==4.4.0\n",
      "defusedxml==0.5.0\n",
      "empyrical==0.5.0\n",
      "entrypoints==0.2.3\n",
      "h5py==2.8.0\n",
      "inflection==0.3.1\n",
      "intervaltree==2.1.0\n",
      "ipykernel==5.1.0\n",
      "ipython==7.0.1\n",
      "ipython-genutils==0.2.0\n",
      "ipywidgets==7.4.2\n",
      "jedi==0.12.1\n",
      "Jinja2==2.10.1\n",
      "joblib==0.13.2\n",
      "jsonschema==2.6.0\n",
      "jupyter-client==5.3.1\n",
      "jupyter-contrib-core==0.3.3\n",
      "jupyter-contrib-nbextensions==0.5.0\n",
      "jupyter-core==4.4.0\n",
      "jupyter-highlight-selected-word==0.2.0\n",
      "jupyter-latex-envs==1.4.4\n",
      "jupyter-nbextensions-configurator==0.4.0\n",
      "Logbook==0.12.5\n",
      "lru-dict==1.1.4\n",
      "lxml==4.2.5\n",
      "Mako==1.1.0\n",
      "MarkupSafe==1.0\n",
      "matplotlib==2.0.0b4\n",
      "menuinst==1.4.14\n",
      "mibian==0.1.3\n",
      "mistune==0.8.3\n",
      "more-itertools==7.2.0\n",
      "multipledispatch==0.6.0\n",
      "nbconvert==5.6.0\n",
      "nbformat==4.4.0\n",
      "networkx==1.11\n",
      "notebook==5.7.0\n",
      "numexpr==2.6.6\n",
      "numpy==1.11.3\n",
      "pandas==0.22.0\n",
      "pandas-datareader==0.6.0\n",
      "pandas-profiling==1.4.2\n",
      "pandocfilters==1.4.2\n",
      "parso==0.5.1\n",
      "patsy==0.5.1\n",
      "pickleshare==0.7.5\n",
      "prometheus-client==0.7.1\n",
      "prompt-toolkit==2.0.9\n",
      "pycosat==0.6.3\n",
      "pyfolio==0.8.0\n",
      "Pygments==2.4.2\n",
      "pygpu==0.7.6\n",
      "pymc3==3.5\n",
      "pyparsing==2.4.2\n",
      "pyreadline==2.1\n",
      "python-dateutil==2.8.0\n",
      "pytz==2019.2\n",
      "pywin32==224\n",
      "pywinpty==0.5.4\n",
      "PyYAML==3.13\n",
      "pyzmq==17.0.0\n",
      "qgrid==1.1.1\n",
      "Quandl==3.4.0\n",
      "requests==2.13.0\n",
      "requests-file==1.4.3\n",
      "requests-ftp==0.3.1\n",
      "ruamel-yaml==0.15.71\n",
      "scikit-learn==0.20.0\n",
      "scipy==1.1.0\n",
      "seaborn==0.9.0\n",
      "Send2Trash==1.5.0\n",
      "simplegeneric==0.8.1\n",
      "six==1.11.0\n",
      "sortedcontainers==1.4.4\n",
      "SQLAlchemy==1.2.12\n",
      "statsmodels==0.9.0\n",
      "tables==3.4.4\n",
      "terminado==0.8.1\n",
      "testpath==0.4.2\n",
      "Theano==1.0.3\n",
      "toolz==0.10.0\n",
      "tornado==5.1.1\n",
      "tqdm==4.35.0\n",
      "trading-calendars==1.8.1\n",
      "traitlets==4.3.2\n",
      "wcwidth==0.1.7\n",
      "webencodings==0.5.1\n",
      "widgetsnbextension==3.4.2\n",
      "win-unicode-console==0.5\n",
      "wincertstore==0.2\n",
      "wrapt==1.10.11\n",
      "zipline==1.3.0\n"
     ]
    }
   ],
   "source": [
    "!pip freeze "
   ]
  },
  {
   "cell_type": "code",
   "execution_count": 26,
   "metadata": {
    "ExecuteTime": {
     "end_time": "2019-09-12T03:47:42.734361Z",
     "start_time": "2019-09-12T03:47:41.921661Z"
    }
   },
   "outputs": [
    {
     "name": "stdout",
     "output_type": "stream",
     "text": [
      "alembic==0.7.7\n",
      "alphalens==0.3.6\n",
      "backcall==0.1.0\n",
      "bcolz==0.12.1\n",
      "beautifulsoup4==4.6.3\n",
      "bleach==3.1.0\n",
      "Bottleneck==1.2.1\n",
      "certifi==2018.8.24\n",
      "Click==7.0\n",
      "colorama==0.4.1\n",
      "conda==4.2.13\n",
      "contextlib2==0.5.5\n",
      "cycler==0.10.0\n",
      "cyordereddict==0.2.2\n",
      "Cython==0.28.5\n",
      "decorator==4.4.0\n",
      "defusedxml==0.5.0\n",
      "empyrical==0.5.0\n",
      "entrypoints==0.2.3\n",
      "h5py==2.8.0\n",
      "inflection==0.3.1\n",
      "intervaltree==2.1.0\n",
      "ipykernel==5.1.0\n",
      "ipython==7.0.1\n",
      "ipython-genutils==0.2.0\n",
      "ipywidgets==7.4.2\n",
      "jedi==0.12.1\n",
      "Jinja2==2.10.1\n",
      "joblib==0.13.2\n",
      "jsonschema==2.6.0\n",
      "jupyter-client==5.3.1\n",
      "jupyter-contrib-core==0.3.3\n",
      "jupyter-contrib-nbextensions==0.5.0\n",
      "jupyter-core==4.4.0\n",
      "jupyter-highlight-selected-word==0.2.0\n",
      "jupyter-latex-envs==1.4.4\n",
      "jupyter-nbextensions-configurator==0.4.0\n",
      "Logbook==0.12.5\n",
      "lru-dict==1.1.4\n",
      "lxml==4.2.5\n",
      "Mako==1.1.0\n",
      "MarkupSafe==1.0\n",
      "matplotlib==2.0.0b4\n",
      "menuinst==1.4.14\n",
      "mibian==0.1.3\n",
      "mistune==0.8.3\n",
      "more-itertools==7.2.0\n",
      "multipledispatch==0.6.0\n",
      "nbconvert==5.6.0\n",
      "nbformat==4.4.0\n",
      "networkx==1.11\n",
      "notebook==5.7.0\n",
      "numexpr==2.6.6\n",
      "numpy==1.11.3\n",
      "pandas==0.22.0\n",
      "pandas-datareader==0.6.0\n",
      "pandas-profiling==1.4.2\n",
      "pandocfilters==1.4.2\n",
      "parso==0.5.1\n",
      "patsy==0.5.1\n",
      "pickleshare==0.7.5\n",
      "pip==18.0\n",
      "prometheus-client==0.7.1\n",
      "prompt-toolkit==2.0.9\n",
      "pycosat==0.6.3\n",
      "pyfolio==0.8.0\n",
      "Pygments==2.4.2\n",
      "pygpu==0.7.6\n",
      "pymc3==3.5\n",
      "pyparsing==2.4.2\n",
      "pyreadline==2.1\n",
      "python-dateutil==2.8.0\n",
      "pytz==2019.2\n",
      "pywin32==224\n",
      "pywinpty==0.5.4\n",
      "PyYAML==3.13\n",
      "pyzmq==17.0.0\n",
      "qgrid==1.1.1\n",
      "Quandl==3.4.0\n",
      "requests==2.13.0\n",
      "requests-file==1.4.3\n",
      "requests-ftp==0.3.1\n",
      "ruamel-yaml==0.15.71\n",
      "scikit-learn==0.20.0\n",
      "scipy==1.1.0\n",
      "seaborn==0.9.0\n",
      "Send2Trash==1.5.0\n",
      "setuptools==40.4.3\n",
      "simplegeneric==0.8.1\n",
      "six==1.11.0\n",
      "sortedcontainers==1.4.4\n",
      "SQLAlchemy==1.2.12\n",
      "statsmodels==0.9.0\n",
      "tables==3.4.4\n",
      "terminado==0.8.1\n",
      "testpath==0.4.2\n",
      "Theano==1.0.3\n",
      "toolz==0.10.0\n",
      "tornado==5.1.1\n",
      "tqdm==4.35.0\n",
      "trading-calendars==1.8.1\n",
      "traitlets==4.3.2\n",
      "wcwidth==0.1.7\n",
      "webencodings==0.5.1\n",
      "wheel==0.32.0\n",
      "widgetsnbextension==3.4.2\n",
      "win-unicode-console==0.5\n",
      "wincertstore==0.2\n",
      "wrapt==1.10.11\n",
      "zipline==1.3.0\n"
     ]
    }
   ],
   "source": [
    "!pip freeze --all"
   ]
  },
  {
   "cell_type": "code",
   "execution_count": 32,
   "metadata": {
    "ExecuteTime": {
     "end_time": "2019-08-13T23:19:08.805248Z",
     "start_time": "2019-08-13T23:19:08.170221Z"
    }
   },
   "outputs": [
    {
     "name": "stdout",
     "output_type": "stream",
     "text": [
      "['alembic', 'alphalens', 'appdirs', 'autopep8', 'backcall', 'bcolz', 'beautifulsoup4', 'bleach', 'Bottleneck', 'bs4', 'certifi', 'Click', 'colorama', 'conda', 'contextlib2', 'cssselect', 'cycler', 'cyordereddict', 'Cython', 'decorator', 'defusedxml', 'empyrical', 'entrypoints', 'fake-useragent', 'graphviz', 'h5py', 'html5lib', 'inflection', 'intervaltree', 'ipykernel', 'ipython', 'ipython-genutils', 'ipywidgets', 'jedi', 'Jinja2', 'joblib', 'jsonschema', 'jupyter-client', 'jupyter-contrib-core', 'jupyter-contrib-nbextensions', 'jupyter-core', 'jupyter-highlight-selected-word', 'jupyter-latex-envs', 'jupyter-nbextensions-configurator', 'Logbook', 'lru-dict', 'lxml', 'Mako', 'MarkupSafe', 'matplotlib', 'menuinst', 'mibian', 'mistune', 'more-itertools', 'multipledispatch', 'nbconvert', 'nbformat', 'networkx', 'notebook', 'numexpr', 'numpy', 'pandas', 'pandas-datareader', 'pandas-finance', 'pandas-profiling', 'pandocfilters', 'parse', 'parso', 'patsy', 'pickleshare', 'prometheus-client', 'prompt-toolkit', 'py-backwards', 'py-backwards-astunparse', 'pycodestyle', 'pycosat', 'pydotplus', 'pyee', 'pyfolio', 'Pygments', 'pygpu', 'pymc3', 'pyparsing', 'pyppeteer', 'pyquery', 'pyreadline', 'python-dateutil', 'pytz', 'pywin32', 'pywinpty', 'PyYAML', 'pyzmq', 'qgrid', 'Quandl', 'requests', 'requests-cache', 'requests-file', 'requests-ftp', 'requests-html', 'ruamel-yaml', 'scikit-learn', 'scipy', 'seaborn', 'Send2Trash', 'simplegeneric', 'six', 'sortedcontainers', 'SQLAlchemy', 'statsmodels', 'tables', 'terminado', 'testpath', 'Theano', 'toolz', 'tornado', 'tqdm', 'trading-calendars', 'traitlets', 'typed-ast', 'urllib3', 'w3lib', 'wallstreet', 'wcwidth', 'webencodings', 'websockets', 'widgetsnbextension', 'win-unicode-console', 'wincertstore', 'wrapt', 'yahoo-fin', 'zipline']\n"
     ]
    }
   ],
   "source": [
    "import subprocess\n",
    "import sys\n",
    "\n",
    "reqs = subprocess.check_output([sys.executable, '-m', 'pip', 'freeze'])\n",
    "installed_packages = [r.decode().split('==')[0] for r in reqs.split()]\n",
    "print(installed_packages, )"
   ]
  },
  {
   "cell_type": "markdown",
   "metadata": {},
   "source": [
    "## Get versions of specific packages in the current environment"
   ]
  },
  {
   "cell_type": "markdown",
   "metadata": {},
   "source": [
    "Return the Python, PyODBC, Pandas, Numpy, SQLAlchemy versions being used since the database library drivers need to be properly aligned."
   ]
  },
  {
   "cell_type": "code",
   "execution_count": 33,
   "metadata": {
    "ExecuteTime": {
     "end_time": "2019-09-12T04:46:47.270614Z",
     "start_time": "2019-09-12T04:46:47.265644Z"
    }
   },
   "outputs": [
    {
     "name": "stdout",
     "output_type": "stream",
     "text": [
      "Python version 3.5.5 | packaged by conda-forge | (default, Jul 24 2018, 01:52:17) [MSC v.1900 64 bit (AMD64)]\n",
      "Pandas version 0.22.0\n",
      "Numpy version  1.11.3\n",
      "SQLAlchemy version 1.2.12\n"
     ]
    }
   ],
   "source": [
    "import sys\n",
    "print('Python version ' + sys.version)\n",
    "\n",
    "import pandas as pd\n",
    "print('Pandas version ' + pd.__version__)\n",
    "\n",
    "import numpy as np\n",
    "print('Numpy version  ' + np.__version__)\n",
    "\n",
    "import sqlalchemy\n",
    "print('SQLAlchemy version ' + sqlalchemy.__version__)"
   ]
  },
  {
   "cell_type": "code",
   "execution_count": 34,
   "metadata": {
    "ExecuteTime": {
     "end_time": "2019-09-12T04:50:41.109263Z",
     "start_time": "2019-09-12T04:50:41.107262Z"
    }
   },
   "outputs": [],
   "source": [
    "## Install a missing package and then show its version"
   ]
  },
  {
   "cell_type": "code",
   "execution_count": null,
   "metadata": {
    "ExecuteTime": {
     "end_time": "2019-09-12T03:52:42.256057Z",
     "start_time": "2019-09-12T03:52:32.008797Z"
    }
   },
   "outputs": [],
   "source": [
    "!conda config --set ssl_verify no \n",
    "!conda install pyodbc "
   ]
  },
  {
   "cell_type": "code",
   "execution_count": null,
   "metadata": {
    "ExecuteTime": {
     "end_time": "2019-09-12T04:50:49.703924Z",
     "start_time": "2019-09-12T04:50:49.690909Z"
    }
   },
   "outputs": [],
   "source": [
    "import pyodbc"
   ]
  },
  {
   "cell_type": "code",
   "execution_count": null,
   "metadata": {},
   "outputs": [],
   "source": [
    "print('PyODBC version ' + pyodbc.version)"
   ]
  },
  {
   "cell_type": "markdown",
   "metadata": {},
   "source": [
    "# Here's How To Check Whether a Package is Installed"
   ]
  },
  {
   "cell_type": "code",
   "execution_count": 31,
   "metadata": {
    "ExecuteTime": {
     "end_time": "2019-08-13T23:33:22.949679Z",
     "start_time": "2019-08-13T23:33:22.943653Z"
    }
   },
   "outputs": [
    {
     "name": "stdout",
     "output_type": "stream",
     "text": [
      "pandas is installed!\n"
     ]
    }
   ],
   "source": [
    "import importlib.util\n",
    "import sys\n",
    "\n",
    "# For illustrative purposes.\n",
    "package_name = 'pandas'\n",
    "\n",
    "spec = importlib.util.find_spec(package_name)\n",
    "if spec is None:\n",
    "    print(package_name +\" is not installed\")\n",
    "else:\n",
    "    print(package_name +\" is installed!\")"
   ]
  },
  {
   "cell_type": "markdown",
   "metadata": {
    "ExecuteTime": {
     "end_time": "2019-08-09T07:13:02.421350Z",
     "start_time": "2019-08-09T07:13:02.417308Z"
    }
   },
   "source": [
    "According to :  https://stackoverflow.com/questions/1051254/check-if-python-package-is-installed\n",
    "\n",
    "Be careful with the method above. If package name contains dashes, find_spec() cannot find it unless you use dots. Example: importlib.util.find_spec('google-cloud-logging') finds nothing while importlib.util.find_spec('google.cloud.logging') is found. The official name and name that pip shows is with dashes, not dots. Might be confusing therefore use with caution. \n",
    "Dwich May 7 2019"
   ]
  },
  {
   "cell_type": "markdown",
   "metadata": {},
   "source": [
    "# Troubleshooting Conda Problems\n",
    "\n",
    "If you ever have to troubleshoot conda, the first place to start is conda config --show."
   ]
  },
  {
   "cell_type": "code",
   "execution_count": null,
   "metadata": {
    "ExecuteTime": {
     "end_time": "2019-08-13T22:32:11.665308Z",
     "start_time": "2019-08-13T22:32:05.935Z"
    }
   },
   "outputs": [],
   "source": [
    "!conda config --show"
   ]
  },
  {
   "cell_type": "markdown",
   "metadata": {},
   "source": [
    "Get a list of the complete history of changes that you made to a specific virtual environment."
   ]
  },
  {
   "cell_type": "code",
   "execution_count": null,
   "metadata": {
    "ExecuteTime": {
     "end_time": "2019-08-13T22:32:11.666308Z",
     "start_time": "2019-08-13T22:32:05.944Z"
    }
   },
   "outputs": [],
   "source": [
    "!conda list --revisions"
   ]
  },
  {
   "cell_type": "code",
   "execution_count": 1,
   "metadata": {
    "ExecuteTime": {
     "end_time": "2019-09-10T06:15:22.675772Z",
     "start_time": "2019-09-10T06:15:20.393372Z"
    }
   },
   "outputs": [
    {
     "name": "stdout",
     "output_type": "stream",
     "text": [
      "# packages in environment at C:\\ProgramData\\Anaconda3\\envs\\quant_trader:\n",
      "#\n",
      "# Name                    Version                   Build  Channel\n",
      "alembic                   0.7.7                    py35_0    quantopian\n",
      "alphalens                 0.3.6                      py_0    conda-forge\n",
      "backcall                  0.1.0                      py_0    conda-forge\n",
      "bcolz                     0.12.1              np111py35_0    quantopian\n",
      "blas                      1.0                         mkl    defaults\n",
      "bleach                    3.1.0                      py_0    conda-forge\n",
      "blosc                     1.17.0               h6538335_1    conda-forge\n",
      "bottleneck                1.2.1            py35h452e1ab_1    conda-forge\n",
      "bzip2                     1.0.8                hfa6e2cd_0    conda-forge\n",
      "ca-certificates           2019.6.16            hecc5488_0    conda-forge\n",
      "certifi                   2018.8.24             py35_1001    conda-forge\n",
      "click                     7.0                        py_0    conda-forge\n",
      "colorama                  0.4.1                      py_0    conda-forge\n",
      "contextlib2               0.5.5                      py_2    conda-forge\n",
      "cycler                    0.10.0                     py_1    conda-forge\n",
      "cyordereddict             0.2.2                    py35_0    quantopian\n",
      "cython                    0.28.5           py35h6538335_0    conda-forge\n",
      "decorator                 4.4.0                      py_0    conda-forge\n",
      "defusedxml                0.5.0                      py_1    conda-forge\n",
      "empyrical                 0.5.0                    py35_0    quantopian\n",
      "entrypoints               0.2.3                    py35_2    conda-forge\n",
      "freetype                  2.6.3                    vc14_1    conda-forge\n",
      "h5py                      2.8.0            py35hb24199d_2    conda-forge\n",
      "hdf5                      1.10.2               he51fdeb_2    conda-forge\n",
      "icc_rt                    2019.0.0             h0cc432a_1    defaults\n",
      "icu                       64.2                 he025d50_1    conda-forge\n",
      "inflection                0.3.1                    py35_0    conda-forge\n",
      "intel-openmp              2019.4                      245    defaults\n",
      "intervaltree              2.1.0                    py35_0    quantopian\n",
      "ipykernel                 5.1.0              pyh24bf2e0_0    conda-forge\n",
      "ipython                   7.0.1            py35h39e3cac_0    conda-forge\n",
      "ipython_genutils          0.2.0                      py_1    conda-forge\n",
      "ipywidgets                7.4.2                      py_0    conda-forge\n",
      "jedi                      0.12.1                   py35_0    conda-forge\n",
      "jinja2                    2.10.1                     py_0    conda-forge\n",
      "joblib                    0.13.2                     py_0    conda-forge\n",
      "jpeg                      9c                hfa6e2cd_1001    conda-forge\n",
      "jsonschema                2.6.0                    py35_2    conda-forge\n",
      "jupyter_client            5.3.1                      py_0    conda-forge\n",
      "jupyter_contrib_core      0.3.3                      py_2    conda-forge\n",
      "jupyter_contrib_nbextensions 0.5.0                    py35_0    conda-forge\n",
      "jupyter_core              4.4.0                      py_0    conda-forge\n",
      "jupyter_highlight_selected_word 0.2.0                    py35_0    conda-forge\n",
      "jupyter_latex_envs        1.4.4                    py35_0    conda-forge\n",
      "jupyter_nbextensions_configurator 0.4.0                    py35_0    conda-forge\n",
      "libgpuarray               0.7.6             hfa6e2cd_1003    conda-forge\n",
      "libiconv                  1.15              hfa6e2cd_1005    conda-forge\n",
      "libpng                    1.6.37               h7602738_0    conda-forge\n",
      "libxml2                   2.9.9                h9ce36c8_5    conda-forge\n",
      "libxslt                   1.1.33               heafd4d3_0    conda-forge\n",
      "logbook                   0.12.5                   py35_0    quantopian\n",
      "lru-dict                  1.1.4                    py35_0    quantopian\n",
      "lxml                      4.2.5            py35heafd4d3_0    conda-forge\n",
      "m2w64-gcc-libgfortran     5.3.0                         6    defaults\n",
      "m2w64-gcc-libs            5.3.0                         7    defaults\n",
      "m2w64-gcc-libs-core       5.3.0                         7    defaults\n",
      "m2w64-gmp                 6.1.0                         2    defaults\n",
      "m2w64-libwinpthread-git   5.0.0.4634.697f757               2    defaults\n",
      "mako                      1.1.0                      py_0    conda-forge\n",
      "markupsafe                1.0              py35hfa6e2cd_1    conda-forge\n",
      "matplotlib                2.0.0b4             np111py35_0    conda-forge\n",
      "mistune                   0.8.3            py35hfa6e2cd_2    conda-forge\n",
      "mkl                       2018.0.3                      1    defaults\n",
      "more-itertools            7.2.0                      py_0    conda-forge\n",
      "msys2-conda-epoch         20160418                      1    defaults\n",
      "multipledispatch          0.6.0                      py_0    conda-forge\n",
      "nbconvert                 5.6.0                      py_0    conda-forge\n",
      "nbformat                  4.4.0                      py_1    conda-forge\n",
      "networkx                  1.11                     py35_0    conda-forge\n",
      "notebook                  5.7.0                    py35_0    conda-forge\n",
      "numexpr                   2.6.6                    py35_0    conda-forge\n",
      "numpy                     1.11.3           py35h4a99626_4    defaults\n",
      "openssl                   1.1.1c               hfa6e2cd_0    conda-forge\n",
      "pandas                    0.22.0                   py35_1    conda-forge\n",
      "pandas-datareader         0.6.0                    py35_0    conda-forge\n",
      "pandas-profiling          1.4.2                      py_0    conda-forge\n",
      "pandoc                    2.7.3                         0    conda-forge\n",
      "pandocfilters             1.4.2                      py_1    conda-forge\n",
      "parso                     0.5.1                      py_0    conda-forge\n",
      "patsy                     0.5.1                      py_0    conda-forge\n",
      "pickleshare               0.7.5                    py35_0    conda-forge\n",
      "pip                       18.0                  py35_1001    conda-forge\n",
      "prometheus_client         0.7.1                      py_0    conda-forge\n",
      "prompt_toolkit            2.0.9                      py_0    conda-forge\n",
      "pyfolio                   0.8.0                      py_0    conda-forge\n",
      "pygments                  2.4.2                      py_0    conda-forge\n",
      "pygpu                     0.7.6                    py35_0    conda-forge\n",
      "pymc3                     3.5                      py35_0    conda-forge\n",
      "pyparsing                 2.4.2                      py_0    conda-forge\n",
      "pyqt                      5.9.2            py35h6538335_2    defaults\n",
      "pyreadline                2.1                   py35_1000    conda-forge\n",
      "pytables                  3.4.4            py35h7e76658_1    conda-forge\n",
      "python                    3.5.5                he025d50_2    conda-forge\n",
      "python-dateutil           2.8.0                      py_0    conda-forge\n",
      "pytz                      2019.2                     py_0    conda-forge\n",
      "pywinpty                  0.5.4                    py35_2    conda-forge\n",
      "pyyaml                    3.13             py35hfa6e2cd_1    conda-forge\n",
      "pyzmq                     17.0.0                   py35_3    conda-forge\n",
      "qgrid                     1.1.1                    py35_1    conda-forge\n",
      "qt                        5.9.7                h506e8af_3    conda-forge\n",
      "quandl                    3.4.0                    py35_0    conda-forge\n",
      "requests                  2.13.0                   py35_0    conda-forge\n",
      "requests-file             1.4.3                    py35_0    defaults\n",
      "requests-ftp              0.3.1                    py35_0    conda-forge\n",
      "scikit-learn              0.20.0           py35heebcf9a_1    defaults\n",
      "scipy                     1.1.0            py35hc28095f_0    defaults\n",
      "seaborn                   0.9.0                      py_0    conda-forge\n",
      "send2trash                1.5.0                      py_0    conda-forge\n",
      "setuptools                40.4.3                   py35_0    conda-forge\n",
      "simplegeneric             0.8.1                      py_1    conda-forge\n",
      "sip                       4.19.8          py35h6538335_1000    conda-forge\n",
      "six                       1.11.0                   py35_1    conda-forge\n",
      "sortedcontainers          1.4.4                    py35_0    quantopian\n",
      "sqlalchemy                1.2.12           py35hfa6e2cd_0    conda-forge\n",
      "sqlite                    3.29.0               hfa6e2cd_1    conda-forge\n",
      "statsmodels               0.9.0                    py35_0    conda-forge\n",
      "terminado                 0.8.1                    py35_1    conda-forge\n",
      "testpath                  0.4.2                   py_1001    conda-forge\n",
      "theano                    1.0.3                    py35_0    conda-forge\n",
      "toolz                     0.10.0                     py_0    conda-forge\n",
      "tornado                   5.1.1            py35hfa6e2cd_0    conda-forge\n",
      "tqdm                      4.35.0                     py_0    conda-forge\n",
      "trading-calendars         1.8.1                    py35_0    quantopian\n",
      "traitlets                 4.3.2                    py35_0    conda-forge\n",
      "vc                        14.1                 h0510ff6_4    defaults\n",
      "vs2015_runtime            14.15.26706          h3a45250_4    defaults\n",
      "wcwidth                   0.1.7                      py_1    conda-forge\n",
      "webencodings              0.5.1                      py_1    conda-forge\n",
      "wheel                     0.32.0                py35_1000    conda-forge\n",
      "widgetsnbextension        3.4.2                    py35_0    conda-forge\n",
      "win_unicode_console       0.5                      py35_0    conda-forge\n",
      "wincertstore              0.2                   py35_1002    conda-forge\n",
      "winpty                    0.4.3                         4    conda-forge\n",
      "wrapt                     1.10.11          py35hfa6e2cd_2    defaults\n",
      "yaml                      0.1.7             hfa6e2cd_1001    conda-forge\n",
      "zipline                   1.3.0               np111py35_0    Quantopian\n",
      "zlib                      1.2.11            h2fa13f4_1005    conda-forge\n"
     ]
    }
   ],
   "source": [
    "# Show a list of the installed packages and the channels from which they were installed.\n",
    "\n",
    "!conda list --show-channel-urls"
   ]
  },
  {
   "cell_type": "markdown",
   "metadata": {},
   "source": [
    "# Troubleshooting Jupyter Notebook Extensions"
   ]
  },
  {
   "cell_type": "markdown",
   "metadata": {},
   "source": [
    "If you have trouble getting notebook extensions to run, try listing the installed ones first."
   ]
  },
  {
   "cell_type": "code",
   "execution_count": null,
   "metadata": {
    "ExecuteTime": {
     "end_time": "2019-08-13T22:32:11.667309Z",
     "start_time": "2019-08-13T22:32:05.951Z"
    }
   },
   "outputs": [],
   "source": [
    "!jupyter nbextension list                          # list all configured nbextensions"
   ]
  },
  {
   "cell_type": "markdown",
   "metadata": {},
   "source": [
    "Other NBextension commands:\n",
    "    \n",
    "    `jupyter nbextension install --py <packagename>    # install an nbextension from a Python package`\n",
    "    `jupyter nbextension enable --py <packagename>     # enable all nbextensions in a Python package`\n",
    "    `jupyter nbextension disable --py <packagename>    # disable all nbextensions in a Python package`\n",
    "    `jupyter nbextension uninstall --py <packagename>  # uninstall an nbextension in a Python package"
   ]
  },
  {
   "cell_type": "code",
   "execution_count": 59,
   "metadata": {
    "ExecuteTime": {
     "end_time": "2019-07-26T23:48:24.310356Z",
     "start_time": "2019-07-26T23:48:21.729095Z"
    },
    "deletable": false,
    "editable": false,
    "run_control": {
     "frozen": true
    }
   },
   "outputs": [
    {
     "name": "stderr",
     "output_type": "stream",
     "text": [
      "Enabling: jupyter_nbextensions_configurator\n",
      "- Writing config: C:\\Anaconda3\\etc\\jupyter\n",
      "    - Validating...\n",
      "      jupyter_nbextensions_configurator 0.4.1 ok\n",
      "Enabling notebook nbextension nbextensions_configurator/config_menu/main...\n",
      "Enabling tree nbextension nbextensions_configurator/tree_tab/main...\n"
     ]
    }
   ],
   "source": [
    "'''To diagnose why the serverextension is not enabled \n",
    "and why this happened in the first place, try (in each environment):'''\n",
    "\n",
    "#conda uninstall --force jupyter_nbextensions_configurator`\n",
    "#conda install -c conda-forge jupyter_nbextensions_configurator`\n",
    "\n",
    "'''The `--force` option prevents conda from removing things which depend on it, \n",
    "like this repo's conda packages). \n",
    "\n",
    "If you see no warnings, that should be sufficient to fix the configurator. \n",
    "If there are warnings, get more information from conda's .messages.txt file, \n",
    "using (from shell with environment activated).'''\n",
    "\n",
    "# cat \"$CONDA_PREFIX/.messages.txt\"\n",
    "\n",
    "'''Alternatively, to skip diagnosis & just get configurator working, \n",
    "run in each environment (this is what the post-link script is supposed to do).'''\n",
    "\n",
    "!jupyter nbextensions_configurator enable --sys-prefix\n"
   ]
  },
  {
   "cell_type": "code",
   "execution_count": null,
   "metadata": {
    "ExecuteTime": {
     "end_time": "2019-08-13T22:32:11.668308Z",
     "start_time": "2019-08-13T22:32:05.958Z"
    }
   },
   "outputs": [],
   "source": [
    "# only required if you have not added conda-forge to your channels yet\n",
    "!conda config --add channels conda-forge"
   ]
  },
  {
   "cell_type": "code",
   "execution_count": null,
   "metadata": {
    "deletable": false,
    "editable": false,
    "run_control": {
     "frozen": true
    }
   },
   "outputs": [],
   "source": [
    "# only required if you have not installed Qgrid in your environment yet\n",
    "!conda install qgrid"
   ]
  },
  {
   "cell_type": "code",
   "execution_count": null,
   "metadata": {
    "ExecuteTime": {
     "end_time": "2019-08-13T22:32:11.669309Z",
     "start_time": "2019-08-13T22:32:05.964Z"
    }
   },
   "outputs": [],
   "source": [
    "import shutil\n",
    "\n",
    "shutil.which(\"python\")\n",
    "\n",
    "shutil.which(\"python3\")\n",
    "\n",
    "shutil.which(\"ls\")"
   ]
  },
  {
   "cell_type": "code",
   "execution_count": null,
   "metadata": {
    "ExecuteTime": {
     "end_time": "2019-08-13T22:32:11.670310Z",
     "start_time": "2019-08-13T22:32:05.969Z"
    }
   },
   "outputs": [],
   "source": [
    "# Check to show the location of the Python kernel serving this Jupyter Notebook Server\n",
    "import shutil\n",
    "shutil.which(\"python\")"
   ]
  },
  {
   "cell_type": "markdown",
   "metadata": {},
   "source": [
    "# Get Jupyter Path Information to Change Snippets Menus"
   ]
  },
  {
   "cell_type": "markdown",
   "metadata": {},
   "source": [
    "### Get Location of Current Jupyter Notebook Extensions Folder\n",
    "Notebook Extensions are located at: \n",
    "    \n",
    "    C:\\ProgramData\\jupyter\\nbextensions"
   ]
  },
  {
   "cell_type": "code",
   "execution_count": 1,
   "metadata": {
    "ExecuteTime": {
     "end_time": "2019-11-21T04:42:12.351850Z",
     "start_time": "2019-11-21T04:42:12.337305Z"
    }
   },
   "outputs": [
    {
     "data": {
      "text/plain": [
       "'C:\\\\Users\\\\lysak\\\\.jupyter'"
      ]
     },
     "execution_count": 1,
     "metadata": {},
     "output_type": "execute_result"
    }
   ],
   "source": [
    "from jupyter_core.paths import jupyter_config_dir\n",
    "jupyter_dir = jupyter_config_dir()\n",
    "jupyter_dir"
   ]
  },
  {
   "cell_type": "markdown",
   "metadata": {},
   "source": [
    "### Show Jupyter Notebook `custom.js` File Location to open it for editing."
   ]
  },
  {
   "cell_type": "code",
   "execution_count": 2,
   "metadata": {
    "ExecuteTime": {
     "end_time": "2019-11-21T04:42:16.619476Z",
     "start_time": "2019-11-21T04:42:16.598189Z"
    }
   },
   "outputs": [
    {
     "name": "stdout",
     "output_type": "stream",
     "text": [
      "$(jupyter --config-dir)/custom/custom.js\n"
     ]
    }
   ],
   "source": [
    "!echo $(jupyter --config-dir)/custom/custom.js"
   ]
  },
  {
   "cell_type": "markdown",
   "metadata": {},
   "source": [
    "### Search for Jupyter Notebook `custom.js` File Location to prepare to open it for editing."
   ]
  },
  {
   "cell_type": "code",
   "execution_count": 3,
   "metadata": {
    "ExecuteTime": {
     "end_time": "2019-11-21T04:42:21.265615Z",
     "start_time": "2019-11-21T04:42:21.260946Z"
    }
   },
   "outputs": [
    {
     "name": "stdout",
     "output_type": "stream",
     "text": [
      "searching for custom.js in  C:\\Users\\lysak\\.jupyter\\custom\\custom.js\n",
      "You don't have a custom.js file\n"
     ]
    }
   ],
   "source": [
    "import os.path\n",
    "custom_js_path = os.path.join(jupyter_dir, 'custom', 'custom.js')\n",
    "print(\"searching for custom.js in \", custom_js_path)\n",
    "#  my custom js\n",
    "if os.path.isfile(custom_js_path):\n",
    "    with open(custom_js_path) as f:\n",
    "        print(f\"\\n Your custom.js file contents: \\n\\n {f.read()}\")\n",
    "else:\n",
    "    print(\"You don't have a custom.js file\")"
   ]
  },
  {
   "cell_type": "markdown",
   "metadata": {},
   "source": [
    "### Example of changing the Snippet Menu directly "
   ]
  },
  {
   "cell_type": "code",
   "execution_count": null,
   "metadata": {},
   "outputs": [],
   "source": [
    "# This is an example snippet!\n",
    "# To create your own, add a new snippet block to the\n",
    "# snippets.json file in your jupyter nbextensions directory:\n",
    "# /nbextensions/snippets/snippets.json\n",
    "# C://ProgramData//Anaconda3//share//jupyter//nbextensions//snippets\n",
    "import this"
   ]
  },
  {
   "cell_type": "markdown",
   "metadata": {
    "ExecuteTime": {
     "end_time": "2019-11-21T06:08:41.926833Z",
     "start_time": "2019-11-21T06:08:41.923249Z"
    }
   },
   "source": [
    "## Troubleshooting Snippets Configuration "
   ]
  },
  {
   "cell_type": "markdown",
   "metadata": {
    "ExecuteTime": {
     "end_time": "2019-11-21T06:08:12.064211Z",
     "start_time": "2019-11-21T06:08:12.056508Z"
    }
   },
   "source": [
    "For troubleshooting, see:\n",
    "\n",
    "https://medium.com/@aaronhsu_98736/jupyter-notebook-setting-4-snippets-2531d3ebe446"
   ]
  },
  {
   "cell_type": "markdown",
   "metadata": {},
   "source": [
    "## 2. Run `jupyter --path` to determine location(path) of Jupyter NB configuration\n",
    "\n",
    "In my PC, it could be following\n",
    "\n",
    "    config:\n",
    "        C:\\Users\\Aaron\\.jupyter\n",
    "        C:\\Anaconda35\\etc\\jupyter\n",
    "        C:\\ProgramData\\jupyter\n",
    "    data:\n",
    "        C:\\Users\\Aaron\\AppData\\Roaming\\jupyter\n",
    "        C:\\Anaconda35\\share\\jupyter\n",
    "        C:\\ProgramData\\jupyter\n",
    "    runtime:\n",
    "        C:\\Users\\Aaron\\AppData\\Roaming\\jupyter\\runtime\n",
    "\n",
    "Then search for `nbextensions/snippets/snippets.json` after above paths.\n",
    "\n"
   ]
  },
  {
   "cell_type": "code",
   "execution_count": 15,
   "metadata": {
    "ExecuteTime": {
     "end_time": "2019-11-21T06:09:58.389334Z",
     "start_time": "2019-11-21T06:09:58.385333Z"
    }
   },
   "outputs": [],
   "source": [
    "## 3. Edit snippet.json and save `snippet.json` example"
   ]
  },
  {
   "cell_type": "markdown",
   "metadata": {},
   "source": [
    "    {\n",
    "        \"snippets\" : [\n",
    "            {\n",
    "                \"name\" : \"example\",\n",
    "                \"code\" : [\n",
    "                    \"# This is an example snippet!\",\n",
    "                    \"# To create your own, add a new snippet block to the\",\n",
    "                    \"# snippets.json file in your jupyter data directory under nbextensions:\",\n",
    "                    \"# $(jupyter --data-dir)/nbextensions/snippets/snippets.json\",\n",
    "                    \"import this\"\n",
    "                ]\n",
    "            },\n",
    "            {\n",
    "                \"name\" : \"some imports\",\n",
    "                \"code\" : [\n",
    "                    \"import numpy as np\",\n",
    "                    \"import matplotlib as mpl\",\n",
    "                    \"print('spam')\"\n",
    "                ]\n",
    "            }\n",
    "        ]\n",
    "    }"
   ]
  },
  {
   "cell_type": "markdown",
   "metadata": {},
   "source": [
    "# Set Pandas Display Output Options"
   ]
  },
  {
   "cell_type": "markdown",
   "metadata": {},
   "source": [
    "## Set Pandas Maximum Outputs for Rows, Columns and Display Width"
   ]
  },
  {
   "cell_type": "code",
   "execution_count": null,
   "metadata": {
    "ExecuteTime": {
     "end_time": "2019-08-13T22:32:11.675340Z",
     "start_time": "2019-08-13T22:32:05.993Z"
    }
   },
   "outputs": [],
   "source": [
    "import pandas as pd\n",
    "#pd.options.display.height=10\n",
    "# pd.options.display.max_rows = 999\n",
    "pd.options.display.max_rows=20\n",
    "pd.options.display.max_columns=500\n",
    "pd.options.display.width=1000"
   ]
  },
  {
   "cell_type": "code",
   "execution_count": null,
   "metadata": {
    "ExecuteTime": {
     "end_time": "2019-08-13T22:32:11.675340Z",
     "start_time": "2019-08-13T22:32:05.998Z"
    }
   },
   "outputs": [],
   "source": [
    "import pandas as pd\n",
    "pd.set_option(\"display.max_rows\", 100)\n",
    "pd.set_option(\"display.max_columns\", 500)\n",
    "pd.set_option(\"display.width\", 1000)"
   ]
  },
  {
   "cell_type": "code",
   "execution_count": null,
   "metadata": {
    "ExecuteTime": {
     "end_time": "2019-08-13T22:32:11.676341Z",
     "start_time": "2019-08-13T22:32:06.004Z"
    }
   },
   "outputs": [],
   "source": [
    "pd.set_option('display.max_rows', 500)\n",
    "pd.set_option('display.max_columns', 500)\n",
    "pd.set_option('display.width', 1500)"
   ]
  },
  {
   "cell_type": "markdown",
   "metadata": {},
   "source": [
    "## Suppress Scientific Notation in Pandas to Make Large Values More Readable"
   ]
  },
  {
   "cell_type": "code",
   "execution_count": null,
   "metadata": {
    "ExecuteTime": {
     "end_time": "2019-08-13T22:32:11.677305Z",
     "start_time": "2019-08-13T22:32:06.011Z"
    }
   },
   "outputs": [],
   "source": [
    "### Suppress Scientific Notation (FOR THE DURATION OF THIS SESSION)\n",
    "\n",
    "# Display precision refers to Numerical Precision, i.e., significant figures.\n",
    "pd.set_option('display.precision', 2)\n",
    "\n",
    "# Here are two other ways to set the same parameter.\n",
    "pd.set_option('display.float_format', '{:,.2f}'.format)\n",
    "pd.options.display.float_format = '{:,.2f}'.format"
   ]
  },
  {
   "cell_type": "markdown",
   "metadata": {},
   "source": [
    "## Output more than 1 dataframe to the same output cell"
   ]
  },
  {
   "cell_type": "markdown",
   "metadata": {},
   "source": [
    "### Method 1 - Display VERTICALLY and SEQUENTIALLY in the same output cell"
   ]
  },
  {
   "cell_type": "code",
   "execution_count": null,
   "metadata": {
    "ExecuteTime": {
     "end_time": "2019-08-13T22:32:11.678306Z",
     "start_time": "2019-08-13T22:32:06.020Z"
    }
   },
   "outputs": [],
   "source": [
    "# VERTICAL SEQUENTIAL Output of Multiple dataframes to the same output cell\n",
    "from IPython.display import display\n",
    "\n",
    "df1 = pd.DataFrame(np.arange(12).reshape((3,4)),columns=['A','B','C','D',])\n",
    "df2 = pd.DataFrame(np.arange(16).reshape((4,4)),columns=['E','F','G','H',])\n",
    "\n",
    "display(df1); display(df2)"
   ]
  },
  {
   "cell_type": "code",
   "execution_count": null,
   "metadata": {
    "ExecuteTime": {
     "end_time": "2019-08-13T22:32:11.679305Z",
     "start_time": "2019-08-13T22:32:06.025Z"
    }
   },
   "outputs": [],
   "source": [
    "from IPython.display import display_html\n",
    "\n",
    "def display_side_by_side(*args):\n",
    "    \"\"\" \n",
    "    Function to display dataframes side-by-side in the same Jupyter Notebook output cell\n",
    "    Note: To limit the number of rows, you must include the df.head() for each dataframe argument. \n",
    "    Taken from https://stackoverflow.com/questions/38783027/jupyter-notebook-display-two-pandas-tables-side-by-side\n",
    "    \"\"\"\n",
    "    html_str=' '\n",
    "    for df in args:\n",
    "        html_str+=df.to_html()\n",
    "    display_html(html_str.replace('table','table style=\"display:inline\"'),raw=True)"
   ]
  },
  {
   "cell_type": "code",
   "execution_count": null,
   "metadata": {
    "ExecuteTime": {
     "end_time": "2019-08-13T22:32:11.680330Z",
     "start_time": "2019-08-13T22:32:06.030Z"
    }
   },
   "outputs": [],
   "source": [
    "display_side_by_side(df1, df2)"
   ]
  },
  {
   "cell_type": "code",
   "execution_count": null,
   "metadata": {
    "ExecuteTime": {
     "end_time": "2019-08-13T22:32:11.681564Z",
     "start_time": "2019-08-13T22:32:06.035Z"
    },
    "scrolled": true
   },
   "outputs": [],
   "source": [
    "display_side_by_side(df1, df2, df1, df2 + 2, (3 * df1))"
   ]
  },
  {
   "cell_type": "code",
   "execution_count": null,
   "metadata": {
    "ExecuteTime": {
     "end_time": "2019-08-13T22:32:11.682331Z",
     "start_time": "2019-08-13T22:32:06.040Z"
    }
   },
   "outputs": [],
   "source": [
    "from IPython.core.display import HTML\n",
    "\n",
    "def multi_table(table_list):\n",
    "    \"\"\" \n",
    "    Accepts list of IpyTable objects, then returns a table containing each IpyTable in one cell\n",
    "    Taken from https://github.com/epmoyer/ipy_table/issues/24\n",
    "    \"\"\"\n",
    "    return HTML(\n",
    "        '<table><tr style=\"background-color:white;\">' + \n",
    "        ''.join(['<td>' + table._repr_html_() + '</td>' for table in table_list]) +\n",
    "        '</tr></table>'\n",
    "    )"
   ]
  },
  {
   "cell_type": "code",
   "execution_count": null,
   "metadata": {
    "ExecuteTime": {
     "end_time": "2019-08-13T22:32:11.683332Z",
     "start_time": "2019-08-13T22:32:06.046Z"
    }
   },
   "outputs": [],
   "source": [
    "multi_table([df1, df2])"
   ]
  },
  {
   "cell_type": "code",
   "execution_count": null,
   "metadata": {
    "ExecuteTime": {
     "end_time": "2019-08-13T22:32:11.684330Z",
     "start_time": "2019-08-13T22:32:06.052Z"
    }
   },
   "outputs": [],
   "source": [
    "# Applying Themes to the HTML of Tables from Pandas "
   ]
  },
  {
   "cell_type": "code",
   "execution_count": null,
   "metadata": {
    "ExecuteTime": {
     "end_time": "2019-08-13T22:32:11.685304Z",
     "start_time": "2019-08-13T22:32:06.059Z"
    }
   },
   "outputs": [],
   "source": [
    "import add_parent_to_path \n",
    "from IPython.core.display import HTML\n",
    "from ipy_table import * \n",
    "\n",
    "example_table =  [[i for i in range(j, j+4)] for j in range(0, 30, 10)] \n",
    "example_table2 = [[i for i in range(j, j+4)] for j in range(100, 140,10)] \n",
    "example_table3 = [[i for i in range(j, j+4)] for j in range(1000, 1050,10)] \n",
    "\n",
    "table = make_table(example_table) \n",
    "table.apply_theme('basic') \n",
    "\n",
    "table2 = make_table(example_table) \n",
    "table2.apply_theme('basic_left') \n",
    "                  \n",
    "# Clear the contents of the upper left corner cell \n",
    "example_table3[0][0]\n",
    "table3 = make_table(example_table3) \n",
    "table3.apply_theme('basic_both')\n"
   ]
  },
  {
   "cell_type": "markdown",
   "metadata": {},
   "source": [
    "# Function to Rescue Deleted Source Code in A Jupyter Notebook "
   ]
  },
  {
   "cell_type": "markdown",
   "metadata": {},
   "source": [
    "inspect.getsourcelines(function) returns a tuple that contains a list of lines of code for the function.\n",
    "It also returns the line of the source file that the code starts on\n",
    "We’re operating in a notebook so the starting line is always 1). \n",
    "\n",
    "We extract the 0th element of the tuple, then join the lines of code into one string.\n",
    "The lines already have '\\n' at the end of them, so we don’t have to add that. \n",
    "\n",
    "Then the IPython function creates a new cell below the current cell and inserts the \n",
    "result of the getsourcelines() function.  "
   ]
  },
  {
   "cell_type": "code",
   "execution_count": null,
   "metadata": {
    "ExecuteTime": {
     "end_time": "2019-08-13T22:32:11.686331Z",
     "start_time": "2019-08-13T22:32:06.066Z"
    }
   },
   "outputs": [],
   "source": [
    "def rescue_code(function):\n",
    "    \"\"\" \n",
    "    Function to recover code in a Jupyter Notebook that was accidentally deleted.\n",
    "    Call this function AFTER you deleted a function, but still have it in your notebook.\n",
    "    The code is still there, but only in byte code format. \n",
    "\n",
    "    You can recover the function source code as longs as you have not \"CHECKPOINTED\" \n",
    "    the notebook file.\n",
    "    \"\"\"\n",
    "    \n",
    "    import inspect\n",
    "    get_ipython().set_next_input(\"\".join(inspect.getsourcelines(function)[0]))\n",
    "    "
   ]
  },
  {
   "cell_type": "markdown",
   "metadata": {},
   "source": [
    "# Launch Windows Applications and Provide Data to Them"
   ]
  },
  {
   "cell_type": "markdown",
   "metadata": {},
   "source": [
    "## Launch Windows Explorer in a Specific Directory using PyWinAuto\n",
    "\n",
    "### Set Directory Path Location to Open Windows Explorer "
   ]
  },
  {
   "cell_type": "code",
   "execution_count": null,
   "metadata": {
    "ExecuteTime": {
     "end_time": "2019-08-13T22:32:11.687304Z",
     "start_time": "2019-08-13T22:32:06.074Z"
    }
   },
   "outputs": [],
   "source": [
    "import os\n",
    "path_to_open = os.getcwd()"
   ]
  },
  {
   "cell_type": "code",
   "execution_count": null,
   "metadata": {
    "ExecuteTime": {
     "end_time": "2019-08-13T22:32:11.689310Z",
     "start_time": "2019-08-13T22:32:06.079Z"
    }
   },
   "outputs": [],
   "source": [
    "path_to_open"
   ]
  },
  {
   "cell_type": "code",
   "execution_count": null,
   "metadata": {
    "ExecuteTime": {
     "end_time": "2019-08-13T22:32:11.690306Z",
     "start_time": "2019-08-13T22:32:06.084Z"
    }
   },
   "outputs": [],
   "source": [
    "f'\"{path_to_open}\"'"
   ]
  },
  {
   "cell_type": "code",
   "execution_count": null,
   "metadata": {
    "ExecuteTime": {
     "end_time": "2019-08-13T22:32:11.691306Z",
     "start_time": "2019-08-13T22:32:06.089Z"
    }
   },
   "outputs": [],
   "source": [
    "myPath = f'\"{path_to_open}\"'"
   ]
  },
  {
   "cell_type": "code",
   "execution_count": null,
   "metadata": {
    "ExecuteTime": {
     "end_time": "2019-08-13T22:32:11.692306Z",
     "start_time": "2019-08-13T22:32:06.094Z"
    }
   },
   "outputs": [],
   "source": [
    "myPath"
   ]
  },
  {
   "cell_type": "code",
   "execution_count": null,
   "metadata": {
    "ExecuteTime": {
     "end_time": "2019-08-13T22:32:11.693305Z",
     "start_time": "2019-08-13T22:32:06.099Z"
    },
    "scrolled": true
   },
   "outputs": [],
   "source": [
    "from pywinauto import Desktop, Application\n",
    "\n",
    "Application().start('explorer.exe \"C:\\\\Program Files\"')\n",
    "\n",
    "# connect to another process spawned by explorer.exe\n",
    "# Note: make sure the script is running as Administrator!\n",
    "app = Application(backend=\"uia\").connect(path=\"explorer.exe\", title=path_to_open)\n",
    "\n",
    "app.ProgramFiles.set_focus()"
   ]
  },
  {
   "cell_type": "markdown",
   "metadata": {},
   "source": [
    "The examples below come from https://github.com/pywinauto/pywinauto/tree/master/examples.\n",
    "\n",
    "They are NOT complete yet. "
   ]
  },
  {
   "cell_type": "markdown",
   "metadata": {},
   "source": [
    "## Launch Windows Notepad and Enter in Some Text"
   ]
  },
  {
   "cell_type": "code",
   "execution_count": null,
   "metadata": {
    "ExecuteTime": {
     "end_time": "2019-08-13T22:32:11.694306Z",
     "start_time": "2019-08-13T22:32:06.105Z"
    }
   },
   "outputs": [],
   "source": [
    "from pywinauto.application import Application\n",
    "app = Application().start(\"notepad.exe\")\n",
    "\n",
    "app.UntitledNotepad.menu_select(\"Help->About Notepad\")\n",
    "app.AboutNotepad.OK.click()\n",
    "app.UntitledNotepad.Edit.type_keys(\"pywinauto Works!\", with_spaces = True)\n",
    "\n",
    "# app.ProgramFiles.set_focus()"
   ]
  },
  {
   "cell_type": "code",
   "execution_count": null,
   "metadata": {
    "ExecuteTime": {
     "end_time": "2019-08-13T22:32:11.695305Z",
     "start_time": "2019-08-13T22:32:06.110Z"
    }
   },
   "outputs": [],
   "source": [
    "## Launch Windows Notepad and Paste in Clipboard Data "
   ]
  },
  {
   "cell_type": "markdown",
   "metadata": {},
   "source": [
    "## Using Extensions with Large Notebooks\n",
    "\n",
    "Loading NB data takes so long that extension loading “times out” and not all extensions load.  \n",
    "\n",
    "https://github.com/ipython-contrib/jupyter_contrib_nbextensions/issues/1195"
   ]
  },
  {
   "cell_type": "code",
   "execution_count": null,
   "metadata": {
    "ExecuteTime": {
     "end_time": "2019-08-13T22:32:11.696306Z",
     "start_time": "2019-08-13T22:32:06.117Z"
    }
   },
   "outputs": [],
   "source": [
    "\t%%javascript\n",
    "/** Below because this notebook is pretty large */\n",
    "var rto = 120;\n",
    "console.log('NB: Increase require timeout to ' + rto + ' seconds');\n",
    "window.requirejs.config({waitSeconds: rto});\n"
   ]
  },
  {
   "cell_type": "code",
   "execution_count": null,
   "metadata": {
    "ExecuteTime": {
     "end_time": "2019-08-13T22:32:11.697305Z",
     "start_time": "2019-08-13T22:32:06.124Z"
    }
   },
   "outputs": [],
   "source": [
    "%%javascript\n",
    "javascript:date = new Date();\n",
    "url_root = 'http://nbviewer.ipython.org/';\n",
    "url = null;\n",
    "gist_re = /^https?:\\/\\/gist\\.github\\.com\\/(?:\\w+\\/)?([a-f0-9]+)$/;\n",
    "github_re = /^https:\\/\\/(github\\.com\\/.*\\/)blob\\/(.*\\.ipynb)$/;\n",
    "https_re = /^https:\\/\\/(.*\\.ipynb)$/;\n",
    "http_re = /^http:\\/\\/(.*\\.ipynb)$/;\n",
    "loc = location.href;\n",
    "if (gist_re.test(loc)) {\n",
    "    gist = gist_re.exec(loc);\n",
    "    url = url_root + gist[1];\n",
    "} else if (github_re.test(loc)) {\n",
    "    path = github_re.exec(loc);\n",
    "    url = url_root + 'urls/raw.' + path[1] + path[2];\n",
    "} else if (https_re.test(loc)) {\n",
    "    path = https_re.exec(loc);\n",
    "    url = url_root + 'urls/' + path[1];\n",
    "} else if (http_re.test(loc)) {\n",
    "    path = http_re.exec(loc);\n",
    "    url = url_root + 'url/' + path[1];}\n",
    "if (url) {void(window.open(url, 'nbviewer' + date.getTime()));}"
   ]
  },
  {
   "cell_type": "code",
   "execution_count": null,
   "metadata": {
    "ExecuteTime": {
     "end_time": "2019-08-13T22:32:11.698305Z",
     "start_time": "2019-08-13T22:32:06.132Z"
    }
   },
   "outputs": [],
   "source": [
    "%%javascript\n",
    "var date = new Date();"
   ]
  },
  {
   "cell_type": "code",
   "execution_count": null,
   "metadata": {
    "ExecuteTime": {
     "end_time": "2019-08-13T22:32:11.699306Z",
     "start_time": "2019-08-13T22:32:06.139Z"
    }
   },
   "outputs": [],
   "source": [
    "print()"
   ]
  },
  {
   "cell_type": "code",
   "execution_count": null,
   "metadata": {
    "ExecuteTime": {
     "end_time": "2019-08-13T22:32:11.700323Z",
     "start_time": "2019-08-13T22:32:06.146Z"
    }
   },
   "outputs": [],
   "source": [
    "url_root = 'http://nbviewer.ipython.org/';"
   ]
  },
  {
   "cell_type": "markdown",
   "metadata": {},
   "source": [
    "# EXCEL Tips and Tricks"
   ]
  },
  {
   "cell_type": "markdown",
   "metadata": {},
   "source": [
    "# GUI to Select and Open Excel Worksheet"
   ]
  },
  {
   "cell_type": "code",
   "execution_count": null,
   "metadata": {
    "ExecuteTime": {
     "end_time": "2019-08-13T22:32:11.701306Z",
     "start_time": "2019-08-13T22:32:06.153Z"
    }
   },
   "outputs": [],
   "source": [
    "# Open Excel Worksheet Using File Dialog\n",
    "# From https://datatofish.com/read_excel/\n",
    "\n",
    "import tkinter as tk\n",
    "from tkinter import filedialog\n",
    "import pandas as pd\n",
    "\n",
    "root = tk.Tk()\n",
    "\n",
    "canvas1 = tk.Canvas(root, width = 300, height = 300, bg = 'lightsteelblue')\n",
    "canvas1.pack()\n",
    "\n",
    "def getExcel():\n",
    "    global excel_df\n",
    "    global import_file_path\n",
    "    \n",
    "    import_file_path = filedialog.askopenfilename()\n",
    "    excel_df = pd.read_excel(import_file_path)\n",
    "    print(excel_df)\n",
    "    return excel_df, import_file_path\n",
    "    \n",
    "browseButton_Excel = tk.Button(text='Import Excel File', command=getExcel, bg='green', fg='white', font=('helvetica', 12, 'bold'))\n",
    "canvas1.create_window(150, 150, window=browseButton_Excel)\n",
    "\n",
    "print(\"NOW CHECK FOR A NEW TKINTER POP-UNDER WINDOW\")\n",
    "\n",
    "print(\"Make sure that you close the Tkinter window, because otherwise it will continue to run in the background!\")\n",
    "\n",
    "root.mainloop()\n",
    "\n",
    "print(f\"\\n\\nThe File Selected was: {import_file_path}\")"
   ]
  },
  {
   "cell_type": "markdown",
   "metadata": {},
   "source": [
    "# Refresh External Data In Excel via existing connections and save file\n",
    "\n",
    "https://stackoverflow.com/questions/40893870/refresh-excel-external-data-with-python"
   ]
  },
  {
   "cell_type": "code",
   "execution_count": null,
   "metadata": {
    "ExecuteTime": {
     "end_time": "2019-08-13T22:32:11.703308Z",
     "start_time": "2019-08-13T22:32:06.160Z"
    }
   },
   "outputs": [],
   "source": [
    "## Launch Excel, Open and Display Working Excel File"
   ]
  },
  {
   "cell_type": "code",
   "execution_count": null,
   "metadata": {
    "ExecuteTime": {
     "end_time": "2019-08-13T22:32:11.704304Z",
     "start_time": "2019-08-13T22:32:06.166Z"
    }
   },
   "outputs": [],
   "source": [
    "import win32com.client\n",
    "\n",
    "def windowEnumerationHandler(hwnd, top_windows):\n",
    "    top_windows.append((hwnd, win32gui.GetWindowText(hwnd)))\n",
    "\n",
    "# Start an instance of Excel\n",
    "xlapp = win32com.client.DispatchEx(\"Excel.Application\")\n",
    "\n",
    "path_to_excel_workbook = import_file_path\n",
    "\n",
    "# Open the workbook in said instance of Excel\n",
    "wb = xlapp.workbooks.open(path_to_excel_workbook)\n",
    "\n",
    "# Optional, e.g. if you want to debug\n",
    "xlapp.Visible = True\n",
    "\n",
    "print(\"IN A FEW SECONDS, CHECK FOR A NEW EXCEL POP-UNDER WINDOW, JUST IN CASE IT DID NOT COME TO THE FRONT\")"
   ]
  },
  {
   "cell_type": "markdown",
   "metadata": {},
   "source": [
    "If you want to examine Windows GUI Handlers that are active, and see the Handler Number that Excel uses, in order to bring it to the front, then execute the cell below.\n",
    "\n",
    "Windows is tricky in how it handles API calls to Windows GUI Objects, and things are not documented well.  \n",
    "\n",
    "A GUI application behaviour is often unstable and your script needs waiting until a new window appears or an existing window is closed/hidden. pywinauto can flexibly wait for a dialog initialization implicitly (with the default timeout) or explicitly using dedicated methods/functions that could help you to make your code easier and more reliable.\n",
    "\n",
    "So, it may be better to use PyWinAuto"
   ]
  },
  {
   "cell_type": "code",
   "execution_count": null,
   "metadata": {
    "ExecuteTime": {
     "end_time": "2019-08-13T22:32:11.705306Z",
     "start_time": "2019-08-13T22:32:06.172Z"
    }
   },
   "outputs": [],
   "source": [
    "import win32gui\n",
    "if __name__ == \"__main__\":\n",
    "    results = []\n",
    "    top_windows = []\n",
    "    win32gui.EnumWindows(windowEnumerationHandler, top_windows)\n",
    "    for i in top_windows:\n",
    "        print(i)\n",
    "        if \"excel\" in i[1].lower():\n",
    "#            print(i)\n",
    "            win32gui.ShowWindow(i[0],5)\n",
    "            win32gui.SetForegroundWindow(i[0])\n",
    "            break"
   ]
  },
  {
   "cell_type": "code",
   "execution_count": null,
   "metadata": {
    "ExecuteTime": {
     "end_time": "2019-08-13T22:32:11.706307Z",
     "start_time": "2019-08-13T22:32:06.178Z"
    }
   },
   "outputs": [],
   "source": [
    "# Script to Move Excel Application Window to Front and Give It Current Window Focus\n",
    "\n",
    "import win32gui\n",
    "# from win32gui import windowEnumerationHandler\n",
    "\n",
    "if __name__ == \"__main__\":\n",
    "    results = []\n",
    "    top_windows = []\n",
    "    win32gui.EnumWindows(windowEnumerationHandler, top_windows)\n",
    "    for i in top_windows:\n",
    "        if \"excel\" in i[1].lower():\n",
    "            print(i)\n",
    "            win32gui.ShowWindow(i[0],5)\n",
    "            win32gui.SetForegroundWindow(i[0])\n",
    "            break\n",
    "            \n",
    "# Refresh all data connections.\n",
    "#wb.RefreshAll()\n",
    "wb.Save()"
   ]
  },
  {
   "cell_type": "code",
   "execution_count": null,
   "metadata": {
    "ExecuteTime": {
     "end_time": "2019-08-13T22:32:11.707340Z",
     "start_time": "2019-08-13T22:32:06.184Z"
    }
   },
   "outputs": [],
   "source": [
    "import win32gui\n",
    "\n",
    "if __name__ == \"__main__\":\n",
    "    results = []\n",
    "    top_windows = []\n",
    "    win32gui.EnumWindows(windowEnumerationHandler, top_windows)\n",
    "    for i in top_windows:\n",
    "        if \"excel\" in i[1].lower():\n",
    "            print(i)\n",
    "            win32gui.ShowWindow(i[0],5)\n",
    "            win32gui.SetForegroundWindow(i[0])\n",
    "            break"
   ]
  },
  {
   "cell_type": "markdown",
   "metadata": {
    "ExecuteTime": {
     "end_time": "2019-07-27T00:59:35.028197Z",
     "start_time": "2019-07-27T00:59:35.025189Z"
    }
   },
   "source": [
    "### NOW QUIT THIS NEW EXCEL PROCESS !! "
   ]
  },
  {
   "cell_type": "code",
   "execution_count": null,
   "metadata": {
    "ExecuteTime": {
     "end_time": "2019-08-13T22:32:11.708305Z",
     "start_time": "2019-08-13T22:32:06.191Z"
    }
   },
   "outputs": [],
   "source": [
    "# Quit\n",
    "xlapp.Quit()"
   ]
  },
  {
   "cell_type": "markdown",
   "metadata": {
    "ExecuteTime": {
     "end_time": "2019-07-27T00:22:23.298903Z",
     "start_time": "2019-07-27T00:22:23.288857Z"
    }
   },
   "source": [
    "# PyWinAuto - Windows GUI Automation Macros in Python\n",
    "\n",
    "**pywinauto** pywinauto is a set of python modules to automate the Microsoft Windows GUI. At its simplest it allows you to send mouse and keyboard actions to windows dialogs and controls, but it has support for more complex actions like getting text data.\n",
    "\n",
    "Supported technologies under the hood: Win32 API (backend=\"win32\"; used by default), MS UI Automation (backend=\"uia\"). User input emulation modules mouse and keyboard work on both Windows and Linux.\n",
    "\n",
    "A GUI application behaviour is often unstable and your script needs waiting until a new window appears or an existing window is closed/hidden. pywinauto can flexibly wait for a dialog initialization implicitly (with the default timeout) or explicitly using dedicated methods/functions that could help you to make your code easier and more reliable.\n",
    "\n",
    "https://pywinauto.github.io/\n",
    "https://github.com/pywinauto/pywinauto"
   ]
  },
  {
   "cell_type": "code",
   "execution_count": null,
   "metadata": {
    "ExecuteTime": {
     "end_time": "2019-08-13T22:32:11.709331Z",
     "start_time": "2019-08-13T22:32:06.200Z"
    }
   },
   "outputs": [],
   "source": [
    "import pywinauto\n",
    "from pywinauto.application import Application\n",
    "\n",
    "# Run a target application\n",
    "app = Application().start(\"notepad.exe\")\n",
    "\n",
    "# Select a menu item\n",
    "app.UntitledNotepad.menu_select(\"Help->About Notepad\")\n",
    "\n",
    "# Click on a button\n",
    "app.AboutNotepad.OK.click()\n",
    "\n",
    "my_string = \"pywinauto Can Launch Any Application and drive it's interface.  It Works!\"\n",
    "\n",
    "# Insert the text string\n",
    "app.UntitledNotepad.Edit.type_keys(\"pywinauto can launch any application and drive it.\", with_spaces = True)"
   ]
  },
  {
   "cell_type": "markdown",
   "metadata": {
    "ExecuteTime": {
     "end_time": "2019-07-27T00:32:23.958311Z",
     "start_time": "2019-07-27T00:32:17.666427Z"
    }
   },
   "source": [
    "You may need a time delay before inserting strings, because the Windows GUI is not a real-time interrupt driven system and may receive other events that it handles in the interim."
   ]
  },
  {
   "cell_type": "code",
   "execution_count": null,
   "metadata": {
    "ExecuteTime": {
     "end_time": "2019-08-13T22:32:11.710306Z",
     "start_time": "2019-08-13T22:32:06.208Z"
    }
   },
   "outputs": [],
   "source": [
    "from pywinauto.application import Application\n",
    "# Run a target application\n",
    "app = Application().start(\"notepad.exe\")\n",
    "# Select a menu item\n",
    "app.UntitledNotepad.menu_select(\"Help->About Notepad\")\n",
    "# Click on a button\n",
    "app.AboutNotepad.OK.click()\n",
    "# Type a text string\n",
    "app.UntitledNotepad.Edit.type_keys(\"pywinauto Works!\", with_spaces = True)"
   ]
  },
  {
   "cell_type": "markdown",
   "metadata": {},
   "source": [
    "# Use TKinter GUI"
   ]
  },
  {
   "cell_type": "code",
   "execution_count": null,
   "metadata": {
    "ExecuteTime": {
     "end_time": "2019-08-13T22:32:11.711308Z",
     "start_time": "2019-08-13T22:32:06.218Z"
    }
   },
   "outputs": [],
   "source": [
    "from tkinter import *\n",
    "\n",
    "class Application(Frame):\n",
    "    \"\"\" Demo the `object-oriented` way to construct a GUI using Tkinter.\n",
    "        The buttons in these widgets auto-size themselves.\n",
    "        The Frame autosizes (\"autopacks\") itself to enclose the buttons.\n",
    "        https://stackoverflow.com/questions/13326940/python-tkinter-how-to-bind-key-to-a-button\n",
    "    \"\"\"\n",
    "    \n",
    "    def __init__(self, master=None):\n",
    "        Frame.__init__(self, master)\n",
    "        self.pack()\n",
    "        self.createWidgets()\n",
    "        master.wm_title(\"Hello It's Me\")\n",
    "\n",
    "    def say_hi(self):\n",
    "        print( 5 * \"Hello Everyone in the World!\\n\")\n",
    "        \n",
    "    def createWidgets(self):\n",
    "        self.QUIT = Button(self)\n",
    "        self.QUIT[\"text\"] = \"QUIT\"\n",
    "        self.QUIT[\"fg\"]   = \"red\"\n",
    "        self.QUIT[\"command\"] =  self.quit\n",
    "\n",
    "        self.QUIT.pack({\"side\": \"bottom\"})\n",
    "        \n",
    "        self.hi_there = Button(self)\n",
    "        self.hi_there[\"text\"] = \"Hello it's Me... Do you want to say Hello?\",\n",
    "        self.hi_there[\"command\"] = self.say_hi\n",
    "\n",
    "        self.hi_there.pack({\"side\": \"left\"})\n",
    "\n",
    "root = Tk()\n",
    "app = Application(master=root)\n",
    "app.mainloop()\n",
    "root.destroy()"
   ]
  },
  {
   "cell_type": "markdown",
   "metadata": {},
   "source": [
    "## Sources for Additional Windows Utilities Techniques to Include "
   ]
  },
  {
   "cell_type": "markdown",
   "metadata": {},
   "source": [
    "https://www.techbeamers.com/python-shutil-module/"
   ]
  },
  {
   "cell_type": "markdown",
   "metadata": {
    "ExecuteTime": {
     "end_time": "2019-07-27T01:08:18.354770Z",
     "start_time": "2019-07-27T01:08:18.351261Z"
    }
   },
   "source": [
    "# Installing Python Modules From Within Your Program"
   ]
  },
  {
   "cell_type": "markdown",
   "metadata": {},
   "source": [
    "See StackOverflow for more information on how to do this:  \n",
    "    \n",
    "    https://stackoverflow.com/questions/12332975/installing-python-module-within-code/24773951\n",
    "\n",
    "If you want to use pip to install required package and import it after installation, you can use this code:"
   ]
  },
  {
   "cell_type": "code",
   "execution_count": null,
   "metadata": {
    "ExecuteTime": {
     "end_time": "2019-08-13T22:32:11.712333Z",
     "start_time": "2019-08-13T22:32:06.230Z"
    }
   },
   "outputs": [],
   "source": [
    "import pip\n",
    "\n",
    "def install(package):\n",
    "    if hasattr(pip, 'main'):\n",
    "        pip.main(['install', package])\n",
    "    else:\n",
    "        pip._internal.main(['install', package])\n",
    "\n",
    "# Example\n",
    "if __name__ == '__main__':\n",
    "    install('argh')"
   ]
  },
  {
   "cell_type": "markdown",
   "metadata": {},
   "source": [
    "## Conditional Installation of Python modules using PIP\n",
    "\n",
    "Or use Python's `importlib` package to do \"Install and Import\" operations."
   ]
  },
  {
   "cell_type": "code",
   "execution_count": null,
   "metadata": {
    "ExecuteTime": {
     "end_time": "2019-08-13T22:32:11.713305Z",
     "start_time": "2019-08-13T22:32:06.236Z"
    }
   },
   "outputs": [],
   "source": [
    "def install_and_import(package):\n",
    "    import importlib\n",
    "    try:\n",
    "        importlib.import_module(package)\n",
    "    except ModuleNotFoundError: \n",
    "        print(f\"No module named {package}.\")\n",
    "    except ImportError:\n",
    "        import pip\n",
    "        pip.main(['install', package])\n",
    "    finally:\n",
    "        globals()[package] = importlib.import_module(package)\n",
    "\n",
    "install_and_import('transliterate')"
   ]
  },
  {
   "cell_type": "markdown",
   "metadata": {},
   "source": [
    "# Launch A Web Browser"
   ]
  },
  {
   "cell_type": "code",
   "execution_count": null,
   "metadata": {
    "ExecuteTime": {
     "end_time": "2019-08-13T22:32:11.715333Z",
     "start_time": "2019-08-13T22:32:06.244Z"
    }
   },
   "outputs": [],
   "source": [
    "import webbrowser\n",
    "google = input('Google search:')\n",
    "webbrowser.open_new_tab('http://www.google.com/search?btnG=1&q=%s' % google)"
   ]
  },
  {
   "cell_type": "code",
   "execution_count": null,
   "metadata": {},
   "outputs": [],
   "source": []
  }
 ],
 "metadata": {
  "hide_input": false,
  "kernelspec": {
   "display_name": "Python 3",
   "language": "python",
   "name": "python3"
  },
  "language_info": {
   "codemirror_mode": {
    "name": "ipython",
    "version": 3
   },
   "file_extension": ".py",
   "mimetype": "text/x-python",
   "name": "python",
   "nbconvert_exporter": "python",
   "pygments_lexer": "ipython3",
   "version": "3.7.1"
  },
  "latex_envs": {
   "LaTeX_envs_menu_present": true,
   "autoclose": false,
   "autocomplete": true,
   "bibliofile": "biblio.bib",
   "cite_by": "apalike",
   "current_citInitial": 1,
   "eqLabelWithNumbers": true,
   "eqNumInitial": 1,
   "hotkeys": {
    "equation": "Ctrl-E",
    "itemize": "Ctrl-I"
   },
   "labels_anchors": false,
   "latex_user_defs": false,
   "report_style_numbering": false,
   "user_envs_cfg": false
  },
  "toc": {
   "base_numbering": 1,
   "nav_menu": {},
   "number_sections": true,
   "sideBar": true,
   "skip_h1_title": false,
   "title_cell": "Table of Contents",
   "title_sidebar": "Contents",
   "toc_cell": false,
   "toc_position": {
    "height": "calc(100% - 180px)",
    "left": "10px",
    "top": "150px",
    "width": "513.047px"
   },
   "toc_section_display": true,
   "toc_window_display": true
  },
  "varInspector": {
   "cols": {
    "lenName": 16,
    "lenType": 16,
    "lenVar": 40
   },
   "kernels_config": {
    "python": {
     "delete_cmd_postfix": "",
     "delete_cmd_prefix": "del ",
     "library": "var_list.py",
     "varRefreshCmd": "print(var_dic_list())"
    },
    "r": {
     "delete_cmd_postfix": ") ",
     "delete_cmd_prefix": "rm(",
     "library": "var_list.r",
     "varRefreshCmd": "cat(var_dic_list()) "
    }
   },
   "types_to_exclude": [
    "module",
    "function",
    "builtin_function_or_method",
    "instance",
    "_Feature"
   ],
   "window_display": false
  }
 },
 "nbformat": 4,
 "nbformat_minor": 2
}
